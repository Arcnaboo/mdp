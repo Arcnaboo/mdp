{
 "metadata": {
  "name": "",
  "signature": "sha256:4465861d7d6bba923ef507fca772033105f61f0fd549f36ae68d81a2fa2e4552"
 },
 "nbformat": 3,
 "nbformat_minor": 0,
 "worksheets": [
  {
   "cells": [
    {
     "cell_type": "markdown",
     "metadata": {},
     "source": [
      "# MDP Example: Job Search"
     ]
    },
    {
     "cell_type": "markdown",
     "metadata": {},
     "source": [
      "**Daisuke Oyama**\n",
      "\n",
      "*Faculty of Economics, University of Tokyo*"
     ]
    },
    {
     "cell_type": "markdown",
     "metadata": {},
     "source": [
      "We study an optimal stopping problem, in the context of job search as discussed in\n",
      "[http://quant-econ.net/py/lake_model.html](http://quant-econ.net/py/lake_model.html)."
     ]
    },
    {
     "cell_type": "code",
     "collapsed": false,
     "input": [
      "%matplotlib inline"
     ],
     "language": "python",
     "metadata": {},
     "outputs": [],
     "prompt_number": 1
    },
    {
     "cell_type": "code",
     "collapsed": false,
     "input": [
      "from __future__ import division, print_function\n",
      "import numpy as np\n",
      "import scipy.stats\n",
      "import scipy.optimize\n",
      "import scipy.sparse\n",
      "from numba import jit\n",
      "import matplotlib.pyplot as plt\n",
      "from quantecon.markov import MDP"
     ],
     "language": "python",
     "metadata": {},
     "outputs": [],
     "prompt_number": 2
    },
    {
     "cell_type": "markdown",
     "metadata": {},
     "source": [
      "## Optimal solution"
     ]
    },
    {
     "cell_type": "markdown",
     "metadata": {},
     "source": [
      "We skip the description of the model, just writing down the Bellman equation:\n",
      "$$\n",
      "\\begin{aligned}\n",
      "U   &= u(c) + \\beta \\left[(1 - \\gamma) U + \\gamma E[V_s]\\right], \\\\\\\\\n",
      "V_s &= \\max\\left\\{U,\n",
      "                  u(w_s) + \\beta \\left[(1 - \\alpha) V_s + \\alpha U\\right]\n",
      "           \\right\\}.\n",
      "\\end{aligned}\n",
      "$$\n",
      "For this class of problem, we can characterize the solution analytically."
     ]
    },
    {
     "cell_type": "markdown",
     "metadata": {},
     "source": [
      "The optimal policy $\\sigma^*$ is monotone;\n",
      "it is characterized by a threshold $s^*$, for which\n",
      "$\\sigma^*(s) = 1$ if and only if $s \\geq s^*$,\n",
      "where actions $0$ and $1$ represent \"reject\" and \"accept\", respectively.\n",
      "The threshold is defined as follows:\n",
      "Let\n",
      "$$\n",
      "\\begin{aligned}\n",
      "g(s) &= u(w_s) - u(c), \\\\\\\\\n",
      "h(s) &= \\frac{\\beta \\gamma}{1 - \\beta (1 - \\alpha)}\n",
      "        \\sum_{s' \\geq s} p_s u(w_s).\n",
      "\\end{aligned}\n",
      "$$\n",
      "It is easy to see that $g$ is increasing and $h$ is decreasing.\n",
      "Then the threshold $s^*$ is such that $s \\geq s^*$ if and only if $g(s) > h(s)$."
     ]
    },
    {
     "cell_type": "markdown",
     "metadata": {},
     "source": [
      "Given $s^*$, the optimal values can be computed as follows:\n",
      "$$\n",
      "\\begin{aligned}\n",
      "U &=\n",
      "\\frac{\\{1 - (1 - \\alpha) \\beta\\} u(c) + \\beta \\gamma \\sum_{s \\geq s^*} p_s u(w_s)}\n",
      "     {(1 - \\beta) \\left[\\{1 - (1 - \\alpha) \\beta\\} +\n",
      "                        \\beta \\gamma \\sum_{s \\geq s^*} p_s\\right]}, \\\\\\\\\n",
      "V_s &=\n",
      "\\begin{cases}\n",
      "U & \\text{if $s < s^*$} \\\\\\\\\n",
      "\\dfrac{u(w_s) + \\alpha \\beta U}{1 - (1 - \\alpha) \\beta} & \\text{if $s \\geq s^*$},\n",
      "\\end{cases}\n",
      "\\end{aligned}\n",
      "$$"
     ]
    },
    {
     "cell_type": "markdown",
     "metadata": {},
     "source": [
      "The optimal policy defines a Markov chain over $\\{\\text{unemployed}, \\text{employed}\\}$.\n",
      "Its stationary distribution is\n",
      "$\\pi = \\left(\\frac{\\alpha}{\\alpha + \\lambda}, \\frac{\\lambda}{\\alpha + \\lambda}\\right)$,\n",
      "where\n",
      "$\\lambda = \\gamma \\sum_{s \\geq s^*} p(w_s)$;\n",
      "note that the flow from unemployed to employed is $\\lambda$,\n",
      "while the flow from employed to unemployed is $\\alpha$.\n",
      "\n",
      "The expected value at the stationary distribution is\n",
      "$$\n",
      "\\pi_0 U + \\pi_1 \\frac{\\sum_{s \\geq s^*} p_s V_s}{\\sum_{s \\geq s^*} p_s}.\n",
      "$$"
     ]
    },
    {
     "cell_type": "markdown",
     "metadata": {},
     "source": [
      "The following implements the job search problem with the analytical solution above:"
     ]
    },
    {
     "cell_type": "code",
     "collapsed": false,
     "input": [
      "class JobSearchModel(object):\n",
      "    \"\"\"\n",
      "    Job search model.\n",
      "    \n",
      "    Parameters\n",
      "    ----------\n",
      "    w : array_like(float, ndim=1)\n",
      "        Array containing wage levels. Must be ordered in ascending order.\n",
      "    \n",
      "    pdf : array_like(float, ndim=1)\n",
      "        Wage distribution.\n",
      "        \n",
      "    beta : scalar(float)\n",
      "        Discount factor\n",
      "        \n",
      "    alaph :scalar(float)\n",
      "        Firing probability.\n",
      "        \n",
      "    gamma : scalar(float)\n",
      "        Wage offer arrival probability.\n",
      "        \n",
      "    rho: scalar(float)\n",
      "        Degree of (constant) relative risk aversion.\n",
      "        \n",
      "    \"\"\"\n",
      "    def __init__(self, w, pdf, beta, alpha=0, gamma=1, rho=0):\n",
      "        w = np.asarray(w)\n",
      "        self.pdf = np.asarray(pdf)\n",
      "        self.beta, self.alpha, self.gamma, self.rho = beta, alpha, gamma, rho\n",
      "        self.u_w = self.u(w)\n",
      "        \n",
      "    def u(self, y):\n",
      "        \"\"\"\n",
      "        y must be array_like.\n",
      "        \n",
      "        \"\"\"\n",
      "        rho = self.rho\n",
      "        small_number = -9999999\n",
      "        y = np.asarray(y, dtype=float)\n",
      "        nonpositive = (y <= 0)\n",
      "        if rho == 1:\n",
      "            util = np.log(y)\n",
      "        else:\n",
      "            util = (y**(1 - rho) - 1)/(1 - rho)\n",
      "        util[nonpositive] = small_number\n",
      "        return util\n",
      "    \n",
      "    def solve(self, c, *args, **kwargs):\n",
      "        \"\"\"\n",
      "        Solve directly s_star and U and V_s.\n",
      "        \n",
      "        \"\"\"\n",
      "        S = len(self.u_w)\n",
      "        \n",
      "        a0 = 1 - (1 - self.alpha) * self.beta\n",
      "        a1 = self.beta * self.gamma\n",
      "        coeff = a1 / a0\n",
      "        u_c = self.u(np.array([c]))[0]\n",
      "        s_star = _bisect(self.u_w, self.pdf, u_c, coeff)\n",
      "        \n",
      "        C = np.zeros(S, dtype=int)\n",
      "        C[s_star:] = 1\n",
      "        \n",
      "        U = a0 * u_c + a1 * self.u_w[s_star:].dot(self.pdf[s_star:])\n",
      "        U /= a0 + a1 * self.pdf[s_star:].sum()\n",
      "        U /= 1 - self.beta\n",
      "        \n",
      "        V = np.empty(S)\n",
      "        V[:s_star] = U\n",
      "        V[s_star:] = (self.u_w[s_star:] + self.alpha * self.beta * U) / a0\n",
      "        \n",
      "        return V, U, C\n",
      "    \n",
      "    def stationary_distribution(self, C):\n",
      "        lamb = self.pdf.dot(C) * self.gamma \n",
      "        pi = np.array([self.alpha, lamb])\n",
      "        pi /= pi.sum()\n",
      "        return pi\n",
      "        \n",
      "            \n",
      "@jit(nopython=True)\n",
      "def _bisect(u_w, pdf, u_c, coeff):\n",
      "    lo = -1\n",
      "    hi = len(u_w)\n",
      "    while(lo < hi-1):\n",
      "        m = (lo + hi) // 2\n",
      "        lhs = u_w[m] - u_c\n",
      "        rhs = 0\n",
      "        for i in range(m+1, len(u_w)):\n",
      "            rhs += (u_w[i] - u_w[m]) * pdf[i]\n",
      "        rhs *= coeff\n",
      "        if lhs > rhs:\n",
      "            hi = m\n",
      "        else:\n",
      "            lo = m\n",
      "    return hi"
     ],
     "language": "python",
     "metadata": {},
     "outputs": [],
     "prompt_number": 3
    },
    {
     "cell_type": "markdown",
     "metadata": {},
     "source": [
      "For comparison, let us also consider the implementation with the `MDP` class:"
     ]
    },
    {
     "cell_type": "code",
     "collapsed": false,
     "input": [
      "class JobSearchModelMDP(JobSearchModel):\n",
      "    \"\"\"\n",
      "    Job search model with MDP.\n",
      "        \n",
      "    \"\"\"\n",
      "    def __init__(self, w, pdf, beta, alpha=0, gamma=1, rho=0):\n",
      "        super(JobSearchModelMDP, self).__init__(w, pdf, beta, alpha, gamma, rho)\n",
      "        \n",
      "        # Number of states\n",
      "        # s = 0, ..., len(w)-1: wage w[s] offered, s = len(w): no offer\n",
      "        num_states = len(w) + 1\n",
      "        \n",
      "        # Number of actions: 0: reject, 1: accept\n",
      "        num_actions = 2\n",
      "        \n",
      "        L = num_states*num_actions - 1\n",
      "        s_indices, a_indices = np.empty(L), np.empty(L)\n",
      "        s_indices[-1], a_indices[-1] = len(w), 0\n",
      "        s_indices[:-1] = np.repeat(np.arange(len(w)), num_actions)\n",
      "        a_indices[:-1] = np.tile(np.arange(num_actions), len(w))\n",
      "        \n",
      "        R0 = np.zeros(L)\n",
      "        R0[[num_actions*i+1 for i in range(len(w))]] = self.u_w\n",
      "        \n",
      "        Q = scipy.sparse.lil_matrix((L, num_states))\n",
      "        it = np.nditer((s_indices, a_indices))\n",
      "        for (s, a) in it:\n",
      "            i = it.iterindex\n",
      "            if a == 0:\n",
      "                Q[i, -1] = 1 - self.gamma\n",
      "                Q[i, :len(w)] = self.pdf*self.gamma\n",
      "            else:  # if a == 1\n",
      "                Q[i, s], Q[i, -1] = 1 - self.alpha, self.alpha\n",
      "                \n",
      "        self.mdp = MDP(R0, Q, beta, s_indices, a_indices)\n",
      "        \n",
      "        self.num_iter = None\n",
      "        \n",
      "    def solve(self, c, *args, **kwargs):\n",
      "        n, m = self.mdp.num_states, self.mdp.num_actions\n",
      "        self.mdp.R[[m*i for i in range(n)]] = self.u(np.array([c]))[0]\n",
      "        res = self.mdp.solve(*args, **kwargs)\n",
      "        V = res.v[:-1]  # Values of jobs\n",
      "        U = res.v[-1]  # Value of unemployed\n",
      "        C = res.sigma[:-1]\n",
      "        self.num_iter = res.num_iter\n",
      "        \n",
      "        return V, U, C"
     ],
     "language": "python",
     "metadata": {},
     "outputs": [],
     "prompt_number": 4
    },
    {
     "cell_type": "markdown",
     "metadata": {},
     "source": [
      "The following paramter values are from [lakemodel_example.py](https://github.com/QuantEcon/QuantEcon.py/blob/master/examples/lakemodel_example.py)."
     ]
    },
    {
     "cell_type": "code",
     "collapsed": false,
     "input": [
      "w = np.linspace(0, 175, 201)  # wage grid\n",
      "\n",
      "# compute probability of each wage level \n",
      "logw_dist = scipy.stats.norm(np.log(20.),1)\n",
      "cdf = logw_dist.cdf(np.log(w))\n",
      "pdf = cdf[1:]-cdf[:-1]\n",
      "pdf /= pdf.sum()\n",
      "w = (w[1:] + w[:1])/2"
     ],
     "language": "python",
     "metadata": {},
     "outputs": [],
     "prompt_number": 5
    },
    {
     "cell_type": "code",
     "collapsed": false,
     "input": [
      "gamma = 1\n",
      "alpha = 0.013 \n",
      "alpha_q = (1-(1-alpha)**3)  # What is this?\n",
      "beta = 0.99\n",
      "rho = 2  # risk-aversion"
     ],
     "language": "python",
     "metadata": {},
     "outputs": [],
     "prompt_number": 6
    },
    {
     "cell_type": "code",
     "collapsed": false,
     "input": [
      "js = JobSearchModel(w, pdf, beta, alpha_q, gamma, rho)"
     ],
     "language": "python",
     "metadata": {},
     "outputs": [],
     "prompt_number": 7
    },
    {
     "cell_type": "code",
     "collapsed": false,
     "input": [
      "js_mdp = JobSearchModelMDP(w, pdf, beta, alpha_q, gamma, rho)"
     ],
     "language": "python",
     "metadata": {},
     "outputs": [],
     "prompt_number": 8
    },
    {
     "cell_type": "markdown",
     "metadata": {},
     "source": [
      "Let us check that the results coincide:"
     ]
    },
    {
     "cell_type": "code",
     "collapsed": false,
     "input": [
      "cs = np.linspace(1, 75, 25)\n",
      "bools = []\n",
      "for c in cs:\n",
      "    V, U, C = js.solve(c=c)\n",
      "    V1, U1, C1 = js_mdp.solve(c=c)\n",
      "    bools.append(np.allclose(V, V1))\n",
      "    bools.append(np.allclose(U, U1))\n",
      "    bools.append(np.array_equal(C, C1))\n",
      "print(all(bools))"
     ],
     "language": "python",
     "metadata": {},
     "outputs": [
      {
       "output_type": "stream",
       "stream": "stdout",
       "text": [
        "True\n"
       ]
      }
     ],
     "prompt_number": 9
    },
    {
     "cell_type": "markdown",
     "metadata": {},
     "source": [
      "Performance comparison:"
     ]
    },
    {
     "cell_type": "code",
     "collapsed": false,
     "input": [
      "c = 10\n",
      "%timeit js.solve(c=c)"
     ],
     "language": "python",
     "metadata": {},
     "outputs": [
      {
       "output_type": "stream",
       "stream": "stdout",
       "text": [
        "10000 loops, best of 3: 42.6 \u00b5s per loop\n"
       ]
      }
     ],
     "prompt_number": 10
    },
    {
     "cell_type": "code",
     "collapsed": false,
     "input": [
      "%timeit js_mdp.solve(c=c)"
     ],
     "language": "python",
     "metadata": {},
     "outputs": [
      {
       "output_type": "stream",
       "stream": "stdout",
       "text": [
        "100 loops, best of 3: 5.95 ms per loop\n"
       ]
      }
     ],
     "prompt_number": 11
    },
    {
     "cell_type": "markdown",
     "metadata": {},
     "source": [
      "## Fiscal policy"
     ]
    },
    {
     "cell_type": "markdown",
     "metadata": {},
     "source": [
      "We compute the optimal level of unemployment insurance\n",
      "as in the [lecture](http://quant-econ.net/py/lake_model.html#fiscal-policy),\n",
      "mimicking [lakemodel_example.py](https://github.com/QuantEcon/QuantEcon.py/blob/master/examples/lakemodel_example.py)."
     ]
    },
    {
     "cell_type": "code",
     "collapsed": false,
     "input": [
      "class UnemploymentInssurancePolicy(object):\n",
      "    def __init__(self, w, pdf, beta, alpha=0, gamma=1, rho=0):\n",
      "        self.w, self.pdf, self.beta, self.alpha, self.gamma, self.rho = \\\n",
      "            w, pdf, beta, alpha, gamma, rho\n",
      "    \n",
      "    def solve_job_search_model(self, c, T):\n",
      "        js = JobSearchModel(self.w-T, self.pdf, self.beta,\n",
      "                            self.alpha, self.gamma, self.rho)\n",
      "        V, U, C = js.solve(c=c-T)\n",
      "        pi = js.stationary_distribution(C)\n",
      "        \n",
      "        return V, U, C, pi\n",
      "        \n",
      "    def policy(self, c):\n",
      "        \n",
      "        def budget_balance(T):\n",
      "            _, _, _, pi = self.solve_job_search_model(c, T)\n",
      "            return T - pi[0]*c\n",
      "        \n",
      "        # Budget balancing tax given c\n",
      "        T = scipy.optimize.brentq(budget_balance, 0, c)\n",
      "        \n",
      "        V, U, C, pi = self.solve_job_search_model(c, T)\n",
      "        \n",
      "        EV = (C*V).dot(self.pdf)/(C.dot(self.pdf))\n",
      "        W = pi[0] * U + pi[1] * EV\n",
      "        \n",
      "        return T, W, pi"
     ],
     "language": "python",
     "metadata": {},
     "outputs": [],
     "prompt_number": 12
    },
    {
     "cell_type": "code",
     "collapsed": false,
     "input": [
      "uip = UnemploymentInssurancePolicy(w, pdf, beta, alpha_q, gamma, rho)"
     ],
     "language": "python",
     "metadata": {},
     "outputs": [],
     "prompt_number": 13
    },
    {
     "cell_type": "code",
     "collapsed": false,
     "input": [
      "grid_size = 500  #25\n",
      "cvec = np.linspace(1, 75, grid_size)\n",
      "Ts, Ws = np.empty(grid_size), np.empty(grid_size)\n",
      "pis = np.empty((grid_size, 2))\n",
      "for i, c in enumerate(cvec):\n",
      "    T, W, pi = uip.policy(c=c)\n",
      "    Ts[i], Ws[i], pis[i] = T, W, pi\n",
      "i_max = Ws.argmax()\n",
      "print('Optimal unemployment benefit:', cvec[i_max])"
     ],
     "language": "python",
     "metadata": {},
     "outputs": [
      {
       "output_type": "stream",
       "stream": "stdout",
       "text": [
        "Optimal unemployment benefit: 34.5150300601\n"
       ]
      }
     ],
     "prompt_number": 14
    },
    {
     "cell_type": "code",
     "collapsed": false,
     "input": [
      "plt.figure(figsize=[10,6])\n",
      "plt.subplot(221)\n",
      "plt.plot(cvec,Ws)\n",
      "plt.xlabel(r'$c$')\n",
      "plt.title('Welfare' )\n",
      "axes = plt.gca()\n",
      "plt.vlines(cvec[i_max],axes.get_ylim()[0],Ws[i_max],'k','-.')\n",
      "\n",
      "plt.subplot(222)\n",
      "plt.plot(cvec,Ts)\n",
      "axes = plt.gca()\n",
      "plt.vlines(cvec[i_max],axes.get_ylim()[0],Ts[i_max],'k','-.')\n",
      "plt.xlabel(r'$c$')\n",
      "plt.title('Taxes' )\n",
      "\n",
      "plt.subplot(223)\n",
      "plt.plot(cvec,pis[:,1])\n",
      "axes = plt.gca()\n",
      "plt.vlines(cvec[i_max],axes.get_ylim()[0],pis[i_max,1],'k','-.')\n",
      "plt.xlabel(r'$c$')\n",
      "plt.title('Employment Rate' )\n",
      "\n",
      "plt.subplot(224)\n",
      "plt.plot(cvec,pis[:,0])\n",
      "axes = plt.gca()\n",
      "plt.vlines(cvec[i_max],axes.get_ylim()[0],pis[i_max,0],'k','-.')\n",
      "plt.xlabel(r'$c$')\n",
      "plt.title('Unemployment Rate' )\n",
      "plt.tight_layout()\n",
      "\n",
      "plt.show()"
     ],
     "language": "python",
     "metadata": {},
     "outputs": [
      {
       "metadata": {},
       "output_type": "display_data",
       "png": "[encoded data removed]",
       "text": [
        "<matplotlib.figure.Figure at 0x10cfb3410>"
       ]
      }
     ],
     "prompt_number": 15
    },
    {
     "cell_type": "code",
     "collapsed": false,
     "input": [
      "fig, ax = plt.subplots()\n",
      "ax.plot(cvec, cvec-Ts)\n",
      "ax.vlines(cvec[i_max],axes.get_ylim()[0],cvec[i_max]-Ts[i_max],'k','-.')\n",
      "ax.set_xlabel(r'$c$')\n",
      "ax.set_title('Net Compensation')\n",
      "plt.show()"
     ],
     "language": "python",
     "metadata": {},
     "outputs": [
      {
       "metadata": {},
       "output_type": "display_data",
       "png": "[encoded data removed]",
       "text": [
        "<matplotlib.figure.Figure at 0x10c9bd5d0>"
       ]
      }
     ],
     "prompt_number": 16
    },
    {
     "cell_type": "code",
     "collapsed": false,
     "input": [],
     "language": "python",
     "metadata": {},
     "outputs": [],
     "prompt_number": 16
    }
   ],
   "metadata": {}
  }
 ]
}