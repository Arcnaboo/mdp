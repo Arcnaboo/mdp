{
 "metadata": {
  "name": "",
  "signature": "sha256:816b7ed704b56c3ce196ada429ad3c7c6d1f71291a0bd3cbbb7d3cf59bf88a23"
 },
 "nbformat": 3,
 "nbformat_minor": 0,
 "worksheets": [
  {
   "cells": [
    {
     "cell_type": "code",
     "collapsed": false,
     "input": [
      "%matplotlib inline"
     ],
     "language": "python",
     "metadata": {},
     "outputs": [],
     "prompt_number": 1
    },
    {
     "cell_type": "code",
     "collapsed": false,
     "input": [
      "from __future__ import division, print_function\n",
      "import numpy as np\n",
      "import itertools\n",
      "import matplotlib.pyplot as plt\n",
      "from mdp import MDP"
     ],
     "language": "python",
     "metadata": {},
     "outputs": [],
     "prompt_number": 2
    },
    {
     "cell_type": "heading",
     "level": 1,
     "metadata": {},
     "source": [
      "Markov Decision Processes: Example 1"
     ]
    },
    {
     "cell_type": "markdown",
     "metadata": {},
     "source": [
      "We study the decision problem of Colonel Kurtz\n",
      "as described in Economic Dynamics: Theory and Computation, Section 5.1:\n",
      "* the production is drawn from the uniform distribution on $\\{0, \\ldots, B\\}$;\n",
      "* the storage is limited by $M$;\n",
      "* the stock is equal to the storage from the last period plus the production in the current period;\n",
      "* some part of the stock is consumed and the other is stored (up to $M$);\n",
      "* the flow utility is given by $u(c) = c^{\\alpha}$, where $c$ is the consumption; and\n",
      "* the discount factor is $\\beta \\in [0, 1)$."
     ]
    },
    {
     "cell_type": "markdown",
     "metadata": {},
     "source": [
      "Following the textbook,\n",
      "we take the stock as the state variable $i$ and the storage as the action (control) variable $a$\n",
      "(of course one may take the consumption as the action).\n",
      "Then,\n",
      "* the state space is $S = \\{0, \\ldots, M + B\\}$: the number of states is $n = M + B + 1$;\n",
      "* the action space is $A = \\{0, \\ldots, M\\}$: the number of actions is $m = M + 1$; and\n",
      "* the set of feasible actions when the current state is $i$ is\n",
      "  $\\Gamma(i) = \\{0, \\ldots, i \\wedge M\\}$."
     ]
    },
    {
     "cell_type": "markdown",
     "metadata": {},
     "source": [
      "Kurtz' decision problem is described by\n",
      "* the $n \\times m$ reward array `R`,\n",
      "  where `R[i, a]` is the reward of `a` when the state is `i`;\n",
      "* the $n \\times m \\times n$ transition probability array `Q`,\n",
      "  where `Q[i, a, j]` the probability that the state in the next period is `j`\n",
      "  when the current state is `i` and the action chosen is `a`; and\n",
      "* the discount factor `beta`.\n",
      "\n",
      "Here, we embed the feasiblity constraint $\\Gamma$ into `R`\n",
      "by letting $R[i, a] = -\\infty$ for $a \\notin \\Gamma(i)$."
     ]
    },
    {
     "cell_type": "markdown",
     "metadata": {},
     "source": [
      "Now, the Bellman equation is:\n",
      "$$\n",
      "v[i] = \\max_{a \\in A} R[i, a] + \\beta \\sum_{j=0}^{n-1} Q[i, a, j] v[j].\n",
      "$$\n",
      "We want to solve this to obtain\n",
      "the optimal value function $v^{\\ast}$, the optimal policy function $\\sigma^{\\ast}$,\n",
      "and the resulting controlled Markov chain."
     ]
    },
    {
     "cell_type": "markdown",
     "metadata": {},
     "source": [
      "We use the parameter values as specified in Listing 5.1 on page 104."
     ]
    },
    {
     "cell_type": "code",
     "collapsed": false,
     "input": [
      "B, M = 10, 5\n",
      "n, m = M + B + 1, M + 1"
     ],
     "language": "python",
     "metadata": {},
     "outputs": [],
     "prompt_number": 3
    },
    {
     "cell_type": "code",
     "collapsed": false,
     "input": [
      "# Reward array\n",
      "alpha = 0.5\n",
      "R = np.empty((n, m))\n",
      "for s, a in itertools.product(range(n), range(m)):\n",
      "    R[s, a] = (s - a)**(alpha) if a <= s else -np.inf\n",
      "\n",
      "print(R)"
     ],
     "language": "python",
     "metadata": {},
     "outputs": [
      {
       "output_type": "stream",
       "stream": "stdout",
       "text": [
        "[[ 0.                -inf        -inf        -inf        -inf        -inf]\n",
        " [ 1.          0.                -inf        -inf        -inf        -inf]\n",
        " [ 1.41421356  1.          0.                -inf        -inf        -inf]\n",
        " [ 1.73205081  1.41421356  1.          0.                -inf        -inf]\n",
        " [ 2.          1.73205081  1.41421356  1.          0.                -inf]\n",
        " [ 2.23606798  2.          1.73205081  1.41421356  1.          0.        ]\n",
        " [ 2.44948974  2.23606798  2.          1.73205081  1.41421356  1.        ]\n",
        " [ 2.64575131  2.44948974  2.23606798  2.          1.73205081  1.41421356]\n",
        " [ 2.82842712  2.64575131  2.44948974  2.23606798  2.          1.73205081]\n",
        " [ 3.          2.82842712  2.64575131  2.44948974  2.23606798  2.        ]\n",
        " [ 3.16227766  3.          2.82842712  2.64575131  2.44948974  2.23606798]\n",
        " [ 3.31662479  3.16227766  3.          2.82842712  2.64575131  2.44948974]\n",
        " [ 3.46410162  3.31662479  3.16227766  3.          2.82842712  2.64575131]\n",
        " [ 3.60555128  3.46410162  3.31662479  3.16227766  3.          2.82842712]\n",
        " [ 3.74165739  3.60555128  3.46410162  3.31662479  3.16227766  3.        ]\n",
        " [ 3.87298335  3.74165739  3.60555128  3.46410162  3.31662479  3.16227766]]\n"
       ]
      }
     ],
     "prompt_number": 4
    },
    {
     "cell_type": "code",
     "collapsed": false,
     "input": [
      "# Transition probability array\n",
      "probs = np.empty((m, n))\n",
      "for a, j in itertools.product(range(m), range(n)):\n",
      "    probs[a, j] = 1/(B+1) if j - a in range(B+1) else 0\n",
      "    \n",
      "Q = np.empty((n, m, n))\n",
      "Q[:] = probs"
     ],
     "language": "python",
     "metadata": {},
     "outputs": [],
     "prompt_number": 5
    },
    {
     "cell_type": "code",
     "collapsed": false,
     "input": [
      "# Discount factor\n",
      "beta = 0.9"
     ],
     "language": "python",
     "metadata": {},
     "outputs": [],
     "prompt_number": 6
    },
    {
     "cell_type": "markdown",
     "metadata": {},
     "source": [
      "We now construct an MDP:"
     ]
    },
    {
     "cell_type": "code",
     "collapsed": false,
     "input": [
      "mdp = MDP(R, Q, beta)"
     ],
     "language": "python",
     "metadata": {},
     "outputs": [],
     "prompt_number": 7
    },
    {
     "cell_type": "heading",
     "level": 2,
     "metadata": {},
     "source": [
      "Solving the Model"
     ]
    },
    {
     "cell_type": "markdown",
     "metadata": {},
     "source": [
      "Let us solve the problem."
     ]
    },
    {
     "cell_type": "markdown",
     "metadata": {},
     "source": [
      "First, we solve by policy iteration:"
     ]
    },
    {
     "cell_type": "code",
     "collapsed": false,
     "input": [
      "v, sigma, mc, num_iter = mdp.solve(method='policy_iteration', return_num_iter=True)"
     ],
     "language": "python",
     "metadata": {},
     "outputs": [],
     "prompt_number": 8
    },
    {
     "cell_type": "markdown",
     "metadata": {},
     "source": [
      "Number of iterations:"
     ]
    },
    {
     "cell_type": "code",
     "collapsed": false,
     "input": [
      "num_iter"
     ],
     "language": "python",
     "metadata": {},
     "outputs": [
      {
       "metadata": {},
       "output_type": "pyout",
       "prompt_number": 9,
       "text": [
        "3"
       ]
      }
     ],
     "prompt_number": 9
    },
    {
     "cell_type": "markdown",
     "metadata": {},
     "source": [
      "Optimal policy:"
     ]
    },
    {
     "cell_type": "code",
     "collapsed": false,
     "input": [
      "sigma"
     ],
     "language": "python",
     "metadata": {},
     "outputs": [
      {
       "metadata": {},
       "output_type": "pyout",
       "prompt_number": 10,
       "text": [
        "array([0, 0, 0, 0, 1, 1, 1, 2, 2, 3, 3, 4, 5, 5, 5, 5])"
       ]
      }
     ],
     "prompt_number": 10
    },
    {
     "cell_type": "markdown",
     "metadata": {},
     "source": [
      "Value function:"
     ]
    },
    {
     "cell_type": "code",
     "collapsed": false,
     "input": [
      "v"
     ],
     "language": "python",
     "metadata": {},
     "outputs": [
      {
       "metadata": {},
       "output_type": "pyout",
       "prompt_number": 11,
       "text": [
        "array([ 19.01740222,  20.01740222,  20.43161578,  20.74945302,\n",
        "        21.04078099,  21.30873018,  21.54479816,  21.76928181,\n",
        "        21.98270358,  22.18824323,  22.3845048 ,  22.57807736,\n",
        "        22.76109127,  22.94376708,  23.11533996,  23.27761762])"
       ]
      }
     ],
     "prompt_number": 11
    },
    {
     "cell_type": "markdown",
     "metadata": {},
     "source": [
      "Optimal average values:"
     ]
    },
    {
     "cell_type": "code",
     "collapsed": false,
     "input": [
      "(1 - mdp.beta) * v"
     ],
     "language": "python",
     "metadata": {},
     "outputs": [
      {
       "metadata": {},
       "output_type": "pyout",
       "prompt_number": 12,
       "text": [
        "array([ 1.90174022,  2.00174022,  2.04316158,  2.0749453 ,  2.1040781 ,\n",
        "        2.13087302,  2.15447982,  2.17692818,  2.19827036,  2.21882432,\n",
        "        2.23845048,  2.25780774,  2.27610913,  2.29437671,  2.311534  ,\n",
        "        2.32776176])"
       ]
      }
     ],
     "prompt_number": 12
    },
    {
     "cell_type": "markdown",
     "metadata": {},
     "source": [
      "Check that the controlled Markov chain is irreducible and aperiodic:"
     ]
    },
    {
     "cell_type": "code",
     "collapsed": false,
     "input": [
      "mc.is_irreducible and mc.is_aperiodic"
     ],
     "language": "python",
     "metadata": {},
     "outputs": [
      {
       "metadata": {},
       "output_type": "pyout",
       "prompt_number": 13,
       "text": [
        "True"
       ]
      }
     ],
     "prompt_number": 13
    },
    {
     "cell_type": "markdown",
     "metadata": {},
     "source": [
      "Expected average value:"
     ]
    },
    {
     "cell_type": "code",
     "collapsed": false,
     "input": [
      "mc.stationary_distributions[0].dot((1 - mdp.beta) * v)"
     ],
     "language": "python",
     "metadata": {},
     "outputs": [
      {
       "metadata": {},
       "output_type": "pyout",
       "prompt_number": 14,
       "text": [
        "2.1673779353215235"
       ]
      }
     ],
     "prompt_number": 14
    },
    {
     "cell_type": "heading",
     "level": 2,
     "metadata": {},
     "source": [
      "Comparison of the Solution Methods"
     ]
    },
    {
     "cell_type": "markdown",
     "metadata": {},
     "source": [
      "Compare the solution by value iteration with accuracy $\\varepsilon = 0.01$:"
     ]
    },
    {
     "cell_type": "code",
     "collapsed": false,
     "input": [
      "epsilon = 1e-2\n",
      "\n",
      "v1, sigma1, mc1, num_iter1 = \\\n",
      "    mdp.solve(method='value_iteration', epsilon=epsilon, return_num_iter=True)"
     ],
     "language": "python",
     "metadata": {},
     "outputs": [],
     "prompt_number": 15
    },
    {
     "cell_type": "markdown",
     "metadata": {},
     "source": [
      "Number of iterations (default maximum number = 100):"
     ]
    },
    {
     "cell_type": "code",
     "collapsed": false,
     "input": [
      "num_iter1"
     ],
     "language": "python",
     "metadata": {},
     "outputs": [
      {
       "metadata": {},
       "output_type": "pyout",
       "prompt_number": 16,
       "text": [
        "79"
       ]
      }
     ],
     "prompt_number": 16
    },
    {
     "cell_type": "markdown",
     "metadata": {},
     "source": [
      "Chech that the correct policy is returned:"
     ]
    },
    {
     "cell_type": "code",
     "collapsed": false,
     "input": [
      "np.array_equal(sigma1, sigma)"
     ],
     "language": "python",
     "metadata": {},
     "outputs": [
      {
       "metadata": {},
       "output_type": "pyout",
       "prompt_number": 17,
       "text": [
        "True"
       ]
      }
     ],
     "prompt_number": 17
    },
    {
     "cell_type": "markdown",
     "metadata": {},
     "source": [
      "Devition of the output value from that of policy iteration:"
     ]
    },
    {
     "cell_type": "code",
     "collapsed": false,
     "input": [
      "np.abs(v1 - v).max()"
     ],
     "language": "python",
     "metadata": {},
     "outputs": [
      {
       "metadata": {},
       "output_type": "pyout",
       "prompt_number": 18,
       "text": [
        "0.0046441762624560567"
       ]
      }
     ],
     "prompt_number": 18
    },
    {
     "cell_type": "markdown",
     "metadata": {},
     "source": [
      "Modified policy iteration:"
     ]
    },
    {
     "cell_type": "code",
     "collapsed": false,
     "input": [
      "v2, sigma2, mc2, num_iter2 = \\\n",
      "    mdp.solve(method='modified_policy_iteration', epsilon=epsilon, return_num_iter=True)"
     ],
     "language": "python",
     "metadata": {},
     "outputs": [],
     "prompt_number": 19
    },
    {
     "cell_type": "markdown",
     "metadata": {},
     "source": [
      "Number of iterations:"
     ]
    },
    {
     "cell_type": "code",
     "collapsed": false,
     "input": [
      "num_iter2"
     ],
     "language": "python",
     "metadata": {},
     "outputs": [
      {
       "metadata": {},
       "output_type": "pyout",
       "prompt_number": 20,
       "text": [
        "3"
       ]
      }
     ],
     "prompt_number": 20
    },
    {
     "cell_type": "markdown",
     "metadata": {},
     "source": [
      "Chech that the correct policy is returned:"
     ]
    },
    {
     "cell_type": "code",
     "collapsed": false,
     "input": [
      "np.array_equal(sigma1, sigma)"
     ],
     "language": "python",
     "metadata": {},
     "outputs": [
      {
       "metadata": {},
       "output_type": "pyout",
       "prompt_number": 21,
       "text": [
        "True"
       ]
      }
     ],
     "prompt_number": 21
    },
    {
     "cell_type": "markdown",
     "metadata": {},
     "source": [
      "Devition of the output value from that of policy iteration:"
     ]
    },
    {
     "cell_type": "code",
     "collapsed": false,
     "input": [
      "np.abs(v2 - v).max()"
     ],
     "language": "python",
     "metadata": {},
     "outputs": [
      {
       "metadata": {},
       "output_type": "pyout",
       "prompt_number": 22,
       "text": [
        "0.0013784675327634943"
       ]
      }
     ],
     "prompt_number": 22
    },
    {
     "cell_type": "markdown",
     "metadata": {},
     "source": [
      "Compare the perfomance:"
     ]
    },
    {
     "cell_type": "code",
     "collapsed": false,
     "input": [
      "epsilon = 1e-2\n",
      "methods = ['value_iteration', 'policy_iteration', 'modified_policy_iteration']\n",
      "\n",
      "for method in methods:\n",
      "    print(method)\n",
      "    %timeit mdp.solve(method=method, epsilon=epsilon)"
     ],
     "language": "python",
     "metadata": {},
     "outputs": [
      {
       "output_type": "stream",
       "stream": "stdout",
       "text": [
        "value_iteration\n",
        "100 loops, best of 3: 2.2 ms per loop"
       ]
      },
      {
       "output_type": "stream",
       "stream": "stdout",
       "text": [
        "\n",
        "policy_iteration\n",
        "1000 loops, best of 3: 658 \u00b5s per loop"
       ]
      },
      {
       "output_type": "stream",
       "stream": "stdout",
       "text": [
        "\n",
        "modified_policy_iteration\n",
        "1000 loops, best of 3: 965 \u00b5s per loop"
       ]
      },
      {
       "output_type": "stream",
       "stream": "stdout",
       "text": [
        "\n"
       ]
      }
     ],
     "prompt_number": 23
    },
    {
     "cell_type": "heading",
     "level": 2,
     "metadata": {},
     "source": [
      "Simulating the Markov Chain"
     ]
    },
    {
     "cell_type": "markdown",
     "metadata": {},
     "source": [
      "Simulate the controlled Markov chain:"
     ]
    },
    {
     "cell_type": "code",
     "collapsed": false,
     "input": [
      "sample_size = 100\n",
      "path_stock = mc.simulate(init=0, sample_size=sample_size)\n",
      "\n",
      "path_storage = sigma[path_stock]\n",
      "path_production = np.zeros(sample_size)\n",
      "path_production[1:] = path_stock[1:] - path_storage[:-1]\n",
      "path_consumption = path_stock - path_storage\n",
      "\n",
      "fig, ax = plt.subplots()\n",
      "ax.plot(path_production, label='production')\n",
      "ax.plot(path_consumption, label='consumption')\n",
      "ax.set_xlim(1, sample_size)\n",
      "ax.set_ylim(0, B+3)\n",
      "ax.set_title(r'Sample path of the controlled process ($\\beta = {0}$)'.format(mdp.beta))\n",
      "ax.set_xlabel('Time')\n",
      "ax.set_ylabel('Production/Consumption')\n",
      "plt.legend()\n",
      "plt.show()"
     ],
     "language": "python",
     "metadata": {},
     "outputs": [
      {
       "metadata": {},
       "output_type": "display_data",
       "png": "[encoded data removed]",
       "text": [
        "<matplotlib.figure.Figure at 0x10901a4d0>"
       ]
      }
     ],
     "prompt_number": 24
    },
    {
     "cell_type": "heading",
     "level": 2,
     "metadata": {},
     "source": [
      "Lower Discount Factor"
     ]
    },
    {
     "cell_type": "markdown",
     "metadata": {},
     "source": [
      "Let us consider a lower discount factor:"
     ]
    },
    {
     "cell_type": "code",
     "collapsed": false,
     "input": [
      "mdp.beta = 0.7\n",
      "v, sigma, mc, num_iter = mdp.solve(method='policy_iteration', return_num_iter=True)"
     ],
     "language": "python",
     "metadata": {},
     "outputs": [],
     "prompt_number": 25
    },
    {
     "cell_type": "code",
     "collapsed": false,
     "input": [
      "num_iter"
     ],
     "language": "python",
     "metadata": {},
     "outputs": [
      {
       "metadata": {},
       "output_type": "pyout",
       "prompt_number": 26,
       "text": [
        "2"
       ]
      }
     ],
     "prompt_number": 26
    },
    {
     "cell_type": "code",
     "collapsed": false,
     "input": [
      "sigma"
     ],
     "language": "python",
     "metadata": {},
     "outputs": [
      {
       "metadata": {},
       "output_type": "pyout",
       "prompt_number": 27,
       "text": [
        "array([0, 0, 0, 0, 0, 0, 1, 1, 1, 1, 1, 1, 2, 2, 2, 3])"
       ]
      }
     ],
     "prompt_number": 27
    },
    {
     "cell_type": "markdown",
     "metadata": {},
     "source": [
      "Optimal average values:"
     ]
    },
    {
     "cell_type": "code",
     "collapsed": false,
     "input": [
      "(1 - mdp.beta) * v"
     ],
     "language": "python",
     "metadata": {},
     "outputs": [
      {
       "metadata": {},
       "output_type": "pyout",
       "prompt_number": 28,
       "text": [
        "array([ 1.43924002,  1.73924002,  1.86350409,  1.95885526,  2.03924002,\n",
        "        2.11006041,  2.17453403,  2.23856056,  2.29743903,  2.35224178,\n",
        "        2.40371364,  2.45239694,  2.50086391,  2.54716805,  2.5914111 ,\n",
        "        2.63491699])"
       ]
      }
     ],
     "prompt_number": 28
    },
    {
     "cell_type": "markdown",
     "metadata": {},
     "source": [
      "Expected value:"
     ]
    },
    {
     "cell_type": "code",
     "collapsed": false,
     "input": [
      "mc.stationary_distributions[0].dot((1 - mdp.beta) * v)"
     ],
     "language": "python",
     "metadata": {},
     "outputs": [
      {
       "metadata": {},
       "output_type": "pyout",
       "prompt_number": 29,
       "text": [
        "2.1021097576017898"
       ]
      }
     ],
     "prompt_number": 29
    },
    {
     "cell_type": "code",
     "collapsed": false,
     "input": [
      "sample_size = 100\n",
      "path_stock = mc.simulate(init=0, sample_size=sample_size)\n",
      "\n",
      "path_storage = sigma[path_stock]\n",
      "path_production = np.zeros(sample_size)\n",
      "path_production[1:] = path_stock[1:] - path_storage[:-1]\n",
      "path_consumption = path_stock - path_storage\n",
      "\n",
      "fig, ax = plt.subplots()\n",
      "ax.plot(path_production, label='production')\n",
      "ax.plot(path_consumption, label='consumption')\n",
      "ax.set_xlim(1, sample_size)\n",
      "ax.set_ylim(0, B+3)\n",
      "ax.set_title(r'Sample path of the controlled process ($\\beta = {0}$)'.format(mdp.beta))\n",
      "ax.set_xlabel('Time')\n",
      "ax.set_ylabel('Production/Consumption')\n",
      "plt.legend()\n",
      "plt.show()"
     ],
     "language": "python",
     "metadata": {},
     "outputs": [
      {
       "metadata": {},
       "output_type": "display_data",
       "png": "[encoded data removed]",
       "text": [
        "<matplotlib.figure.Figure at 0x10928b950>"
       ]
      }
     ],
     "prompt_number": 30
    },
    {
     "cell_type": "markdown",
     "metadata": {},
     "source": [
      "One can observe that consumption is slightly less \"smooth\"."
     ]
    },
    {
     "cell_type": "code",
     "collapsed": false,
     "input": [],
     "language": "python",
     "metadata": {},
     "outputs": [],
     "prompt_number": 30
    }
   ],
   "metadata": {}
  }
 ]
}