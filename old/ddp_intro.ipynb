{
 "cells": [
  {
   "cell_type": "markdown",
   "metadata": {},
   "source": [
    "# DiscreteDP\n",
    "\n",
    "***Getting Started with Simple Examples***"
   ]
  },
  {
   "cell_type": "markdown",
   "metadata": {},
   "source": [
    "**Daisuke Oyama**\n",
    "\n",
    "*Faculty of Economics, University of Tokyo*"
   ]
  },
  {
   "cell_type": "markdown",
   "metadata": {},
   "source": [
    "This notebook demonstrates via simple examples how to use the `DiscreteDP` module."
   ]
  },
  {
   "cell_type": "code",
   "execution_count": 1,
   "metadata": {
    "collapsed": false
   },
   "outputs": [],
   "source": [
    "%matplotlib inline"
   ]
  },
  {
   "cell_type": "code",
   "execution_count": 2,
   "metadata": {
    "collapsed": false
   },
   "outputs": [],
   "source": [
    "from __future__ import division, print_function\n",
    "import numpy as np\n",
    "from scipy import sparse\n",
    "import itertools\n",
    "import matplotlib.pyplot as plt\n",
    "from quantecon.markov import DiscreteDP"
   ]
  },
  {
   "cell_type": "markdown",
   "metadata": {},
   "source": [
    "## A two-state example"
   ]
  },
  {
   "cell_type": "markdown",
   "metadata": {},
   "source": [
    "Let us first consider the following two-state dynamic program,\n",
    "taken from Puterman (2005), Section 3.1, pp.33-35;\n",
    "see also Example 6.2.1, pp.155-156.\n",
    "\n",
    "* There are two possible states $0$ and $1$.\n",
    "\n",
    "* At state $0$, you may choose either \"stay\", say action $0$, or \"move\", action $1$.\n",
    "\n",
    "* At state $1$, there is no way to move, so that you can only stay, i.e.,\n",
    "  $0$ is the only available action.\n",
    "  (You may alternatively distinguish between the action \"staty\" at state $0$\n",
    "  and that at state $1$, and call the latter action $2$;\n",
    "  but here we choose to refer to the both actions as action $0$.)\n",
    "\n",
    "* At state $0$,\n",
    "  if you choose action $0$ (stay),\n",
    "  then you receive a reward $5$, and\n",
    "  in the next period the state will remain at $0$ with probability $1/2$,\n",
    "  but it moves to $1$ with probability $1/2$.\n",
    "\n",
    "* If you choose action $1$ (move),\n",
    "  then you receive a reward $10$, and\n",
    "  the state in the next period will be $1$ with probability $1$.\n",
    "\n",
    "* At state $1$, where the only action you can take is $0$ (stay),\n",
    "  you receive a reward $-1$, and\n",
    "  the state will remain at $1$ with probability $1$.\n",
    "\n",
    "* You want to maximize the sum of discounted expected reward flows\n",
    "  with discount factor $\\beta \\in [0, 1)$."
   ]
  },
  {
   "cell_type": "markdown",
   "metadata": {},
   "source": [
    "The optimization problem consists of:\n",
    "\n",
    "* the state space: $S = \\{0, 1\\}$;\n",
    "\n",
    "* the action space: $A = \\{0, 1\\}$;\n",
    "\n",
    "* the set of feasible state-action pairs\n",
    "  $\\mathit{SA} = \\{(0, 0), (0, 1), (1, 0)\\} \\subset S \\times A$;\n",
    "\n",
    "* the reward function $r\\colon \\mathit{SA} \\to \\mathbb{R}$, where\n",
    "  $$\n",
    "  r(0, 0) = 5,\\ r(0, 1) = 10,\\ r(1, 0) = -1;\n",
    "  $$\n",
    "\n",
    "* the transition probability function $q \\colon \\mathit{SA} \\to \\Delta(S)$, where\n",
    "  $$\n",
    "  (q(0 | 0, 0), q(1 | 0, 0)) = (1/2, 1/2),\\ \n",
    "  (q(0 | 0, 1), q(1 | 0, 1)) = (0, 1),\\ \n",
    "  (q(0 | 1, 0), q(1 | 1, 0)) = (0, 1);\n",
    "  $$\n",
    "  \n",
    "* the discount factor $\\beta \\in [0, 1)$."
   ]
  },
  {
   "cell_type": "markdown",
   "metadata": {},
   "source": [
    "The Belmann equation for this problem is:\n",
    "$$\n",
    "\\begin{aligned}\n",
    "v(0) &= \\max \\left\\{5 + \\beta \\left(\\frac{1}{2} v(0) + \\frac{1}{2} v(1)\\right),\n",
    "                    10 + \\beta v(1)\\right\\}, \\\\\n",
    "v(1) &= (-1) + \\beta v(1).\n",
    "\\end{aligned}\n",
    "$$"
   ]
  },
  {
   "cell_type": "markdown",
   "metadata": {},
   "source": [
    "This problem is simple enough to solve by hand:\n",
    "the optimal value function $v^*$ is given by\n",
    "$$\n",
    "\\begin{aligned}\n",
    "&v(0) =\n",
    "\\begin{cases}\n",
    "\\dfrac{5 - 5.5 \\beta}{(1 - 0.5 \\beta) (1 - \\beta)} & \\text{if $\\beta > \\frac{10}{11}$} \\\\\n",
    "\\dfrac{10 - 11 \\beta}{1 - \\beta} & \\text{otherwise},\n",
    "\\end{cases}\\\\\n",
    "&v(1) = -\\frac{1}{1 - \\beta},\n",
    "\\end{aligned}\n",
    "$$\n",
    "and the optimal policy function $\\sigma^*$ is given by\n",
    "$$\n",
    "\\begin{aligned}\n",
    "&\\sigma^*(0) =\n",
    "\\begin{cases}\n",
    "0 & \\text{if $\\beta > \\frac{10}{11}$} \\\\\n",
    "1 & \\text{otherwise},\n",
    "\\end{cases}\\\\\n",
    "&\\sigma^*(1) = 0.\n",
    "\\end{aligned}\n",
    "$$"
   ]
  },
  {
   "cell_type": "code",
   "execution_count": 3,
   "metadata": {
    "collapsed": false
   },
   "outputs": [],
   "source": [
    "def v_star(beta):\n",
    "    v = np.empty(2)\n",
    "    v[1] = -1 / (1 - beta)\n",
    "    if beta > 10/11:\n",
    "        v[0] = (5 - 5.5*beta) / ((1 - 0.5*beta) * (1 - beta))\n",
    "    else:\n",
    "        v[0] = (10 - 11*beta) / (1 - beta)\n",
    "    return v"
   ]
  },
  {
   "cell_type": "markdown",
   "metadata": {},
   "source": [
    "We want to solve this problem numerically by using the `DiscreteDP` class."
   ]
  },
  {
   "cell_type": "markdown",
   "metadata": {},
   "source": [
    "We will set $\\beta = 0.95$ ($> 10/11$), for which the anlaytical solution is:\n",
    "$\\sigma^* = (0, 0)$ and"
   ]
  },
  {
   "cell_type": "code",
   "execution_count": 4,
   "metadata": {
    "collapsed": false
   },
   "outputs": [
    {
     "data": {
      "text/plain": [
       "array([ -8.57142857, -20.        ])"
      ]
     },
     "execution_count": 4,
     "metadata": {},
     "output_type": "execute_result"
    }
   ],
   "source": [
    "v_star(beta=0.95)"
   ]
  },
  {
   "cell_type": "markdown",
   "metadata": {},
   "source": [
    "### Formulating the model"
   ]
  },
  {
   "cell_type": "markdown",
   "metadata": {},
   "source": [
    "There are two ways to represent the data for instantiating a `DiscreteDP` object.\n",
    "Let $n$, $m$, and $L$ denote the numbers of states, actions,\n",
    "and feasbile state-action pairs, respectively;\n",
    "in the above example, $n = 2$, $m = 2$, and $L = 3$.\n",
    "\n",
    "1. `DiscreteDP(R, Q, beta)`\n",
    "   \n",
    "   with parameters:\n",
    "   \n",
    "   * $n \\times m$ reward array `R`,\n",
    "   * $n \\times m \\times n$ transition probability array `Q`, and\n",
    "   * discount factor `beta`,\n",
    "   \n",
    "   where `R[s, a]` is the reward for action `a` when the state is `s` and\n",
    "   `Q[s, a, s']` is the probability that the state in the next period is `s'`\n",
    "   when the current state is `s` and the action chosen is `a`.\n",
    "\n",
    "2. `DiscreteDP(R, Q, beta, s_indices, a_indices)`\n",
    "\n",
    "   with parameters:\n",
    "   \n",
    "   * length $L$ reward vector `R`,\n",
    "   * $L \\times n$ transition probability array `Q`,\n",
    "   * discount factor `beta`,\n",
    "   * length $L$ array `s_indices`, and\n",
    "   * length $L$ array `a_indices`,\n",
    "   \n",
    "   where the pairs `(s_indices[0], a_indices[0])`, ..., `(s_indices[L-1], a_indices[L-1])`\n",
    "   enumerate feasible state-action pairs, and\n",
    "   `R[i]` is the reward for action `a_indices[i]` when the state is `s_indices[i]` and\n",
    "   `Q[i, s']` is the probability that the state in the next period is `s'`\n",
    "   when the current state is `s_indices[i]` and the action chosen is `a_indices[0]`."
   ]
  },
  {
   "cell_type": "markdown",
   "metadata": {},
   "source": [
    "### Creating a `DiscreteDP` instance"
   ]
  },
  {
   "cell_type": "markdown",
   "metadata": {},
   "source": [
    "Let us illustrate the two formulations by the simple example at the outset."
   ]
  },
  {
   "cell_type": "markdown",
   "metadata": {},
   "source": [
    "#### Product formulation"
   ]
  },
  {
   "cell_type": "markdown",
   "metadata": {},
   "source": [
    "This formulation is straightforward\n",
    "when the number of feasible actions is constant across states\n",
    "so that the set of feasible state-action pairs is naturally represetend\n",
    "by the product $S \\times A$,\n",
    "while any problem can actually be represented in this way\n",
    "by defining the reward `R[s, a]` to be $-\\infty$ when action `a` is infeasible under state `s`."
   ]
  },
  {
   "cell_type": "markdown",
   "metadata": {},
   "source": [
    "To apply this approach to the current example,\n",
    "we consider the effectively equivalent problem\n",
    "in which at both states $0$ and $1$,\n",
    "both actions $0$ (stay) and $1$ (move) are available,\n",
    "but action $1$ yields a reward $-\\infty$ at state $1$."
   ]
  },
  {
   "cell_type": "markdown",
   "metadata": {},
   "source": [
    "The reward array `R` is an $n \\times m$ 2-dimensional array:"
   ]
  },
  {
   "cell_type": "code",
   "execution_count": 5,
   "metadata": {
    "collapsed": false
   },
   "outputs": [],
   "source": [
    "R = [[5, 10],\n",
    "     [-1, -float('inf')]]"
   ]
  },
  {
   "cell_type": "markdown",
   "metadata": {},
   "source": [
    "The transition probability array `Q` is an $n \\times m \\times n$ 3-dimenstional array:"
   ]
  },
  {
   "cell_type": "code",
   "execution_count": 6,
   "metadata": {
    "collapsed": false
   },
   "outputs": [],
   "source": [
    "Q = [[(0.5, 0.5), (0, 1)],\n",
    "     [(0, 1), (0.5, 0.5)]] # Probabilities in Q[1, 1] are arbitrary"
   ]
  },
  {
   "cell_type": "markdown",
   "metadata": {},
   "source": [
    "Note that the transition probabilities for action $(s, a) = (1, 1)$ are arbitrary,\n",
    "since $a = 1$ is infeasible at $s = 1$ in the original problem."
   ]
  },
  {
   "cell_type": "markdown",
   "metadata": {},
   "source": [
    "Let us set the discount factor $\\beta$ to be $0.95$:"
   ]
  },
  {
   "cell_type": "code",
   "execution_count": 7,
   "metadata": {
    "collapsed": false
   },
   "outputs": [],
   "source": [
    "beta = 0.95"
   ]
  },
  {
   "cell_type": "markdown",
   "metadata": {},
   "source": [
    "We are ready to create a `DiscreteDP` instance:"
   ]
  },
  {
   "cell_type": "code",
   "execution_count": 8,
   "metadata": {
    "collapsed": false
   },
   "outputs": [],
   "source": [
    "ddp = DiscreteDP(R, Q, beta)"
   ]
  },
  {
   "cell_type": "markdown",
   "metadata": {},
   "source": [
    "#### State-action pairs formulation"
   ]
  },
  {
   "cell_type": "markdown",
   "metadata": {},
   "source": [
    "When the number of feasible actions varies across states,\n",
    "it can be inefficient in terms of memory usage\n",
    "to extend the domain by treating infeasible actions\n",
    "to be \"feasible but yielding reward $-\\infty$\".\n",
    "This formulation takes the set of feasible state-action pairs as is,\n",
    "defining `R` to be a 1-dimensional array of length `L`\n",
    "and `Q` to be a 2-dimensional array of shape `(L, n)`,\n",
    "where `L` is the number of feasible state-action pairs."
   ]
  },
  {
   "cell_type": "markdown",
   "metadata": {},
   "source": [
    "First, we have to list all the feasible state-action pairs.\n",
    "For our example, they are: $(s, a) = (0, 0), (0, 1), (1, 0)$."
   ]
  },
  {
   "cell_type": "markdown",
   "metadata": {},
   "source": [
    "We have arrays `s_indices` and ` a_indices` of length $3$\n",
    "contain the indices of states and actions, respectively."
   ]
  },
  {
   "cell_type": "code",
   "execution_count": 9,
   "metadata": {
    "collapsed": false
   },
   "outputs": [],
   "source": [
    "s_indices = [0, 0, 1]  # State indices\n",
    "a_indices = [0, 1, 0]  # Action indices"
   ]
  },
  {
   "cell_type": "markdown",
   "metadata": {},
   "source": [
    "The reward vector `R` is a length $L$ 1-dimensional array:"
   ]
  },
  {
   "cell_type": "code",
   "execution_count": 10,
   "metadata": {
    "collapsed": false
   },
   "outputs": [],
   "source": [
    "# Rewards for (s, a) = (0, 0), (0, 1), (1, 0), respectively\n",
    "R = [5, 10, -1]"
   ]
  },
  {
   "cell_type": "markdown",
   "metadata": {},
   "source": [
    "The transition probability array `Q` is an $L \\times n$ 2-dimensional array:"
   ]
  },
  {
   "cell_type": "code",
   "execution_count": 11,
   "metadata": {
    "collapsed": false
   },
   "outputs": [],
   "source": [
    "# Probability vectors for (s, a) = (0, 0), (0, 1), (1, 0), respectively\n",
    "Q = [(0.5, 0.5), (0, 1), (0, 1)]"
   ]
  },
  {
   "cell_type": "markdown",
   "metadata": {},
   "source": [
    "For the discount factor, set $\\beta = 0.95$ as before:"
   ]
  },
  {
   "cell_type": "code",
   "execution_count": 12,
   "metadata": {
    "collapsed": false
   },
   "outputs": [],
   "source": [
    "beta = 0.95"
   ]
  },
  {
   "cell_type": "markdown",
   "metadata": {},
   "source": [
    "Now create a `DiscreteDP` instance:"
   ]
  },
  {
   "cell_type": "code",
   "execution_count": 13,
   "metadata": {
    "collapsed": false
   },
   "outputs": [],
   "source": [
    "ddp_sa = DiscreteDP(R, Q, beta, s_indices, a_indices)"
   ]
  },
  {
   "cell_type": "markdown",
   "metadata": {},
   "source": [
    "##### Notes"
   ]
  },
  {
   "cell_type": "markdown",
   "metadata": {},
   "source": [
    "Importantly, this formulation allows us to represent the transition probability array `Q`\n",
    "as a [`scipy.sparse`](http://docs.scipy.org/doc/scipy/reference/sparse.html) matrix\n",
    "(of any format),\n",
    "which is useful for large and sparse problems."
   ]
  },
  {
   "cell_type": "markdown",
   "metadata": {},
   "source": [
    "For example, let us convert the above ndarray `Q` to the Coordinate (coo) format:"
   ]
  },
  {
   "cell_type": "code",
   "execution_count": 14,
   "metadata": {
    "collapsed": false
   },
   "outputs": [],
   "source": [
    "import scipy.sparse\n",
    "Q = scipy.sparse.coo_matrix(Q)"
   ]
  },
  {
   "cell_type": "markdown",
   "metadata": {},
   "source": [
    "Pass it to `DiscreteDP` with the other parameters:"
   ]
  },
  {
   "cell_type": "code",
   "execution_count": 15,
   "metadata": {
    "collapsed": false
   },
   "outputs": [],
   "source": [
    "ddp_sparse = DiscreteDP(R, Q, beta, s_indices, a_indices)"
   ]
  },
  {
   "cell_type": "markdown",
   "metadata": {},
   "source": [
    "Internally, the matrix `Q` is converted to the Compressed Sparse Row (csr) format:"
   ]
  },
  {
   "cell_type": "code",
   "execution_count": 16,
   "metadata": {
    "collapsed": false
   },
   "outputs": [
    {
     "data": {
      "text/plain": [
       "<3x2 sparse matrix of type '<type 'numpy.float64'>'\n",
       "\twith 4 stored elements in Compressed Sparse Row format>"
      ]
     },
     "execution_count": 16,
     "metadata": {},
     "output_type": "execute_result"
    }
   ],
   "source": [
    "ddp_sparse.Q"
   ]
  },
  {
   "cell_type": "code",
   "execution_count": 17,
   "metadata": {
    "collapsed": false
   },
   "outputs": [
    {
     "data": {
      "text/plain": [
       "array([[ 0.5,  0.5],\n",
       "       [ 0. ,  1. ],\n",
       "       [ 0. ,  1. ]])"
      ]
     },
     "execution_count": 17,
     "metadata": {},
     "output_type": "execute_result"
    }
   ],
   "source": [
    "ddp_sparse.Q.toarray()"
   ]
  },
  {
   "cell_type": "markdown",
   "metadata": {},
   "source": [
    "### Solving the model"
   ]
  },
  {
   "cell_type": "markdown",
   "metadata": {},
   "source": [
    "Now let us solve our model.\n",
    "Currently, `DiscreteDP` supports the following solution algorithms:\n",
    "\n",
    "* policy iteration;\n",
    "* value iteration;\n",
    "* modified policy iteration.\n",
    "\n",
    "(The methods are the same across the formulations.)"
   ]
  },
  {
   "cell_type": "markdown",
   "metadata": {},
   "source": [
    "#### Policy iteration"
   ]
  },
  {
   "cell_type": "markdown",
   "metadata": {},
   "source": [
    "We solve the model first by policy iteration,\n",
    "which gives the exact solution:"
   ]
  },
  {
   "cell_type": "code",
   "execution_count": 18,
   "metadata": {
    "collapsed": false
   },
   "outputs": [],
   "source": [
    "v_init = [0, 0]  # Initial value function, optional(default=max_a r(s, a))\n",
    "res = ddp.solve(method='policy_iteration', v_init=v_init)"
   ]
  },
  {
   "cell_type": "markdown",
   "metadata": {},
   "source": [
    "`res` contains the information about the solution result:"
   ]
  },
  {
   "cell_type": "code",
   "execution_count": 19,
   "metadata": {
    "collapsed": false
   },
   "outputs": [
    {
     "data": {
      "text/plain": [
       "       mc: Markov chain with transition matrix \n",
       "P = \n",
       "[[ 0.5  0.5]\n",
       " [ 0.   1. ]]\n",
       "        v: array([ -8.57142857, -20.        ])\n",
       " max_iter: 250\n",
       "    sigma: array([0, 0])\n",
       " num_iter: 2\n",
       "   method: 'policy iteration'"
      ]
     },
     "execution_count": 19,
     "metadata": {},
     "output_type": "execute_result"
    }
   ],
   "source": [
    "res"
   ]
  },
  {
   "cell_type": "markdown",
   "metadata": {},
   "source": [
    "The optimal policy function:"
   ]
  },
  {
   "cell_type": "code",
   "execution_count": 20,
   "metadata": {
    "collapsed": false
   },
   "outputs": [
    {
     "data": {
      "text/plain": [
       "array([0, 0])"
      ]
     },
     "execution_count": 20,
     "metadata": {},
     "output_type": "execute_result"
    }
   ],
   "source": [
    "res.sigma"
   ]
  },
  {
   "cell_type": "markdown",
   "metadata": {},
   "source": [
    "The optimal value function:"
   ]
  },
  {
   "cell_type": "code",
   "execution_count": 21,
   "metadata": {
    "collapsed": false
   },
   "outputs": [
    {
     "data": {
      "text/plain": [
       "array([ -8.57142857, -20.        ])"
      ]
     },
     "execution_count": 21,
     "metadata": {},
     "output_type": "execute_result"
    }
   ],
   "source": [
    "res.v"
   ]
  },
  {
   "cell_type": "markdown",
   "metadata": {},
   "source": [
    "This coincides with the analytical solution:"
   ]
  },
  {
   "cell_type": "code",
   "execution_count": 22,
   "metadata": {
    "collapsed": false
   },
   "outputs": [
    {
     "data": {
      "text/plain": [
       "array([ -8.57142857, -20.        ])"
      ]
     },
     "execution_count": 22,
     "metadata": {},
     "output_type": "execute_result"
    }
   ],
   "source": [
    "v_star(beta)"
   ]
  },
  {
   "cell_type": "code",
   "execution_count": 23,
   "metadata": {
    "collapsed": false
   },
   "outputs": [
    {
     "data": {
      "text/plain": [
       "True"
      ]
     },
     "execution_count": 23,
     "metadata": {},
     "output_type": "execute_result"
    }
   ],
   "source": [
    "np.allclose(res.v, v_star(beta))"
   ]
  },
  {
   "cell_type": "markdown",
   "metadata": {},
   "source": [
    "The number of iterations:"
   ]
  },
  {
   "cell_type": "code",
   "execution_count": 24,
   "metadata": {
    "collapsed": false
   },
   "outputs": [
    {
     "data": {
      "text/plain": [
       "2"
      ]
     },
     "execution_count": 24,
     "metadata": {},
     "output_type": "execute_result"
    }
   ],
   "source": [
    "res.num_iter"
   ]
  },
  {
   "cell_type": "markdown",
   "metadata": {},
   "source": [
    "Verify that the value of the policy `[0, 0]` is actually equal to the optimal value `v`:"
   ]
  },
  {
   "cell_type": "code",
   "execution_count": 25,
   "metadata": {
    "collapsed": false
   },
   "outputs": [
    {
     "data": {
      "text/plain": [
       "array([ -8.57142857, -20.        ])"
      ]
     },
     "execution_count": 25,
     "metadata": {},
     "output_type": "execute_result"
    }
   ],
   "source": [
    "ddp.evaluate_policy(res.sigma)"
   ]
  },
  {
   "cell_type": "code",
   "execution_count": 26,
   "metadata": {
    "collapsed": false
   },
   "outputs": [
    {
     "data": {
      "text/plain": [
       "array([ True,  True], dtype=bool)"
      ]
     },
     "execution_count": 26,
     "metadata": {},
     "output_type": "execute_result"
    }
   ],
   "source": [
    "ddp.evaluate_policy(res.sigma) == res.v"
   ]
  },
  {
   "cell_type": "markdown",
   "metadata": {},
   "source": [
    "`res.mc` is the controlled Markov chain given by the optimal policy `[0, 0]`:"
   ]
  },
  {
   "cell_type": "code",
   "execution_count": 27,
   "metadata": {
    "collapsed": false
   },
   "outputs": [
    {
     "data": {
      "text/plain": [
       "Markov chain with transition matrix \n",
       "P = \n",
       "[[ 0.5  0.5]\n",
       " [ 0.   1. ]]"
      ]
     },
     "execution_count": 27,
     "metadata": {},
     "output_type": "execute_result"
    }
   ],
   "source": [
    "res.mc"
   ]
  },
  {
   "cell_type": "markdown",
   "metadata": {},
   "source": [
    "#### Value iteration"
   ]
  },
  {
   "cell_type": "markdown",
   "metadata": {},
   "source": [
    "Next, solve the model by value iteration,\n",
    "which returns an $\\varepsilon$-optimal solution for a specified value of $\\varepsilon$:"
   ]
  },
  {
   "cell_type": "code",
   "execution_count": 28,
   "metadata": {
    "collapsed": false
   },
   "outputs": [],
   "source": [
    "epsilon = 1e-2  # Convergece tolerance, optional(default=1e-3)\n",
    "v_init = [0, 0]  # Initial value function, optional(default=max_a r(s, a))\n",
    "res_vi = ddp.solve(method='value_iteration', v_init=v_init,\n",
    "                   epsilon=epsilon)"
   ]
  },
  {
   "cell_type": "code",
   "execution_count": 29,
   "metadata": {
    "collapsed": false
   },
   "outputs": [
    {
     "data": {
      "text/plain": [
       "       mc: Markov chain with transition matrix \n",
       "P = \n",
       "[[ 0.5  0.5]\n",
       " [ 0.   1. ]]\n",
       "        v: array([ -8.5665053 , -19.99507673])\n",
       "  epsilon: 0.01\n",
       " max_iter: 250\n",
       "    sigma: array([0, 0])\n",
       " num_iter: 162\n",
       "   method: 'value iteration'"
      ]
     },
     "execution_count": 29,
     "metadata": {},
     "output_type": "execute_result"
    }
   ],
   "source": [
    "res_vi"
   ]
  },
  {
   "cell_type": "markdown",
   "metadata": {},
   "source": [
    "The computed policy function `res1.sigma` is an $\\varepsilon$-optimal policy,\n",
    "and the value function `res1.v` is an $\\varepsilon/2$-approximation\n",
    "of the true optimal value function."
   ]
  },
  {
   "cell_type": "code",
   "execution_count": 30,
   "metadata": {
    "collapsed": false
   },
   "outputs": [
    {
     "data": {
      "text/plain": [
       "0.0049232745189442539"
      ]
     },
     "execution_count": 30,
     "metadata": {},
     "output_type": "execute_result"
    }
   ],
   "source": [
    "np.abs(v_star(beta) - res_vi.v).max()"
   ]
  },
  {
   "cell_type": "markdown",
   "metadata": {},
   "source": [
    "#### Modified policy iteration"
   ]
  },
  {
   "cell_type": "markdown",
   "metadata": {},
   "source": [
    "Finally, solve the model by modified policy iteration:"
   ]
  },
  {
   "cell_type": "code",
   "execution_count": 31,
   "metadata": {
    "collapsed": false
   },
   "outputs": [],
   "source": [
    "epsilon = 1e-2  # Convergece tolerance, optional(defaul=1e-3)\n",
    "v_init = [0, 0]  # Initial value function, optional(default=max_a r(s, a))\n",
    "res_mpi = ddp.solve(method='modified_policy_iteration', v_init=v_init,\n",
    "                    epsilon=epsilon)"
   ]
  },
  {
   "cell_type": "code",
   "execution_count": 32,
   "metadata": {
    "collapsed": false
   },
   "outputs": [
    {
     "data": {
      "text/plain": [
       "       mc: Markov chain with transition matrix \n",
       "P = \n",
       "[[ 0.5  0.5]\n",
       " [ 0.   1. ]]\n",
       "  epsilon: 0.01\n",
       "        k: 20\n",
       " max_iter: 250\n",
       "   method: 'modified policy iteration'\n",
       "        v: array([ -8.57142826, -19.99999965])\n",
       "    sigma: array([0, 0])\n",
       " num_iter: 3"
      ]
     },
     "execution_count": 32,
     "metadata": {},
     "output_type": "execute_result"
    }
   ],
   "source": [
    "res_mpi"
   ]
  },
  {
   "cell_type": "markdown",
   "metadata": {},
   "source": [
    "Modified policy function also returns an $\\varepsilon$-optimal policy function\n",
    "and an $\\varepsilon/2$-approximate value function:"
   ]
  },
  {
   "cell_type": "code",
   "execution_count": 33,
   "metadata": {
    "collapsed": false
   },
   "outputs": [
    {
     "data": {
      "text/plain": [
       "3.4711384344632279e-07"
      ]
     },
     "execution_count": 33,
     "metadata": {},
     "output_type": "execute_result"
    }
   ],
   "source": [
    "np.abs(v_star(beta) - res_mpi.v).max()"
   ]
  },
  {
   "cell_type": "markdown",
   "metadata": {},
   "source": [
    "## A consumption-saving model"
   ]
  },
  {
   "cell_type": "markdown",
   "metadata": {},
   "source": [
    "As a bigger, but still simple, example,\n",
    "let us consider the following consumption-saving model\n",
    "as described in Stachurski (2009), Section 5.1:\n",
    "* the production is drawn from the uniform distribution on $\\{0, \\ldots, B\\}$;\n",
    "* the storage is limited by $M$;\n",
    "* the stock is equal to the storage from the last period plus the production in the current period;\n",
    "* some part of the stock is consumed and the other is stored (up to $M$);\n",
    "* the flow utility is given by $u(c) = c^{\\alpha}$, where $c$ is the consumption; and\n",
    "* the discount factor is $\\beta \\in [0, 1)$."
   ]
  },
  {
   "cell_type": "markdown",
   "metadata": {},
   "source": [
    "We take the stock as the state variable $s$ and the storage as the action (control) variable $a$\n",
    "(of course one may take the consumption as the action).\n",
    "Then,\n",
    "* the state space is $S = \\{0, \\ldots, M + B\\}$: the number of states is $n = M + B + 1$;\n",
    "* the action space is $A = \\{0, \\ldots, M\\}$: the number of actions is $m = M + 1$; and\n",
    "* the set of feasible actions when the current state is $s$ is\n",
    "  $A(s) = \\{0, \\ldots, \\min\\{s, M\\}\\}$.\n",
    "\n",
    "The Bellman equation is\n",
    "$$\n",
    "v(s) = \\max_{a \\in A(s)} u(s - a) + \\beta \\sum_{s' = a}^{a+B} \\frac{1}{B+1} v(s')\n",
    "\\quad (s \\in S).\n",
    "$$"
   ]
  },
  {
   "cell_type": "markdown",
   "metadata": {},
   "source": [
    "We use the parameter values (as in Listing 5.1 on page 104):"
   ]
  },
  {
   "cell_type": "code",
   "execution_count": 34,
   "metadata": {
    "collapsed": false
   },
   "outputs": [],
   "source": [
    "B, M = 10, 5\n",
    "n, m = M + B + 1, M + 1\n",
    "alpha = 0.5\n",
    "beta = 0.9"
   ]
  },
  {
   "cell_type": "markdown",
   "metadata": {},
   "source": [
    "Utility funciton:"
   ]
  },
  {
   "cell_type": "code",
   "execution_count": 35,
   "metadata": {
    "collapsed": false
   },
   "outputs": [],
   "source": [
    "def u(c):\n",
    "    return c**alpha"
   ]
  },
  {
   "cell_type": "markdown",
   "metadata": {},
   "source": [
    "### Creating a `DiscreteDP` instance"
   ]
  },
  {
   "cell_type": "markdown",
   "metadata": {},
   "source": [
    "We demonstrate the two ways to pass the data to the `DiscreteDP` class."
   ]
  },
  {
   "cell_type": "markdown",
   "metadata": {},
   "source": [
    "#### Product formulation"
   ]
  },
  {
   "cell_type": "markdown",
   "metadata": {},
   "source": [
    "This approach represents the data by\n",
    "* the $n \\times m$ reward array `R`,\n",
    "  where $R[s, a] = u(s - a)$ if $a \\leq s$ and $-\\infty$ otherwise; and\n",
    "* the $n \\times m \\times n$ transition probability array `Q`,\n",
    "  where for any $s \\in S$, $Q[s, a, s'] = 1/(B + 1)$ if $a \\leq s' \\leq a + B$,\n",
    "  and $0$ otherwise.\n",
    "\n",
    "The feasiblity constraint is embedded into `R`\n",
    "by setting $R[s, a] = -\\infty$ for $a \\notin A(s)$.\n",
    "Probability distributions for $(s, a)$ with $a \\notin A(s)$ are arbitrary."
   ]
  },
  {
   "cell_type": "markdown",
   "metadata": {},
   "source": [
    "Reward array:"
   ]
  },
  {
   "cell_type": "code",
   "execution_count": 36,
   "metadata": {
    "collapsed": false
   },
   "outputs": [],
   "source": [
    "R = np.empty((n, m))\n",
    "for s, a in itertools.product(range(n), range(m)):\n",
    "    R[s, a] = u(s - a) if a <= s else -np.inf"
   ]
  },
  {
   "cell_type": "code",
   "execution_count": 37,
   "metadata": {
    "collapsed": false
   },
   "outputs": [
    {
     "name": "stdout",
     "output_type": "stream",
     "text": [
      "[[ 0.                -inf        -inf        -inf        -inf        -inf]\n",
      " [ 1.          0.                -inf        -inf        -inf        -inf]\n",
      " [ 1.41421356  1.          0.                -inf        -inf        -inf]\n",
      " [ 1.73205081  1.41421356  1.          0.                -inf        -inf]\n",
      " [ 2.          1.73205081  1.41421356  1.          0.                -inf]\n",
      " [ 2.23606798  2.          1.73205081  1.41421356  1.          0.        ]\n",
      " [ 2.44948974  2.23606798  2.          1.73205081  1.41421356  1.        ]\n",
      " [ 2.64575131  2.44948974  2.23606798  2.          1.73205081  1.41421356]\n",
      " [ 2.82842712  2.64575131  2.44948974  2.23606798  2.          1.73205081]\n",
      " [ 3.          2.82842712  2.64575131  2.44948974  2.23606798  2.        ]\n",
      " [ 3.16227766  3.          2.82842712  2.64575131  2.44948974  2.23606798]\n",
      " [ 3.31662479  3.16227766  3.          2.82842712  2.64575131  2.44948974]\n",
      " [ 3.46410162  3.31662479  3.16227766  3.          2.82842712  2.64575131]\n",
      " [ 3.60555128  3.46410162  3.31662479  3.16227766  3.          2.82842712]\n",
      " [ 3.74165739  3.60555128  3.46410162  3.31662479  3.16227766  3.        ]\n",
      " [ 3.87298335  3.74165739  3.60555128  3.46410162  3.31662479  3.16227766]]\n"
     ]
    }
   ],
   "source": [
    "print(R)"
   ]
  },
  {
   "cell_type": "code",
   "execution_count": 38,
   "metadata": {
    "collapsed": false
   },
   "outputs": [
    {
     "data": {
      "text/plain": [
       "(16, 6)"
      ]
     },
     "execution_count": 38,
     "metadata": {},
     "output_type": "execute_result"
    }
   ],
   "source": [
    "R.shape"
   ]
  },
  {
   "cell_type": "markdown",
   "metadata": {},
   "source": [
    "Transition probability array:"
   ]
  },
  {
   "cell_type": "code",
   "execution_count": 39,
   "metadata": {
    "collapsed": false
   },
   "outputs": [],
   "source": [
    "Q = np.zeros((n, m, n))\n",
    "for a in range(m):\n",
    "    Q[:, a, a:a+B+1] = 1/(B+1)"
   ]
  },
  {
   "cell_type": "code",
   "execution_count": 40,
   "metadata": {
    "collapsed": false
   },
   "outputs": [
    {
     "data": {
      "text/plain": [
       "array([ 0.09090909,  0.09090909,  0.09090909,  0.09090909,  0.09090909,\n",
       "        0.09090909,  0.09090909,  0.09090909,  0.09090909,  0.09090909,\n",
       "        0.09090909,  0.        ,  0.        ,  0.        ,  0.        ,  0.        ])"
      ]
     },
     "execution_count": 40,
     "metadata": {},
     "output_type": "execute_result"
    }
   ],
   "source": [
    "Q[0, 0]"
   ]
  },
  {
   "cell_type": "code",
   "execution_count": 41,
   "metadata": {
    "collapsed": false
   },
   "outputs": [
    {
     "data": {
      "text/plain": [
       "(16, 6, 16)"
      ]
     },
     "execution_count": 41,
     "metadata": {},
     "output_type": "execute_result"
    }
   ],
   "source": [
    "Q.shape"
   ]
  },
  {
   "cell_type": "markdown",
   "metadata": {},
   "source": [
    "Construct a `DiscreteDP` instance:"
   ]
  },
  {
   "cell_type": "code",
   "execution_count": 42,
   "metadata": {
    "collapsed": false
   },
   "outputs": [],
   "source": [
    "ddp = DiscreteDP(R, Q, beta)"
   ]
  },
  {
   "cell_type": "markdown",
   "metadata": {},
   "source": [
    "#### State-action pairs formulation"
   ]
  },
  {
   "cell_type": "markdown",
   "metadata": {},
   "source": [
    "This approach represents the data by\n",
    "* the length $L$ reward vector `R`,\n",
    "  where, for $i = (s, a)$, $R[i] = u(s - a)$; and\n",
    "* the $L \\times n$ transition probability array `Q`,\n",
    "  where, for $i = (s, a)$, $Q[i, s'] = 1/(B + 1)$ if $a \\leq s' \\leq a + B$,\n",
    "  and $0$ otherwise."
   ]
  },
  {
   "cell_type": "markdown",
   "metadata": {},
   "source": [
    "First, we need to construct `s_indices` and `a_indices`."
   ]
  },
  {
   "cell_type": "code",
   "execution_count": 43,
   "metadata": {
    "collapsed": false
   },
   "outputs": [],
   "source": [
    "S = np.arange(n).reshape((n, 1))\n",
    "A = np.arange(m).reshape((1, m))\n",
    "C = S - A  # Consumption matrix, negative comsumption included"
   ]
  },
  {
   "cell_type": "markdown",
   "metadata": {},
   "source": [
    "The indices of feasible states and actions are those for which consumption is nonnegative:"
   ]
  },
  {
   "cell_type": "code",
   "execution_count": 44,
   "metadata": {
    "collapsed": false
   },
   "outputs": [],
   "source": [
    "s_indices, a_indices = np.where(C >= 0)"
   ]
  },
  {
   "cell_type": "code",
   "execution_count": 45,
   "metadata": {
    "collapsed": false
   },
   "outputs": [
    {
     "name": "stdout",
     "output_type": "stream",
     "text": [
      "[ 0  1  1  2  2  2  3  3  3  3  4  4  4  4  4  5  5  5  5  5  5  6  6  6  6\n",
      "  6  6  7  7  7  7  7  7  8  8  8  8  8  8  9  9  9  9  9  9 10 10 10 10 10\n",
      " 10 11 11 11 11 11 11 12 12 12 12 12 12 13 13 13 13 13 13 14 14 14 14 14 14\n",
      " 15 15 15 15 15 15]\n"
     ]
    }
   ],
   "source": [
    "print(s_indices)"
   ]
  },
  {
   "cell_type": "code",
   "execution_count": 46,
   "metadata": {
    "collapsed": false
   },
   "outputs": [
    {
     "name": "stdout",
     "output_type": "stream",
     "text": [
      "[0 0 1 0 1 2 0 1 2 3 0 1 2 3 4 0 1 2 3 4 5 0 1 2 3 4 5 0 1 2 3 4 5 0 1 2 3\n",
      " 4 5 0 1 2 3 4 5 0 1 2 3 4 5 0 1 2 3 4 5 0 1 2 3 4 5 0 1 2 3 4 5 0 1 2 3 4\n",
      " 5 0 1 2 3 4 5]\n"
     ]
    }
   ],
   "source": [
    "print(a_indices)"
   ]
  },
  {
   "cell_type": "markdown",
   "metadata": {},
   "source": [
    "Reward array"
   ]
  },
  {
   "cell_type": "code",
   "execution_count": 47,
   "metadata": {
    "collapsed": false
   },
   "outputs": [],
   "source": [
    "R = u(C[s_indices, a_indices])"
   ]
  },
  {
   "cell_type": "code",
   "execution_count": 48,
   "metadata": {
    "collapsed": false
   },
   "outputs": [
    {
     "name": "stdout",
     "output_type": "stream",
     "text": [
      "[ 0.          1.          0.          1.41421356  1.          0.\n",
      "  1.73205081  1.41421356  1.          0.          2.          1.73205081\n",
      "  1.41421356  1.          0.          2.23606798  2.          1.73205081\n",
      "  1.41421356  1.          0.          2.44948974  2.23606798  2.\n",
      "  1.73205081  1.41421356  1.          2.64575131  2.44948974  2.23606798\n",
      "  2.          1.73205081  1.41421356  2.82842712  2.64575131  2.44948974\n",
      "  2.23606798  2.          1.73205081  3.          2.82842712  2.64575131\n",
      "  2.44948974  2.23606798  2.          3.16227766  3.          2.82842712\n",
      "  2.64575131  2.44948974  2.23606798  3.31662479  3.16227766  3.\n",
      "  2.82842712  2.64575131  2.44948974  3.46410162  3.31662479  3.16227766\n",
      "  3.          2.82842712  2.64575131  3.60555128  3.46410162  3.31662479\n",
      "  3.16227766  3.          2.82842712  3.74165739  3.60555128  3.46410162\n",
      "  3.31662479  3.16227766  3.          3.87298335  3.74165739  3.60555128\n",
      "  3.46410162  3.31662479  3.16227766]\n"
     ]
    }
   ],
   "source": [
    "print(R)"
   ]
  },
  {
   "cell_type": "code",
   "execution_count": 49,
   "metadata": {
    "collapsed": false
   },
   "outputs": [
    {
     "data": {
      "text/plain": [
       "(81,)"
      ]
     },
     "execution_count": 49,
     "metadata": {},
     "output_type": "execute_result"
    }
   ],
   "source": [
    "R.shape"
   ]
  },
  {
   "cell_type": "markdown",
   "metadata": {},
   "source": [
    "Transition probability array:"
   ]
  },
  {
   "cell_type": "code",
   "execution_count": 50,
   "metadata": {
    "collapsed": false
   },
   "outputs": [],
   "source": [
    "L = len(R)\n",
    "\n",
    "# To use dense martrix format:\n",
    "Q = np.zeros((L, n))\n",
    "\n",
    "# To use sparse matrix format:\n",
    "# Q = sparse.lil_matrix((L, n))\n",
    "\n",
    "for i, a in enumerate(a_indices):\n",
    "    Q[i, a:a+(B+1)] = 1/(B+1)"
   ]
  },
  {
   "cell_type": "code",
   "execution_count": 51,
   "metadata": {
    "collapsed": false
   },
   "outputs": [
    {
     "data": {
      "text/plain": [
       "array([ 0.09090909,  0.09090909,  0.09090909,  0.09090909,  0.09090909,\n",
       "        0.09090909,  0.09090909,  0.09090909,  0.09090909,  0.09090909,\n",
       "        0.09090909,  0.        ,  0.        ,  0.        ,  0.        ,  0.        ])"
      ]
     },
     "execution_count": 51,
     "metadata": {},
     "output_type": "execute_result"
    }
   ],
   "source": [
    "Q[0]"
   ]
  },
  {
   "cell_type": "code",
   "execution_count": 52,
   "metadata": {
    "collapsed": false
   },
   "outputs": [
    {
     "data": {
      "text/plain": [
       "(81, 16)"
      ]
     },
     "execution_count": 52,
     "metadata": {},
     "output_type": "execute_result"
    }
   ],
   "source": [
    "Q.shape"
   ]
  },
  {
   "cell_type": "markdown",
   "metadata": {},
   "source": [
    "Construct a `DiscreteDP`:"
   ]
  },
  {
   "cell_type": "code",
   "execution_count": 53,
   "metadata": {
    "collapsed": false
   },
   "outputs": [],
   "source": [
    "ddp_sa = DiscreteDP(R, Q, beta, s_indices, a_indices)"
   ]
  },
  {
   "cell_type": "markdown",
   "metadata": {},
   "source": [
    "### Solving the model"
   ]
  },
  {
   "cell_type": "markdown",
   "metadata": {},
   "source": [
    "#### Policy iteration"
   ]
  },
  {
   "cell_type": "code",
   "execution_count": 54,
   "metadata": {
    "collapsed": false
   },
   "outputs": [],
   "source": [
    "res = ddp.solve(method='policy_iteration')\n",
    "v, sigma, mc, num_iter = res.v, res.sigma, res.mc, res.num_iter"
   ]
  },
  {
   "cell_type": "markdown",
   "metadata": {},
   "source": [
    "Number of iterations:"
   ]
  },
  {
   "cell_type": "code",
   "execution_count": 55,
   "metadata": {
    "collapsed": false
   },
   "outputs": [
    {
     "data": {
      "text/plain": [
       "3"
      ]
     },
     "execution_count": 55,
     "metadata": {},
     "output_type": "execute_result"
    }
   ],
   "source": [
    "num_iter"
   ]
  },
  {
   "cell_type": "markdown",
   "metadata": {},
   "source": [
    "Optimal policy:"
   ]
  },
  {
   "cell_type": "code",
   "execution_count": 56,
   "metadata": {
    "collapsed": false
   },
   "outputs": [
    {
     "data": {
      "text/plain": [
       "array([0, 0, 0, 0, 1, 1, 1, 2, 2, 3, 3, 4, 5, 5, 5, 5])"
      ]
     },
     "execution_count": 56,
     "metadata": {},
     "output_type": "execute_result"
    }
   ],
   "source": [
    "res.sigma"
   ]
  },
  {
   "cell_type": "markdown",
   "metadata": {},
   "source": [
    "Optimal value function:"
   ]
  },
  {
   "cell_type": "code",
   "execution_count": 57,
   "metadata": {
    "collapsed": false
   },
   "outputs": [
    {
     "data": {
      "text/plain": [
       "array([ 19.01740222,  20.01740222,  20.43161578,  20.74945302,\n",
       "        21.04078099,  21.30873018,  21.54479816,  21.76928181,\n",
       "        21.98270358,  22.18824323,  22.3845048 ,  22.57807736,\n",
       "        22.76109127,  22.94376708,  23.11533996,  23.27761762])"
      ]
     },
     "execution_count": 57,
     "metadata": {},
     "output_type": "execute_result"
    }
   ],
   "source": [
    "res.v"
   ]
  },
  {
   "cell_type": "markdown",
   "metadata": {},
   "source": [
    "Check that the controlled Markov chain is irreducible and aperiodic:"
   ]
  },
  {
   "cell_type": "code",
   "execution_count": 58,
   "metadata": {
    "collapsed": false
   },
   "outputs": [
    {
     "data": {
      "text/plain": [
       "True"
      ]
     },
     "execution_count": 58,
     "metadata": {},
     "output_type": "execute_result"
    }
   ],
   "source": [
    "mc.is_irreducible and mc.is_aperiodic"
   ]
  },
  {
   "cell_type": "markdown",
   "metadata": {},
   "source": [
    "The (unique) stationary distribution:"
   ]
  },
  {
   "cell_type": "code",
   "execution_count": 59,
   "metadata": {
    "collapsed": false
   },
   "outputs": [
    {
     "name": "stdout",
     "output_type": "stream",
     "text": [
      "[ 0.01732187  0.04121063  0.05773956  0.07426848  0.08095823  0.09090909\n",
      "  0.09090909  0.09090909  0.09090909  0.09090909  0.09090909  0.07358722\n",
      "  0.04969846  0.03316953  0.01664061  0.00995086]\n"
     ]
    }
   ],
   "source": [
    "stationary_dist = mc.stationary_distributions[0]\n",
    "print(stationary_dist)"
   ]
  },
  {
   "cell_type": "code",
   "execution_count": 60,
   "metadata": {
    "collapsed": false
   },
   "outputs": [
    {
     "data": {
      "image/png": "[encoded data removed]",
      "text/plain": [
       "<matplotlib.figure.Figure at 0x116b63350>"
      ]
     },
     "metadata": {},
     "output_type": "display_data"
    }
   ],
   "source": [
    "fig, ax = plt.subplots()\n",
    "ax.bar(range(n), stationary_dist, align='center')\n",
    "ax.set_xlim(-1, n)\n",
    "ax.set_xlabel('Stock')\n",
    "ax.set_ylabel('Probability')\n",
    "ax.set_title('Stationary Distribution')\n",
    "plt.show()"
   ]
  },
  {
   "cell_type": "markdown",
   "metadata": {},
   "source": [
    "Expected average value:"
   ]
  },
  {
   "cell_type": "code",
   "execution_count": 61,
   "metadata": {
    "collapsed": false
   },
   "outputs": [
    {
     "data": {
      "text/plain": [
       "2.1673779353215248"
      ]
     },
     "execution_count": 61,
     "metadata": {},
     "output_type": "execute_result"
    }
   ],
   "source": [
    "stationary_dist.dot((1 - ddp.beta) * v)"
   ]
  },
  {
   "cell_type": "markdown",
   "metadata": {},
   "source": [
    "#### Value iteration"
   ]
  },
  {
   "cell_type": "code",
   "execution_count": 62,
   "metadata": {
    "collapsed": false
   },
   "outputs": [],
   "source": [
    "res_vi = ddp.solve(method='value_iteration')"
   ]
  },
  {
   "cell_type": "markdown",
   "metadata": {},
   "source": [
    "Number of iterations:"
   ]
  },
  {
   "cell_type": "code",
   "execution_count": 63,
   "metadata": {
    "collapsed": false
   },
   "outputs": [
    {
     "data": {
      "text/plain": [
       "101"
      ]
     },
     "execution_count": 63,
     "metadata": {},
     "output_type": "execute_result"
    }
   ],
   "source": [
    "res_vi.num_iter"
   ]
  },
  {
   "cell_type": "markdown",
   "metadata": {},
   "source": [
    "Chech that the correct policy is returned:"
   ]
  },
  {
   "cell_type": "code",
   "execution_count": 64,
   "metadata": {
    "collapsed": false
   },
   "outputs": [
    {
     "data": {
      "text/plain": [
       "True"
      ]
     },
     "execution_count": 64,
     "metadata": {},
     "output_type": "execute_result"
    }
   ],
   "source": [
    "np.array_equal(res_vi.sigma, sigma)"
   ]
  },
  {
   "cell_type": "markdown",
   "metadata": {},
   "source": [
    "Deviation of the output value from that of policy iteration:"
   ]
  },
  {
   "cell_type": "code",
   "execution_count": 65,
   "metadata": {
    "collapsed": false
   },
   "outputs": [
    {
     "data": {
      "text/plain": [
       "0.00045734496477578546"
      ]
     },
     "execution_count": 65,
     "metadata": {},
     "output_type": "execute_result"
    }
   ],
   "source": [
    "np.abs(res_vi.v - v).max()"
   ]
  },
  {
   "cell_type": "markdown",
   "metadata": {},
   "source": [
    "#### Modified policy iteration"
   ]
  },
  {
   "cell_type": "code",
   "execution_count": 66,
   "metadata": {
    "collapsed": false
   },
   "outputs": [],
   "source": [
    "res_mpi = ddp.solve(method='modified_policy_iteration')"
   ]
  },
  {
   "cell_type": "markdown",
   "metadata": {},
   "source": [
    "Number of iterations:"
   ]
  },
  {
   "cell_type": "code",
   "execution_count": 67,
   "metadata": {
    "collapsed": false
   },
   "outputs": [
    {
     "data": {
      "text/plain": [
       "5"
      ]
     },
     "execution_count": 67,
     "metadata": {},
     "output_type": "execute_result"
    }
   ],
   "source": [
    "res_mpi.num_iter"
   ]
  },
  {
   "cell_type": "markdown",
   "metadata": {},
   "source": [
    "Chech that the correct policy is returned:"
   ]
  },
  {
   "cell_type": "code",
   "execution_count": 68,
   "metadata": {
    "collapsed": false
   },
   "outputs": [
    {
     "data": {
      "text/plain": [
       "True"
      ]
     },
     "execution_count": 68,
     "metadata": {},
     "output_type": "execute_result"
    }
   ],
   "source": [
    "np.array_equal(res_mpi.sigma, sigma)"
   ]
  },
  {
   "cell_type": "markdown",
   "metadata": {},
   "source": [
    "Deviation of the output value from that of policy iteration:"
   ]
  },
  {
   "cell_type": "code",
   "execution_count": 69,
   "metadata": {
    "collapsed": false
   },
   "outputs": [
    {
     "data": {
      "text/plain": [
       "1.7408297026122455e-13"
      ]
     },
     "execution_count": 69,
     "metadata": {},
     "output_type": "execute_result"
    }
   ],
   "source": [
    "np.abs(res_mpi.v - v).max()"
   ]
  },
  {
   "cell_type": "markdown",
   "metadata": {},
   "source": [
    "### Simulating the Markov Chain"
   ]
  },
  {
   "cell_type": "code",
   "execution_count": 70,
   "metadata": {
    "collapsed": false
   },
   "outputs": [
    {
     "data": {
      "image/png": "[encoded data removed]",
      "text/plain": [
       "<matplotlib.figure.Figure at 0x116e6d550>"
      ]
     },
     "metadata": {},
     "output_type": "display_data"
    }
   ],
   "source": [
    "ts_length = 100\n",
    "path_stock = mc.simulate(ts_length=ts_length, init=0)\n",
    "\n",
    "path_storage = sigma[path_stock]\n",
    "path_production = np.zeros(ts_length)\n",
    "path_production[1:] = path_stock[1:] - path_storage[:-1]\n",
    "path_consumption = path_stock - path_storage\n",
    "\n",
    "fig, ax = plt.subplots()\n",
    "ax.plot(path_production, label='production')\n",
    "ax.plot(path_consumption, label='consumption')\n",
    "ax.set_xlim(1, ts_length)\n",
    "ax.set_ylim(0, B+3)\n",
    "ax.set_title(r'Sample path of the controlled process ($\\beta = {0}$)'.format(ddp.beta))\n",
    "ax.set_xlabel('Time')\n",
    "ax.set_ylabel('Production/Consumption')\n",
    "plt.legend()\n",
    "plt.show()"
   ]
  },
  {
   "cell_type": "markdown",
   "metadata": {},
   "source": [
    "### Lower discount factor"
   ]
  },
  {
   "cell_type": "markdown",
   "metadata": {},
   "source": [
    "Let us consider a lower discount factor:"
   ]
  },
  {
   "cell_type": "code",
   "execution_count": 71,
   "metadata": {
    "collapsed": false
   },
   "outputs": [],
   "source": [
    "ddp.beta = 0.7\n",
    "res = ddp.solve(method='policy_iteration')\n",
    "v, sigma, mc, num_iter = res.v, res.sigma, res.mc, res.num_iter"
   ]
  },
  {
   "cell_type": "code",
   "execution_count": 72,
   "metadata": {
    "collapsed": false
   },
   "outputs": [
    {
     "data": {
      "text/plain": [
       "2"
      ]
     },
     "execution_count": 72,
     "metadata": {},
     "output_type": "execute_result"
    }
   ],
   "source": [
    "num_iter"
   ]
  },
  {
   "cell_type": "code",
   "execution_count": 73,
   "metadata": {
    "collapsed": false
   },
   "outputs": [
    {
     "data": {
      "text/plain": [
       "array([0, 0, 0, 0, 0, 0, 1, 1, 1, 1, 1, 1, 2, 2, 2, 3])"
      ]
     },
     "execution_count": 73,
     "metadata": {},
     "output_type": "execute_result"
    }
   ],
   "source": [
    "sigma"
   ]
  },
  {
   "cell_type": "markdown",
   "metadata": {},
   "source": [
    "Expected average value:"
   ]
  },
  {
   "cell_type": "code",
   "execution_count": 74,
   "metadata": {
    "collapsed": false
   },
   "outputs": [
    {
     "data": {
      "text/plain": [
       "2.1021097576017902"
      ]
     },
     "execution_count": 74,
     "metadata": {},
     "output_type": "execute_result"
    }
   ],
   "source": [
    "mc.stationary_distributions[0].dot((1 - ddp.beta) * v)"
   ]
  },
  {
   "cell_type": "code",
   "execution_count": 75,
   "metadata": {
    "collapsed": false
   },
   "outputs": [
    {
     "data": {
      "image/png": "[encoded data removed]",
      "text/plain": [
       "<matplotlib.figure.Figure at 0x116fcdf10>"
      ]
     },
     "metadata": {},
     "output_type": "display_data"
    }
   ],
   "source": [
    "ts_length = 100\n",
    "path_stock = mc.simulate(ts_length=ts_length, init=0)\n",
    "\n",
    "path_storage = sigma[path_stock]\n",
    "path_production = np.zeros(ts_length)\n",
    "path_production[1:] = path_stock[1:] - path_storage[:-1]\n",
    "path_consumption = path_stock - path_storage\n",
    "\n",
    "fig, ax = plt.subplots()\n",
    "ax.plot(path_production, label='production')\n",
    "ax.plot(path_consumption, label='consumption')\n",
    "ax.set_xlim(1, ts_length)\n",
    "ax.set_ylim(0, B+3)\n",
    "ax.set_title(r'Sample path of the controlled process ($\\beta = {0}$)'.format(ddp.beta))\n",
    "ax.set_xlabel('Time')\n",
    "ax.set_ylabel('Production/Consumption')\n",
    "plt.legend()\n",
    "plt.show()"
   ]
  },
  {
   "cell_type": "markdown",
   "metadata": {},
   "source": [
    "One can observe that consumption is slightly less \"smooth\"."
   ]
  },
  {
   "cell_type": "markdown",
   "metadata": {},
   "source": [
    "### Notes"
   ]
  },
  {
   "cell_type": "markdown",
   "metadata": {},
   "source": [
    "In the state-action pairs formulation,\n",
    "`s_indices` and `a_indices` may be ordered arbitrarily;\n",
    "they will internally be sorted in a lexicographic order."
   ]
  },
  {
   "cell_type": "code",
   "execution_count": 76,
   "metadata": {
    "collapsed": false
   },
   "outputs": [
    {
     "name": "stdout",
     "output_type": "stream",
     "text": [
      "[0 1 1 2 2 2 3 3 3 3 4 4 4 4 4 5]\n",
      "[0 0 1 0 1 2 0 1 2 3 0 1 2 3 4 0]\n"
     ]
    }
   ],
   "source": [
    "print(s_indices[:16])\n",
    "print(a_indices[:16])"
   ]
  },
  {
   "cell_type": "code",
   "execution_count": 77,
   "metadata": {
    "collapsed": false
   },
   "outputs": [],
   "source": [
    "# Shuffle s_indices and a_indices randomly\n",
    "x = np.arange(L)\n",
    "np.random.shuffle(x)\n",
    "s_indices, a_indices = s_indices[x], a_indices[x]"
   ]
  },
  {
   "cell_type": "code",
   "execution_count": 78,
   "metadata": {
    "collapsed": false
   },
   "outputs": [
    {
     "name": "stdout",
     "output_type": "stream",
     "text": [
      "[11  7 15 14  2  6  6 12 12 15  9 14  8 11  7 10]\n",
      "[5 5 5 0 1 4 0 1 4 3 5 3 5 4 4 1]\n"
     ]
    }
   ],
   "source": [
    "print(s_indices[:16])\n",
    "print(a_indices[:16])"
   ]
  },
  {
   "cell_type": "code",
   "execution_count": 79,
   "metadata": {
    "collapsed": false
   },
   "outputs": [],
   "source": [
    "# Construct the reward vector and the transition probability array\n",
    "R = u(C[s_indices, a_indices])\n",
    "Q = np.zeros((L, n))\n",
    "for i, a in enumerate(a_indices):\n",
    "    Q[i, a:a+(B+1)] = 1/(B+1)"
   ]
  },
  {
   "cell_type": "code",
   "execution_count": 80,
   "metadata": {
    "collapsed": false
   },
   "outputs": [
    {
     "name": "stdout",
     "output_type": "stream",
     "text": [
      "[ 2.44948974  1.41421356  3.16227766  3.74165739  1.          1.41421356\n",
      "  2.44948974  3.31662479  2.82842712  3.46410162  2.          3.31662479\n",
      "  1.73205081  2.64575131  1.73205081  3.          3.60555128  2.23606798\n",
      "  2.82842712  2.64575131  3.16227766  3.87298335  3.31662479  3.46410162\n",
      "  0.          1.41421356  1.          2.          2.23606798  3.\n",
      "  1.73205081  3.          1.73205081  1.          2.          3.16227766\n",
      "  2.44948974  2.64575131  3.31662479  3.          0.          2.64575131\n",
      "  0.          2.23606798  3.46410162  2.          3.16227766  3.60555128\n",
      "  1.          3.16227766  3.          3.16227766  1.          2.23606798\n",
      "  1.          2.82842712  2.82842712  2.64575131  2.44948974  0.\n",
      "  2.44948974  3.46410162  0.          1.41421356  2.82842712  2.23606798\n",
      "  2.          0.          1.73205081  2.          3.31662479  2.82842712\n",
      "  1.41421356  2.44948974  2.23606798  3.60555128  1.41421356  3.\n",
      "  3.74165739  2.64575131  1.73205081]\n"
     ]
    }
   ],
   "source": [
    "print(R)"
   ]
  },
  {
   "cell_type": "code",
   "execution_count": 81,
   "metadata": {
    "collapsed": false
   },
   "outputs": [
    {
     "name": "stdout",
     "output_type": "stream",
     "text": [
      "[ 0.          0.          0.          0.          0.          0.09090909\n",
      "  0.09090909  0.09090909  0.09090909  0.09090909  0.09090909  0.09090909\n",
      "  0.09090909  0.09090909  0.09090909  0.09090909]\n"
     ]
    }
   ],
   "source": [
    "print(Q[0])"
   ]
  },
  {
   "cell_type": "code",
   "execution_count": 82,
   "metadata": {
    "collapsed": false
   },
   "outputs": [],
   "source": [
    "ddp_sa = DiscreteDP(R, Q, beta, s_indices, a_indices)"
   ]
  },
  {
   "cell_type": "code",
   "execution_count": 83,
   "metadata": {
    "collapsed": false
   },
   "outputs": [
    {
     "name": "stdout",
     "output_type": "stream",
     "text": [
      "[ 0  1  1  2  2  2  3  3  3  3  4  4  4  4  4  5  5  5  5  5  5  6  6  6  6\n",
      "  6  6  7  7  7  7  7  7  8  8  8  8  8  8  9  9  9  9  9  9 10 10 10 10 10\n",
      " 10 11 11 11 11 11 11 12 12 12 12 12 12 13 13 13 13 13 13 14 14 14 14 14 14\n",
      " 15 15 15 15 15 15]\n",
      "[0 0 1 0 1 2 0 1 2 3 0 1 2 3 4 0 1 2 3 4 5 0 1 2 3 4 5 0 1 2 3 4 5 0 1 2 3\n",
      " 4 5 0 1 2 3 4 5 0 1 2 3 4 5 0 1 2 3 4 5 0 1 2 3 4 5 0 1 2 3 4 5 0 1 2 3 4\n",
      " 5 0 1 2 3 4 5]\n"
     ]
    }
   ],
   "source": [
    "print(ddp_sa.s_indices)\n",
    "print(ddp_sa.a_indices)"
   ]
  },
  {
   "cell_type": "code",
   "execution_count": 84,
   "metadata": {
    "collapsed": false
   },
   "outputs": [
    {
     "name": "stdout",
     "output_type": "stream",
     "text": [
      "[ 0.          1.          0.          1.41421356  1.          0.\n",
      "  1.73205081  1.41421356  1.          0.          2.          1.73205081\n",
      "  1.41421356  1.          0.          2.23606798  2.          1.73205081\n",
      "  1.41421356  1.          0.          2.44948974  2.23606798  2.\n",
      "  1.73205081  1.41421356  1.          2.64575131  2.44948974  2.23606798\n",
      "  2.          1.73205081  1.41421356  2.82842712  2.64575131  2.44948974\n",
      "  2.23606798  2.          1.73205081  3.          2.82842712  2.64575131\n",
      "  2.44948974  2.23606798  2.          3.16227766  3.          2.82842712\n",
      "  2.64575131  2.44948974  2.23606798  3.31662479  3.16227766  3.\n",
      "  2.82842712  2.64575131  2.44948974  3.46410162  3.31662479  3.16227766\n",
      "  3.          2.82842712  2.64575131  3.60555128  3.46410162  3.31662479\n",
      "  3.16227766  3.          2.82842712  3.74165739  3.60555128  3.46410162\n",
      "  3.31662479  3.16227766  3.          3.87298335  3.74165739  3.60555128\n",
      "  3.46410162  3.31662479  3.16227766]\n"
     ]
    }
   ],
   "source": [
    "print(ddp_sa.R)"
   ]
  },
  {
   "cell_type": "code",
   "execution_count": 85,
   "metadata": {
    "collapsed": false
   },
   "outputs": [
    {
     "name": "stdout",
     "output_type": "stream",
     "text": [
      "[ 0.09090909  0.09090909  0.09090909  0.09090909  0.09090909  0.09090909\n",
      "  0.09090909  0.09090909  0.09090909  0.09090909  0.09090909  0.          0.\n",
      "  0.          0.          0.        ]\n"
     ]
    }
   ],
   "source": [
    "print(ddp_sa.Q[0])"
   ]
  },
  {
   "cell_type": "markdown",
   "metadata": {},
   "source": [
    "## References"
   ]
  },
  {
   "cell_type": "markdown",
   "metadata": {},
   "source": [
    "* M.L. Puterman,\n",
    "  [*Markov Decision Processes: Discrete Stochastic Dynamic Programming*](http://onlinelibrary.wiley.com/book/10.1002/9780470316887),\n",
    "  Wiley-Interscience, 2005.\n",
    "  \n",
    "* J. Stachursk,\n",
    "  [*Economic Dynamics: Theory and Computation*](http://johnstachurski.net/edtc.html)\n",
    "  MIT Press, 2009."
   ]
  },
  {
   "cell_type": "code",
   "execution_count": null,
   "metadata": {
    "collapsed": false
   },
   "outputs": [],
   "source": []
  }
 ],
 "metadata": {
  "kernelspec": {
   "display_name": "Python 2",
   "language": "python",
   "name": "python2"
  },
  "language_info": {
   "codemirror_mode": {
    "name": "ipython",
    "version": 2
   },
   "file_extension": ".py",
   "mimetype": "text/x-python",
   "name": "python",
   "nbconvert_exporter": "python",
   "pygments_lexer": "ipython2",
   "version": "2.7.10"
  }
 },
 "nbformat": 4,
 "nbformat_minor": 0
}
