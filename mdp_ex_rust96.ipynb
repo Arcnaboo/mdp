{
 "metadata": {
  "name": "",
  "signature": "sha256:5c423ed2b0bddf68eedde1069d870ed52a837375b798eccdb77e01154df8056a"
 },
 "nbformat": 3,
 "nbformat_minor": 0,
 "worksheets": [
  {
   "cells": [
    {
     "cell_type": "code",
     "collapsed": false,
     "input": [
      "%matplotlib inline"
     ],
     "language": "python",
     "metadata": {},
     "outputs": [],
     "prompt_number": 1
    },
    {
     "cell_type": "code",
     "collapsed": false,
     "input": [
      "from __future__ import division, print_function\n",
      "import numpy as np\n",
      "import itertools\n",
      "import scipy.optimize\n",
      "import matplotlib.pyplot as plt\n",
      "from mdp import MDP"
     ],
     "language": "python",
     "metadata": {},
     "outputs": [],
     "prompt_number": 2
    },
    {
     "cell_type": "heading",
     "level": 1,
     "metadata": {},
     "source": [
      "Markov Decision Processes: Example 2"
     ]
    },
    {
     "cell_type": "markdown",
     "metadata": {},
     "source": [
      "We study the finite-state version of the automobile replacement problem as considered in\n",
      "Rust (1996, Section 5.2.2)."
     ]
    },
    {
     "cell_type": "markdown",
     "metadata": {},
     "source": [
      "* J. Rust, \"Numerical Dynamic Programming in Economics\",\n",
      "  <i>Handbook of Computational Economics</i>, Volume 1, 619-729, 1996."
     ]
    },
    {
     "cell_type": "heading",
     "level": 2,
     "metadata": {},
     "source": [
      "Setup"
     ]
    },
    {
     "cell_type": "code",
     "collapsed": false,
     "input": [
      "lambd = 0.5  # Exponential distribution parameter\n",
      "c = 200  # (Constant) marginal cost\n",
      "net_price = 10**5"
     ],
     "language": "python",
     "metadata": {},
     "outputs": [],
     "prompt_number": 3
    },
    {
     "cell_type": "code",
     "collapsed": false,
     "input": [
      "n = 100  # Number of states\n",
      "m = 2  # Number of actions"
     ],
     "language": "python",
     "metadata": {},
     "outputs": [],
     "prompt_number": 4
    },
    {
     "cell_type": "code",
     "collapsed": false,
     "input": [
      "# Reward array\n",
      "R = np.empty((n, m))\n",
      "R[:, 0] = -c * np.arange(n)\n",
      "R[:, 1] = -net_price - c * 0"
     ],
     "language": "python",
     "metadata": {},
     "outputs": [],
     "prompt_number": 5
    },
    {
     "cell_type": "code",
     "collapsed": false,
     "input": [
      "# Transition probability array\n",
      "supp_size = 12\n",
      "probs = np.zeros(supp_size)\n",
      "probs[0] = 1 - np.exp(-lambd * 0.5)\n",
      "for j in range(1, supp_size-1):\n",
      "    probs[j] = np.exp(-lambd * (j - 0.5)) - np.exp(-lambd * (j + 0.5))\n",
      "probs[supp_size-1] = 1 - np.sum(probs[:-1])\n",
      "\n",
      "Q = np.zeros((n, m, n))\n",
      "\n",
      "# a = 0\n",
      "for i in range(n-supp_size):\n",
      "    Q[i, 0, i:i+supp_size] = probs\n",
      "for k in range(supp_size):\n",
      "    Q[n-supp_size+k, 0, n-supp_size+k:] = probs[:supp_size-k]/probs[:supp_size-k].sum()\n",
      "\n",
      "# a = 1\n",
      "for i in range(n):\n",
      "    Q[i, 1, :supp_size] = probs"
     ],
     "language": "python",
     "metadata": {},
     "outputs": [],
     "prompt_number": 6
    },
    {
     "cell_type": "code",
     "collapsed": false,
     "input": [
      "# Discount factor\n",
      "beta = 0.95"
     ],
     "language": "python",
     "metadata": {},
     "outputs": [],
     "prompt_number": 7
    },
    {
     "cell_type": "heading",
     "level": 2,
     "metadata": {},
     "source": [
      "Continuous-State Benchmark"
     ]
    },
    {
     "cell_type": "markdown",
     "metadata": {},
     "source": [
      "Let us compute the value function of the continuous-state version\n",
      "as described in equations (2.22) and (2.23) in Section 2.3."
     ]
    },
    {
     "cell_type": "code",
     "collapsed": false,
     "input": [
      "def f(x, s):\n",
      "    return (c/(1-beta)) * \\\n",
      "        ((x-s) - (beta/(lambd*(1-beta))) * (1 - np.exp(-lambd*(1-beta)*(x-s))))"
     ],
     "language": "python",
     "metadata": {},
     "outputs": [],
     "prompt_number": 8
    },
    {
     "cell_type": "markdown",
     "metadata": {},
     "source": [
      "The optimal stopping boundary $\\gamma$ for the contiuous-state version, given by (2.23):"
     ]
    },
    {
     "cell_type": "code",
     "collapsed": false,
     "input": [
      "gamma = scipy.optimize.brentq(lambda x: f(x, 0) - net_price, 0, 100)\n",
      "print(gamma)"
     ],
     "language": "python",
     "metadata": {},
     "outputs": [
      {
       "output_type": "stream",
       "stream": "stdout",
       "text": [
        "52.8654563606\n"
       ]
      }
     ],
     "prompt_number": 9
    },
    {
     "cell_type": "markdown",
     "metadata": {},
     "source": [
      "The value function for the continuous-state version, given by (2.24):"
     ]
    },
    {
     "cell_type": "code",
     "collapsed": false,
     "input": [
      "def value_func_cont_time(s):\n",
      "    return -c*gamma/(1-beta) + (s < gamma) * f(gamma, s)"
     ],
     "language": "python",
     "metadata": {},
     "outputs": [],
     "prompt_number": 10
    },
    {
     "cell_type": "code",
     "collapsed": false,
     "input": [
      "v_cont = value_func_cont_time(np.arange(n))"
     ],
     "language": "python",
     "metadata": {},
     "outputs": [],
     "prompt_number": 11
    },
    {
     "cell_type": "heading",
     "level": 2,
     "metadata": {},
     "source": [
      "Solving the Problem with `MDP` Class"
     ]
    },
    {
     "cell_type": "markdown",
     "metadata": {},
     "source": [
      "Construct an MDP for the disrete-state version:"
     ]
    },
    {
     "cell_type": "code",
     "collapsed": false,
     "input": [
      "mdp = MDP(R, Q, beta)"
     ],
     "language": "python",
     "metadata": {},
     "outputs": [],
     "prompt_number": 12
    },
    {
     "cell_type": "markdown",
     "metadata": {},
     "source": [
      "Let us solve the decision problem by\n",
      "\n",
      "(0) value iteration,  \n",
      "(1) policy iteration, and  \n",
      "(2) modified policy iteration."
     ]
    },
    {
     "cell_type": "markdown",
     "metadata": {},
     "source": [
      "Following Rust (1996), we set:\n",
      "\n",
      "* $\\varepsilon = 1164$ (for value iteration and modified policy iteration),\n",
      "* $w_0 \\equiv 0$,\n",
      "* the number of iteration for iterative policy evaluation $k = 20$."
     ]
    },
    {
     "cell_type": "code",
     "collapsed": false,
     "input": [
      "w_0 = np.zeros(mdp.num_states)\n",
      "epsilon = 1164\n",
      "max_iter = 200\n",
      "k = 20\n",
      "methods = ['value_iteration', 'policy_iteration', 'modified_policy_iteration']\n",
      "results = [{'label': 'Value iteration'},\n",
      "           {'label': 'Policy iteration'},\n",
      "           {'label': 'Modified policy iteration'}]\n",
      "\n",
      "for i, method in enumerate(methods):\n",
      "    results[i]['v'], results[i]['sigma'], results[i]['mc'], results[i]['num_iter'] = \\\n",
      "        mdp.solve(method=method, w_0=w_0, epsilon=epsilon,\n",
      "                  max_iter=max_iter, return_num_iter=True, k=k)"
     ],
     "language": "python",
     "metadata": {},
     "outputs": [],
     "prompt_number": 13
    },
    {
     "cell_type": "markdown",
     "metadata": {},
     "source": [
      "The numbers of iterations:"
     ]
    },
    {
     "cell_type": "code",
     "collapsed": false,
     "input": [
      "for result in results:\n",
      "    print(result['num_iter'], '\\t' + '(' + result['label'] + ')')"
     ],
     "language": "python",
     "metadata": {},
     "outputs": [
      {
       "output_type": "stream",
       "stream": "stdout",
       "text": [
        "114 \t(Value iteration)\n",
        "5 \t(Policy iteration)\n",
        "6 \t(Modified policy iteration)\n"
       ]
      }
     ],
     "prompt_number": 14
    },
    {
     "cell_type": "markdown",
     "metadata": {},
     "source": [
      "Policy iteration gives the optimal policy:"
     ]
    },
    {
     "cell_type": "code",
     "collapsed": false,
     "input": [
      "print(results[1]['sigma'])"
     ],
     "language": "python",
     "metadata": {},
     "outputs": [
      {
       "output_type": "stream",
       "stream": "stdout",
       "text": [
        "[0 0 0 0 0 0 0 0 0 0 0 0 0 0 0 0 0 0 0 0 0 0 0 0 0 0 0 0 0 0 0 0 0 0 0 0 0\n",
        " 0 0 0 0 0 0 0 0 0 0 0 0 0 0 0 0 1 1 1 1 1 1 1 1 1 1 1 1 1 1 1 1 1 1 1 1 1\n",
        " 1 1 1 1 1 1 1 1 1 1 1 1 1 1 1 1 1 1 1 1 1 1 1 1 1 1]\n"
       ]
      }
     ],
     "prompt_number": 15
    },
    {
     "cell_type": "markdown",
     "metadata": {},
     "source": [
      "Takes action 1 (\"replace\") if and only if $s \\geq \\bar{\\gamma}$, where $\\bar{\\gamma}$ is equal to:"
     ]
    },
    {
     "cell_type": "code",
     "collapsed": false,
     "input": [
      "(1-results[1]['sigma']).sum()"
     ],
     "language": "python",
     "metadata": {},
     "outputs": [
      {
       "metadata": {},
       "output_type": "pyout",
       "prompt_number": 16,
       "text": [
        "53"
       ]
      }
     ],
     "prompt_number": 16
    },
    {
     "cell_type": "markdown",
     "metadata": {},
     "source": [
      "Check that the other methods gave the correct answer:"
     ]
    },
    {
     "cell_type": "code",
     "collapsed": false,
     "input": [
      "for i in [0, 2]:\n",
      "    print(np.array_equal(results[i]['sigma'], results[1]['sigma']))"
     ],
     "language": "python",
     "metadata": {},
     "outputs": [
      {
       "output_type": "stream",
       "stream": "stdout",
       "text": [
        "True\n",
        "True\n"
       ]
      }
     ],
     "prompt_number": 17
    },
    {
     "cell_type": "markdown",
     "metadata": {},
     "source": [
      "The deviations of the returned value function from the continuous-state benchmark:"
     ]
    },
    {
     "cell_type": "code",
     "collapsed": false,
     "input": [
      "for result in results:\n",
      "    deviation = result['v'] - v_cont\n",
      "    print(np.abs(deviation).max(), '\\t' + '(' + result['label'] + ')')"
     ],
     "language": "python",
     "metadata": {},
     "outputs": [
      {
       "output_type": "stream",
       "stream": "stdout",
       "text": [
        "1733.77910196 \t(Value iteration)\n",
        "1162.88060863 \t(Policy iteration)\n",
        "1194.65926414 \t(Modified policy iteration)\n"
       ]
      }
     ],
     "prompt_number": 18
    },
    {
     "cell_type": "code",
     "collapsed": false,
     "input": [
      "fig, ax = plt.subplots(figsize=(8,5))\n",
      "ax.plot(-v_cont, label='Continuous-state')\n",
      "ax.plot(-results[1]['v'], label='Policy iteration')\n",
      "ax.set_title('Comparison of discrete vs. continuous value functions')\n",
      "ax.ticklabel_format(style='sci', axis='y', scilimits=(0,0))\n",
      "ax.set_xlabel('State')\n",
      "ax.set_ylabel(r'Value $\\times\\ (-1)$')\n",
      "plt.legend(loc=4)\n",
      "plt.show()"
     ],
     "language": "python",
     "metadata": {},
     "outputs": [
      {
       "metadata": {},
       "output_type": "display_data",
       "png": "[encoded data removed]",
       "text": [
        "<matplotlib.figure.Figure at 0x1098d8210>"
       ]
      }
     ],
     "prompt_number": 19
    },
    {
     "cell_type": "markdown",
     "metadata": {},
     "source": [
      "The maximum absolute differences of $v$ from that by policy iteration:"
     ]
    },
    {
     "cell_type": "code",
     "collapsed": false,
     "input": [
      "for i in [0, 2]:\n",
      "    diff = results[i]['v'] - results[1]['v']\n",
      "    print(np.abs(diff).max(), '\\t' + '(' + results[i]['label'] + ')')"
     ],
     "language": "python",
     "metadata": {},
     "outputs": [
      {
       "output_type": "stream",
       "stream": "stdout",
       "text": [
        "571.657808034 \t(Value iteration)\n",
        "35.9732849258 \t(Modified policy iteration)\n"
       ]
      }
     ],
     "prompt_number": 20
    },
    {
     "cell_type": "markdown",
     "metadata": {},
     "source": [
      "$\\max_i (Tv - v)_i - \\min_i (Tv - v)_i$ and $\\lvert Tv - v\\rvert$\n",
      "(note that the former is slightly different from\n",
      "$\\overline{b} - \\underline{b}$ in the table in Rust):"
     ]
    },
    {
     "cell_type": "code",
     "collapsed": false,
     "input": [
      "diffs = np.empty((3, 2))\n",
      "for i, result in enumerate(results):\n",
      "    diff = mdp.bellman_operator(result['v']) - result['v']\n",
      "    diffs[i] = (diff.max() - diff.min()) * mdp.beta / (1 - mdp.beta), np.abs(diff).max()\n",
      "\n",
      "print('max_i (Tv - v)_i - min_i (Tv - v)_i')\n",
      "for i, result in enumerate(results):\n",
      "    print(diffs[i, 0], '\\t' + '(' + result['label'] + ')')\n",
      "print()\n",
      "print('|Tv - v|')\n",
      "for i, result in enumerate(results):\n",
      "    print(diffs[i, 1], '\\t' + '(' + result['label'] + ')')"
     ],
     "language": "python",
     "metadata": {},
     "outputs": [
      {
       "output_type": "stream",
       "stream": "stdout",
       "text": [
        "max_i (Tv - v)_i - min_i (Tv - v)_i\n",
        "24.4997935585 \t(Value iteration)\n",
        "3.31783667207e-09 \t(Policy iteration)\n",
        "278.525384986 \t(Modified policy iteration)\n",
        "\n",
        "|Tv - v|\n",
        "29.0800246681 \t(Value iteration)\n",
        "1.16415321827e-10 \t(Policy iteration)\n",
        "7.3446885819 \t(Modified policy iteration)\n"
       ]
      }
     ],
     "prompt_number": 21
    },
    {
     "cell_type": "heading",
     "level": 2,
     "metadata": {},
     "source": [
      "Convergence Trajectories"
     ]
    },
    {
     "cell_type": "heading",
     "level": 3,
     "metadata": {},
     "source": [
      "Value Iteration"
     ]
    },
    {
     "cell_type": "code",
     "collapsed": false,
     "input": [
      "iters = [2, 20, 40, 80]\n",
      "w = np.zeros(mdp.num_states)\n",
      "\n",
      "fig, ax = plt.subplots(figsize=(8,5))\n",
      "for i in range(80):\n",
      "    w = mdp.bellman_operator(w)\n",
      "    if i+1 in iters:\n",
      "        ax.plot(-w, label='Iteration {0}'.format(i+1))\n",
      "ax.plot(-results[1]['v'], label='Fixed Point')\n",
      "\n",
      "ax.ticklabel_format(style='sci', axis='y', scilimits=(0,0))\n",
      "ax.set_ylim(0, 2.4e5)\n",
      "ax.set_yticks([0.4e5 * i for i in range(7)])\n",
      "ax.set_title('Value iteration')\n",
      "ax.set_xlabel('State')\n",
      "ax.set_ylabel(r'Value $\\times\\ (-1)$')\n",
      "plt.legend(loc=(0.7, 0.2))\n",
      "plt.show()"
     ],
     "language": "python",
     "metadata": {},
     "outputs": [
      {
       "metadata": {},
       "output_type": "display_data",
       "png": "[encoded data removed]",
       "text": [
        "<matplotlib.figure.Figure at 0x108b26450>"
       ]
      }
     ],
     "prompt_number": 22
    },
    {
     "cell_type": "heading",
     "level": 3,
     "metadata": {},
     "source": [
      "Policy Iteration"
     ]
    },
    {
     "cell_type": "code",
     "collapsed": false,
     "input": [
      "w_0 = np.zeros(mdp.num_states)\n",
      "\n",
      "fig, ax = plt.subplots(figsize=(8,5))\n",
      "sigma = mdp.compute_greedy(w_0)\n",
      "for i in range(3):\n",
      "    # Policy evaluation\n",
      "    v_sigma = mdp.evaluate_policy(sigma)\n",
      "    ax.plot(-v_sigma, label='Iteration {0}'.format(i+1))\n",
      "    # Policy improvement\n",
      "    new_sigma = mdp.compute_greedy(v_sigma)\n",
      "    sigma = new_sigma\n",
      "ax.plot(-results[1]['v'], label='Fixed Point')\n",
      "\n",
      "ax.ticklabel_format(style='sci', axis='y', scilimits=(0,0))\n",
      "ax.set_ylim(1e5, 4.2e5)\n",
      "ax.set_yticks([1e5 + 0.4e5 * i for i in range(9)])\n",
      "ax.set_title('Policy iteration')\n",
      "ax.set_xlabel('State')\n",
      "ax.set_ylabel(r'Value $\\times\\ (-1)$')\n",
      "plt.legend(loc=4)\n",
      "plt.show()"
     ],
     "language": "python",
     "metadata": {},
     "outputs": [
      {
       "metadata": {},
       "output_type": "display_data",
       "png": "[encoded data removed]",
       "text": [
        "<matplotlib.figure.Figure at 0x109db0050>"
       ]
      }
     ],
     "prompt_number": 23
    },
    {
     "cell_type": "heading",
     "level": 3,
     "metadata": {},
     "source": [
      "Modified Policy Iteration"
     ]
    },
    {
     "cell_type": "code",
     "collapsed": false,
     "input": [
      "w_0 = np.zeros(mdp.num_states)\n",
      "\n",
      "fig, ax = plt.subplots(figsize=(8,5))\n",
      "v = w_0\n",
      "for i in range(4):\n",
      "    # Policy improvement\n",
      "    sigma = mdp.compute_greedy(v)\n",
      "    # Partial policy evaluation with k=20 iterations\n",
      "    for j in range(20):\n",
      "        v = mdp.T_sigma(sigma)(v)\n",
      "    ax.plot(-v, label='Iteration {0}'.format(i+1))\n",
      "ax.plot(-results[1]['v'], label='Fixed Point')\n",
      "\n",
      "ax.ticklabel_format(style='sci', axis='y', scilimits=(0,0))\n",
      "ax.set_ylim(0, 2.8e5)\n",
      "ax.set_yticks([0.4e5 * i for i in range(8)])\n",
      "ax.set_title('Modified policy iteration')\n",
      "ax.set_xlabel('State')\n",
      "ax.set_ylabel(r'Value $\\times\\ (-1)$')\n",
      "plt.legend(loc=4)\n",
      "plt.show()"
     ],
     "language": "python",
     "metadata": {},
     "outputs": [
      {
       "metadata": {},
       "output_type": "display_data",
       "png": "[encoded data removed]",
       "text": [
        "<matplotlib.figure.Figure at 0x1099640d0>"
       ]
      }
     ],
     "prompt_number": 24
    },
    {
     "cell_type": "heading",
     "level": 2,
     "metadata": {},
     "source": [
      "Performance"
     ]
    },
    {
     "cell_type": "code",
     "collapsed": false,
     "input": [
      "for i, method in enumerate(methods):\n",
      "    print(results[i]['label'])\n",
      "    %timeit mdp.solve(method=method, w_0=w_0, epsilon=epsilon, max_iter=max_iter, k=k)"
     ],
     "language": "python",
     "metadata": {},
     "outputs": [
      {
       "output_type": "stream",
       "stream": "stdout",
       "text": [
        "Value iteration\n",
        "100 loops, best of 3: 5.89 ms per loop"
       ]
      },
      {
       "output_type": "stream",
       "stream": "stdout",
       "text": [
        "\n",
        "Policy iteration\n",
        "100 loops, best of 3: 2.01 ms per loop"
       ]
      },
      {
       "output_type": "stream",
       "stream": "stdout",
       "text": [
        "\n",
        "Modified policy iteration\n",
        "100 loops, best of 3: 2.42 ms per loop"
       ]
      },
      {
       "output_type": "stream",
       "stream": "stdout",
       "text": [
        "\n"
       ]
      }
     ],
     "prompt_number": 25
    },
    {
     "cell_type": "heading",
     "level": 2,
     "metadata": {},
     "source": [
      "Increasing the Discount Factor"
     ]
    },
    {
     "cell_type": "markdown",
     "metadata": {},
     "source": [
      "Let us consider the case with a discount factor closer to $1$, $\\beta = 0.9999$,\n",
      "where we set $\\varepsilon = 3553$ following Rust."
     ]
    },
    {
     "cell_type": "code",
     "collapsed": false,
     "input": [
      "mdp.beta = 0.9999"
     ],
     "language": "python",
     "metadata": {},
     "outputs": [],
     "prompt_number": 26
    },
    {
     "cell_type": "code",
     "collapsed": false,
     "input": [
      "w_0 = np.zeros(mdp.num_states)\n",
      "epsilon = 1164\n",
      "max_iter = 2 * (10 ** 5)\n",
      "methods = ['value_iteration', 'policy_iteration', 'modified_policy_iteration']\n",
      "results = [{'label': 'Value iteration'},\n",
      "           {'label': 'Policy iteration'},\n",
      "           {'label': 'Modified policy iteration'}]\n",
      "\n",
      "for i, method in enumerate(methods):\n",
      "    results[i]['v'], results[i]['sigma'], results[i]['mc'], results[i]['num_iter'] = \\\n",
      "        mdp.solve(method=method, w_0=w_0, epsilon=epsilon,\n",
      "                  max_iter=max_iter, return_num_iter=True, k=k)"
     ],
     "language": "python",
     "metadata": {},
     "outputs": [],
     "prompt_number": 27
    },
    {
     "cell_type": "markdown",
     "metadata": {},
     "source": [
      "The numbers of iterations:"
     ]
    },
    {
     "cell_type": "code",
     "collapsed": false,
     "input": [
      "for result in results:\n",
      "    print(result['num_iter'], '\\t' + '(' + result['label'] + ')')"
     ],
     "language": "python",
     "metadata": {},
     "outputs": [
      {
       "output_type": "stream",
       "stream": "stdout",
       "text": [
        "118900 \t(Value iteration)\n",
        "7 \t(Policy iteration)\n",
        "18 \t(Modified policy iteration)\n"
       ]
      }
     ],
     "prompt_number": 28
    },
    {
     "cell_type": "markdown",
     "metadata": {},
     "source": [
      "Policy iteration gives the optimal policy:"
     ]
    },
    {
     "cell_type": "code",
     "collapsed": false,
     "input": [
      "print(results[1]['sigma'])"
     ],
     "language": "python",
     "metadata": {},
     "outputs": [
      {
       "output_type": "stream",
       "stream": "stdout",
       "text": [
        "[0 0 0 0 0 0 0 0 0 0 0 0 0 0 0 0 0 0 0 0 0 0 0 0 0 0 0 0 0 0 0 0 0 0 0 0 0\n",
        " 0 0 0 0 0 0 1 1 1 1 1 1 1 1 1 1 1 1 1 1 1 1 1 1 1 1 1 1 1 1 1 1 1 1 1 1 1\n",
        " 1 1 1 1 1 1 1 1 1 1 1 1 1 1 1 1 1 1 1 1 1 1 1 1 1 1]\n"
       ]
      }
     ],
     "prompt_number": 29
    },
    {
     "cell_type": "markdown",
     "metadata": {},
     "source": [
      "Takes action 1 (\"replace\") if and only if $s \\geq \\bar{\\gamma}$, where $\\bar{\\gamma}$ is equal to:"
     ]
    },
    {
     "cell_type": "code",
     "collapsed": false,
     "input": [
      "(1-results[1]['sigma']).sum()"
     ],
     "language": "python",
     "metadata": {},
     "outputs": [
      {
       "metadata": {},
       "output_type": "pyout",
       "prompt_number": 30,
       "text": [
        "43"
       ]
      }
     ],
     "prompt_number": 30
    },
    {
     "cell_type": "markdown",
     "metadata": {},
     "source": [
      "Check that the other methods gave the correct answer:"
     ]
    },
    {
     "cell_type": "code",
     "collapsed": false,
     "input": [
      "for i in [0, 2]:\n",
      "    print(np.array_equal(results[i]['sigma'], results[1]['sigma']))"
     ],
     "language": "python",
     "metadata": {},
     "outputs": [
      {
       "output_type": "stream",
       "stream": "stdout",
       "text": [
        "True\n",
        "True\n"
       ]
      }
     ],
     "prompt_number": 31
    },
    {
     "cell_type": "markdown",
     "metadata": {},
     "source": [
      "The maximum absolute differences of $v$ from that by policy iteration:"
     ]
    },
    {
     "cell_type": "code",
     "collapsed": false,
     "input": [
      "for i in [0, 2]:\n",
      "    diff = results[i]['v'] - results[1]['v']\n",
      "    print(np.abs(diff).max(), '\\t' + '(' + results[i]['label'] + ')')"
     ],
     "language": "python",
     "metadata": {},
     "outputs": [
      {
       "output_type": "stream",
       "stream": "stdout",
       "text": [
        "581.998771131 \t(Value iteration)\n",
        "5.35069894791 \t(Modified policy iteration)\n"
       ]
      }
     ],
     "prompt_number": 32
    },
    {
     "cell_type": "markdown",
     "metadata": {},
     "source": [
      "$\\max_i (Tv - v)_i - \\min_i (Tv - v)_i$ and $\\lvert Tv - v\\rvert$\n",
      "(note that the former is slightly different from\n",
      "$\\overline{b} - \\underline{b}$ in the table in Rust):"
     ]
    },
    {
     "cell_type": "code",
     "collapsed": false,
     "input": [
      "diffs = np.empty((3, 2))\n",
      "for i, result in enumerate(results):\n",
      "    diff = mdp.bellman_operator(result['v']) - result['v']\n",
      "    diffs[i] = (diff.max() - diff.min()) * mdp.beta / (1 - mdp.beta), np.abs(diff).max()\n",
      "\n",
      "print('max_i (Tv - v)_i - min_i (Tv - v)_i')\n",
      "for i, result in enumerate(results):\n",
      "    print(diffs[i, 0], '\\t' + '(' + result['label'] + ')')\n",
      "print()\n",
      "print('|Tv - v|')\n",
      "for i, result in enumerate(results):\n",
      "    print(diffs[i, 1], '\\t' + '(' + result['label'] + ')')"
     ],
     "language": "python",
     "metadata": {},
     "outputs": [
      {
       "output_type": "stream",
       "stream": "stdout",
       "text": [
        "max_i (Tv - v)_i - min_i (Tv - v)_i\n",
        "0.000893980264664 \t(Value iteration)\n",
        "0.000595986843109 \t(Policy iteration)\n",
        "1076.81904535 \t(Modified policy iteration)\n",
        "\n",
        "|Tv - v|\n",
        "0.0581999272108 \t(Value iteration)\n",
        "2.98023223877e-08 \t(Policy iteration)\n",
        "0.0539062172174 \t(Modified policy iteration)\n"
       ]
      }
     ],
     "prompt_number": 33
    },
    {
     "cell_type": "markdown",
     "metadata": {},
     "source": [
      "Finally compare the speed:"
     ]
    },
    {
     "cell_type": "code",
     "collapsed": false,
     "input": [
      "for i, method in enumerate(methods):\n",
      "    print(results[i]['label'])\n",
      "    %timeit mdp.solve(method=method, w_0=w_0, epsilon=epsilon, max_iter=max_iter, k=k)"
     ],
     "language": "python",
     "metadata": {},
     "outputs": [
      {
       "output_type": "stream",
       "stream": "stdout",
       "text": [
        "Value iteration\n",
        "1 loops, best of 3: 6.18 s per loop"
       ]
      },
      {
       "output_type": "stream",
       "stream": "stdout",
       "text": [
        "\n",
        "Policy iteration\n",
        "100 loops, best of 3: 5.06 ms per loop"
       ]
      },
      {
       "output_type": "stream",
       "stream": "stdout",
       "text": [
        "\n",
        "Modified policy iteration\n",
        "100 loops, best of 3: 10.1 ms per loop"
       ]
      },
      {
       "output_type": "stream",
       "stream": "stdout",
       "text": [
        "\n"
       ]
      }
     ],
     "prompt_number": 34
    },
    {
     "cell_type": "code",
     "collapsed": false,
     "input": [
      "import platform\n",
      "print(platform.platform())"
     ],
     "language": "python",
     "metadata": {},
     "outputs": [
      {
       "output_type": "stream",
       "stream": "stdout",
       "text": [
        "Darwin-10.8.0-i386-64bit\n"
       ]
      }
     ],
     "prompt_number": 35
    },
    {
     "cell_type": "code",
     "collapsed": false,
     "input": [
      "import sys\n",
      "print(sys.version)"
     ],
     "language": "python",
     "metadata": {},
     "outputs": [
      {
       "output_type": "stream",
       "stream": "stdout",
       "text": [
        "2.7.8 (default, Aug 12 2014, 11:32:49) \n",
        "[GCC 4.2.1 (Apple Inc. build 5666) (dot 3)]\n"
       ]
      }
     ],
     "prompt_number": 36
    },
    {
     "cell_type": "code",
     "collapsed": false,
     "input": [
      "print(np.__version__)"
     ],
     "language": "python",
     "metadata": {},
     "outputs": [
      {
       "output_type": "stream",
       "stream": "stdout",
       "text": [
        "1.9.0\n"
       ]
      }
     ],
     "prompt_number": 37
    },
    {
     "cell_type": "code",
     "collapsed": false,
     "input": [],
     "language": "python",
     "metadata": {},
     "outputs": [],
     "prompt_number": 37
    }
   ],
   "metadata": {}
  }
 ]
}