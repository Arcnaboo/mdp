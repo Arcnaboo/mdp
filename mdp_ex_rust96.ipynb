{
 "metadata": {
  "name": "",
  "signature": "sha256:6b2ec8ad29de988bb1188943579c65c46e5d29c5190063525f828debf6d8c51d"
 },
 "nbformat": 3,
 "nbformat_minor": 0,
 "worksheets": [
  {
   "cells": [
    {
     "cell_type": "markdown",
     "metadata": {},
     "source": [
      "# MDP Example: Automobile Replacement (Rust 1996)"
     ]
    },
    {
     "cell_type": "markdown",
     "metadata": {},
     "source": [
      "**Daisuke Oyama**\n",
      "\n",
      "*Faculty of Economics, University of Tokyo*"
     ]
    },
    {
     "cell_type": "markdown",
     "metadata": {},
     "source": [
      "We consider the finite-state version of the automobile replacement problem as considered in\n",
      "Rust (1996, Section 4.2.2)."
     ]
    },
    {
     "cell_type": "markdown",
     "metadata": {},
     "source": [
      "* J. Rust, \"Numerical Dynamic Programming in Economics\",\n",
      "  <i>Handbook of Computational Economics</i>, Volume 1, 619-729, 1996."
     ]
    },
    {
     "cell_type": "code",
     "collapsed": false,
     "input": [
      "%matplotlib inline"
     ],
     "language": "python",
     "metadata": {},
     "outputs": [],
     "prompt_number": 1
    },
    {
     "cell_type": "code",
     "collapsed": false,
     "input": [
      "from __future__ import division, print_function\n",
      "import numpy as np\n",
      "import itertools\n",
      "import scipy.optimize\n",
      "import matplotlib.pyplot as plt\n",
      "import pandas as pd\n",
      "from mdp import MDP"
     ],
     "language": "python",
     "metadata": {},
     "outputs": [],
     "prompt_number": 2
    },
    {
     "cell_type": "markdown",
     "metadata": {},
     "source": [
      "## Setup"
     ]
    },
    {
     "cell_type": "code",
     "collapsed": false,
     "input": [
      "lambd = 0.5  # Exponential distribution parameter\n",
      "c = 200  # (Constant) marginal cost of maintainance\n",
      "net_price = 10**5  # Replacement cost"
     ],
     "language": "python",
     "metadata": {},
     "outputs": [],
     "prompt_number": 3
    },
    {
     "cell_type": "code",
     "collapsed": false,
     "input": [
      "n = 100  # Number of states; s = 0, ..., n-1: level of utilization of the asset\n",
      "m = 2  # Number of actions; 0: keep, 1: replace"
     ],
     "language": "python",
     "metadata": {},
     "outputs": [],
     "prompt_number": 4
    },
    {
     "cell_type": "code",
     "collapsed": false,
     "input": [
      "# Reward array\n",
      "R = np.empty((n, m))\n",
      "R[:, 0] = -c * np.arange(n)  # Costs for maintainance\n",
      "R[:, 1] = -net_price - c * 0  # Costs for replacement"
     ],
     "language": "python",
     "metadata": {},
     "outputs": [],
     "prompt_number": 5
    },
    {
     "cell_type": "code",
     "collapsed": false,
     "input": [
      "# Transition probability array\n",
      "# For each state s, s' distributes over\n",
      "# s, s+1, ..., min{s+supp_size-1, n-1} if a = 0\n",
      "# 0, 1, ..., supp_size-1 if a = 1\n",
      "# according to the (discretized and truncated) exponential distribution\n",
      "# with parameter lambd\n",
      "supp_size = 12\n",
      "probs = np.empty(supp_size)\n",
      "probs[0] = 1 - np.exp(-lambd * 0.5)\n",
      "for j in range(1, supp_size-1):\n",
      "    probs[j] = np.exp(-lambd * (j - 0.5)) - np.exp(-lambd * (j + 0.5))\n",
      "probs[supp_size-1] = 1 - np.sum(probs[:-1])\n",
      "\n",
      "Q = np.zeros((n, m, n))\n",
      "\n",
      "# a = 0\n",
      "for i in range(n-supp_size):\n",
      "    Q[i, 0, i:i+supp_size] = probs\n",
      "for k in range(supp_size):\n",
      "    Q[n-supp_size+k, 0, n-supp_size+k:] = probs[:supp_size-k]/probs[:supp_size-k].sum()\n",
      "\n",
      "# a = 1\n",
      "for i in range(n):\n",
      "    Q[i, 1, :supp_size] = probs"
     ],
     "language": "python",
     "metadata": {},
     "outputs": [],
     "prompt_number": 6
    },
    {
     "cell_type": "code",
     "collapsed": false,
     "input": [
      "# Discount factor\n",
      "beta = 0.95"
     ],
     "language": "python",
     "metadata": {},
     "outputs": [],
     "prompt_number": 7
    },
    {
     "cell_type": "markdown",
     "metadata": {},
     "source": [
      "## Continuous-state benchmark"
     ]
    },
    {
     "cell_type": "markdown",
     "metadata": {},
     "source": [
      "Let us compute the value function of the continuous-state version\n",
      "as described in equations (2.22) and (2.23) in Section 2.3."
     ]
    },
    {
     "cell_type": "code",
     "collapsed": false,
     "input": [
      "def f(x, s):\n",
      "    return (c/(1-beta)) * \\\n",
      "        ((x-s) - (beta/(lambd*(1-beta))) * (1 - np.exp(-lambd*(1-beta)*(x-s))))"
     ],
     "language": "python",
     "metadata": {},
     "outputs": [],
     "prompt_number": 8
    },
    {
     "cell_type": "markdown",
     "metadata": {},
     "source": [
      "The optimal stopping boundary $\\gamma$ for the contiuous-state version, given by (2.23):"
     ]
    },
    {
     "cell_type": "code",
     "collapsed": false,
     "input": [
      "gamma = scipy.optimize.brentq(lambda x: f(x, 0) - net_price, 0, 100)\n",
      "print(gamma)"
     ],
     "language": "python",
     "metadata": {},
     "outputs": [
      {
       "output_type": "stream",
       "stream": "stdout",
       "text": [
        "52.8654563606\n"
       ]
      }
     ],
     "prompt_number": 9
    },
    {
     "cell_type": "markdown",
     "metadata": {},
     "source": [
      "The value function for the continuous-state version, given by (2.24):"
     ]
    },
    {
     "cell_type": "code",
     "collapsed": false,
     "input": [
      "def value_func_cont_time(s):\n",
      "    return -c*gamma/(1-beta) + (s < gamma) * f(gamma, s)"
     ],
     "language": "python",
     "metadata": {},
     "outputs": [],
     "prompt_number": 10
    },
    {
     "cell_type": "code",
     "collapsed": false,
     "input": [
      "v_cont = value_func_cont_time(np.arange(n))"
     ],
     "language": "python",
     "metadata": {},
     "outputs": [],
     "prompt_number": 11
    },
    {
     "cell_type": "markdown",
     "metadata": {},
     "source": [
      "## Solving the problem with `MDP`"
     ]
    },
    {
     "cell_type": "markdown",
     "metadata": {},
     "source": [
      "Construct an MDP for the disrete-state version:"
     ]
    },
    {
     "cell_type": "code",
     "collapsed": false,
     "input": [
      "mdp = MDP(R, Q, beta)"
     ],
     "language": "python",
     "metadata": {},
     "outputs": [],
     "prompt_number": 12
    },
    {
     "cell_type": "markdown",
     "metadata": {},
     "source": [
      "Let us solve the decision problem by\n",
      "\n",
      "(0) value iteration,  \n",
      "(1) value iteration with span-based termination\n",
      "(equivalent to modified policy iteration with step $k = 0$),  \n",
      "(2) policy iteration,  \n",
      "(3) modified policy iteration."
     ]
    },
    {
     "cell_type": "markdown",
     "metadata": {},
     "source": [
      "Following Rust (1996), we set:\n",
      "\n",
      "* $\\varepsilon = 1164$ (for value iteration and modified policy iteration),\n",
      "* $v^0 \\equiv 0$,\n",
      "* the number of iteration for iterative policy evaluation $k = 20$."
     ]
    },
    {
     "cell_type": "code",
     "collapsed": false,
     "input": [
      "v_init = np.zeros(mdp.num_states)\n",
      "epsilon = 1164\n",
      "methods = ['vi', 'mpi', 'pi', 'mpi']\n",
      "labels = ['Value iteration', 'Value iteration with span-based termination',\n",
      "          'Policy iteration', 'Modified policy iteration']\n",
      "results = {}\n",
      "\n",
      "for i in range(4):\n",
      "    k = 20 if labels[i] == 'Modified policy iteration' else 0\n",
      "    results[labels[i]] = \\\n",
      "        mdp.solve(method=methods[i], v_init=v_init, epsilon=epsilon, k=k)"
     ],
     "language": "python",
     "metadata": {},
     "outputs": [],
     "prompt_number": 13
    },
    {
     "cell_type": "code",
     "collapsed": false,
     "input": [
      "columns = [\n",
      "    'Iterations', 'Time (second)', r'$\\lVert v - v_{\\mathrm{pi}} \\rVert$',\n",
      "    r'$\\overline{b} - \\underline{b}$', r'$\\lVert v - T(v)\\rVert$'\n",
      "]\n",
      "df = pd.DataFrame(index=labels, columns=columns)"
     ],
     "language": "python",
     "metadata": {},
     "outputs": [],
     "prompt_number": 14
    },
    {
     "cell_type": "markdown",
     "metadata": {},
     "source": [
      "The numbers of iterations:"
     ]
    },
    {
     "cell_type": "code",
     "collapsed": false,
     "input": [
      "for label in labels:\n",
      "    print(results[label].num_iter, '\\t' + '(' + label + ')')\n",
      "    df[columns[0]].loc[label] = results[label].num_iter"
     ],
     "language": "python",
     "metadata": {},
     "outputs": [
      {
       "output_type": "stream",
       "stream": "stdout",
       "text": [
        "114 \t(Value iteration)\n",
        "65 \t(Value iteration with span-based termination)\n",
        "5 \t(Policy iteration)\n",
        "6 \t(Modified policy iteration)\n"
       ]
      }
     ],
     "prompt_number": 15
    },
    {
     "cell_type": "markdown",
     "metadata": {},
     "source": [
      "Policy iteration gives the optimal policy:"
     ]
    },
    {
     "cell_type": "code",
     "collapsed": false,
     "input": [
      "print(results['Policy iteration'].sigma)"
     ],
     "language": "python",
     "metadata": {},
     "outputs": [
      {
       "output_type": "stream",
       "stream": "stdout",
       "text": [
        "[0 0 0 0 0 0 0 0 0 0 0 0 0 0 0 0 0 0 0 0 0 0 0 0 0 0 0 0 0 0 0 0 0 0 0 0 0\n",
        " 0 0 0 0 0 0 0 0 0 0 0 0 0 0 0 0 1 1 1 1 1 1 1 1 1 1 1 1 1 1 1 1 1 1 1 1 1\n",
        " 1 1 1 1 1 1 1 1 1 1 1 1 1 1 1 1 1 1 1 1 1 1 1 1 1 1]\n"
       ]
      }
     ],
     "prompt_number": 16
    },
    {
     "cell_type": "markdown",
     "metadata": {},
     "source": [
      "Takes action 1 (\"replace\") if and only if $s \\geq \\bar{\\gamma}$, where $\\bar{\\gamma}$ is equal to:"
     ]
    },
    {
     "cell_type": "code",
     "collapsed": false,
     "input": [
      "(1-results['Policy iteration'].sigma).sum()"
     ],
     "language": "python",
     "metadata": {},
     "outputs": [
      {
       "metadata": {},
       "output_type": "pyout",
       "prompt_number": 17,
       "text": [
        "53"
       ]
      }
     ],
     "prompt_number": 17
    },
    {
     "cell_type": "markdown",
     "metadata": {},
     "source": [
      "Check that the other methods gave the correct answer:"
     ]
    },
    {
     "cell_type": "code",
     "collapsed": false,
     "input": [
      "for result in results.itervalues():\n",
      "    if result != results['Policy iteration']:\n",
      "        print(np.array_equal(result.sigma, results['Policy iteration'].sigma))"
     ],
     "language": "python",
     "metadata": {},
     "outputs": [
      {
       "output_type": "stream",
       "stream": "stdout",
       "text": [
        "True\n",
        "True\n",
        "True\n"
       ]
      }
     ],
     "prompt_number": 18
    },
    {
     "cell_type": "markdown",
     "metadata": {},
     "source": [
      "The deviations of the returned value function from the continuous-state benchmark:"
     ]
    },
    {
     "cell_type": "code",
     "collapsed": false,
     "input": [
      "diffs_cont = {}\n",
      "for label in labels:\n",
      "    diffs_cont[label] = np.abs(results[label].v - v_cont).max()\n",
      "    print(diffs_cont[label], '\\t' + '(' + label + ')')"
     ],
     "language": "python",
     "metadata": {},
     "outputs": [
      {
       "output_type": "stream",
       "stream": "stdout",
       "text": [
        "1733.77910196 \t(Value iteration)\n",
        "1085.80571693 \t(Value iteration with span-based termination)\n",
        "1162.88060863 \t(Policy iteration)\n",
        "1144.47728382 \t(Modified policy iteration)\n"
       ]
      }
     ],
     "prompt_number": 19
    },
    {
     "cell_type": "code",
     "collapsed": false,
     "input": [
      "label = 'Policy iteration'\n",
      "fig, ax = plt.subplots(figsize=(8,5))\n",
      "ax.plot(-v_cont, label='Continuous-state')\n",
      "ax.plot(-results[label].v, label=label)\n",
      "ax.set_title('Comparison of discrete vs. continuous value functions')\n",
      "ax.ticklabel_format(style='sci', axis='y', scilimits=(0,0))\n",
      "ax.set_xlabel('State')\n",
      "ax.set_ylabel(r'Value $\\times\\ (-1)$')\n",
      "plt.legend(loc=4)\n",
      "plt.show()"
     ],
     "language": "python",
     "metadata": {},
     "outputs": [
      {
       "metadata": {},
       "output_type": "display_data",
       "png": "[encoded data removed]",
       "text": [
        "<matplotlib.figure.Figure at 0x116febc10>"
       ]
      }
     ],
     "prompt_number": 20
    },
    {
     "cell_type": "markdown",
     "metadata": {},
     "source": [
      "In the following we try to reproduce Table 14.1 in Rust (1996), p.660,\n",
      "although the precise definitions and procedures there are not very clear."
     ]
    },
    {
     "cell_type": "markdown",
     "metadata": {},
     "source": [
      "The maximum absolute differences of $v$ from that by policy iteration:"
     ]
    },
    {
     "cell_type": "code",
     "collapsed": false,
     "input": [
      "for label in labels:\n",
      "    diff_pi = \\\n",
      "        np.abs(results[label].v - results['Policy iteration'].v).max()\n",
      "    print(diff_pi, '\\t' + '(' + label + ')')\n",
      "    df[columns[2]].loc[label] = diff_pi"
     ],
     "language": "python",
     "metadata": {},
     "outputs": [
      {
       "output_type": "stream",
       "stream": "stdout",
       "text": [
        "571.657808034 \t(Value iteration)\n",
        "124.137626142 \t(Value iteration with span-based termination)\n",
        "0.0 \t(Policy iteration)\n",
        "44.2673484102 \t(Modified policy iteration)\n"
       ]
      }
     ],
     "prompt_number": 21
    },
    {
     "cell_type": "markdown",
     "metadata": {},
     "source": [
      "Compute $\\lVert v - T(v)\\rVert$:"
     ]
    },
    {
     "cell_type": "code",
     "collapsed": false,
     "input": [
      "for label in labels:\n",
      "    v = results[label].v\n",
      "    diff_max = \\\n",
      "        np.abs(v - mdp.bellman_operator(v)).max()\n",
      "    print(diff_max, '\\t' + '(' + label + ')')\n",
      "    df[columns[4]].loc[label] = diff_max"
     ],
     "language": "python",
     "metadata": {},
     "outputs": [
      {
       "output_type": "stream",
       "stream": "stdout",
       "text": [
        "29.0800246681 \t(Value iteration)\n",
        "27.7883386169 \t(Value iteration with span-based termination)\n",
        "2.03726813197e-10 \t(Policy iteration)\n",
        "6.59712753215 \t(Modified policy iteration)\n"
       ]
      }
     ],
     "prompt_number": 22
    },
    {
     "cell_type": "markdown",
     "metadata": {},
     "source": [
      "Next we compute $\\overline{b} - \\underline{b}$\n",
      "for the three methods other than policy iteration, where\n",
      "$I$ is the number of iterations required to fulfill the termination condition, and\n",
      "$$\n",
      "\\begin{aligned}\n",
      "\\underline{b} &= \\frac{\\beta}{1-\\beta} \\min\\left[T(v^{I-1}) - v^{I-1}\\right], \\\\\\\\\n",
      "\\overline{b}  &= \\frac{\\beta}{1-\\beta} \\max\\left[T(v^{I-1}) - v^{I-1}\\right].\n",
      "\\end{aligned}\n",
      "$$"
     ]
    },
    {
     "cell_type": "code",
     "collapsed": false,
     "input": [
      "for i in range(4):\n",
      "    if labels[i] != 'Policy iteration':\n",
      "        k = 20 if labels[i] == 'Modified policy iteration' else 0\n",
      "        res = mdp.solve(method=methods[i], v_init=v_init, k=k,\n",
      "                        max_iter=results[labels[i]].num_iter-1)\n",
      "        diff = mdp.bellman_operator(res.v) - res.v\n",
      "        diff_span = (diff.max() - diff.min()) * mdp.beta / (1 - mdp.beta)\n",
      "        print(diff_span, '\\t' + '(' + labels[i] + ')')\n",
      "        df[columns[3]].loc[labels[i]] = diff_span"
     ],
     "language": "python",
     "metadata": {},
     "outputs": [
      {
       "output_type": "stream",
       "stream": "stdout",
       "text": [
        "26.4655743941 \t(Value iteration)\n",
        "1141.05130079 \t(Value iteration with span-based termination)\n",
        "267.494551734 \t(Modified policy iteration)\n"
       ]
      }
     ],
     "prompt_number": 23
    },
    {
     "cell_type": "markdown",
     "metadata": {},
     "source": [
      "For policy iteration, while it does not seem really relevant,\n",
      "we compute $\\overline{b} - \\underline{b}$ with the returned value of $v$\n",
      "in place of $v^{I-1}$:"
     ]
    },
    {
     "cell_type": "code",
     "collapsed": false,
     "input": [
      "label = 'Policy iteration'\n",
      "v = results[label].v\n",
      "diff = mdp.bellman_operator(v) - v\n",
      "diff_span = (diff.max() - diff.min()) * mdp.beta / (1 - mdp.beta)\n",
      "print(diff_span, '\\t' + '(' + label + ')')\n",
      "df[columns[3]].loc[label] = diff_span"
     ],
     "language": "python",
     "metadata": {},
     "outputs": [
      {
       "output_type": "stream",
       "stream": "stdout",
       "text": [
        "4.9767550081e-09 \t(Policy iteration)\n"
       ]
      }
     ],
     "prompt_number": 24
    },
    {
     "cell_type": "markdown",
     "metadata": {},
     "source": [
      "Last, time each algorithm:"
     ]
    },
    {
     "cell_type": "code",
     "collapsed": false,
     "input": [
      "for i in range(4):\n",
      "    k = 20 if labels[i] == 'Modified policy iteration' else 0\n",
      "    print(labels[i])\n",
      "    t = %timeit -o mdp.solve(method=methods[i], v_init=v_init, epsilon=epsilon, k=k)\n",
      "    df[columns[1]].loc[labels[i]] = t.best"
     ],
     "language": "python",
     "metadata": {},
     "outputs": [
      {
       "output_type": "stream",
       "stream": "stdout",
       "text": [
        "Value iteration\n",
        "100 loops, best of 3: 4.51 ms per loop"
       ]
      },
      {
       "output_type": "stream",
       "stream": "stdout",
       "text": [
        "\n",
        "Value iteration with span-based termination\n",
        "100 loops, best of 3: 4.72 ms per loop"
       ]
      },
      {
       "output_type": "stream",
       "stream": "stdout",
       "text": [
        "\n",
        "Policy iteration\n",
        "100 loops, best of 3: 1.99 ms per loop"
       ]
      },
      {
       "output_type": "stream",
       "stream": "stdout",
       "text": [
        "\n",
        "Modified policy iteration\n",
        "1000 loops, best of 3: 1.68 ms per loop"
       ]
      },
      {
       "output_type": "stream",
       "stream": "stdout",
       "text": [
        "\n"
       ]
      }
     ],
     "prompt_number": 25
    },
    {
     "cell_type": "code",
     "collapsed": false,
     "input": [
      "df"
     ],
     "language": "python",
     "metadata": {},
     "outputs": [
      {
       "html": [
        "<div style=\"max-height:1000px;max-width:1500px;overflow:auto;\">\n",
        "<table border=\"1\" class=\"dataframe\">\n",
        "  <thead>\n",
        "    <tr style=\"text-align: right;\">\n",
        "      <th></th>\n",
        "      <th>Iterations</th>\n",
        "      <th>Time (second)</th>\n",
        "      <th>$\\lVert v - v_{\\mathrm{pi}} \\rVert$</th>\n",
        "      <th>$\\overline{b} - \\underline{b}$</th>\n",
        "      <th>$\\lVert v - T(v)\\rVert$</th>\n",
        "    </tr>\n",
        "  </thead>\n",
        "  <tbody>\n",
        "    <tr>\n",
        "      <th>Value iteration</th>\n",
        "      <td>114</td>\n",
        "      <td>0.0045081</td>\n",
        "      <td>571.6578</td>\n",
        "      <td>26.46557</td>\n",
        "      <td>29.08002</td>\n",
        "    </tr>\n",
        "    <tr>\n",
        "      <th>Value iteration with span-based termination</th>\n",
        "      <td>65</td>\n",
        "      <td>0.004724801</td>\n",
        "      <td>124.1376</td>\n",
        "      <td>1141.051</td>\n",
        "      <td>27.78834</td>\n",
        "    </tr>\n",
        "    <tr>\n",
        "      <th>Policy iteration</th>\n",
        "      <td>5</td>\n",
        "      <td>0.00199435</td>\n",
        "      <td>0</td>\n",
        "      <td>4.976755e-09</td>\n",
        "      <td>2.037268e-10</td>\n",
        "    </tr>\n",
        "    <tr>\n",
        "      <th>Modified policy iteration</th>\n",
        "      <td>6</td>\n",
        "      <td>0.001679159</td>\n",
        "      <td>44.26735</td>\n",
        "      <td>267.4946</td>\n",
        "      <td>6.597128</td>\n",
        "    </tr>\n",
        "  </tbody>\n",
        "</table>\n",
        "</div>"
       ],
       "metadata": {},
       "output_type": "pyout",
       "prompt_number": 26,
       "text": [
        "                                            Iterations Time (second)  \\\n",
        "Value iteration                                    114     0.0045081   \n",
        "Value iteration with span-based termination         65   0.004724801   \n",
        "Policy iteration                                     5    0.00199435   \n",
        "Modified policy iteration                            6   0.001679159   \n",
        "\n",
        "                                            $\\lVert v - v_{\\mathrm{pi}} \\rVert$  \\\n",
        "Value iteration                                                        571.6578   \n",
        "Value iteration with span-based termination                            124.1376   \n",
        "Policy iteration                                                              0   \n",
        "Modified policy iteration                                              44.26735   \n",
        "\n",
        "                                            $\\overline{b} - \\underline{b}$  \\\n",
        "Value iteration                                                   26.46557   \n",
        "Value iteration with span-based termination                       1141.051   \n",
        "Policy iteration                                              4.976755e-09   \n",
        "Modified policy iteration                                         267.4946   \n",
        "\n",
        "                                            $\\lVert v - T(v)\\rVert$  \n",
        "Value iteration                                            29.08002  \n",
        "Value iteration with span-based termination                27.78834  \n",
        "Policy iteration                                       2.037268e-10  \n",
        "Modified policy iteration                                  6.597128  "
       ]
      }
     ],
     "prompt_number": 26
    },
    {
     "cell_type": "markdown",
     "metadata": {},
     "source": [
      "### Notes"
     ]
    },
    {
     "cell_type": "markdown",
     "metadata": {},
     "source": [
      "It appears that our value iteration with span-based termination is different in some details\n",
      "from the corresponding algorithm (successive approximation with error bounds) in Rust.\n",
      "In returing the value function, our algorithm returns\n",
      "$T(v^{I-1}) + (\\overline{b} + \\underline{b})/2$,\n",
      "while Rust's seems to return $v^{I-1} + (\\overline{b} + \\underline{b})/2$.\n",
      "In fact:"
     ]
    },
    {
     "cell_type": "code",
     "collapsed": false,
     "input": [
      "i = 1\n",
      "k = 0\n",
      "res = mdp.solve(method=methods[i], v_init=v_init, k=k,\n",
      "                max_iter=results[labels[i]].num_iter-1)\n",
      "diff = mdp.bellman_operator(res.v) - res.v\n",
      "v = res.v + (diff.max() + diff.min()) * mdp.beta / (1 - mdp.beta) / 2"
     ],
     "language": "python",
     "metadata": {},
     "outputs": [],
     "prompt_number": 27
    },
    {
     "cell_type": "markdown",
     "metadata": {},
     "source": [
      "$\\lVert v - v_{\\mathrm{pi}}\\rVert$:"
     ]
    },
    {
     "cell_type": "code",
     "collapsed": false,
     "input": [
      "np.abs(v - results['Policy iteration'].v).max()"
     ],
     "language": "python",
     "metadata": {},
     "outputs": [
      {
       "metadata": {},
       "output_type": "pyout",
       "prompt_number": 28,
       "text": [
        "503.43001170479693"
       ]
      }
     ],
     "prompt_number": 28
    },
    {
     "cell_type": "markdown",
     "metadata": {},
     "source": [
      "$\\lVert v - T(v)\\rVert$:"
     ]
    },
    {
     "cell_type": "code",
     "collapsed": false,
     "input": [
      "np.abs(v - mdp.bellman_operator(v)).max()"
     ],
     "language": "python",
     "metadata": {},
     "outputs": [
      {
       "metadata": {},
       "output_type": "pyout",
       "prompt_number": 29,
       "text": [
        "48.499617969617248"
       ]
      }
     ],
     "prompt_number": 29
    },
    {
     "cell_type": "markdown",
     "metadata": {},
     "source": [
      "Compare the Table in Rust."
     ]
    },
    {
     "cell_type": "markdown",
     "metadata": {},
     "source": [
      "## Convergence of trajectories"
     ]
    },
    {
     "cell_type": "markdown",
     "metadata": {},
     "source": [
      "Let us plot the convergence of $v^i$ for the four algorithms;\n",
      "see also Figure 14.2 in Rust."
     ]
    },
    {
     "cell_type": "markdown",
     "metadata": {},
     "source": [
      "### Value iteration"
     ]
    },
    {
     "cell_type": "code",
     "collapsed": false,
     "input": [
      "label = 'Value iteration'\n",
      "iters = [2, 20, 40, 80]\n",
      "v = np.zeros(mdp.num_states)\n",
      "\n",
      "fig, ax = plt.subplots(figsize=(8,5))\n",
      "for i in range(iters[-1]):\n",
      "    v = mdp.bellman_operator(v)\n",
      "    if i+1 in iters:\n",
      "        ax.plot(-v, label='Iteration {0}'.format(i+1))\n",
      "ax.plot(-results['Policy iteration'].v, label='Fixed Point')\n",
      "\n",
      "ax.ticklabel_format(style='sci', axis='y', scilimits=(0,0))\n",
      "ax.set_ylim(0, 2.4e5)\n",
      "ax.set_yticks([0.4e5 * i for i in range(7)])\n",
      "ax.set_title(label)\n",
      "ax.set_xlabel('State')\n",
      "ax.set_ylabel(r'Value $\\times\\ (-1)$')\n",
      "plt.legend(loc=(0.7, 0.2))\n",
      "plt.show()"
     ],
     "language": "python",
     "metadata": {},
     "outputs": [
      {
       "metadata": {},
       "output_type": "display_data",
       "png": "[encoded data removed]",
       "text": [
        "<matplotlib.figure.Figure at 0x118314150>"
       ]
      }
     ],
     "prompt_number": 30
    },
    {
     "cell_type": "markdown",
     "metadata": {},
     "source": [
      "### Value iteration with span-based termination"
     ]
    },
    {
     "cell_type": "code",
     "collapsed": false,
     "input": [
      "label = 'Value iteration with span-based termination'\n",
      "iters = [1, 10, 15, 20]\n",
      "v = np.zeros(mdp.num_states)\n",
      "\n",
      "fig, ax = plt.subplots(figsize=(8,5))\n",
      "for i in range(iters[-1]):\n",
      "    u = mdp.bellman_operator(v)\n",
      "    if i+1 in iters:\n",
      "        diff = u - v\n",
      "        w = u + ((diff.max() + diff.min()) / 2) * mdp.beta / (1 - mdp.beta)\n",
      "        ax.plot(-w, label='Iteration {0}'.format(i+1))\n",
      "    v = u\n",
      "ax.plot(-results['Policy iteration'].v, label='Fixed Point')\n",
      "\n",
      "ax.ticklabel_format(style='sci', axis='y', scilimits=(0,0))\n",
      "ax.set_ylim(1.0e5, 2.4e5)\n",
      "ax.set_yticks([1.0e5+0.2e5 * i for i in range(8)])\n",
      "ax.set_title(label)\n",
      "ax.set_xlabel('State')\n",
      "ax.set_ylabel(r'Value $\\times\\ (-1)$')\n",
      "plt.legend(loc=(0.7, 0.2))\n",
      "plt.show()"
     ],
     "language": "python",
     "metadata": {},
     "outputs": [
      {
       "metadata": {},
       "output_type": "display_data",
       "png": "[encoded data removed]",
       "text": [
        "<matplotlib.figure.Figure at 0x1182e5850>"
       ]
      }
     ],
     "prompt_number": 31
    },
    {
     "cell_type": "markdown",
     "metadata": {},
     "source": [
      "### Policy iteration"
     ]
    },
    {
     "cell_type": "code",
     "collapsed": false,
     "input": [
      "label = 'Policy iteration'\n",
      "iters = [1, 2, 3]\n",
      "v_init = np.zeros(mdp.num_states)\n",
      "\n",
      "fig, ax = plt.subplots(figsize=(8,5))\n",
      "sigma = mdp.compute_greedy(v_init)\n",
      "for i in range(iters[-1]):\n",
      "    # Policy evaluation\n",
      "    v_sigma = mdp.evaluate_policy(sigma)\n",
      "    if i+1 in iters:\n",
      "        ax.plot(-v_sigma, label='Iteration {0}'.format(i+1))\n",
      "    # Policy improvement\n",
      "    new_sigma = mdp.compute_greedy(v_sigma)\n",
      "    sigma = new_sigma\n",
      "ax.plot(-results['Policy iteration'].v, label='Fixed Point')\n",
      "\n",
      "ax.ticklabel_format(style='sci', axis='y', scilimits=(0,0))\n",
      "ax.set_ylim(1e5, 4.2e5)\n",
      "ax.set_yticks([1e5 + 0.4e5 * i for i in range(9)])\n",
      "ax.set_title(label)\n",
      "ax.set_xlabel('State')\n",
      "ax.set_ylabel(r'Value $\\times\\ (-1)$')\n",
      "plt.legend(loc=4)\n",
      "plt.show()"
     ],
     "language": "python",
     "metadata": {},
     "outputs": [
      {
       "metadata": {},
       "output_type": "display_data",
       "png": "[encoded data removed]",
       "text": [
        "<matplotlib.figure.Figure at 0x1186061d0>"
       ]
      }
     ],
     "prompt_number": 32
    },
    {
     "cell_type": "markdown",
     "metadata": {},
     "source": [
      "### Modified policy iteration"
     ]
    },
    {
     "cell_type": "code",
     "collapsed": false,
     "input": [
      "label = 'Modified policy iteration'\n",
      "iters = [1, 2, 3, 4]\n",
      "v = np.zeros(mdp.num_states)\n",
      "k = 20 #- 1\n",
      "\n",
      "fig, ax = plt.subplots(figsize=(8,5))\n",
      "for i in range(iters[-1]):\n",
      "    # Policy improvement\n",
      "    sigma = mdp.compute_greedy(v)\n",
      "    u = mdp.bellman_operator(v)\n",
      "    if i == results[label].num_iter-1:\n",
      "        diff = u - v\n",
      "        break\n",
      "    # Partial policy evaluation with k=20 iterations\n",
      "    for j in range(k):\n",
      "        u = mdp.T_sigma(sigma)(u)\n",
      "    v = u\n",
      "    if i+1 in iters:\n",
      "        ax.plot(-v, label='Iteration {0}'.format(i+1))\n",
      "ax.plot(-results['Policy iteration'].v, label='Fixed Point')\n",
      "\n",
      "ax.ticklabel_format(style='sci', axis='y', scilimits=(0,0))\n",
      "ax.set_ylim(0, 2.8e5)\n",
      "ax.set_yticks([0.4e5 * i for i in range(8)])\n",
      "ax.set_title(label)\n",
      "ax.set_xlabel('State')\n",
      "ax.set_ylabel(r'Value $\\times\\ (-1)$')\n",
      "plt.legend(loc=4)\n",
      "plt.show()"
     ],
     "language": "python",
     "metadata": {},
     "outputs": [
      {
       "metadata": {},
       "output_type": "display_data",
       "png": "[encoded data removed]",
       "text": [
        "<matplotlib.figure.Figure at 0x11846b0d0>"
       ]
      }
     ],
     "prompt_number": 33
    },
    {
     "cell_type": "markdown",
     "metadata": {},
     "source": [
      "## Increasing the discount factor"
     ]
    },
    {
     "cell_type": "markdown",
     "metadata": {},
     "source": [
      "Let us consider the case with a discount factor closer to $1$, $\\beta = 0.9999$."
     ]
    },
    {
     "cell_type": "code",
     "collapsed": false,
     "input": [
      "mdp.beta = 0.9999"
     ],
     "language": "python",
     "metadata": {},
     "outputs": [],
     "prompt_number": 34
    },
    {
     "cell_type": "code",
     "collapsed": false,
     "input": [
      "v_init = np.zeros(mdp.num_states)\n",
      "epsilon = 1164\n",
      "mdp.max_iter = 10**5 * 2\n",
      "\n",
      "results_9999 = {}\n",
      "\n",
      "for i in range(4):\n",
      "    k = 20 if labels[i] == 'Modified policy iteration' else 0\n",
      "    results_9999[labels[i]] = \\\n",
      "        mdp.solve(method=methods[i], v_init=v_init, epsilon=epsilon, k=k)"
     ],
     "language": "python",
     "metadata": {},
     "outputs": [],
     "prompt_number": 35
    },
    {
     "cell_type": "code",
     "collapsed": false,
     "input": [
      "df_9999 = pd.DataFrame(index=labels, columns=columns)"
     ],
     "language": "python",
     "metadata": {},
     "outputs": [],
     "prompt_number": 36
    },
    {
     "cell_type": "markdown",
     "metadata": {},
     "source": [
      "The numbers of iterations:"
     ]
    },
    {
     "cell_type": "code",
     "collapsed": false,
     "input": [
      "for label in labels:\n",
      "    print(results_9999[label].num_iter, '\\t' + '(' + label + ')')\n",
      "    df_9999[columns[0]].loc[label] = results_9999[label].num_iter"
     ],
     "language": "python",
     "metadata": {},
     "outputs": [
      {
       "output_type": "stream",
       "stream": "stdout",
       "text": [
        "118900 \t(Value iteration)\n",
        "288 \t(Value iteration with span-based termination)\n",
        "7 \t(Policy iteration)\n",
        "18 \t(Modified policy iteration)\n"
       ]
      }
     ],
     "prompt_number": 37
    },
    {
     "cell_type": "markdown",
     "metadata": {},
     "source": [
      "Policy iteration gives the optimal policy:"
     ]
    },
    {
     "cell_type": "code",
     "collapsed": false,
     "input": [
      "print(results_9999['Policy iteration'].sigma)"
     ],
     "language": "python",
     "metadata": {},
     "outputs": [
      {
       "output_type": "stream",
       "stream": "stdout",
       "text": [
        "[0 0 0 0 0 0 0 0 0 0 0 0 0 0 0 0 0 0 0 0 0 0 0 0 0 0 0 0 0 0 0 0 0 0 0 0 0\n",
        " 0 0 0 0 0 0 1 1 1 1 1 1 1 1 1 1 1 1 1 1 1 1 1 1 1 1 1 1 1 1 1 1 1 1 1 1 1\n",
        " 1 1 1 1 1 1 1 1 1 1 1 1 1 1 1 1 1 1 1 1 1 1 1 1 1 1]\n"
       ]
      }
     ],
     "prompt_number": 38
    },
    {
     "cell_type": "markdown",
     "metadata": {},
     "source": [
      "Takes action 1 (\"replace\") if and only if $s \\geq \\bar{\\gamma}$, where $\\bar{\\gamma}$ is equal to:"
     ]
    },
    {
     "cell_type": "code",
     "collapsed": false,
     "input": [
      "(1-results_9999['Policy iteration'].sigma).sum()"
     ],
     "language": "python",
     "metadata": {},
     "outputs": [
      {
       "metadata": {},
       "output_type": "pyout",
       "prompt_number": 39,
       "text": [
        "43"
       ]
      }
     ],
     "prompt_number": 39
    },
    {
     "cell_type": "markdown",
     "metadata": {},
     "source": [
      "Check that the other methods gave the correct answer:"
     ]
    },
    {
     "cell_type": "code",
     "collapsed": false,
     "input": [
      "for result in results_9999.itervalues():\n",
      "    if result != results_9999['Policy iteration']:\n",
      "        print(np.array_equal(result.sigma, results_9999['Policy iteration'].sigma))"
     ],
     "language": "python",
     "metadata": {},
     "outputs": [
      {
       "output_type": "stream",
       "stream": "stdout",
       "text": [
        "True\n",
        "True\n",
        "True\n"
       ]
      }
     ],
     "prompt_number": 40
    },
    {
     "cell_type": "markdown",
     "metadata": {},
     "source": [
      "$\\lVert v - v_{\\mathrm{pi}}\\rVert$:"
     ]
    },
    {
     "cell_type": "code",
     "collapsed": false,
     "input": [
      "for label in labels:\n",
      "    diff_pi = \\\n",
      "        np.abs(results_9999[label].v - results_9999['Policy iteration'].v).max()\n",
      "    print(diff_pi, '\\t' + '(' + label + ')')\n",
      "    df_9999[columns[2]].loc[label] = diff_pi"
     ],
     "language": "python",
     "metadata": {},
     "outputs": [
      {
       "output_type": "stream",
       "stream": "stdout",
       "text": [
        "581.998786509 \t(Value iteration)\n",
        "4.37767255306 \t(Value iteration with span-based termination)\n",
        "0.0 \t(Policy iteration)\n",
        "4.45491330326 \t(Modified policy iteration)\n"
       ]
      }
     ],
     "prompt_number": 41
    },
    {
     "cell_type": "markdown",
     "metadata": {},
     "source": [
      "$\\lVert v - T(v)\\rVert$:"
     ]
    },
    {
     "cell_type": "code",
     "collapsed": false,
     "input": [
      "for label in labels:\n",
      "    v = results_9999[label].v\n",
      "    diff_max = \\\n",
      "        np.abs(v - mdp.bellman_operator(v)).max()\n",
      "    print(diff_max, '\\t' + '(' + label + ')')\n",
      "    df_9999[columns[4]].loc[label] = diff_max"
     ],
     "language": "python",
     "metadata": {},
     "outputs": [
      {
       "output_type": "stream",
       "stream": "stdout",
       "text": [
        "0.0581999123096 \t(Value iteration)\n",
        "0.0558041036129 \t(Value iteration with span-based termination)\n",
        "5.96046447754e-08 \t(Policy iteration)\n",
        "0.052891805768 \t(Modified policy iteration)\n"
       ]
      }
     ],
     "prompt_number": 42
    },
    {
     "cell_type": "markdown",
     "metadata": {},
     "source": [
      "$\\overline{b} - \\underline{b}$:"
     ]
    },
    {
     "cell_type": "code",
     "collapsed": false,
     "input": [
      "for i in range(4):\n",
      "    if labels[i] != 'Policy iteration':\n",
      "        k = 20 if labels[i] == 'Modified policy iteration' else 0\n",
      "        res = mdp.solve(method=methods[i], v_init=v_init, k=k,\n",
      "                        max_iter=results_9999[labels[i]].num_iter-1)\n",
      "        diff = mdp.bellman_operator(res.v) - res.v\n",
      "        diff_span = (diff.max() - diff.min()) * mdp.beta / (1 - mdp.beta)\n",
      "        print(diff_span, '\\t' + '(' + labels[i] + ')')\n",
      "        df_9999[columns[3]].loc[labels[i]] = diff_span"
     ],
     "language": "python",
     "metadata": {},
     "outputs": [
      {
       "output_type": "stream",
       "stream": "stdout",
       "text": [
        "0.000446990132332 \t(Value iteration)\n",
        "1160.37531587 \t(Value iteration with span-based termination)\n",
        "1099.68602686 \t(Modified policy iteration)\n"
       ]
      }
     ],
     "prompt_number": 43
    },
    {
     "cell_type": "markdown",
     "metadata": {},
     "source": [
      "For policy iteration:"
     ]
    },
    {
     "cell_type": "code",
     "collapsed": false,
     "input": [
      "label = 'Policy iteration'\n",
      "v = results_9999[label].v\n",
      "diff = mdp.bellman_operator(v) - v\n",
      "diff_span = (diff.max() - diff.min()) * mdp.beta / (1 - mdp.beta)\n",
      "print(diff_span, '\\t' + '(' + label + ')')\n",
      "df_9999[columns[3]].loc[label] = diff_span"
     ],
     "language": "python",
     "metadata": {},
     "outputs": [
      {
       "output_type": "stream",
       "stream": "stdout",
       "text": [
        "0.000893980264664 \t(Policy iteration)\n"
       ]
      }
     ],
     "prompt_number": 44
    },
    {
     "cell_type": "code",
     "collapsed": false,
     "input": [
      "for i in range(4):\n",
      "    k = 20 if labels[i] == 'Modified policy iteration' else 0\n",
      "    print(labels[i])\n",
      "    t = %timeit -o mdp.solve(method=methods[i], v_init=v_init, epsilon=epsilon, k=k)\n",
      "    df_9999[columns[1]].loc[labels[i]] = t.best"
     ],
     "language": "python",
     "metadata": {},
     "outputs": [
      {
       "output_type": "stream",
       "stream": "stdout",
       "text": [
        "Value iteration\n",
        "1 loops, best of 3: 4.08 s per loop"
       ]
      },
      {
       "output_type": "stream",
       "stream": "stdout",
       "text": [
        "\n",
        "Value iteration with span-based termination\n",
        "10 loops, best of 3: 20 ms per loop"
       ]
      },
      {
       "output_type": "stream",
       "stream": "stdout",
       "text": [
        "\n",
        "Policy iteration\n",
        "100 loops, best of 3: 5.39 ms per loop"
       ]
      },
      {
       "output_type": "stream",
       "stream": "stdout",
       "text": [
        "\n",
        "Modified policy iteration\n",
        "100 loops, best of 3: 6.8 ms per loop"
       ]
      },
      {
       "output_type": "stream",
       "stream": "stdout",
       "text": [
        "\n"
       ]
      }
     ],
     "prompt_number": 45
    },
    {
     "cell_type": "code",
     "collapsed": false,
     "input": [
      "df_9999"
     ],
     "language": "python",
     "metadata": {},
     "outputs": [
      {
       "html": [
        "<div style=\"max-height:1000px;max-width:1500px;overflow:auto;\">\n",
        "<table border=\"1\" class=\"dataframe\">\n",
        "  <thead>\n",
        "    <tr style=\"text-align: right;\">\n",
        "      <th></th>\n",
        "      <th>Iterations</th>\n",
        "      <th>Time (second)</th>\n",
        "      <th>$\\lVert v - v_{\\mathrm{pi}} \\rVert$</th>\n",
        "      <th>$\\overline{b} - \\underline{b}$</th>\n",
        "      <th>$\\lVert v - T(v)\\rVert$</th>\n",
        "    </tr>\n",
        "  </thead>\n",
        "  <tbody>\n",
        "    <tr>\n",
        "      <th>Value iteration</th>\n",
        "      <td>118900</td>\n",
        "      <td>4.080313</td>\n",
        "      <td>581.9988</td>\n",
        "      <td>0.0004469901</td>\n",
        "      <td>0.05819991</td>\n",
        "    </tr>\n",
        "    <tr>\n",
        "      <th>Value iteration with span-based termination</th>\n",
        "      <td>288</td>\n",
        "      <td>0.01998689</td>\n",
        "      <td>4.377673</td>\n",
        "      <td>1160.375</td>\n",
        "      <td>0.0558041</td>\n",
        "    </tr>\n",
        "    <tr>\n",
        "      <th>Policy iteration</th>\n",
        "      <td>7</td>\n",
        "      <td>0.0053914</td>\n",
        "      <td>0</td>\n",
        "      <td>0.0008939803</td>\n",
        "      <td>5.960464e-08</td>\n",
        "    </tr>\n",
        "    <tr>\n",
        "      <th>Modified policy iteration</th>\n",
        "      <td>18</td>\n",
        "      <td>0.006798809</td>\n",
        "      <td>4.454913</td>\n",
        "      <td>1099.686</td>\n",
        "      <td>0.05289181</td>\n",
        "    </tr>\n",
        "  </tbody>\n",
        "</table>\n",
        "</div>"
       ],
       "metadata": {},
       "output_type": "pyout",
       "prompt_number": 46,
       "text": [
        "                                            Iterations Time (second)  \\\n",
        "Value iteration                                 118900      4.080313   \n",
        "Value iteration with span-based termination        288    0.01998689   \n",
        "Policy iteration                                     7     0.0053914   \n",
        "Modified policy iteration                           18   0.006798809   \n",
        "\n",
        "                                            $\\lVert v - v_{\\mathrm{pi}} \\rVert$  \\\n",
        "Value iteration                                                        581.9988   \n",
        "Value iteration with span-based termination                            4.377673   \n",
        "Policy iteration                                                              0   \n",
        "Modified policy iteration                                              4.454913   \n",
        "\n",
        "                                            $\\overline{b} - \\underline{b}$  \\\n",
        "Value iteration                                               0.0004469901   \n",
        "Value iteration with span-based termination                       1160.375   \n",
        "Policy iteration                                              0.0008939803   \n",
        "Modified policy iteration                                         1099.686   \n",
        "\n",
        "                                            $\\lVert v - T(v)\\rVert$  \n",
        "Value iteration                                          0.05819991  \n",
        "Value iteration with span-based termination               0.0558041  \n",
        "Policy iteration                                       5.960464e-08  \n",
        "Modified policy iteration                                0.05289181  "
       ]
      }
     ],
     "prompt_number": 46
    },
    {
     "cell_type": "code",
     "collapsed": false,
     "input": [
      "df_time = pd.DataFrame(index=labels)\n",
      "df_time[r'$\\beta = 0.95$'] = df[columns[1]]\n",
      "df_time[r'$\\beta = 0.9999$'] = df_9999[columns[1]]\n",
      "second_max = df_time[r'$\\beta = 0.9999$'][1:].max()\n",
      "\n",
      "plt.rcParams['axes.color_cycle'] = ['g', 'b']\n",
      "for xlim in [None, (0, second_max*1.2)]:\n",
      "    ax = df_time.ix[reversed(labels)][df_time.columns[::-1]].plot(\n",
      "        kind='barh', legend='reverse', xlim=xlim, figsize=(8,5)\n",
      "    )\n",
      "    ax.set_xlabel('Time (second)')"
     ],
     "language": "python",
     "metadata": {},
     "outputs": [
      {
       "metadata": {},
       "output_type": "display_data",
       "png": "[encoded data removed]",
       "text": [
        "<matplotlib.figure.Figure at 0x116fc4750>"
       ]
      },
      {
       "metadata": {},
       "output_type": "display_data",
       "png": "[encoded data removed]",
       "text": [
        "<matplotlib.figure.Figure at 0x116fc4e10>"
       ]
      }
     ],
     "prompt_number": 47
    },
    {
     "cell_type": "code",
     "collapsed": false,
     "input": [
      "import platform\n",
      "print(platform.platform())"
     ],
     "language": "python",
     "metadata": {},
     "outputs": [
      {
       "output_type": "stream",
       "stream": "stdout",
       "text": [
        "Darwin-13.4.0-x86_64-i386-64bit\n"
       ]
      }
     ],
     "prompt_number": 48
    },
    {
     "cell_type": "code",
     "collapsed": false,
     "input": [
      "import sys\n",
      "print(sys.version)"
     ],
     "language": "python",
     "metadata": {},
     "outputs": [
      {
       "output_type": "stream",
       "stream": "stdout",
       "text": [
        "2.7.10 (default, Jun 10 2015, 19:43:32) \n",
        "[GCC 4.2.1 Compatible Apple LLVM 6.0 (clang-600.0.57)]\n"
       ]
      }
     ],
     "prompt_number": 49
    },
    {
     "cell_type": "code",
     "collapsed": false,
     "input": [
      "print(np.__version__)"
     ],
     "language": "python",
     "metadata": {},
     "outputs": [
      {
       "output_type": "stream",
       "stream": "stdout",
       "text": [
        "1.9.2\n"
       ]
      }
     ],
     "prompt_number": 50
    },
    {
     "cell_type": "code",
     "collapsed": false,
     "input": [],
     "language": "python",
     "metadata": {},
     "outputs": [],
     "prompt_number": 50
    }
   ],
   "metadata": {}
  }
 ]
}