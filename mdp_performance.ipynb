{
 "metadata": {
  "name": "",
  "signature": "sha256:f2fef1f769db29ffcd2c24f47a254fbf0156b65b29f35cb3d5a82c8098786eed"
 },
 "nbformat": 3,
 "nbformat_minor": 0,
 "worksheets": [
  {
   "cells": [
    {
     "cell_type": "code",
     "collapsed": false,
     "input": [
      "from __future__ import print_function\n",
      "import numpy as np\n",
      "from mdp import MDP\n",
      "from random_mdp import random_mdp"
     ],
     "language": "python",
     "metadata": {},
     "outputs": [],
     "prompt_number": 1
    },
    {
     "cell_type": "heading",
     "level": 1,
     "metadata": {},
     "source": [
      "Performance Comparison"
     ]
    },
    {
     "cell_type": "markdown",
     "metadata": {},
     "source": [
      "Regarding the representation of the transition probability array `Q`:\n",
      "0. current states $\\times$ actions $\\times$ next states\n",
      "0. current state-action pairs $\\times$ next states (dense matrix)\n",
      "0. current state-action pairs $\\times$ next states (sparse matrix)"
     ]
    },
    {
     "cell_type": "code",
     "collapsed": false,
     "input": [
      "def compare_performance(num_states, num_actions, beta, k,\n",
      "                        suppress_vi=False, random_state=0):\n",
      "    labels = ['n x m x n', 'n*m x n (dense)', 'n*m x n (sparse)']\n",
      "    flags = [(False, False), (False, True), (True, True)]  # (sparse, sa_pair)\n",
      "    mdps = {}\n",
      "    for label, flag in zip(labels, flags):\n",
      "        mdps[label] = \\\n",
      "            random_mdp(num_states, num_actions, beta, k=k,\n",
      "                       sparse=flag[0], sa_pair=flag[1],\n",
      "                       random_state=random_state)\n",
      "\n",
      "    if suppress_vi:\n",
      "        methods = ['pi', 'mpi']\n",
      "    else:\n",
      "        methods = ['vi', 'pi', 'mpi']\n",
      "    results = {}\n",
      "    max_iter = 1000\n",
      "    for mdp in mdps.itervalues():\n",
      "        mdp.max_iter = max_iter\n",
      "    k_mpi = 20\n",
      "\n",
      "    for label in labels:\n",
      "        results[label] = {method: mdps[label].solve(method=method, k=k_mpi)\n",
      "                          for method in methods}\n",
      "\n",
      "    print('(num_states, num_actions) = ({0}, {1})'\n",
      "          .format(num_states, num_actions))\n",
      "    print('Number of possible next states for each (s, a) =', k)\n",
      "    print('beta =', beta)\n",
      "    print('=====')\n",
      "    print('Whether the results by pi agree:',\n",
      "          all([np.array_equal(results[labels[i]]['pi'].sigma,\n",
      "                              results[labels[2]]['pi'].sigma)\n",
      "               for i in [0, 1]]))\n",
      "    print('Whether the answer is correct ({0}, {1}, {2}):'.format(*labels))\n",
      "    for method in methods:\n",
      "        if method != 'pi':\n",
      "            print(method.ljust(3) + ':',\n",
      "                  [np.array_equal(results[label][method].sigma,\n",
      "                                  results[label]['pi'].sigma)\n",
      "                   for label in labels])\n",
      "    print('Number of iterations ({0}, {1}, {2}):'.format(*labels))\n",
      "    for method in methods:\n",
      "        print(method.ljust(3) + ':',\n",
      "              [results[label][method].num_iter for label in labels])\n",
      "    print('=====')\n",
      "\n",
      "    print('Speed comparison ({0}, {1}, {2}):'.format(*labels))\n",
      "    for method in methods:\n",
      "        print('***', method, '***')\n",
      "        for label in labels:\n",
      "            global mdps, label, method\n",
      "            %timeit mdps[label].solve(method=method)"
     ],
     "language": "python",
     "metadata": {},
     "outputs": [],
     "prompt_number": 2
    },
    {
     "cell_type": "code",
     "collapsed": false,
     "input": [
      "seed = 1234  # Set random seed"
     ],
     "language": "python",
     "metadata": {},
     "outputs": [],
     "prompt_number": 3
    },
    {
     "cell_type": "code",
     "collapsed": false,
     "input": [
      "compare_performance(num_states=100, num_actions=20, beta=0.95, k=3,\n",
      "                    random_state=seed)"
     ],
     "language": "python",
     "metadata": {},
     "outputs": [
      {
       "output_type": "stream",
       "stream": "stdout",
       "text": [
        "(num_states, num_actions) = (100, 20)\n",
        "Number of possible next states for each (s, a) = 3\n",
        "beta = 0.95\n",
        "=====\n",
        "Whether the results by pi agree: True\n",
        "Whether the answer is correct (n x m x n, n*m x n (dense), n*m x n (sparse)):\n",
        "vi : [True, True, True]\n",
        "mpi: [True, True, True]\n",
        "Number of iterations (n x m x n, n*m x n (dense), n*m x n (sparse)):\n",
        "vi : [219, 219, 219]\n",
        "pi : [4, 4, 4]\n",
        "mpi: [5, 5, 5]\n",
        "=====\n",
        "Speed comparison (n x m x n, n*m x n (dense), n*m x n (sparse)):\n",
        "*** vi ***\n",
        "10 loops, best of 3: 33.2 ms per loop"
       ]
      },
      {
       "output_type": "stream",
       "stream": "stdout",
       "text": [
        "\n",
        "100 loops, best of 3: 16.6 ms per loop"
       ]
      },
      {
       "output_type": "stream",
       "stream": "stdout",
       "text": [
        "\n",
        "100 loops, best of 3: 9.81 ms per loop"
       ]
      },
      {
       "output_type": "stream",
       "stream": "stdout",
       "text": [
        "\n",
        "*** pi ***\n",
        "100 loops, best of 3: 2.35 ms per loop"
       ]
      },
      {
       "output_type": "stream",
       "stream": "stdout",
       "text": [
        "\n",
        "1000 loops, best of 3: 1.9 ms per loop"
       ]
      },
      {
       "output_type": "stream",
       "stream": "stdout",
       "text": [
        "\n",
        "100 loops, best of 3: 5.89 ms per loop"
       ]
      },
      {
       "output_type": "stream",
       "stream": "stdout",
       "text": [
        "\n",
        "*** mpi ***\n",
        "100 loops, best of 3: 2.03 ms per loop"
       ]
      },
      {
       "output_type": "stream",
       "stream": "stdout",
       "text": [
        "\n",
        "1000 loops, best of 3: 1.99 ms per loop"
       ]
      },
      {
       "output_type": "stream",
       "stream": "stdout",
       "text": [
        "\n",
        "100 loops, best of 3: 3.81 ms per loop"
       ]
      },
      {
       "output_type": "stream",
       "stream": "stdout",
       "text": [
        "\n"
       ]
      }
     ],
     "prompt_number": 4
    },
    {
     "cell_type": "code",
     "collapsed": false,
     "input": [
      "compare_performance(num_states=500, num_actions=20, beta=0.95, k=3,\n",
      "                    random_state=seed)"
     ],
     "language": "python",
     "metadata": {},
     "outputs": [
      {
       "output_type": "stream",
       "stream": "stdout",
       "text": [
        "(num_states, num_actions) = (500, 20)\n",
        "Number of possible next states for each (s, a) = 3\n",
        "beta = 0.95\n",
        "=====\n",
        "Whether the results by pi agree: True\n",
        "Whether the answer is correct (n x m x n, n*m x n (dense), n*m x n (sparse)):\n",
        "vi : [True, True, True]\n",
        "mpi: [True, True, True]\n",
        "Number of iterations (n x m x n, n*m x n (dense), n*m x n (sparse)):\n",
        "vi : [220, 220, 220]\n",
        "pi : [5, 5, 5]\n",
        "mpi: [6, 6, 6]\n",
        "=====\n",
        "Speed comparison (n x m x n, n*m x n (dense), n*m x n (sparse)):\n",
        "*** vi ***\n",
        "1 loops, best of 3: 928 ms per loop"
       ]
      },
      {
       "output_type": "stream",
       "stream": "stdout",
       "text": [
        "\n",
        "1 loops, best of 3: 479 ms per loop"
       ]
      },
      {
       "output_type": "stream",
       "stream": "stdout",
       "text": [
        "\n",
        "10 loops, best of 3: 24.1 ms per loop"
       ]
      },
      {
       "output_type": "stream",
       "stream": "stdout",
       "text": [
        "\n",
        "*** pi ***\n",
        "10 loops, best of 3: 50.6 ms per loop"
       ]
      },
      {
       "output_type": "stream",
       "stream": "stdout",
       "text": [
        "\n",
        "10 loops, best of 3: 35 ms per loop"
       ]
      },
      {
       "output_type": "stream",
       "stream": "stdout",
       "text": [
        "\n",
        "10 loops, best of 3: 30.5 ms per loop"
       ]
      },
      {
       "output_type": "stream",
       "stream": "stdout",
       "text": [
        "\n",
        "*** mpi ***\n",
        "10 loops, best of 3: 40.2 ms per loop"
       ]
      },
      {
       "output_type": "stream",
       "stream": "stdout",
       "text": [
        "\n",
        "10 loops, best of 3: 25.2 ms per loop"
       ]
      },
      {
       "output_type": "stream",
       "stream": "stdout",
       "text": [
        "\n",
        "100 loops, best of 3: 7.68 ms per loop"
       ]
      },
      {
       "output_type": "stream",
       "stream": "stdout",
       "text": [
        "\n"
       ]
      }
     ],
     "prompt_number": 5
    },
    {
     "cell_type": "code",
     "collapsed": false,
     "input": [
      "compare_performance(num_states=1000, num_actions=20, beta=0.95, k=3,\n",
      "                    random_state=seed)"
     ],
     "language": "python",
     "metadata": {},
     "outputs": [
      {
       "output_type": "stream",
       "stream": "stdout",
       "text": [
        "(num_states, num_actions) = (1000, 20)\n",
        "Number of possible next states for each (s, a) = 3\n",
        "beta = 0.95\n",
        "=====\n",
        "Whether the results by pi agree: True\n",
        "Whether the answer is correct (n x m x n, n*m x n (dense), n*m x n (sparse)):\n",
        "vi : [True, True, True]\n",
        "mpi: [True, True, True]\n",
        "Number of iterations (n x m x n, n*m x n (dense), n*m x n (sparse)):\n",
        "vi : [219, 219, 219]\n",
        "pi : [5, 5, 5]\n",
        "mpi: [5, 5, 5]\n",
        "=====\n",
        "Speed comparison (n x m x n, n*m x n (dense), n*m x n (sparse)):\n",
        "*** vi ***\n",
        "1 loops, best of 3: 3.03 s per loop"
       ]
      },
      {
       "output_type": "stream",
       "stream": "stdout",
       "text": [
        "\n",
        "1 loops, best of 3: 1.8 s per loop"
       ]
      },
      {
       "output_type": "stream",
       "stream": "stdout",
       "text": [
        "\n",
        "10 loops, best of 3: 49.6 ms per loop"
       ]
      },
      {
       "output_type": "stream",
       "stream": "stdout",
       "text": [
        "\n",
        "*** pi ***\n",
        "1 loops, best of 3: 241 ms per loop"
       ]
      },
      {
       "output_type": "stream",
       "stream": "stdout",
       "text": [
        "\n",
        "1 loops, best of 3: 208 ms per loop"
       ]
      },
      {
       "output_type": "stream",
       "stream": "stdout",
       "text": [
        "\n",
        "10 loops, best of 3: 162 ms per loop"
       ]
      },
      {
       "output_type": "stream",
       "stream": "stdout",
       "text": [
        "\n",
        "*** mpi ***\n",
        "10 loops, best of 3: 112 ms per loop"
       ]
      },
      {
       "output_type": "stream",
       "stream": "stdout",
       "text": [
        "\n",
        "10 loops, best of 3: 86.7 ms per loop"
       ]
      },
      {
       "output_type": "stream",
       "stream": "stdout",
       "text": [
        "\n",
        "100 loops, best of 3: 17.2 ms per loop"
       ]
      },
      {
       "output_type": "stream",
       "stream": "stdout",
       "text": [
        "\n"
       ]
      }
     ],
     "prompt_number": 6
    },
    {
     "cell_type": "code",
     "collapsed": false,
     "input": [
      "compare_performance(num_states=1000, num_actions=50, beta=0.95, k=3,\n",
      "                    random_state=seed)"
     ],
     "language": "python",
     "metadata": {},
     "outputs": [
      {
       "output_type": "stream",
       "stream": "stdout",
       "text": [
        "(num_states, num_actions) = (1000, 50)\n",
        "Number of possible next states for each (s, a) = 3\n",
        "beta = 0.95\n",
        "=====\n",
        "Whether the results by pi agree: True\n",
        "Whether the answer is correct (n x m x n, n*m x n (dense), n*m x n (sparse)):\n",
        "vi : [True, True, True]\n",
        "mpi: [True, True, True]\n",
        "Number of iterations (n x m x n, n*m x n (dense), n*m x n (sparse)):\n",
        "vi : [223, 223, 223]\n",
        "pi : [5, 5, 5]\n",
        "mpi: [6, 6, 6]\n",
        "=====\n",
        "Speed comparison (n x m x n, n*m x n (dense), n*m x n (sparse)):\n",
        "*** vi ***\n",
        "1 loops, best of 3: 7.54 s per loop"
       ]
      },
      {
       "output_type": "stream",
       "stream": "stdout",
       "text": [
        "\n",
        "1 loops, best of 3: 4.43 s per loop"
       ]
      },
      {
       "output_type": "stream",
       "stream": "stdout",
       "text": [
        "\n",
        "10 loops, best of 3: 89 ms per loop"
       ]
      },
      {
       "output_type": "stream",
       "stream": "stdout",
       "text": [
        "\n",
        "*** pi ***\n",
        "1 loops, best of 3: 371 ms per loop"
       ]
      },
      {
       "output_type": "stream",
       "stream": "stdout",
       "text": [
        "\n",
        "1 loops, best of 3: 292 ms per loop"
       ]
      },
      {
       "output_type": "stream",
       "stream": "stdout",
       "text": [
        "\n",
        "10 loops, best of 3: 163 ms per loop"
       ]
      },
      {
       "output_type": "stream",
       "stream": "stdout",
       "text": [
        "\n",
        "*** mpi ***\n",
        "1 loops, best of 3: 247 ms per loop"
       ]
      },
      {
       "output_type": "stream",
       "stream": "stdout",
       "text": [
        "\n",
        "10 loops, best of 3: 169 ms per loop"
       ]
      },
      {
       "output_type": "stream",
       "stream": "stdout",
       "text": [
        "\n",
        "100 loops, best of 3: 19.7 ms per loop"
       ]
      },
      {
       "output_type": "stream",
       "stream": "stdout",
       "text": [
        "\n"
       ]
      }
     ],
     "prompt_number": 7
    },
    {
     "cell_type": "code",
     "collapsed": false,
     "input": [
      "compare_performance(num_states=500, num_actions=20, beta=0.95, k=100,\n",
      "                    random_state=seed)"
     ],
     "language": "python",
     "metadata": {},
     "outputs": [
      {
       "output_type": "stream",
       "stream": "stdout",
       "text": [
        "(num_states, num_actions) = (500, 20)\n",
        "Number of possible next states for each (s, a) = 100\n",
        "beta = 0.95\n",
        "=====\n",
        "Whether the results by pi agree: True\n",
        "Whether the answer is correct (n x m x n, n*m x n (dense), n*m x n (sparse)):\n",
        "vi : [True, True, True]\n",
        "mpi: [True, True, True]\n",
        "Number of iterations (n x m x n, n*m x n (dense), n*m x n (sparse)):\n",
        "vi : [218, 218, 218]\n",
        "pi : [3, 3, 3]\n",
        "mpi: [4, 4, 4]\n",
        "=====\n",
        "Speed comparison (n x m x n, n*m x n (dense), n*m x n (sparse)):\n",
        "*** vi ***\n",
        "1 loops, best of 3: 996 ms per loop"
       ]
      },
      {
       "output_type": "stream",
       "stream": "stdout",
       "text": [
        "\n",
        "1 loops, best of 3: 478 ms per loop"
       ]
      },
      {
       "output_type": "stream",
       "stream": "stdout",
       "text": [
        "\n",
        "1 loops, best of 3: 230 ms per loop"
       ]
      },
      {
       "output_type": "stream",
       "stream": "stdout",
       "text": [
        "\n",
        "*** pi ***\n",
        "10 loops, best of 3: 33.9 ms per loop"
       ]
      },
      {
       "output_type": "stream",
       "stream": "stdout",
       "text": [
        "\n",
        "10 loops, best of 3: 25.9 ms per loop"
       ]
      },
      {
       "output_type": "stream",
       "stream": "stdout",
       "text": [
        "\n",
        "10 loops, best of 3: 82.3 ms per loop"
       ]
      },
      {
       "output_type": "stream",
       "stream": "stdout",
       "text": [
        "\n",
        "*** mpi ***\n",
        "10 loops, best of 3: 29.3 ms per loop"
       ]
      },
      {
       "output_type": "stream",
       "stream": "stdout",
       "text": [
        "\n",
        "10 loops, best of 3: 20.7 ms per loop"
       ]
      },
      {
       "output_type": "stream",
       "stream": "stdout",
       "text": [
        "\n",
        "100 loops, best of 3: 16.9 ms per loop"
       ]
      },
      {
       "output_type": "stream",
       "stream": "stdout",
       "text": [
        "\n"
       ]
      }
     ],
     "prompt_number": 8
    },
    {
     "cell_type": "code",
     "collapsed": false,
     "input": [
      "compare_performance(num_states=500, num_actions=20, beta=0.95, k=50,\n",
      "                    random_state=seed)"
     ],
     "language": "python",
     "metadata": {},
     "outputs": [
      {
       "output_type": "stream",
       "stream": "stdout",
       "text": [
        "(num_states, num_actions) = (500, 20)\n",
        "Number of possible next states for each (s, a) = 50\n",
        "beta = 0.95\n",
        "=====\n",
        "Whether the results by pi agree: True\n",
        "Whether the answer is correct (n x m x n, n*m x n (dense), n*m x n (sparse)):\n",
        "vi : [True, True, True]\n",
        "mpi: [True, True, True]\n",
        "Number of iterations (n x m x n, n*m x n (dense), n*m x n (sparse)):\n",
        "vi : [218, 218, 218]\n",
        "pi : [2, 2, 2]\n",
        "mpi: [3, 3, 3]\n",
        "=====\n",
        "Speed comparison (n x m x n, n*m x n (dense), n*m x n (sparse)):\n",
        "*** vi ***\n",
        "1 loops, best of 3: 969 ms per loop"
       ]
      },
      {
       "output_type": "stream",
       "stream": "stdout",
       "text": [
        "\n",
        "1 loops, best of 3: 530 ms per loop"
       ]
      },
      {
       "output_type": "stream",
       "stream": "stdout",
       "text": [
        "\n",
        "10 loops, best of 3: 128 ms per loop"
       ]
      },
      {
       "output_type": "stream",
       "stream": "stdout",
       "text": [
        "\n",
        "*** pi ***\n",
        "10 loops, best of 3: 27.8 ms per loop"
       ]
      },
      {
       "output_type": "stream",
       "stream": "stdout",
       "text": [
        "\n",
        "10 loops, best of 3: 20.7 ms per loop"
       ]
      },
      {
       "output_type": "stream",
       "stream": "stdout",
       "text": [
        "\n",
        "10 loops, best of 3: 51 ms per loop"
       ]
      },
      {
       "output_type": "stream",
       "stream": "stdout",
       "text": [
        "\n",
        "*** mpi ***\n",
        "10 loops, best of 3: 24.4 ms per loop"
       ]
      },
      {
       "output_type": "stream",
       "stream": "stdout",
       "text": [
        "\n",
        "100 loops, best of 3: 16.3 ms per loop"
       ]
      },
      {
       "output_type": "stream",
       "stream": "stdout",
       "text": [
        "\n",
        "100 loops, best of 3: 9.96 ms per loop"
       ]
      },
      {
       "output_type": "stream",
       "stream": "stdout",
       "text": [
        "\n"
       ]
      }
     ],
     "prompt_number": 9
    },
    {
     "cell_type": "code",
     "collapsed": false,
     "input": [
      "compare_performance(num_states=500, num_actions=20, beta=0.95, k=500,\n",
      "                    random_state=seed)"
     ],
     "language": "python",
     "metadata": {},
     "outputs": [
      {
       "output_type": "stream",
       "stream": "stdout",
       "text": [
        "(num_states, num_actions) = (500, 20)\n",
        "Number of possible next states for each (s, a) = 500\n",
        "beta = 0.95\n",
        "=====\n",
        "Whether the results by pi agree: True\n",
        "Whether the answer is correct (n x m x n, n*m x n (dense), n*m x n (sparse)):\n",
        "vi : [True, True, True]\n",
        "mpi: [True, True, True]\n",
        "Number of iterations (n x m x n, n*m x n (dense), n*m x n (sparse)):\n",
        "vi : [218, 218, 218]\n",
        "pi : [1, 1, 1]\n",
        "mpi: [2, 2, 2]\n",
        "=====\n",
        "Speed comparison (n x m x n, n*m x n (dense), n*m x n (sparse)):\n",
        "*** vi ***\n",
        "1 loops, best of 3: 958 ms per loop"
       ]
      },
      {
       "output_type": "stream",
       "stream": "stdout",
       "text": [
        "\n",
        "1 loops, best of 3: 519 ms per loop"
       ]
      },
      {
       "output_type": "stream",
       "stream": "stdout",
       "text": [
        "\n",
        "1 loops, best of 3: 1.05 s per loop"
       ]
      },
      {
       "output_type": "stream",
       "stream": "stdout",
       "text": [
        "\n",
        "*** pi ***\n",
        "10 loops, best of 3: 22.2 ms per loop"
       ]
      },
      {
       "output_type": "stream",
       "stream": "stdout",
       "text": [
        "\n",
        "100 loops, best of 3: 19.7 ms per loop"
       ]
      },
      {
       "output_type": "stream",
       "stream": "stdout",
       "text": [
        "\n",
        "10 loops, best of 3: 59.3 ms per loop"
       ]
      },
      {
       "output_type": "stream",
       "stream": "stdout",
       "text": [
        "\n",
        "*** mpi ***\n",
        "10 loops, best of 3: 21.8 ms per loop"
       ]
      },
      {
       "output_type": "stream",
       "stream": "stdout",
       "text": [
        "\n",
        "100 loops, best of 3: 17.6 ms per loop"
       ]
      },
      {
       "output_type": "stream",
       "stream": "stdout",
       "text": [
        "\n",
        "10 loops, best of 3: 32.9 ms per loop"
       ]
      },
      {
       "output_type": "stream",
       "stream": "stdout",
       "text": [
        "\n"
       ]
      }
     ],
     "prompt_number": 10
    },
    {
     "cell_type": "code",
     "collapsed": false,
     "input": [
      "compare_performance(num_states=1000, num_actions=100, beta=0.95, k=1,\n",
      "                    random_state=seed)"
     ],
     "language": "python",
     "metadata": {},
     "outputs": [
      {
       "output_type": "stream",
       "stream": "stdout",
       "text": [
        "(num_states, num_actions) = (1000, 100)\n",
        "Number of possible next states for each (s, a) = 1\n",
        "beta = 0.95\n",
        "=====\n",
        "Whether the results by pi agree: True\n",
        "Whether the answer is correct (n x m x n, n*m x n (dense), n*m x n (sparse)):\n",
        "vi : [True, True, True]\n",
        "mpi: [True, True, True]\n",
        "Number of iterations (n x m x n, n*m x n (dense), n*m x n (sparse)):\n",
        "vi : [230, 230, 230]\n",
        "pi : [11, 11, 11]\n",
        "mpi: [14, 14, 14]\n",
        "=====\n",
        "Speed comparison (n x m x n, n*m x n (dense), n*m x n (sparse)):\n",
        "*** vi ***\n",
        "1 loops, best of 3: 15.6 s per loop"
       ]
      },
      {
       "output_type": "stream",
       "stream": "stdout",
       "text": [
        "\n",
        "1 loops, best of 3: 9 s per loop"
       ]
      },
      {
       "output_type": "stream",
       "stream": "stdout",
       "text": [
        "\n",
        "10 loops, best of 3: 123 ms per loop"
       ]
      },
      {
       "output_type": "stream",
       "stream": "stdout",
       "text": [
        "\n",
        "*** pi ***\n",
        "1 loops, best of 3: 1.14 s per loop"
       ]
      },
      {
       "output_type": "stream",
       "stream": "stdout",
       "text": [
        "\n",
        "1 loops, best of 3: 790 ms per loop"
       ]
      },
      {
       "output_type": "stream",
       "stream": "stdout",
       "text": [
        "\n",
        "10 loops, best of 3: 33.8 ms per loop"
       ]
      },
      {
       "output_type": "stream",
       "stream": "stdout",
       "text": [
        "\n",
        "*** mpi ***\n",
        "1 loops, best of 3: 1.06 s per loop"
       ]
      },
      {
       "output_type": "stream",
       "stream": "stdout",
       "text": [
        "\n",
        "1 loops, best of 3: 652 ms per loop"
       ]
      },
      {
       "output_type": "stream",
       "stream": "stdout",
       "text": [
        "\n",
        "10 loops, best of 3: 31.1 ms per loop"
       ]
      },
      {
       "output_type": "stream",
       "stream": "stdout",
       "text": [
        "\n"
       ]
      }
     ],
     "prompt_number": 11
    },
    {
     "cell_type": "code",
     "collapsed": false,
     "input": [
      "compare_performance(num_states=1000, num_actions=200, beta=0.95, k=1,\n",
      "                    suppress_vi=True, random_state=seed)"
     ],
     "language": "python",
     "metadata": {},
     "outputs": [
      {
       "output_type": "stream",
       "stream": "stdout",
       "text": [
        "(num_states, num_actions) = (1000, 200)\n",
        "Number of possible next states for each (s, a) = 1\n",
        "beta = 0.95\n",
        "=====\n",
        "Whether the results by pi agree: True\n",
        "Whether the answer is correct (n x m x n, n*m x n (dense), n*m x n (sparse)):\n",
        "mpi: [True, True, True]\n",
        "Number of iterations (n x m x n, n*m x n (dense), n*m x n (sparse)):\n",
        "pi : [8, 8, 8]\n",
        "mpi: [12, 12, 12]\n",
        "=====\n",
        "Speed comparison (n x m x n, n*m x n (dense), n*m x n (sparse)):\n",
        "*** pi ***\n",
        "1 loops, best of 3: 1.47 s per loop"
       ]
      },
      {
       "output_type": "stream",
       "stream": "stdout",
       "text": [
        "\n",
        "1 loops, best of 3: 949 ms per loop"
       ]
      },
      {
       "output_type": "stream",
       "stream": "stdout",
       "text": [
        "\n",
        "10 loops, best of 3: 36 ms per loop"
       ]
      },
      {
       "output_type": "stream",
       "stream": "stdout",
       "text": [
        "\n",
        "*** mpi ***\n",
        "1 loops, best of 3: 1.72 s per loop"
       ]
      },
      {
       "output_type": "stream",
       "stream": "stdout",
       "text": [
        "\n",
        "1 loops, best of 3: 1.02 s per loop"
       ]
      },
      {
       "output_type": "stream",
       "stream": "stdout",
       "text": [
        "\n",
        "10 loops, best of 3: 37.6 ms per loop"
       ]
      },
      {
       "output_type": "stream",
       "stream": "stdout",
       "text": [
        "\n"
       ]
      }
     ],
     "prompt_number": 12
    },
    {
     "cell_type": "code",
     "collapsed": false,
     "input": [
      "import platform\n",
      "print(platform.platform())"
     ],
     "language": "python",
     "metadata": {},
     "outputs": [
      {
       "output_type": "stream",
       "stream": "stdout",
       "text": [
        "Darwin-13.4.0-x86_64-i386-64bit\n"
       ]
      }
     ],
     "prompt_number": 13
    },
    {
     "cell_type": "code",
     "collapsed": false,
     "input": [
      "import sys\n",
      "print(sys.version)"
     ],
     "language": "python",
     "metadata": {},
     "outputs": [
      {
       "output_type": "stream",
       "stream": "stdout",
       "text": [
        "2.7.10 (default, Jun 10 2015, 19:43:32) \n",
        "[GCC 4.2.1 Compatible Apple LLVM 6.0 (clang-600.0.57)]\n"
       ]
      }
     ],
     "prompt_number": 14
    },
    {
     "cell_type": "code",
     "collapsed": false,
     "input": [
      "print(np.__version__)"
     ],
     "language": "python",
     "metadata": {},
     "outputs": [
      {
       "output_type": "stream",
       "stream": "stdout",
       "text": [
        "1.9.2\n"
       ]
      }
     ],
     "prompt_number": 15
    },
    {
     "cell_type": "code",
     "collapsed": false,
     "input": [
      "import scipy\n",
      "print(scipy.__version__)"
     ],
     "language": "python",
     "metadata": {},
     "outputs": [
      {
       "output_type": "stream",
       "stream": "stdout",
       "text": [
        "0.15.1\n"
       ]
      }
     ],
     "prompt_number": 16
    },
    {
     "cell_type": "code",
     "collapsed": false,
     "input": [
      "import numba\n",
      "print(numba.__version__)"
     ],
     "language": "python",
     "metadata": {},
     "outputs": [
      {
       "output_type": "stream",
       "stream": "stdout",
       "text": [
        "0.20.0\n"
       ]
      }
     ],
     "prompt_number": 17
    },
    {
     "cell_type": "code",
     "collapsed": false,
     "input": [],
     "language": "python",
     "metadata": {},
     "outputs": [],
     "prompt_number": 17
    }
   ],
   "metadata": {}
  }
 ]
}