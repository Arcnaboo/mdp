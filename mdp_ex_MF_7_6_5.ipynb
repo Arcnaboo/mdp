{
 "metadata": {
  "name": "",
  "signature": "sha256:355e83ac38070d3c82e2b80a6d2957fa4ecd70d1b8380e1bf35fb26c6c0078a9"
 },
 "nbformat": 3,
 "nbformat_minor": 0,
 "worksheets": [
  {
   "cells": [
    {
     "cell_type": "heading",
     "level": 1,
     "metadata": {},
     "source": [
      "Example: Water Management"
     ]
    },
    {
     "cell_type": "markdown",
     "metadata": {},
     "source": [
      "Miranda and Fackler, <i>Applied Computational Economics and Finance</i>, 2002,\n",
      "Section 7.6.5"
     ]
    },
    {
     "cell_type": "code",
     "collapsed": false,
     "input": [
      "%matplotlib inline"
     ],
     "language": "python",
     "metadata": {},
     "outputs": [],
     "prompt_number": 1
    },
    {
     "cell_type": "code",
     "collapsed": false,
     "input": [
      "from __future__ import division\n",
      "import numpy as np\n",
      "import itertools\n",
      "import matplotlib.pyplot as plt\n",
      "from mdp import MDP"
     ],
     "language": "python",
     "metadata": {},
     "outputs": [],
     "prompt_number": 2
    },
    {
     "cell_type": "code",
     "collapsed": false,
     "input": [
      "M = 30\n",
      "n = M + 1  # Number of states\n",
      "m = n  # Number of actions\n",
      "\n",
      "a1, b1 = 14, 0.8\n",
      "a2, b2 = 10, 0.4\n",
      "F = lambda s, x: a1 * x**b1\n",
      "G = lambda s, x: a2 * (s - x)**b2\n",
      "\n",
      "beta = 0.9"
     ],
     "language": "python",
     "metadata": {},
     "outputs": [],
     "prompt_number": 3
    },
    {
     "cell_type": "code",
     "collapsed": false,
     "input": [
      "# Reward array\n",
      "R = np.empty((n, m))\n",
      "for s, x in itertools.product(range(n), range(m)):\n",
      "    R[s, x] = F(s, x) + G(s, x) if x <= s else -np.inf"
     ],
     "language": "python",
     "metadata": {},
     "outputs": [],
     "prompt_number": 4
    },
    {
     "cell_type": "code",
     "collapsed": false,
     "input": [
      "# Probability transition array\n",
      "probs = np.array([0.1, 0.2, 0.4, 0.2, 0.1])\n",
      "size_supp = len(probs)\n",
      "Q = np.zeros((n, m, n))\n",
      "for s, x in itertools.product(range(n), range(m)):\n",
      "    if x <= s:\n",
      "        for j in range(size_supp):\n",
      "            Q[s, x, np.minimum(s-x+j, n-1)] += probs[j]"
     ],
     "language": "python",
     "metadata": {},
     "outputs": [],
     "prompt_number": 5
    },
    {
     "cell_type": "code",
     "collapsed": false,
     "input": [
      "# Create an MDP\n",
      "mdp = MDP(R, Q, beta)"
     ],
     "language": "python",
     "metadata": {},
     "outputs": [],
     "prompt_number": 6
    },
    {
     "cell_type": "code",
     "collapsed": false,
     "input": [
      "# Solve the dynamic optimization problem (by policy iteration)\n",
      "v, sigma, mc, num_iter = mdp.solve(return_num_iter=True)"
     ],
     "language": "python",
     "metadata": {},
     "outputs": [],
     "prompt_number": 7
    },
    {
     "cell_type": "code",
     "collapsed": false,
     "input": [
      "# Number of iterations\n",
      "num_iter"
     ],
     "language": "python",
     "metadata": {},
     "outputs": [
      {
       "metadata": {},
       "output_type": "pyout",
       "prompt_number": 8,
       "text": [
        "4"
       ]
      }
     ],
     "prompt_number": 8
    },
    {
     "cell_type": "code",
     "collapsed": false,
     "input": [
      "# Optimal policy\n",
      "sigma"
     ],
     "language": "python",
     "metadata": {},
     "outputs": [
      {
       "metadata": {},
       "output_type": "pyout",
       "prompt_number": 9,
       "text": [
        "array([0, 0, 0, 1, 1, 1, 1, 1, 1, 1, 2, 2, 2, 2, 2, 2, 3, 3, 3, 3, 3, 4, 4,\n",
        "       4, 4, 4, 5, 5, 5, 5, 5])"
       ]
      }
     ],
     "prompt_number": 9
    },
    {
     "cell_type": "code",
     "collapsed": false,
     "input": [
      "# Optimal value function\n",
      "v"
     ],
     "language": "python",
     "metadata": {},
     "outputs": [
      {
       "metadata": {},
       "output_type": "pyout",
       "prompt_number": 10,
       "text": [
        "array([ 338.41645251,  361.98791375,  377.4257383 ,  391.4257383 ,\n",
        "        405.2360958 ,  417.9622843 ,  429.86115765,  441.17106277,\n",
        "        452.06672421,  462.66012607,  473.03554185,  483.40234488,\n",
        "        493.51237732,  503.35334776,  512.93797732,  522.31628408,\n",
        "        531.65601391,  540.88902181,  549.98545145,  558.93954761,\n",
        "        567.74582688,  576.47074514,  585.14046164,  593.69786291,\n",
        "        602.15675175,  610.510884  ,  618.80539659,  627.0562497 ,\n",
        "        635.2098027 ,  643.28164235,  651.27787278])"
       ]
      }
     ],
     "prompt_number": 10
    },
    {
     "cell_type": "code",
     "collapsed": false,
     "input": [
      "# Simulate the controlled Markov chain for num_rep times\n",
      "# and compute the average\n",
      "init = 0\n",
      "sample_size = 50+1\n",
      "num_rep = 10**4\n",
      "ave_path = np.zeros(sample_size)\n",
      "for i in range(num_rep):\n",
      "    path = mc.simulate(init=init, sample_size=sample_size)\n",
      "    ave_path = (i/(i+1)) * ave_path + (1/(i+1)) * path"
     ],
     "language": "python",
     "metadata": {},
     "outputs": [],
     "prompt_number": 11
    },
    {
     "cell_type": "code",
     "collapsed": false,
     "input": [
      "ave_path"
     ],
     "language": "python",
     "metadata": {},
     "outputs": [
      {
       "metadata": {},
       "output_type": "pyout",
       "prompt_number": 12,
       "text": [
        "array([  0.    ,   1.9855,   3.7057,   4.8977,   5.9593,   6.9425,\n",
        "         7.8323,   8.6093,   9.231 ,   9.7189,  10.1517,  10.4685,\n",
        "        10.7398,  10.9687,  11.1721,  11.3538,  11.4758,  11.6022,\n",
        "        11.7163,  11.8167,  11.9261,  12.0005,  12.0767,  12.1325,\n",
        "        12.1887,  12.2194,  12.2385,  12.2479,  12.2861,  12.3024,\n",
        "        12.3211,  12.3342,  12.3477,  12.3637,  12.3679,  12.3779,\n",
        "        12.3982,  12.4323,  12.435 ,  12.4645,  12.4834,  12.4744,\n",
        "        12.4766,  12.4852,  12.4895,  12.4994,  12.5125,  12.4966,\n",
        "        12.4905,  12.5091,  12.5102])"
       ]
      }
     ],
     "prompt_number": 12
    },
    {
     "cell_type": "code",
     "collapsed": false,
     "input": [
      "# Stationary distribution of the Markov chain\n",
      "stationary_dist = mc.stationary_distributions[0]"
     ],
     "language": "python",
     "metadata": {},
     "outputs": [],
     "prompt_number": 13
    },
    {
     "cell_type": "code",
     "collapsed": false,
     "input": [
      "stationary_dist"
     ],
     "language": "python",
     "metadata": {},
     "outputs": [
      {
       "metadata": {},
       "output_type": "pyout",
       "prompt_number": 14,
       "text": [
        "array([  0.00000000e+00,   0.00000000e+00,   1.15115026e-07,\n",
        "         1.03603524e-06,   8.05805183e-06,   5.98598136e-05,\n",
        "         4.44344001e-04,   3.29804550e-03,   2.44792103e-02,\n",
        "         6.08112470e-02,   1.20881706e-01,   1.39769288e-01,\n",
        "         1.50250205e-01,   1.50250201e-01,   1.39769301e-01,\n",
        "         1.20881695e-01,   6.08112091e-02,   2.44793930e-02,\n",
        "         3.29774206e-03,   4.43926815e-04,   5.70763048e-05,\n",
        "         6.34181165e-06,   0.00000000e+00,   0.00000000e+00,\n",
        "         0.00000000e+00,   0.00000000e+00,   0.00000000e+00,\n",
        "         0.00000000e+00,   0.00000000e+00,   0.00000000e+00,\n",
        "         0.00000000e+00])"
       ]
      }
     ],
     "prompt_number": 14
    },
    {
     "cell_type": "code",
     "collapsed": false,
     "input": [
      "# Plot sigma, v, ave_path, stationary_dist\n",
      "hspace = 0.3\n",
      "fig, ax = plt.subplots(2, 2, figsize=(12, 8+hspace))\n",
      "fig.subplots_adjust(hspace=hspace)\n",
      "\n",
      "ax[0, 0].plot(sigma, '*')\n",
      "ax[0, 0].set_xlim(-1, 31)\n",
      "ax[0, 0].set_ylim(-0.5, 5.5)\n",
      "ax[0, 0].set_xlabel('Water Level')\n",
      "ax[0, 0].set_ylabel('Irrigation')\n",
      "ax[0, 0].set_title('Optimal Irrigation Policy')\n",
      "\n",
      "ax[0, 1].plot(v)\n",
      "ax[0, 1].set_xlabel('Water Level')\n",
      "ax[0, 1].set_ylabel('Value')\n",
      "ax[0, 1].set_title('Optimal Value Function')\n",
      "\n",
      "ax[1, 0].plot(ave_path)\n",
      "ax[1, 0].set_xlabel('Year')\n",
      "ax[1, 0].set_ylabel('Water Level')\n",
      "ax[1, 0].set_title('Average Optimal State Path')\n",
      "\n",
      "ax[1, 1].bar(range(n), stationary_dist, align='center')\n",
      "ax[1, 1].set_xlim(-1, n)\n",
      "ax[1, 1].set_xlabel('Water Level')\n",
      "ax[1, 1].set_ylabel('Probability')\n",
      "ax[1, 1].set_title('Stationary Distribution')\n",
      "\n",
      "plt.show()"
     ],
     "language": "python",
     "metadata": {},
     "outputs": [
      {
       "metadata": {},
       "output_type": "display_data",
       "png": "[encoded data removed]",
       "text": [
        "<matplotlib.figure.Figure at 0x10ded0750>"
       ]
      }
     ],
     "prompt_number": 15
    },
    {
     "cell_type": "code",
     "collapsed": false,
     "input": [],
     "language": "python",
     "metadata": {},
     "outputs": [],
     "prompt_number": 15
    }
   ],
   "metadata": {}
  }
 ]
}