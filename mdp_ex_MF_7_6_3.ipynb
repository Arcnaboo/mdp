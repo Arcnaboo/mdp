{
 "metadata": {
  "name": "",
  "signature": "sha256:2e97db0024e088e68c94d3a7478347d7fbec53e9aa170c8282bb0d5bfa38772d"
 },
 "nbformat": 3,
 "nbformat_minor": 0,
 "worksheets": [
  {
   "cells": [
    {
     "cell_type": "heading",
     "level": 1,
     "metadata": {},
     "source": [
      "Example: Asset Replacement with Maintenance"
     ]
    },
    {
     "cell_type": "markdown",
     "metadata": {},
     "source": [
      "Miranda and Fackler, Applied Computational Economics and Finance, 2002, Section 7.6.3"
     ]
    },
    {
     "cell_type": "code",
     "collapsed": false,
     "input": [
      "%matplotlib inline"
     ],
     "language": "python",
     "metadata": {},
     "outputs": [],
     "prompt_number": 1
    },
    {
     "cell_type": "code",
     "collapsed": false,
     "input": [
      "from __future__ import division\n",
      "import numpy as np\n",
      "import matplotlib.pyplot as plt\n",
      "from mdp import MDP"
     ],
     "language": "python",
     "metadata": {},
     "outputs": [],
     "prompt_number": 2
    },
    {
     "cell_type": "code",
     "collapsed": false,
     "input": [
      "maxage = 5\n",
      "repcost = 75\n",
      "mancost = 10\n",
      "beta = 0.9\n",
      "m = 3  # Number of actions; 0: keep, 1: service, 2: replace"
     ],
     "language": "python",
     "metadata": {},
     "outputs": [],
     "prompt_number": 3
    },
    {
     "cell_type": "code",
     "collapsed": false,
     "input": [
      "# Construct the state space which is two-dimensional\n",
      "from quantecon.cartesian import cartesian\n",
      "S = cartesian([np.arange(1, maxage+1), np.arange(maxage)]).astype(int)\n",
      "n = len(S)"
     ],
     "language": "python",
     "metadata": {},
     "outputs": [],
     "prompt_number": 4
    },
    {
     "cell_type": "code",
     "collapsed": false,
     "input": [
      "S"
     ],
     "language": "python",
     "metadata": {},
     "outputs": [
      {
       "metadata": {},
       "output_type": "pyout",
       "prompt_number": 5,
       "text": [
        "array([[1, 0],\n",
        "       [1, 1],\n",
        "       [1, 2],\n",
        "       [1, 3],\n",
        "       [1, 4],\n",
        "       [2, 0],\n",
        "       [2, 1],\n",
        "       [2, 2],\n",
        "       [2, 3],\n",
        "       [2, 4],\n",
        "       [3, 0],\n",
        "       [3, 1],\n",
        "       [3, 2],\n",
        "       [3, 3],\n",
        "       [3, 4],\n",
        "       [4, 0],\n",
        "       [4, 1],\n",
        "       [4, 2],\n",
        "       [4, 3],\n",
        "       [4, 4],\n",
        "       [5, 0],\n",
        "       [5, 1],\n",
        "       [5, 2],\n",
        "       [5, 3],\n",
        "       [5, 4]])"
       ]
      }
     ],
     "prompt_number": 5
    },
    {
     "cell_type": "markdown",
     "metadata": {},
     "source": [
      "Here, in the state space we include states that are not reached\n",
      "due to the constraint that the asset can be serviced at most one per year,\n",
      "i.e., those pairs of the age of asset $a$ and the number of services $s$\n",
      "such that $s \\geq a$.\n",
      "\n",
      "One can alternatively define the state space excluding those states;\n",
      "see below."
     ]
    },
    {
     "cell_type": "code",
     "collapsed": false,
     "input": [
      "# We need a routine to get the index of a age-serv pair\n",
      "def getindex(age, serv):\n",
      "    \"\"\"\n",
      "    Get the index of [age, serv] in S.\n",
      "    We know that elements in S are aligned in a lexicographic order.\n",
      "    \"\"\"\n",
      "    for i in range(n):\n",
      "        if S[i, 0] == age:\n",
      "            for k in range(maxage):\n",
      "                if S[i+k, 1] == serv:\n",
      "                    return i+k"
     ],
     "language": "python",
     "metadata": {},
     "outputs": [],
     "prompt_number": 6
    },
    {
     "cell_type": "code",
     "collapsed": false,
     "input": [
      "# Profit function as a function of the age and the number of service\n",
      "def p(age, serv):\n",
      "    return (1 - (age - serv)/5) * (50 - 2.5 * age - 2.5 * age**2)"
     ],
     "language": "python",
     "metadata": {},
     "outputs": [],
     "prompt_number": 7
    },
    {
     "cell_type": "code",
     "collapsed": false,
     "input": [
      "# Reward array\n",
      "R = np.empty((n, m))\n",
      "R[:, 0] = p(S[:, 0], S[:, 1])\n",
      "R[:, 1] = p(S[:, 0], S[:, 1]+1) - mancost\n",
      "R[:, 2] = p(0, 0) - repcost\n",
      "\n",
      "# Infeasible actions\n",
      "for serv in range(maxage):\n",
      "    for action in [0, 1]:\n",
      "        R[getindex(maxage, serv), action] = -np.inf"
     ],
     "language": "python",
     "metadata": {},
     "outputs": [],
     "prompt_number": 8
    },
    {
     "cell_type": "code",
     "collapsed": false,
     "input": [
      "R"
     ],
     "language": "python",
     "metadata": {},
     "outputs": [
      {
       "metadata": {},
       "output_type": "pyout",
       "prompt_number": 9,
       "text": [
        "array([[ 36.,  35., -25.],\n",
        "       [ 45.,  44., -25.],\n",
        "       [ 54.,  53., -25.],\n",
        "       [ 63.,  62., -25.],\n",
        "       [ 72.,  71., -25.],\n",
        "       [ 21.,  18., -25.],\n",
        "       [ 28.,  25., -25.],\n",
        "       [ 35.,  32., -25.],\n",
        "       [ 42.,  39., -25.],\n",
        "       [ 49.,  46., -25.],\n",
        "       [  8.,   2., -25.],\n",
        "       [ 12.,   6., -25.],\n",
        "       [ 16.,  10., -25.],\n",
        "       [ 20.,  14., -25.],\n",
        "       [ 24.,  18., -25.],\n",
        "       [  0., -10., -25.],\n",
        "       [  0., -10., -25.],\n",
        "       [  0., -10., -25.],\n",
        "       [  0., -10., -25.],\n",
        "       [  0., -10., -25.],\n",
        "       [-inf, -inf, -25.],\n",
        "       [-inf, -inf, -25.],\n",
        "       [-inf, -inf, -25.],\n",
        "       [-inf, -inf, -25.],\n",
        "       [-inf, -inf, -25.]])"
       ]
      }
     ],
     "prompt_number": 9
    },
    {
     "cell_type": "code",
     "collapsed": false,
     "input": [
      "# (Degenerate) transition probability array\n",
      "Q = np.zeros((n, m, n))\n",
      "for i in range(n):\n",
      "    Q[i, 0, getindex(np.minimum(S[i, 0]+1, maxage), S[i, 1])] = 1\n",
      "    Q[i, 1, getindex(np.minimum(S[i, 0]+1, maxage), np.minimum(S[i, 1]+1, maxage-1))] = 1\n",
      "    Q[i, 2, getindex(1, 0)] = 1"
     ],
     "language": "python",
     "metadata": {},
     "outputs": [],
     "prompt_number": 10
    },
    {
     "cell_type": "code",
     "collapsed": false,
     "input": [
      "# Create an MDP\n",
      "mdp = MDP(R, Q, beta)"
     ],
     "language": "python",
     "metadata": {},
     "outputs": [],
     "prompt_number": 11
    },
    {
     "cell_type": "code",
     "collapsed": false,
     "input": [
      "# Solve the dynamic optimization problem (by policy iteration)\n",
      "v, sigma, mc, num_iter = mdp.solve(return_num_iter=True)"
     ],
     "language": "python",
     "metadata": {},
     "outputs": [],
     "prompt_number": 12
    },
    {
     "cell_type": "code",
     "collapsed": false,
     "input": [
      "# Number of iterations\n",
      "num_iter"
     ],
     "language": "python",
     "metadata": {},
     "outputs": [
      {
       "metadata": {},
       "output_type": "pyout",
       "prompt_number": 13,
       "text": [
        "3"
       ]
      }
     ],
     "prompt_number": 13
    },
    {
     "cell_type": "code",
     "collapsed": false,
     "input": [
      "# Optimal policy\n",
      "sigma"
     ],
     "language": "python",
     "metadata": {},
     "outputs": [
      {
       "metadata": {},
       "output_type": "pyout",
       "prompt_number": 14,
       "text": [
        "array([1, 1, 1, 1, 0, 0, 1, 1, 1, 0, 2, 0, 0, 0, 0, 2, 2, 2, 2, 2, 2, 2, 2,\n",
        "       2, 2])"
       ]
      }
     ],
     "prompt_number": 14
    },
    {
     "cell_type": "code",
     "collapsed": false,
     "input": [
      "# Optimal actions for reachable states\n",
      "for i in range(n):\n",
      "    if S[i, 0] > S[i, 1]:\n",
      "        print S[i], sigma[i]"
     ],
     "language": "python",
     "metadata": {},
     "outputs": [
      {
       "output_type": "stream",
       "stream": "stdout",
       "text": [
        "[1 0] 1\n",
        "[2 0] 0\n",
        "[2 1] 1\n",
        "[3 0] 2\n",
        "[3 1] 0\n",
        "[3 2] 0\n",
        "[4 0] 2\n",
        "[4 1] 2\n",
        "[4 2] 2\n",
        "[4 3] 2\n",
        "[5 0] 2\n",
        "[5 1] 2\n",
        "[5 2] 2\n",
        "[5 3] 2\n",
        "[5 4] 2\n"
       ]
      }
     ],
     "prompt_number": 15
    },
    {
     "cell_type": "code",
     "collapsed": false,
     "input": [
      "# Simulate the controlled Markov chain\n",
      "initial_state = getindex(1, 0)\n",
      "sample_size = 13\n",
      "path = mc.simulate(init=initial_state, sample_size=sample_size)"
     ],
     "language": "python",
     "metadata": {},
     "outputs": [],
     "prompt_number": 16
    },
    {
     "cell_type": "code",
     "collapsed": false,
     "input": [
      "# Plot sample paths of the age of asset (0th coordinate of S)\n",
      "# and the number of services (1st coordinate of S)\n",
      "fig, ax = plt.subplots(1, 2, figsize=(12, 4))\n",
      "captions = ['Age of Asset', 'Number of Services']\n",
      "for i, caption in zip(range(2), captions):\n",
      "    ax[i].plot(S[path, i])\n",
      "    ax[i].set_xlabel('Year')\n",
      "    ax[i].set_ylabel(caption)\n",
      "    ax[i].set_title('Optimal State Path: ' + caption)\n",
      "ax[0].set_yticks(np.linspace(1, 4, 4, endpoint=True))\n",
      "ax[1].set_yticks(np.linspace(1, 2, 2, endpoint=True))\n",
      "ax[1].set_ylim(0, 2.25)\n",
      "plt.show()"
     ],
     "language": "python",
     "metadata": {},
     "outputs": [
      {
       "metadata": {},
       "output_type": "display_data",
       "png": "[encoded data removed]",
       "text": [
        "<matplotlib.figure.Figure at 0x1101ead10>"
       ]
      }
     ],
     "prompt_number": 17
    },
    {
     "cell_type": "heading",
     "level": 2,
     "metadata": {},
     "source": [
      "Alternative Formulation"
     ]
    },
    {
     "cell_type": "markdown",
     "metadata": {},
     "source": [
      "Define the state space excluding the `age`-`serv` pairs that do not realize:"
     ]
    },
    {
     "cell_type": "code",
     "collapsed": false,
     "input": [
      "from itertools import product\n",
      "\n",
      "n = maxage * (maxage+1) // 2  # Number of states\n",
      "S = np.empty((n, 2), dtype=int)\n",
      "\n",
      "i = 0\n",
      "for age, serv in product(range(1, maxage+1), range(maxage)):\n",
      "    if age > serv:\n",
      "        S[i] = age, serv\n",
      "        i += 1"
     ],
     "language": "python",
     "metadata": {},
     "outputs": [],
     "prompt_number": 18
    },
    {
     "cell_type": "code",
     "collapsed": false,
     "input": [
      "S"
     ],
     "language": "python",
     "metadata": {},
     "outputs": [
      {
       "metadata": {},
       "output_type": "pyout",
       "prompt_number": 19,
       "text": [
        "array([[1, 0],\n",
        "       [2, 0],\n",
        "       [2, 1],\n",
        "       [3, 0],\n",
        "       [3, 1],\n",
        "       [3, 2],\n",
        "       [4, 0],\n",
        "       [4, 1],\n",
        "       [4, 2],\n",
        "       [4, 3],\n",
        "       [5, 0],\n",
        "       [5, 1],\n",
        "       [5, 2],\n",
        "       [5, 3],\n",
        "       [5, 4]])"
       ]
      }
     ],
     "prompt_number": 19
    },
    {
     "cell_type": "code",
     "collapsed": false,
     "input": [
      "# Reward array\n",
      "R = np.empty((n, m))\n",
      "for i, (age, serv) in enumerate(S):\n",
      "    R[i, 0] = p(age, serv) if age < maxage else -np.infty\n",
      "    R[i, 1] = p(age, serv+1) - mancost if age < maxage else -np.infty\n",
      "    R[i, 2] = p(0, 0) - repcost"
     ],
     "language": "python",
     "metadata": {},
     "outputs": [],
     "prompt_number": 20
    },
    {
     "cell_type": "code",
     "collapsed": false,
     "input": [
      "R"
     ],
     "language": "python",
     "metadata": {},
     "outputs": [
      {
       "metadata": {},
       "output_type": "pyout",
       "prompt_number": 21,
       "text": [
        "array([[ 36.,  35., -25.],\n",
        "       [ 21.,  18., -25.],\n",
        "       [ 28.,  25., -25.],\n",
        "       [  8.,   2., -25.],\n",
        "       [ 12.,   6., -25.],\n",
        "       [ 16.,  10., -25.],\n",
        "       [  0., -10., -25.],\n",
        "       [  0., -10., -25.],\n",
        "       [  0., -10., -25.],\n",
        "       [  0., -10., -25.],\n",
        "       [-inf, -inf, -25.],\n",
        "       [-inf, -inf, -25.],\n",
        "       [-inf, -inf, -25.],\n",
        "       [-inf, -inf, -25.],\n",
        "       [-inf, -inf, -25.]])"
       ]
      }
     ],
     "prompt_number": 21
    },
    {
     "cell_type": "code",
     "collapsed": false,
     "input": [
      "# (Degenerate) transition probability array\n",
      "Q = np.zeros((n, m, n))\n",
      "for i in range(n):\n",
      "    Q[i, 0, getindex(np.minimum(S[i, 0]+1, maxage), S[i, 1])] = 1\n",
      "    Q[i, 1, getindex(np.minimum(S[i, 0]+1, maxage), np.minimum(S[i, 1]+1, maxage-1))] = 1\n",
      "    Q[i, 2, getindex(1, 0)] = 1"
     ],
     "language": "python",
     "metadata": {},
     "outputs": [],
     "prompt_number": 22
    },
    {
     "cell_type": "code",
     "collapsed": false,
     "input": [
      "# Create an MDP\n",
      "mdp = MDP(R, Q, beta)"
     ],
     "language": "python",
     "metadata": {},
     "outputs": [],
     "prompt_number": 23
    },
    {
     "cell_type": "code",
     "collapsed": false,
     "input": [
      "# Solve the dynamic optimization problem (by policy iteration)\n",
      "v, sigma, mc, num_iter = mdp.solve(return_num_iter=True)"
     ],
     "language": "python",
     "metadata": {},
     "outputs": [],
     "prompt_number": 24
    },
    {
     "cell_type": "code",
     "collapsed": false,
     "input": [
      "# Number of iterations\n",
      "num_iter"
     ],
     "language": "python",
     "metadata": {},
     "outputs": [
      {
       "metadata": {},
       "output_type": "pyout",
       "prompt_number": 25,
       "text": [
        "3"
       ]
      }
     ],
     "prompt_number": 25
    },
    {
     "cell_type": "code",
     "collapsed": false,
     "input": [
      "# Optimal policy\n",
      "sigma"
     ],
     "language": "python",
     "metadata": {},
     "outputs": [
      {
       "metadata": {},
       "output_type": "pyout",
       "prompt_number": 26,
       "text": [
        "array([1, 0, 1, 2, 0, 0, 2, 2, 2, 2, 2, 2, 2, 2, 2])"
       ]
      }
     ],
     "prompt_number": 26
    },
    {
     "cell_type": "code",
     "collapsed": false,
     "input": [
      "# Simulate the controlled Markov chain\n",
      "initial_state = getindex(1, 0)\n",
      "sample_size = 13\n",
      "path = mc.simulate(init=initial_state, sample_size=sample_size)"
     ],
     "language": "python",
     "metadata": {},
     "outputs": [],
     "prompt_number": 27
    },
    {
     "cell_type": "code",
     "collapsed": false,
     "input": [
      "# Plot sample paths of the age of asset (0th coordinate of S)\n",
      "# and the number of services (1st coordinate of S)\n",
      "fig, ax = plt.subplots(1, 2, figsize=(12, 4))\n",
      "captions = ['Age of Asset', 'Number of Services']\n",
      "for i, caption in zip(range(2), captions):\n",
      "    ax[i].plot(S[path, i])\n",
      "    ax[i].set_xlabel('Year')\n",
      "    ax[i].set_ylabel(caption)\n",
      "    ax[i].set_title('Optimal State Path: ' + caption)\n",
      "ax[0].set_yticks(np.linspace(1, 4, 4, endpoint=True))\n",
      "ax[1].set_yticks(np.linspace(1, 2, 2, endpoint=True))\n",
      "ax[1].set_ylim(0, 2.25)\n",
      "plt.show()"
     ],
     "language": "python",
     "metadata": {},
     "outputs": [
      {
       "metadata": {},
       "output_type": "display_data",
       "png": "[encoded data removed]",
       "text": [
        "<matplotlib.figure.Figure at 0x1102e9f90>"
       ]
      }
     ],
     "prompt_number": 28
    },
    {
     "cell_type": "code",
     "collapsed": false,
     "input": [],
     "language": "python",
     "metadata": {},
     "outputs": [],
     "prompt_number": 28
    }
   ],
   "metadata": {}
  }
 ]
}