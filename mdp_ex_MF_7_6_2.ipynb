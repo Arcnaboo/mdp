{
 "metadata": {
  "name": "",
  "signature": "sha256:4a4b75c7b8a91877e4aee4d55a79c386303bf57765a014694252f7af74fa8adb"
 },
 "nbformat": 3,
 "nbformat_minor": 0,
 "worksheets": [
  {
   "cells": [
    {
     "cell_type": "heading",
     "level": 1,
     "metadata": {},
     "source": [
      "Example: Asset Replacement"
     ]
    },
    {
     "cell_type": "markdown",
     "metadata": {},
     "source": [
      "Miranda and Fackler, Applied Computational Economics and Finance, 2002, Section 7.6.2"
     ]
    },
    {
     "cell_type": "code",
     "collapsed": false,
     "input": [
      "%matplotlib inline"
     ],
     "language": "python",
     "metadata": {},
     "outputs": [],
     "prompt_number": 1
    },
    {
     "cell_type": "code",
     "collapsed": false,
     "input": [
      "from __future__ import print_function\n",
      "import numpy as np\n",
      "import matplotlib.pyplot as plt\n",
      "from mdp import MDP"
     ],
     "language": "python",
     "metadata": {},
     "outputs": [],
     "prompt_number": 2
    },
    {
     "cell_type": "code",
     "collapsed": false,
     "input": [
      "n = 5  # Number of states\n",
      "m = 2  # Number of actions; 0: keep, 1: replace\n",
      "repcost = 75  # Replacement cost\n",
      "beta = 0.9  # Discount factor"
     ],
     "language": "python",
     "metadata": {},
     "outputs": [],
     "prompt_number": 3
    },
    {
     "cell_type": "code",
     "collapsed": false,
     "input": [
      "# Reward array\n",
      "R = np.empty((n, m))\n",
      "S = np.arange(n) + 1\n",
      "R[:, 0] = 50 - 2.5 * S - 2.5 * S**2\n",
      "R[:, 1] = 50 - repcost\n",
      "\n",
      "# Infeasible action\n",
      "R[-1, 0] = -np.inf"
     ],
     "language": "python",
     "metadata": {},
     "outputs": [],
     "prompt_number": 4
    },
    {
     "cell_type": "code",
     "collapsed": false,
     "input": [
      "R"
     ],
     "language": "python",
     "metadata": {},
     "outputs": [
      {
       "metadata": {},
       "output_type": "pyout",
       "prompt_number": 5,
       "text": [
        "array([[ 45., -25.],\n",
        "       [ 35., -25.],\n",
        "       [ 20., -25.],\n",
        "       [  0., -25.],\n",
        "       [-inf, -25.]])"
       ]
      }
     ],
     "prompt_number": 5
    },
    {
     "cell_type": "code",
     "collapsed": false,
     "input": [
      "# (Degenerate) transition probability array\n",
      "Q = np.zeros((n, m, n))\n",
      "for i in range(n):\n",
      "    Q[i, 0, np.minimum(i+1, n-1)] = 1\n",
      "    Q[i, 1, 0] = 1"
     ],
     "language": "python",
     "metadata": {},
     "outputs": [],
     "prompt_number": 6
    },
    {
     "cell_type": "code",
     "collapsed": false,
     "input": [
      "Q"
     ],
     "language": "python",
     "metadata": {},
     "outputs": [
      {
       "metadata": {},
       "output_type": "pyout",
       "prompt_number": 7,
       "text": [
        "array([[[ 0.,  1.,  0.,  0.,  0.],\n",
        "        [ 1.,  0.,  0.,  0.,  0.]],\n",
        "\n",
        "       [[ 0.,  0.,  1.,  0.,  0.],\n",
        "        [ 1.,  0.,  0.,  0.,  0.]],\n",
        "\n",
        "       [[ 0.,  0.,  0.,  1.,  0.],\n",
        "        [ 1.,  0.,  0.,  0.,  0.]],\n",
        "\n",
        "       [[ 0.,  0.,  0.,  0.,  1.],\n",
        "        [ 1.,  0.,  0.,  0.,  0.]],\n",
        "\n",
        "       [[ 0.,  0.,  0.,  0.,  1.],\n",
        "        [ 1.,  0.,  0.,  0.,  0.]]])"
       ]
      }
     ],
     "prompt_number": 7
    },
    {
     "cell_type": "code",
     "collapsed": false,
     "input": [
      "# Create an MDP\n",
      "mdp = MDP(R, Q, beta)"
     ],
     "language": "python",
     "metadata": {},
     "outputs": [],
     "prompt_number": 8
    },
    {
     "cell_type": "code",
     "collapsed": false,
     "input": [
      "# Solve the dynamic optimization problem (by policy iteration)\n",
      "v, sigma, mc, num_iter = mdp.solve(return_num_iter=True)"
     ],
     "language": "python",
     "metadata": {},
     "outputs": [],
     "prompt_number": 9
    },
    {
     "cell_type": "code",
     "collapsed": false,
     "input": [
      "# Number of iterations\n",
      "num_iter"
     ],
     "language": "python",
     "metadata": {},
     "outputs": [
      {
       "metadata": {},
       "output_type": "pyout",
       "prompt_number": 10,
       "text": [
        "1"
       ]
      }
     ],
     "prompt_number": 10
    },
    {
     "cell_type": "code",
     "collapsed": false,
     "input": [
      "# Optimal value function\n",
      "v"
     ],
     "language": "python",
     "metadata": {},
     "outputs": [
      {
       "metadata": {},
       "output_type": "pyout",
       "prompt_number": 11,
       "text": [
        "array([ 216.56004653,  190.62227392,  172.91363769,  169.90404187,\n",
        "        169.90404187])"
       ]
      }
     ],
     "prompt_number": 11
    },
    {
     "cell_type": "code",
     "collapsed": false,
     "input": [
      "# Optimal policy\n",
      "sigma"
     ],
     "language": "python",
     "metadata": {},
     "outputs": [
      {
       "metadata": {},
       "output_type": "pyout",
       "prompt_number": 12,
       "text": [
        "array([0, 0, 0, 1, 1])"
       ]
      }
     ],
     "prompt_number": 12
    },
    {
     "cell_type": "code",
     "collapsed": false,
     "input": [
      "# Transition probability matrix\n",
      "mc.P"
     ],
     "language": "python",
     "metadata": {},
     "outputs": [
      {
       "metadata": {},
       "output_type": "pyout",
       "prompt_number": 13,
       "text": [
        "array([[ 0.,  1.,  0.,  0.,  0.],\n",
        "       [ 0.,  0.,  1.,  0.,  0.],\n",
        "       [ 0.,  0.,  0.,  1.,  0.],\n",
        "       [ 1.,  0.,  0.,  0.,  0.],\n",
        "       [ 1.,  0.,  0.,  0.,  0.]])"
       ]
      }
     ],
     "prompt_number": 13
    },
    {
     "cell_type": "code",
     "collapsed": false,
     "input": [
      "# Simulate the controlled Markov chain\n",
      "initial_state = 0\n",
      "sample_size = 13\n",
      "age_path = mc.simulate(init=initial_state, sample_size=sample_size) + 1"
     ],
     "language": "python",
     "metadata": {},
     "outputs": [],
     "prompt_number": 14
    },
    {
     "cell_type": "code",
     "collapsed": false,
     "input": [
      "fig, ax = plt.subplots(1, 2, figsize=(12, 4))\n",
      "ax[0].plot(np.arange(n)+1, v)\n",
      "ax[0].set_xticks(np.linspace(1, 5, 5, endpoint=True))\n",
      "ax[0].set_xlabel('Age of Machine')\n",
      "ax[0].set_ylabel('Value')\n",
      "ax[0].set_title('Optimal Value Function')\n",
      "\n",
      "ax[1].plot(age_path)\n",
      "ax[1].set_yticks(np.linspace(1, 4, 4, endpoint=True))\n",
      "ax[1].set_xlabel('Year')\n",
      "ax[1].set_ylabel('Age of Machine')\n",
      "ax[1].set_title('Optimal State Path')\n",
      "\n",
      "plt.show()"
     ],
     "language": "python",
     "metadata": {},
     "outputs": [
      {
       "metadata": {},
       "output_type": "display_data",
       "png": "[encoded data removed]",
       "text": [
        "<matplotlib.figure.Figure at 0x10b7c2ad0>"
       ]
      }
     ],
     "prompt_number": 15
    },
    {
     "cell_type": "code",
     "collapsed": false,
     "input": [],
     "language": "python",
     "metadata": {},
     "outputs": [],
     "prompt_number": 15
    }
   ],
   "metadata": {}
  }
 ]
}