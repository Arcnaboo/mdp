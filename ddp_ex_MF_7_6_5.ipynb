{
 "metadata": {
  "name": "",
  "signature": "sha256:5376b0c956af380f09f699c7f8021a1dc653bab08b1c1f59d680b1d7e0ab3e5a"
 },
 "nbformat": 3,
 "nbformat_minor": 0,
 "worksheets": [
  {
   "cells": [
    {
     "cell_type": "heading",
     "level": 1,
     "metadata": {},
     "source": [
      "Example: Water Management"
     ]
    },
    {
     "cell_type": "markdown",
     "metadata": {},
     "source": [
      "Miranda and Fackler, <i>Applied Computational Economics and Finance</i>, 2002,\n",
      "Section 7.6.5"
     ]
    },
    {
     "cell_type": "code",
     "collapsed": false,
     "input": [
      "%matplotlib inline"
     ],
     "language": "python",
     "metadata": {},
     "outputs": [],
     "prompt_number": 1
    },
    {
     "cell_type": "code",
     "collapsed": false,
     "input": [
      "from __future__ import division\n",
      "import numpy as np\n",
      "import itertools\n",
      "import matplotlib.pyplot as plt\n",
      "from quantecon.markov import DiscreteDP"
     ],
     "language": "python",
     "metadata": {},
     "outputs": [],
     "prompt_number": 2
    },
    {
     "cell_type": "code",
     "collapsed": false,
     "input": [
      "M = 30\n",
      "n = M + 1  # Number of states\n",
      "m = n  # Number of actions\n",
      "\n",
      "a1, b1 = 14, 0.8\n",
      "a2, b2 = 10, 0.4\n",
      "F = lambda s, x: a1 * x**b1\n",
      "G = lambda s, x: a2 * (s - x)**b2\n",
      "\n",
      "beta = 0.9"
     ],
     "language": "python",
     "metadata": {},
     "outputs": [],
     "prompt_number": 3
    },
    {
     "cell_type": "code",
     "collapsed": false,
     "input": [
      "# Reward array\n",
      "R = np.empty((n, m))\n",
      "for s, x in itertools.product(range(n), range(m)):\n",
      "    R[s, x] = F(s, x) + G(s, x) if x <= s else -np.inf"
     ],
     "language": "python",
     "metadata": {},
     "outputs": [],
     "prompt_number": 4
    },
    {
     "cell_type": "code",
     "collapsed": false,
     "input": [
      "# Probability transition array\n",
      "probs = np.array([0.1, 0.2, 0.4, 0.2, 0.1])\n",
      "size_supp = len(probs)\n",
      "Q = np.zeros((n, m, n))\n",
      "for s, x in itertools.product(range(n), range(m)):\n",
      "    if x <= s:\n",
      "        for j in range(size_supp):\n",
      "            Q[s, x, np.minimum(s-x+j, n-1)] += probs[j]"
     ],
     "language": "python",
     "metadata": {},
     "outputs": [],
     "prompt_number": 5
    },
    {
     "cell_type": "code",
     "collapsed": false,
     "input": [
      "# Create a DiscreteDP\n",
      "ddp = DiscreteDP(R, Q, beta)"
     ],
     "language": "python",
     "metadata": {},
     "outputs": [],
     "prompt_number": 6
    },
    {
     "cell_type": "code",
     "collapsed": false,
     "input": [
      "# Solve the dynamic optimization problem (by policy iteration)\n",
      "res = ddp.solve()"
     ],
     "language": "python",
     "metadata": {},
     "outputs": [],
     "prompt_number": 7
    },
    {
     "cell_type": "code",
     "collapsed": false,
     "input": [
      "# Number of iterations\n",
      "res.num_iter"
     ],
     "language": "python",
     "metadata": {},
     "outputs": [
      {
       "metadata": {},
       "output_type": "pyout",
       "prompt_number": 8,
       "text": [
        "4"
       ]
      }
     ],
     "prompt_number": 8
    },
    {
     "cell_type": "code",
     "collapsed": false,
     "input": [
      "# Optimal policy\n",
      "res.sigma"
     ],
     "language": "python",
     "metadata": {},
     "outputs": [
      {
       "metadata": {},
       "output_type": "pyout",
       "prompt_number": 9,
       "text": [
        "array([0, 0, 0, 1, 1, 1, 1, 1, 1, 1, 2, 2, 2, 2, 2, 2, 3, 3, 3, 3, 3, 4, 4,\n",
        "       4, 4, 4, 5, 5, 5, 5, 5])"
       ]
      }
     ],
     "prompt_number": 9
    },
    {
     "cell_type": "code",
     "collapsed": false,
     "input": [
      "# Optimal value function\n",
      "res.v"
     ],
     "language": "python",
     "metadata": {},
     "outputs": [
      {
       "metadata": {},
       "output_type": "pyout",
       "prompt_number": 10,
       "text": [
        "array([ 338.41645251,  361.98791375,  377.4257383 ,  391.4257383 ,\n",
        "        405.2360958 ,  417.9622843 ,  429.86115765,  441.17106277,\n",
        "        452.06672421,  462.66012607,  473.03554185,  483.40234488,\n",
        "        493.51237732,  503.35334776,  512.93797732,  522.31628408,\n",
        "        531.65601391,  540.88902181,  549.98545145,  558.93954761,\n",
        "        567.74582688,  576.47074514,  585.14046164,  593.69786291,\n",
        "        602.15675175,  610.510884  ,  618.80539659,  627.0562497 ,\n",
        "        635.2098027 ,  643.28164235,  651.27787278])"
       ]
      }
     ],
     "prompt_number": 10
    },
    {
     "cell_type": "code",
     "collapsed": false,
     "input": [
      "# Simulate the controlled Markov chain for num_rep times\n",
      "# and compute the average\n",
      "init = 0\n",
      "ts_length = 50+1\n",
      "num_rep = 10**4\n",
      "ave_path = np.zeros(ts_length)\n",
      "for i in range(num_rep):\n",
      "    path = res.mc.simulate(ts_length=ts_length, init=init)\n",
      "    ave_path = (i/(i+1)) * ave_path + (1/(i+1)) * path"
     ],
     "language": "python",
     "metadata": {},
     "outputs": [],
     "prompt_number": 11
    },
    {
     "cell_type": "code",
     "collapsed": false,
     "input": [
      "ave_path"
     ],
     "language": "python",
     "metadata": {},
     "outputs": [
      {
       "metadata": {},
       "output_type": "pyout",
       "prompt_number": 12,
       "text": [
        "array([  0.    ,   1.9947,   3.7094,   4.8792,   5.9595,   6.9534,\n",
        "         7.8503,   8.6373,   9.2635,   9.7848,  10.1876,  10.5101,\n",
        "        10.7738,  10.9809,  11.151 ,  11.3188,  11.4829,  11.6214,\n",
        "        11.7191,  11.8283,  11.9184,  12.0001,  12.0702,  12.1546,\n",
        "        12.1836,  12.2185,  12.2555,  12.296 ,  12.3117,  12.3217,\n",
        "        12.3264,  12.3511,  12.3635,  12.3957,  12.3976,  12.4025,\n",
        "        12.4068,  12.423 ,  12.4398,  12.4245,  12.4527,  12.4562,\n",
        "        12.4559,  12.465 ,  12.4636,  12.4601,  12.4954,  12.4988,\n",
        "        12.5144,  12.5119,  12.4876])"
       ]
      }
     ],
     "prompt_number": 12
    },
    {
     "cell_type": "code",
     "collapsed": false,
     "input": [
      "# Stationary distribution of the Markov chain\n",
      "stationary_dist = res.mc.stationary_distributions[0]"
     ],
     "language": "python",
     "metadata": {},
     "outputs": [],
     "prompt_number": 13
    },
    {
     "cell_type": "code",
     "collapsed": false,
     "input": [
      "stationary_dist"
     ],
     "language": "python",
     "metadata": {},
     "outputs": [
      {
       "metadata": {},
       "output_type": "pyout",
       "prompt_number": 14,
       "text": [
        "array([  0.00000000e+00,   0.00000000e+00,   1.15115026e-07,\n",
        "         1.03603524e-06,   8.05805183e-06,   5.98598136e-05,\n",
        "         4.44344001e-04,   3.29804550e-03,   2.44792103e-02,\n",
        "         6.08112470e-02,   1.20881706e-01,   1.39769288e-01,\n",
        "         1.50250205e-01,   1.50250201e-01,   1.39769301e-01,\n",
        "         1.20881695e-01,   6.08112091e-02,   2.44793930e-02,\n",
        "         3.29774206e-03,   4.43926815e-04,   5.70763048e-05,\n",
        "         6.34181165e-06,   0.00000000e+00,   0.00000000e+00,\n",
        "         0.00000000e+00,   0.00000000e+00,   0.00000000e+00,\n",
        "         0.00000000e+00,   0.00000000e+00,   0.00000000e+00,\n",
        "         0.00000000e+00])"
       ]
      }
     ],
     "prompt_number": 14
    },
    {
     "cell_type": "code",
     "collapsed": false,
     "input": [
      "# Plot sigma, v, ave_path, stationary_dist\n",
      "hspace = 0.3\n",
      "fig, ax = plt.subplots(2, 2, figsize=(12, 8+hspace))\n",
      "fig.subplots_adjust(hspace=hspace)\n",
      "\n",
      "ax[0, 0].plot(res.sigma, '*')\n",
      "ax[0, 0].set_xlim(-1, 31)\n",
      "ax[0, 0].set_ylim(-0.5, 5.5)\n",
      "ax[0, 0].set_xlabel('Water Level')\n",
      "ax[0, 0].set_ylabel('Irrigation')\n",
      "ax[0, 0].set_title('Optimal Irrigation Policy')\n",
      "\n",
      "ax[0, 1].plot(res.v)\n",
      "ax[0, 1].set_xlabel('Water Level')\n",
      "ax[0, 1].set_ylabel('Value')\n",
      "ax[0, 1].set_title('Optimal Value Function')\n",
      "\n",
      "ax[1, 0].plot(ave_path)\n",
      "ax[1, 0].set_xlabel('Year')\n",
      "ax[1, 0].set_ylabel('Water Level')\n",
      "ax[1, 0].set_title('Average Optimal State Path')\n",
      "\n",
      "ax[1, 1].bar(range(n), stationary_dist, align='center')\n",
      "ax[1, 1].set_xlim(-1, n)\n",
      "ax[1, 1].set_xlabel('Water Level')\n",
      "ax[1, 1].set_ylabel('Probability')\n",
      "ax[1, 1].set_title('Stationary Distribution')\n",
      "\n",
      "plt.show()"
     ],
     "language": "python",
     "metadata": {},
     "outputs": [
      {
       "metadata": {},
       "output_type": "display_data",
       "png": "[encoded data removed]",
       "text": [
        "<matplotlib.figure.Figure at 0x10b8e4cd0>"
       ]
      }
     ],
     "prompt_number": 15
    },
    {
     "cell_type": "code",
     "collapsed": false,
     "input": [],
     "language": "python",
     "metadata": {},
     "outputs": [],
     "prompt_number": 15
    }
   ],
   "metadata": {}
  }
 ]
}