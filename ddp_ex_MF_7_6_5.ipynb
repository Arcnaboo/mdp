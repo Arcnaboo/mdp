{
 "cells": [
  {
   "cell_type": "markdown",
   "metadata": {},
   "source": [
    "# Example: Water Management"
   ]
  },
  {
   "cell_type": "markdown",
   "metadata": {},
   "source": [
    "Miranda and Fackler, <i>Applied Computational Economics and Finance</i>, 2002,\n",
    "Section 7.6.5"
   ]
  },
  {
   "cell_type": "code",
   "execution_count": 1,
   "metadata": {
    "collapsed": false
   },
   "outputs": [],
   "source": [
    "%matplotlib inline"
   ]
  },
  {
   "cell_type": "code",
   "execution_count": 2,
   "metadata": {
    "collapsed": false
   },
   "outputs": [],
   "source": [
    "from __future__ import division\n",
    "import numpy as np\n",
    "import itertools\n",
    "import matplotlib.pyplot as plt\n",
    "from quantecon.markov import DiscreteDP"
   ]
  },
  {
   "cell_type": "code",
   "execution_count": 3,
   "metadata": {
    "collapsed": false
   },
   "outputs": [],
   "source": [
    "M = 30\n",
    "n = M + 1  # Number of states\n",
    "m = n  # Number of actions\n",
    "\n",
    "a1, b1 = 14, 0.8\n",
    "a2, b2 = 10, 0.4\n",
    "F = lambda s, x: a1 * x**b1\n",
    "G = lambda s, x: a2 * (s - x)**b2\n",
    "\n",
    "beta = 0.9"
   ]
  },
  {
   "cell_type": "code",
   "execution_count": 4,
   "metadata": {
    "collapsed": false
   },
   "outputs": [],
   "source": [
    "# Reward array\n",
    "R = np.empty((n, m))\n",
    "for s, x in itertools.product(range(n), range(m)):\n",
    "    R[s, x] = F(s, x) + G(s, x) if x <= s else -np.inf"
   ]
  },
  {
   "cell_type": "code",
   "execution_count": 5,
   "metadata": {
    "collapsed": false
   },
   "outputs": [],
   "source": [
    "# Probability transition array\n",
    "probs = np.array([0.1, 0.2, 0.4, 0.2, 0.1])\n",
    "size_supp = len(probs)\n",
    "Q = np.zeros((n, m, n))\n",
    "for s, x in itertools.product(range(n), range(m)):\n",
    "    if x <= s:\n",
    "        for j in range(size_supp):\n",
    "            Q[s, x, np.minimum(s-x+j, n-1)] += probs[j]"
   ]
  },
  {
   "cell_type": "code",
   "execution_count": 6,
   "metadata": {
    "collapsed": false
   },
   "outputs": [],
   "source": [
    "# Create a DiscreteDP\n",
    "ddp = DiscreteDP(R, Q, beta)"
   ]
  },
  {
   "cell_type": "code",
   "execution_count": 7,
   "metadata": {
    "collapsed": false
   },
   "outputs": [],
   "source": [
    "# Solve the dynamic optimization problem (by policy iteration)\n",
    "res = ddp.solve()"
   ]
  },
  {
   "cell_type": "code",
   "execution_count": 8,
   "metadata": {
    "collapsed": false
   },
   "outputs": [
    {
     "data": {
      "text/plain": [
       "4"
      ]
     },
     "execution_count": 8,
     "metadata": {},
     "output_type": "execute_result"
    }
   ],
   "source": [
    "# Number of iterations\n",
    "res.num_iter"
   ]
  },
  {
   "cell_type": "code",
   "execution_count": 9,
   "metadata": {
    "collapsed": false
   },
   "outputs": [
    {
     "data": {
      "text/plain": [
       "array([0, 0, 0, 1, 1, 1, 1, 1, 1, 1, 2, 2, 2, 2, 2, 2, 3, 3, 3, 3, 3, 4, 4,\n",
       "       4, 4, 4, 5, 5, 5, 5, 5])"
      ]
     },
     "execution_count": 9,
     "metadata": {},
     "output_type": "execute_result"
    }
   ],
   "source": [
    "# Optimal policy\n",
    "res.sigma"
   ]
  },
  {
   "cell_type": "code",
   "execution_count": 10,
   "metadata": {
    "collapsed": false
   },
   "outputs": [
    {
     "data": {
      "text/plain": [
       "array([ 338.41645251,  361.98791375,  377.4257383 ,  391.4257383 ,\n",
       "        405.2360958 ,  417.9622843 ,  429.86115765,  441.17106277,\n",
       "        452.06672421,  462.66012607,  473.03554185,  483.40234488,\n",
       "        493.51237732,  503.35334776,  512.93797732,  522.31628408,\n",
       "        531.65601391,  540.88902181,  549.98545145,  558.93954761,\n",
       "        567.74582688,  576.47074514,  585.14046164,  593.69786291,\n",
       "        602.15675175,  610.510884  ,  618.80539659,  627.0562497 ,\n",
       "        635.2098027 ,  643.28164235,  651.27787278])"
      ]
     },
     "execution_count": 10,
     "metadata": {},
     "output_type": "execute_result"
    }
   ],
   "source": [
    "# Optimal value function\n",
    "res.v"
   ]
  },
  {
   "cell_type": "code",
   "execution_count": 11,
   "metadata": {
    "collapsed": false
   },
   "outputs": [],
   "source": [
    "# Simulate the controlled Markov chain for num_rep times\n",
    "# and compute the average\n",
    "init = 0\n",
    "ts_length = 50+1\n",
    "num_rep = 10**4\n",
    "ave_path = np.zeros(ts_length)\n",
    "for i in range(num_rep):\n",
    "    path = res.mc.simulate(ts_length=ts_length, init=init)\n",
    "    ave_path = (i/(i+1)) * ave_path + (1/(i+1)) * path"
   ]
  },
  {
   "cell_type": "code",
   "execution_count": 12,
   "metadata": {
    "collapsed": false
   },
   "outputs": [
    {
     "data": {
      "text/plain": [
       "array([  0.    ,   2.0076,   3.6916,   4.8749,   5.9399,   6.9335,\n",
       "         7.8346,   8.594 ,   9.2321,   9.7442,  10.1507,  10.4783,\n",
       "        10.7694,  10.9905,  11.1806,  11.3171,  11.4592,  11.5937,\n",
       "        11.7225,  11.7955,  11.8641,  11.9459,  12.0107,  12.068 ,\n",
       "        12.1115,  12.1446,  12.1877,  12.2287,  12.2554,  12.2785,\n",
       "        12.3042,  12.3143,  12.329 ,  12.3446,  12.3614,  12.3895,\n",
       "        12.3892,  12.4071,  12.4284,  12.4467,  12.4671,  12.4698,\n",
       "        12.4751,  12.4781,  12.4934,  12.4953,  12.4943,  12.5094,\n",
       "        12.4959,  12.4977,  12.4809])"
      ]
     },
     "execution_count": 12,
     "metadata": {},
     "output_type": "execute_result"
    }
   ],
   "source": [
    "ave_path"
   ]
  },
  {
   "cell_type": "code",
   "execution_count": 13,
   "metadata": {
    "collapsed": false
   },
   "outputs": [],
   "source": [
    "# Stationary distribution of the Markov chain\n",
    "stationary_dist = res.mc.stationary_distributions[0]"
   ]
  },
  {
   "cell_type": "code",
   "execution_count": 14,
   "metadata": {
    "collapsed": false
   },
   "outputs": [
    {
     "data": {
      "text/plain": [
       "array([  0.00000000e+00,   0.00000000e+00,   1.15115026e-07,\n",
       "         1.03603524e-06,   8.05805183e-06,   5.98598136e-05,\n",
       "         4.44344001e-04,   3.29804550e-03,   2.44792103e-02,\n",
       "         6.08112470e-02,   1.20881706e-01,   1.39769288e-01,\n",
       "         1.50250205e-01,   1.50250201e-01,   1.39769301e-01,\n",
       "         1.20881695e-01,   6.08112091e-02,   2.44793930e-02,\n",
       "         3.29774206e-03,   4.43926815e-04,   5.70763048e-05,\n",
       "         6.34181165e-06,   0.00000000e+00,   0.00000000e+00,\n",
       "         0.00000000e+00,   0.00000000e+00,   0.00000000e+00,\n",
       "         0.00000000e+00,   0.00000000e+00,   0.00000000e+00,\n",
       "         0.00000000e+00])"
      ]
     },
     "execution_count": 14,
     "metadata": {},
     "output_type": "execute_result"
    }
   ],
   "source": [
    "stationary_dist"
   ]
  },
  {
   "cell_type": "code",
   "execution_count": 15,
   "metadata": {
    "collapsed": false
   },
   "outputs": [
    {
     "data": {
      "image/png": "[encoded data removed]",
      "text/plain": [
       "<matplotlib.figure.Figure at 0x11692ae90>"
      ]
     },
     "metadata": {},
     "output_type": "display_data"
    }
   ],
   "source": [
    "# Plot sigma, v, ave_path, stationary_dist\n",
    "hspace = 0.3\n",
    "fig, ax = plt.subplots(2, 2, figsize=(12, 8+hspace))\n",
    "fig.subplots_adjust(hspace=hspace)\n",
    "\n",
    "ax[0, 0].plot(res.sigma, '*')\n",
    "ax[0, 0].set_xlim(-1, 31)\n",
    "ax[0, 0].set_ylim(-0.5, 5.5)\n",
    "ax[0, 0].set_xlabel('Water Level')\n",
    "ax[0, 0].set_ylabel('Irrigation')\n",
    "ax[0, 0].set_title('Optimal Irrigation Policy')\n",
    "\n",
    "ax[0, 1].plot(res.v)\n",
    "ax[0, 1].set_xlabel('Water Level')\n",
    "ax[0, 1].set_ylabel('Value')\n",
    "ax[0, 1].set_title('Optimal Value Function')\n",
    "\n",
    "ax[1, 0].plot(ave_path)\n",
    "ax[1, 0].set_xlabel('Year')\n",
    "ax[1, 0].set_ylabel('Water Level')\n",
    "ax[1, 0].set_title('Average Optimal State Path')\n",
    "\n",
    "ax[1, 1].bar(range(n), stationary_dist, align='center')\n",
    "ax[1, 1].set_xlim(-1, n)\n",
    "ax[1, 1].set_xlabel('Water Level')\n",
    "ax[1, 1].set_ylabel('Probability')\n",
    "ax[1, 1].set_title('Stationary Distribution')\n",
    "\n",
    "plt.show()"
   ]
  },
  {
   "cell_type": "code",
   "execution_count": null,
   "metadata": {
    "collapsed": false
   },
   "outputs": [],
   "source": []
  }
 ],
 "metadata": {
  "kernelspec": {
   "display_name": "Python 2",
   "language": "python",
   "name": "python2"
  },
  "language_info": {
   "codemirror_mode": {
    "name": "ipython",
    "version": 2
   },
   "file_extension": ".py",
   "mimetype": "text/x-python",
   "name": "python",
   "nbconvert_exporter": "python",
   "pygments_lexer": "ipython2",
   "version": "2.7.10"
  }
 },
 "nbformat": 4,
 "nbformat_minor": 0
}
