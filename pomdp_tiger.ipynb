{
 "cells": [
  {
   "cell_type": "markdown",
   "metadata": {},
   "source": [
    "# DiscreteDP Example: POMDP Tiger Example"
   ]
  },
  {
   "cell_type": "markdown",
   "metadata": {},
   "source": [
    "We solve the Tiger Example,\n",
    "a famous example of POMDP (Partially Observable Markov Decision Process),\n",
    "by discretizing the belief state of the corresponding MDP."
   ]
  },
  {
   "cell_type": "code",
   "execution_count": 1,
   "metadata": {
    "collapsed": true
   },
   "outputs": [],
   "source": [
    "%matplotlib inline"
   ]
  },
  {
   "cell_type": "code",
   "execution_count": 2,
   "metadata": {
    "collapsed": true
   },
   "outputs": [],
   "source": [
    "from __future__ import division\n",
    "import numpy as np\n",
    "import scipy.sparse as sparse\n",
    "import matplotlib.pyplot as plt\n",
    "from quantecon.markov import DiscreteDP"
   ]
  },
  {
   "cell_type": "markdown",
   "metadata": {},
   "source": [
    "States (in POMDP):\n",
    "* `s_L`: Tiger is on the left\n",
    "* `s_R`: Tiger is on the right\n",
    "\n",
    "Actions:\n",
    "* 0: Listen\n",
    "* 1: Open left\n",
    "* 2: Open right\n",
    "\n",
    "Obervations:\n",
    "* TL\n",
    "* TR\n",
    "\n",
    "States (in MDP):\n",
    "* $s \\in [0, 1]$: belief of state `s_R`"
   ]
  },
  {
   "cell_type": "code",
   "execution_count": 3,
   "metadata": {
    "collapsed": false
   },
   "outputs": [],
   "source": [
    "def prob_TL(belief, noise_prob_L=0.15, noise_prob_R=0.15):\n",
    "    return (1-noise_prob_L) * (1-belief) + noise_prob_R * belief\n",
    "\n",
    "def prob_TR(belief, noise_prob_L=0.15, noise_prob_R=0.15):\n",
    "    return noise_prob_L * (1-belief) + (1-noise_prob_R) * belief\n",
    "\n",
    "def bayes_update_TL(belief, noise_prob_L=0.15, noise_prob_R=0.15):\n",
    "    return noise_prob_R * belief / prob_TL(belief, noise_prob_L, noise_prob_R)\n",
    "\n",
    "def bayes_update_TR(belief, noise_prob_L=0.15, noise_prob_R=0.15):\n",
    "    return (1-noise_prob_R) * belief / prob_TR(belief, noise_prob_L, noise_prob_R)"
   ]
  },
  {
   "cell_type": "code",
   "execution_count": 4,
   "metadata": {
    "collapsed": false
   },
   "outputs": [],
   "source": [
    "def nearest_idx(grid, v):\n",
    "    mid_points = (grid[:-1] + grid[1:]) / 2\n",
    "    return np.searchsorted(mid_points, v)"
   ]
  },
  {
   "cell_type": "code",
   "execution_count": 5,
   "metadata": {
    "collapsed": false
   },
   "outputs": [],
   "source": [
    "def tiger_mdp(belief_grid, beta=0.95):\n",
    "    # Number of actions\n",
    "    num_actions = 3\n",
    "    # Actions\n",
    "    # 0: Listen, 1: OpenL, 2:OpenR\n",
    "\n",
    "    # Number of state-action pairs\n",
    "    grid_size = len(belief_grid)\n",
    "    L = grid_size * num_actions\n",
    "\n",
    "    s_indices = np.repeat(np.arange(grid_size), num_actions)\n",
    "    a_indices = np.tile(np.arange(num_actions), grid_size)\n",
    "\n",
    "    # Reward vector\n",
    "    reward = 10\n",
    "    penalty = -100\n",
    "    cost = -1\n",
    "\n",
    "    R = np.empty((grid_size, num_actions))\n",
    "    # Listen\n",
    "    R[:, 0] = cost\n",
    "    # OpenL\n",
    "    R[:, 1] = penalty * (1 - belief_grid) + reward * belief_grid\n",
    "    # OpenR\n",
    "    R[:, 2] = reward * (1 - belief_grid) + penalty * belief_grid\n",
    "\n",
    "    R.shape = (L,)\n",
    "\n",
    "    # Transition probability matrix\n",
    "    data = np.empty(grid_size*(num_actions+1))\n",
    "    row = np.empty(grid_size*(num_actions+1), dtype=int)\n",
    "    col = np.empty(grid_size*(num_actions+1), dtype=int)\n",
    "\n",
    "    # If listen:\n",
    "    a = 0\n",
    "    # observe TL with prob prob_TL\n",
    "    data[a*grid_size:(a+1)*grid_size] = prob_TL(belief_grid)\n",
    "    row[a*grid_size:(a+1)*grid_size] = np.arange(a, L, num_actions)\n",
    "    col[a*grid_size:(a+1)*grid_size] = \\\n",
    "        nearest_idx(belief_grid, bayes_update_TL(belief_grid))\n",
    "    # observe TL with prob prob_TR\n",
    "    data[(a+1)*grid_size:(a+2)*grid_size] = prob_TR(belief_grid)\n",
    "    row[(a+1)*grid_size:(a+2)*grid_size] = np.arange(a, L, num_actions)\n",
    "    col[(a+1)*grid_size:(a+2)*grid_size] = \\\n",
    "        nearest_idx(belief_grid, bayes_update_TR(belief_grid))\n",
    "\n",
    "    # Once open the door, the problem is reset\n",
    "    prob_half_idx = np.abs(belief_grid-1/2).argmin()\n",
    "    for a in [1, 2]:\n",
    "        data[(a+1)*grid_size:(a+2)*grid_size] = 1\n",
    "        row[(a+1)*grid_size:(a+2)*grid_size] = np.arange(a, L, num_actions)\n",
    "        col[(a+1)*grid_size:(a+2)*grid_size] = prob_half_idx\n",
    "\n",
    "    Q = sparse.coo_matrix((data, (row, col)), shape=(L,grid_size))\n",
    "    Q.sum_duplicates()\n",
    "    \n",
    "    return DiscreteDP(R, Q, beta, s_indices, a_indices)"
   ]
  },
  {
   "cell_type": "code",
   "execution_count": 6,
   "metadata": {
    "collapsed": false
   },
   "outputs": [],
   "source": [
    "grid_size = 5001\n",
    "belief_grid = np.linspace(0, 1, grid_size)"
   ]
  },
  {
   "cell_type": "code",
   "execution_count": 7,
   "metadata": {
    "collapsed": false
   },
   "outputs": [
    {
     "data": {
      "text/plain": [
       "array([  0.00000000e+00,   2.00000000e-04,   4.00000000e-04, ...,\n",
       "         9.99600000e-01,   9.99800000e-01,   1.00000000e+00])"
      ]
     },
     "execution_count": 7,
     "metadata": {},
     "output_type": "execute_result"
    }
   ],
   "source": [
    "belief_grid"
   ]
  },
  {
   "cell_type": "code",
   "execution_count": 8,
   "metadata": {
    "collapsed": false
   },
   "outputs": [],
   "source": [
    "mdp = tiger_mdp(belief_grid, beta=0.95)"
   ]
  },
  {
   "cell_type": "code",
   "execution_count": 9,
   "metadata": {
    "collapsed": false
   },
   "outputs": [],
   "source": [
    "res = mdp.solve(method='policy_iteration')"
   ]
  },
  {
   "cell_type": "code",
   "execution_count": 10,
   "metadata": {
    "collapsed": false
   },
   "outputs": [
    {
     "data": {
      "text/plain": [
       "3"
      ]
     },
     "execution_count": 10,
     "metadata": {},
     "output_type": "execute_result"
    }
   ],
   "source": [
    "res.num_iter"
   ]
  },
  {
   "cell_type": "code",
   "execution_count": 11,
   "metadata": {
    "collapsed": false
   },
   "outputs": [
    {
     "data": {
      "image/png": "[encoded data removed]",
      "text/plain": [
       "<matplotlib.figure.Figure at 0x1176b7790>"
      ]
     },
     "metadata": {},
     "output_type": "display_data"
    }
   ],
   "source": [
    "fig, ax = plt.subplots(figsize=(8,5))\n",
    "action_labels = ['Listen', 'Open Left', 'Open Right']\n",
    "upper_bounds = np.empty(len(action_labels))\n",
    "for a, label in enumerate(action_labels):\n",
    "    segment = np.where(res.sigma==a)[0]\n",
    "    ax.plot(belief_grid[segment], res.v[segment], label=label)\n",
    "ax.set_title('Value function with regular grid of size {0}'.format(grid_size))\n",
    "ax.set_xlabel('Belief')\n",
    "ax.set_ylabel('Value')\n",
    "cutoffs = (np.where(res.sigma==1)[0][0], np.where(res.sigma==2)[0][-1])\n",
    "plt.xticks(list(plt.xticks()[0]) +\n",
    "           [belief_grid[cutoff] for cutoff in cutoffs])\n",
    "plt.legend()\n",
    "plt.show()"
   ]
  },
  {
   "cell_type": "code",
   "execution_count": null,
   "metadata": {
    "collapsed": false
   },
   "outputs": [],
   "source": []
  }
 ],
 "metadata": {
  "kernelspec": {
   "display_name": "Python 2",
   "language": "python",
   "name": "python2"
  },
  "language_info": {
   "codemirror_mode": {
    "name": "ipython",
    "version": 2
   },
   "file_extension": ".py",
   "mimetype": "text/x-python",
   "name": "python",
   "nbconvert_exporter": "python",
   "pygments_lexer": "ipython2",
   "version": "2.7.10"
  }
 },
 "nbformat": 4,
 "nbformat_minor": 0
}
