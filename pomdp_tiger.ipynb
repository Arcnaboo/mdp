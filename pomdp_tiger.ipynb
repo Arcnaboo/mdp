{
 "metadata": {
  "kernelspec": {
   "display_name": "Python 2",
   "language": "python",
   "name": "python2"
  },
  "language_info": {
   "codemirror_mode": {
    "name": "ipython",
    "version": 2
   },
   "file_extension": ".py",
   "mimetype": "text/x-python",
   "name": "python",
   "nbconvert_exporter": "python",
   "pygments_lexer": "ipython2",
   "version": "2.7.10"
  },
  "name": "",
  "signature": "sha256:c033c87b07465cdcc9ce3fae2287b12b24ab3b7af0e385aca2c2f233685c99b9"
 },
 "nbformat": 3,
 "nbformat_minor": 0,
 "worksheets": [
  {
   "cells": [
    {
     "cell_type": "markdown",
     "metadata": {},
     "source": [
      "# POMDP: Tiger example"
     ]
    },
    {
     "cell_type": "code",
     "collapsed": true,
     "input": [
      "%matplotlib inline"
     ],
     "language": "python",
     "metadata": {},
     "outputs": [],
     "prompt_number": 1
    },
    {
     "cell_type": "code",
     "collapsed": true,
     "input": [
      "from __future__ import division, print_function\n",
      "import numpy as np\n",
      "import scipy.sparse as sparse\n",
      "import itertools\n",
      "import matplotlib.pyplot as plt\n",
      "from numba import jit\n",
      "from mdp_sa import MDP_sa"
     ],
     "language": "python",
     "metadata": {},
     "outputs": [],
     "prompt_number": 2
    },
    {
     "cell_type": "markdown",
     "metadata": {},
     "source": [
      "States (in POMDP):\n",
      "* `s_L`: Tiger is on the left\n",
      "* `s_R`: Tiger is on the right\n",
      "\n",
      "Actions:\n",
      "* 0: Listen\n",
      "* 1: Open left\n",
      "* 2: Open right\n",
      "\n",
      "Obervations:\n",
      "* TL\n",
      "* TR\n",
      "\n",
      "States (in MDP):\n",
      "* $s \\in [0, 1]$: belief of state `s_R`"
     ]
    },
    {
     "cell_type": "code",
     "collapsed": false,
     "input": [
      "def prob_TL(belief, noise_prob_L=0.15, noise_prob_R=0.15):\n",
      "    return (1-noise_prob_L) * (1-belief) + noise_prob_R * belief\n",
      "\n",
      "def prob_TR(belief, noise_prob_L=0.15, noise_prob_R=0.15):\n",
      "    return noise_prob_L * (1-belief) + (1-noise_prob_R) * belief\n",
      "\n",
      "def bayes_update_TL(belief, noise_prob_L=0.15, noise_prob_R=0.15):\n",
      "    return noise_prob_R * belief / prob_TL(belief, noise_prob_L, noise_prob_R)\n",
      "\n",
      "def bayes_update_TR(belief, noise_prob_L=0.15, noise_prob_R=0.15):\n",
      "    return (1-noise_prob_R) * belief / prob_TR(belief, noise_prob_L, noise_prob_R)"
     ],
     "language": "python",
     "metadata": {},
     "outputs": [],
     "prompt_number": 3
    },
    {
     "cell_type": "code",
     "collapsed": false,
     "input": [
      "def nearest_idx(grid, v):\n",
      "    mid_points = (grid[:-1] + grid[1:]) / 2\n",
      "    return np.searchsorted(mid_points, v)"
     ],
     "language": "python",
     "metadata": {},
     "outputs": [],
     "prompt_number": 4
    },
    {
     "cell_type": "code",
     "collapsed": false,
     "input": [
      "def tiger_mdp(belief_grid, beta=0.95):\n",
      "    # Number of actions\n",
      "    num_actions = 3\n",
      "    # Actions\n",
      "    # 0: Listen, 1: OpenL, 2:OpenR\n",
      "\n",
      "    # Number of state-action pairs\n",
      "    grid_size = len(belief_grid)\n",
      "    L = grid_size * num_actions\n",
      "\n",
      "    s_indices = np.repeat(np.arange(grid_size), num_actions)\n",
      "    a_indices = np.tile(np.arange(num_actions), grid_size)\n",
      "\n",
      "    # Reward vector\n",
      "    reward = 10\n",
      "    penalty = -100\n",
      "    cost = -1\n",
      "\n",
      "    R = np.empty((grid_size, num_actions))\n",
      "    # Listen\n",
      "    R[:, 0] = cost\n",
      "    # OpenL\n",
      "    R[:, 1] = penalty * (1 - belief_grid) + reward * belief_grid\n",
      "    # OpenR\n",
      "    R[:, 2] = reward * (1 - belief_grid) + penalty * belief_grid\n",
      "\n",
      "    R.shape = (L,)\n",
      "\n",
      "    # Transition probability matrix\n",
      "    data = np.empty(grid_size*(num_actions+1))\n",
      "    row = np.empty(grid_size*(num_actions+1), dtype=int)\n",
      "    col = np.empty(grid_size*(num_actions+1), dtype=int)\n",
      "\n",
      "    # If listen:\n",
      "    a = 0\n",
      "    # observe TL with prob prob_TL\n",
      "    data[a*grid_size:(a+1)*grid_size] = prob_TL(belief_grid)\n",
      "    row[a*grid_size:(a+1)*grid_size] = np.arange(a, L, num_actions)\n",
      "    col[a*grid_size:(a+1)*grid_size] = \\\n",
      "        nearest_idx(belief_grid, bayes_update_TL(belief_grid))\n",
      "    # observe TL with prob prob_TR\n",
      "    data[(a+1)*grid_size:(a+2)*grid_size] = prob_TR(belief_grid)\n",
      "    row[(a+1)*grid_size:(a+2)*grid_size] = np.arange(a, L, num_actions)\n",
      "    col[(a+1)*grid_size:(a+2)*grid_size] = \\\n",
      "        nearest_idx(belief_grid, bayes_update_TR(belief_grid))\n",
      "\n",
      "    # Once open the door, the problem is reset\n",
      "    prob_half_idx = np.abs(belief_grid-1/2).argmin()\n",
      "    for a in [1, 2]:\n",
      "        data[(a+1)*grid_size:(a+2)*grid_size] = 1\n",
      "        row[(a+1)*grid_size:(a+2)*grid_size] = np.arange(a, L, num_actions)\n",
      "        col[(a+1)*grid_size:(a+2)*grid_size] = prob_half_idx\n",
      "\n",
      "    Q = sparse.coo_matrix((data, (row, col)), shape=(L,grid_size))\n",
      "    Q.sum_duplicates()\n",
      "    \n",
      "    return MDP_sa(R, Q, beta, s_indices, a_indices)"
     ],
     "language": "python",
     "metadata": {},
     "outputs": [],
     "prompt_number": 5
    },
    {
     "cell_type": "code",
     "collapsed": false,
     "input": [
      "grid_size = 5001\n",
      "belief_grid = np.linspace(0, 1, grid_size)"
     ],
     "language": "python",
     "metadata": {},
     "outputs": [],
     "prompt_number": 6
    },
    {
     "cell_type": "code",
     "collapsed": false,
     "input": [
      "belief_grid"
     ],
     "language": "python",
     "metadata": {},
     "outputs": [
      {
       "metadata": {},
       "output_type": "pyout",
       "prompt_number": 7,
       "text": [
        "array([  0.00000000e+00,   2.00000000e-04,   4.00000000e-04, ...,\n",
        "         9.99600000e-01,   9.99800000e-01,   1.00000000e+00])"
       ]
      }
     ],
     "prompt_number": 7
    },
    {
     "cell_type": "code",
     "collapsed": false,
     "input": [
      "mdp = tiger_mdp(belief_grid, beta=0.95)"
     ],
     "language": "python",
     "metadata": {},
     "outputs": [],
     "prompt_number": 8
    },
    {
     "cell_type": "code",
     "collapsed": false,
     "input": [
      "v, sigma, mc, num_iter = mdp.solve(method='policy_iteration', return_num_iter=True)"
     ],
     "language": "python",
     "metadata": {},
     "outputs": [],
     "prompt_number": 9
    },
    {
     "cell_type": "code",
     "collapsed": false,
     "input": [
      "num_iter"
     ],
     "language": "python",
     "metadata": {},
     "outputs": [
      {
       "metadata": {},
       "output_type": "pyout",
       "prompt_number": 10,
       "text": [
        "3"
       ]
      }
     ],
     "prompt_number": 10
    },
    {
     "cell_type": "code",
     "collapsed": false,
     "input": [
      "fig, ax = plt.subplots(figsize=(8,5))\n",
      "action_labels = ['Listen', 'Open Left', 'Open Right']\n",
      "upper_bounds = np.empty(len(action_labels))\n",
      "for a, label in enumerate(action_labels):\n",
      "    segment = np.where(sigma==a)[0]\n",
      "    ax.plot(belief_grid[segment], v[segment], label=label)\n",
      "ax.set_title('Value function with regular grid of size {0}'.format(grid_size))\n",
      "ax.set_xlabel('Belief')\n",
      "ax.set_ylabel('Value')\n",
      "cutoffs = (np.where(sigma==1)[0][0], np.where(sigma==2)[0][-1])\n",
      "plt.xticks(list(plt.xticks()[0]) +\n",
      "           [belief_grid[cutoff] for cutoff in cutoffs])\n",
      "plt.legend()\n",
      "plt.show()"
     ],
     "language": "python",
     "metadata": {},
     "outputs": [
      {
       "metadata": {},
       "output_type": "display_data",
       "png": "[encoded data removed]",
       "text": [
        "<matplotlib.figure.Figure at 0x10c0ee150>"
       ]
      }
     ],
     "prompt_number": 11
    },
    {
     "cell_type": "code",
     "collapsed": false,
     "input": [
      "prob_half_idx = np.abs(belief_grid-1/2).argmin()\n",
      "x = mc.simulate(init=prob_half_idx, sample_size=30)\n",
      "\n",
      "fig, ax = plt.subplots(2, 1, figsize=(8, 8))\n",
      "ax[0].plot(v[x])\n",
      "ax[1].plot(sigma[x], 'o')\n",
      "for i in range(2):\n",
      "    ax[i].set_xlabel('Time')\n",
      "ax[0].set_ylabel('Value')\n",
      "ax[1].set_ylabel('Action')\n",
      "ax[1].set_ylim(-0.5, 2.5)\n",
      "ax[1].set_yticks([0, 1, 2])\n",
      "plt.show()"
     ],
     "language": "python",
     "metadata": {},
     "outputs": [
      {
       "metadata": {},
       "output_type": "display_data",
       "png": "[encoded data removed]",
       "text": [
        "<matplotlib.figure.Figure at 0x10c297090>"
       ]
      }
     ],
     "prompt_number": 12
    },
    {
     "cell_type": "code",
     "collapsed": false,
     "input": [
      "v[0]"
     ],
     "language": "python",
     "metadata": {},
     "outputs": [
      {
       "metadata": {},
       "output_type": "pyout",
       "prompt_number": 13,
       "text": [
        "28.403519240760929"
       ]
      }
     ],
     "prompt_number": 13
    },
    {
     "cell_type": "code",
     "collapsed": false,
     "input": [
      "v[-1]"
     ],
     "language": "python",
     "metadata": {},
     "outputs": [
      {
       "metadata": {},
       "output_type": "pyout",
       "prompt_number": 14,
       "text": [
        "28.403519240760925"
       ]
      }
     ],
     "prompt_number": 14
    },
    {
     "cell_type": "code",
     "collapsed": false,
     "input": [
      "v[2500]"
     ],
     "language": "python",
     "metadata": {},
     "outputs": [
      {
       "metadata": {},
       "output_type": "pyout",
       "prompt_number": 15,
       "text": [
        "19.372125516590451"
       ]
      }
     ],
     "prompt_number": 15
    },
    {
     "cell_type": "markdown",
     "metadata": {},
     "source": [
      "## Simulated grid"
     ]
    },
    {
     "cell_type": "code",
     "collapsed": false,
     "input": [
      "@jit\n",
      "def random_grid(num_samplings, init_beliefs, seed=None,\n",
      "                noise_prob_L=0.15, noise_prob_R=0.15):\n",
      "    num_reps = len(init_beliefs)\n",
      "    beliefs = np.empty((num_reps, num_samplings))\n",
      "\n",
      "    random_state = np.random.RandomState(seed)\n",
      "    r = random_state.random_sample((num_reps, num_samplings))\n",
      "\n",
      "    for i in range(num_reps):\n",
      "        beliefs[i, 0] = init_beliefs[i]\n",
      "        for j in range(num_samplings-1):\n",
      "            prob_TL = \\\n",
      "                (1-noise_prob_L) * (1-beliefs[i, j]) + noise_prob_R * beliefs[i, j]\n",
      "            if r[i, j+1] < 1/2:  #prob_TL:  #####\n",
      "                beliefs[i, j+1] = noise_prob_R * beliefs[i, j] / prob_TL\n",
      "            else:\n",
      "                prob_TR = 1 - prob_TL\n",
      "                beliefs[i, j+1] = (1-noise_prob_R) * beliefs[i, j] / prob_TR\n",
      "\n",
      "    grid = np.unique(beliefs).ravel()\n",
      "    return grid"
     ],
     "language": "python",
     "metadata": {},
     "outputs": [],
     "prompt_number": 16
    },
    {
     "cell_type": "code",
     "collapsed": false,
     "input": [
      "num_samplings = 10**3\n",
      "init_beliefs = [0.01*i + 0.45 for i in range(11)] * 2\n",
      "#num_samplings = 10**5\n",
      "#init_beliefs = [0.5] + [0.07, 0.93]\n",
      "for seed in range(50):\n",
      "    grid = random_grid(num_samplings=num_samplings, init_beliefs=init_beliefs, seed=seed)\n",
      "    print(seed, grid.size)"
     ],
     "language": "python",
     "metadata": {},
     "outputs": [
      {
       "output_type": "stream",
       "stream": "stdout",
       "text": [
        "0 13866\n",
        "1 11418\n",
        "2"
       ]
      },
      {
       "output_type": "stream",
       "stream": "stdout",
       "text": [
        " 12415\n",
        "3 12769\n",
        "4"
       ]
      },
      {
       "output_type": "stream",
       "stream": "stdout",
       "text": [
        " 12581\n",
        "5 12672\n",
        "6"
       ]
      },
      {
       "output_type": "stream",
       "stream": "stdout",
       "text": [
        " 12402\n",
        "7 10778\n",
        "8"
       ]
      },
      {
       "output_type": "stream",
       "stream": "stdout",
       "text": [
        " 13785\n",
        "9 11921\n",
        "10"
       ]
      },
      {
       "output_type": "stream",
       "stream": "stdout",
       "text": [
        " 12220\n",
        "11 13135\n",
        "12"
       ]
      },
      {
       "output_type": "stream",
       "stream": "stdout",
       "text": [
        " 14480\n",
        "13 12034\n",
        "14"
       ]
      },
      {
       "output_type": "stream",
       "stream": "stdout",
       "text": [
        " 12801\n",
        "15 11746\n",
        "16"
       ]
      },
      {
       "output_type": "stream",
       "stream": "stdout",
       "text": [
        " 12218\n",
        "17 14601\n",
        "18"
       ]
      },
      {
       "output_type": "stream",
       "stream": "stdout",
       "text": [
        " 12780\n",
        "19 12580\n",
        "20"
       ]
      },
      {
       "output_type": "stream",
       "stream": "stdout",
       "text": [
        " 11711\n",
        "21 12838\n",
        "22"
       ]
      },
      {
       "output_type": "stream",
       "stream": "stdout",
       "text": [
        " 10955\n",
        "23 15237\n",
        "24"
       ]
      },
      {
       "output_type": "stream",
       "stream": "stdout",
       "text": [
        " 14417\n",
        "25 11799\n",
        "26"
       ]
      },
      {
       "output_type": "stream",
       "stream": "stdout",
       "text": [
        " 12958\n",
        "27 11775\n",
        "28"
       ]
      },
      {
       "output_type": "stream",
       "stream": "stdout",
       "text": [
        " 11869\n",
        "29 14474\n",
        "30"
       ]
      },
      {
       "output_type": "stream",
       "stream": "stdout",
       "text": [
        " 11577\n",
        "31 10505\n",
        "32"
       ]
      },
      {
       "output_type": "stream",
       "stream": "stdout",
       "text": [
        " 11697\n",
        "33 13106\n",
        "34"
       ]
      },
      {
       "output_type": "stream",
       "stream": "stdout",
       "text": [
        " 13335\n",
        "35 11472\n",
        "36"
       ]
      },
      {
       "output_type": "stream",
       "stream": "stdout",
       "text": [
        " 11338\n",
        "37 13967\n",
        "38"
       ]
      },
      {
       "output_type": "stream",
       "stream": "stdout",
       "text": [
        " 12160\n",
        "39 10383\n",
        "40"
       ]
      },
      {
       "output_type": "stream",
       "stream": "stdout",
       "text": [
        " 11066\n",
        "41 15075\n",
        "42"
       ]
      },
      {
       "output_type": "stream",
       "stream": "stdout",
       "text": [
        " 12046\n",
        "43 11683\n",
        "44"
       ]
      },
      {
       "output_type": "stream",
       "stream": "stdout",
       "text": [
        " 14021\n",
        "45 14075\n",
        "46"
       ]
      },
      {
       "output_type": "stream",
       "stream": "stdout",
       "text": [
        " 13388\n",
        "47 14186\n",
        "48"
       ]
      },
      {
       "output_type": "stream",
       "stream": "stdout",
       "text": [
        " 11521\n",
        "49 13577\n"
       ]
      }
     ],
     "prompt_number": 17
    },
    {
     "cell_type": "code",
     "collapsed": false,
     "input": [
      "belief_grid = random_grid(num_samplings=num_samplings, init_beliefs=init_beliefs, seed=10)\n",
      "grid_size = belief_grid.size\n",
      "print(grid_size)"
     ],
     "language": "python",
     "metadata": {},
     "outputs": [
      {
       "output_type": "stream",
       "stream": "stdout",
       "text": [
        "12220\n"
       ]
      }
     ],
     "prompt_number": 18
    },
    {
     "cell_type": "code",
     "collapsed": false,
     "input": [
      "mdp_random_grid = tiger_mdp(belief_grid)"
     ],
     "language": "python",
     "metadata": {},
     "outputs": [],
     "prompt_number": 19
    },
    {
     "cell_type": "code",
     "collapsed": false,
     "input": [
      "v, sigma, mc, num_iter = \\\n",
      "    mdp_random_grid.solve(method='policy_iteration', return_num_iter=True)"
     ],
     "language": "python",
     "metadata": {},
     "outputs": [],
     "prompt_number": 20
    },
    {
     "cell_type": "code",
     "collapsed": false,
     "input": [
      "num_iter"
     ],
     "language": "python",
     "metadata": {},
     "outputs": [
      {
       "metadata": {},
       "output_type": "pyout",
       "prompt_number": 21,
       "text": [
        "2"
       ]
      }
     ],
     "prompt_number": 21
    },
    {
     "cell_type": "code",
     "collapsed": false,
     "input": [
      "fig, ax = plt.subplots(figsize=(8,5))\n",
      "action_labels = ['Listen', 'Open Left', 'Open Right']\n",
      "for a, label in enumerate(action_labels):\n",
      "    segment = np.where(sigma==a)[0]\n",
      "    ax.plot(belief_grid[segment], v[segment], label=label)\n",
      "ax.set_title('Value function with simulated grid of size {0}'.format(grid_size))\n",
      "ax.set_xlabel('Belief')\n",
      "ax.set_ylabel('Value')\n",
      "cutoffs = (np.where(sigma==1)[0][0], np.where(sigma==2)[0][-1])\n",
      "plt.xticks(list(plt.xticks()[0]) +\n",
      "           [belief_grid[cutoff] for cutoff in cutoffs])\n",
      "plt.legend()\n",
      "plt.show()"
     ],
     "language": "python",
     "metadata": {},
     "outputs": [
      {
       "metadata": {},
       "output_type": "display_data",
       "png": "[encoded data removed]",
       "text": [
        "<matplotlib.figure.Figure at 0x11a554810>"
       ]
      }
     ],
     "prompt_number": 22
    },
    {
     "cell_type": "code",
     "collapsed": false,
     "input": [
      "prob_half_idx = np.abs(belief_grid-1/2).argmin()\n",
      "x = mc.simulate(init=prob_half_idx, sample_size=30)\n",
      "\n",
      "fig, ax = plt.subplots(2, 1, figsize=(8, 8))\n",
      "ax[0].plot(v[x])\n",
      "ax[1].plot(sigma[x], 'o')\n",
      "for i in range(2):\n",
      "    ax[i].set_xlabel('Time')\n",
      "ax[0].set_ylabel('Value')\n",
      "ax[1].set_ylabel('Action')\n",
      "ax[1].set_ylim(-0.5, 2.5)\n",
      "ax[1].set_yticks([0, 1, 2])\n",
      "plt.show()"
     ],
     "language": "python",
     "metadata": {},
     "outputs": [
      {
       "metadata": {},
       "output_type": "display_data",
       "png": "[encoded data removed]",
       "text": [
        "<matplotlib.figure.Figure at 0x11a5c9fd0>"
       ]
      }
     ],
     "prompt_number": 23
    },
    {
     "cell_type": "code",
     "collapsed": false,
     "input": [],
     "language": "python",
     "metadata": {},
     "outputs": [],
     "prompt_number": 23
    }
   ],
   "metadata": {}
  }
 ]
}