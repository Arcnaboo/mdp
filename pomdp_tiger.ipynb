{
 "metadata": {
  "kernelspec": {
   "display_name": "Python 2",
   "language": "python",
   "name": "python2"
  },
  "language_info": {
   "codemirror_mode": {
    "name": "ipython",
    "version": 2
   },
   "file_extension": ".py",
   "mimetype": "text/x-python",
   "name": "python",
   "nbconvert_exporter": "python",
   "pygments_lexer": "ipython2",
   "version": "2.7.10"
  },
  "name": "",
  "signature": "sha256:0818fc6a8deedd9e6b62dbc417e0265887ef904920ebb9ab7eb3fc74fe4fc3ab"
 },
 "nbformat": 3,
 "nbformat_minor": 0,
 "worksheets": [
  {
   "cells": [
    {
     "cell_type": "markdown",
     "metadata": {},
     "source": [
      "# POMDP: Tiger example"
     ]
    },
    {
     "cell_type": "code",
     "collapsed": true,
     "input": [
      "%matplotlib inline"
     ],
     "language": "python",
     "metadata": {},
     "outputs": [],
     "prompt_number": 1
    },
    {
     "cell_type": "code",
     "collapsed": true,
     "input": [
      "from __future__ import division, print_function\n",
      "import numpy as np\n",
      "import scipy.sparse as sparse\n",
      "import itertools\n",
      "import matplotlib.pyplot as plt\n",
      "from numba import jit\n",
      "from mdp_sa import MDP_sa"
     ],
     "language": "python",
     "metadata": {},
     "outputs": [],
     "prompt_number": 2
    },
    {
     "cell_type": "markdown",
     "metadata": {},
     "source": [
      "States (in POMDP):\n",
      "* `s_L`: Tiger is on the left\n",
      "* `s_R`: Tiger is on the right\n",
      "\n",
      "Actions:\n",
      "* 0: Open left\n",
      "* 1: Open right\n",
      "* 2: Listen\n",
      "\n",
      "Obervations:\n",
      "* TL\n",
      "* TR\n",
      "\n",
      "States (in MDP):\n",
      "* $s \\in [0, 1]$: belief of state `s_R`"
     ]
    },
    {
     "cell_type": "code",
     "collapsed": false,
     "input": [
      "def bayes_update_TL(belief, noise_prob_L=0.15, noise_prob_R=0.15):\n",
      "    prob_TL = (1-noise_prob_L) * (1-belief) + noise_prob_R * belief\n",
      "    return noise_prob_R * belief / prob_TL\n",
      "\n",
      "def bayes_update_TR(belief, noise_prob_L=0.15, noise_prob_R=0.15):\n",
      "    prob_TR = noise_prob_L * (1-belief) + (1-noise_prob_R) * belief\n",
      "    return (1-noise_prob_R) * belief / prob_TR"
     ],
     "language": "python",
     "metadata": {},
     "outputs": [],
     "prompt_number": 3
    },
    {
     "cell_type": "code",
     "collapsed": false,
     "input": [
      "def nearest_idx(grid, v):\n",
      "    mid_points = (grid[:-1] + grid[1:]) / 2\n",
      "    return np.searchsorted(mid_points, v)"
     ],
     "language": "python",
     "metadata": {},
     "outputs": [],
     "prompt_number": 4
    },
    {
     "cell_type": "code",
     "collapsed": false,
     "input": [
      "def tiger_mdp(belief_grid, beta=0.95):\n",
      "    # Number of actions\n",
      "    num_actions = 3\n",
      "\n",
      "    # Number of state-action pairs\n",
      "    grid_size = len(belief_grid)\n",
      "    L = grid_size * num_actions\n",
      "\n",
      "    s_indices = np.repeat(np.arange(grid_size), num_actions)\n",
      "    a_indices = np.tile(np.arange(num_actions), grid_size)\n",
      "\n",
      "    # Reward vector\n",
      "    reward = 10\n",
      "    penalty = -100\n",
      "    cost = -1\n",
      "\n",
      "    R = np.empty((grid_size, num_actions))\n",
      "    R[:, 0] = reward * (1 - belief_grid) + penalty * belief_grid\n",
      "    R[:, 1] = penalty * (1 - belief_grid) + reward * belief_grid\n",
      "    R[:, 2] = cost\n",
      "    R.shape = (L,)\n",
      "\n",
      "    # Transition probability matrix\n",
      "    data = np.empty(grid_size*(num_actions+1))\n",
      "    row = np.empty(grid_size*(num_actions+1), dtype=int)\n",
      "    col = np.empty(grid_size*(num_actions+1), dtype=int)\n",
      "\n",
      "    # Once open the door, the problem is reset\n",
      "    prob_half_idx = np.abs(belief_grid-1/2).argmin()\n",
      "    for a in [0, 1]:\n",
      "        data[a*grid_size:(a+1)*grid_size] = 1\n",
      "        row[a*grid_size:(a+1)*grid_size] = np.arange(a, L, num_actions)\n",
      "        col[a*grid_size:(a+1)*grid_size] = prob_half_idx\n",
      "\n",
      "    # If listen:\n",
      "    a = 2\n",
      "    # observe TL with prob 1/2\n",
      "    data[a*grid_size:(a+1)*grid_size] = 1/2\n",
      "    row[a*grid_size:(a+1)*grid_size] = np.arange(a, L, num_actions)\n",
      "    col[a*grid_size:(a+1)*grid_size] = \\\n",
      "        nearest_idx(belief_grid, bayes_update_TL(belief_grid))\n",
      "    # observe TL with prob 1/2\n",
      "    data[(a+1)*grid_size:(a+2)*grid_size] = 1/2\n",
      "    row[(a+1)*grid_size:(a+2)*grid_size] = np.arange(a, L, num_actions)\n",
      "    col[(a+1)*grid_size:(a+2)*grid_size] = \\\n",
      "        nearest_idx(belief_grid, bayes_update_TR(belief_grid))\n",
      "\n",
      "    Q = sparse.coo_matrix((data, (row, col)), shape=(L,grid_size))\n",
      "    Q.sum_duplicates()\n",
      "    \n",
      "    return MDP_sa(R, Q, beta, s_indices, a_indices)"
     ],
     "language": "python",
     "metadata": {},
     "outputs": [],
     "prompt_number": 5
    },
    {
     "cell_type": "code",
     "collapsed": false,
     "input": [
      "grid_size = 1001\n",
      "belief_grid = np.linspace(0, 1, grid_size)"
     ],
     "language": "python",
     "metadata": {},
     "outputs": [],
     "prompt_number": 6
    },
    {
     "cell_type": "code",
     "collapsed": false,
     "input": [
      "belief_grid"
     ],
     "language": "python",
     "metadata": {},
     "outputs": [
      {
       "metadata": {},
       "output_type": "pyout",
       "prompt_number": 7,
       "text": [
        "array([ 0.   ,  0.001,  0.002, ...,  0.998,  0.999,  1.   ])"
       ]
      }
     ],
     "prompt_number": 7
    },
    {
     "cell_type": "code",
     "collapsed": false,
     "input": [
      "mdp = tiger_mdp(belief_grid)"
     ],
     "language": "python",
     "metadata": {},
     "outputs": [],
     "prompt_number": 8
    },
    {
     "cell_type": "code",
     "collapsed": false,
     "input": [
      "v, sigma, mc, num_iter = mdp.solve(method='policy_iteration', return_num_iter=True)"
     ],
     "language": "python",
     "metadata": {},
     "outputs": [],
     "prompt_number": 9
    },
    {
     "cell_type": "code",
     "collapsed": false,
     "input": [
      "num_iter"
     ],
     "language": "python",
     "metadata": {},
     "outputs": [
      {
       "metadata": {},
       "output_type": "pyout",
       "prompt_number": 10,
       "text": [
        "2"
       ]
      }
     ],
     "prompt_number": 10
    },
    {
     "cell_type": "code",
     "collapsed": false,
     "input": [
      "fig, ax = plt.subplots(figsize=(8,5))\n",
      "action_labels = ['Open Left', 'Open Right', 'Listen']\n",
      "upper_bounds = np.empty(len(action_labels))\n",
      "for a, label in enumerate(action_labels):\n",
      "    segment = np.where(sigma==a)[0]\n",
      "    ax.plot(belief_grid[segment], v[segment], label=label)\n",
      "ax.set_title('Value function with regular grid of size {0}'.format(grid_size))\n",
      "ax.set_xlabel('Belief')\n",
      "ax.set_ylabel('Value')\n",
      "cutoffs = (np.where(sigma==0)[0][-1], np.where(sigma==1)[0][0])\n",
      "plt.xticks(list(plt.xticks()[0]) +\n",
      "           [belief_grid[cutoff] for cutoff in cutoffs])\n",
      "plt.legend()\n",
      "plt.show()"
     ],
     "language": "python",
     "metadata": {},
     "outputs": [
      {
       "metadata": {},
       "output_type": "display_data",
       "png": "[encoded data removed]",
       "text": [
        "<matplotlib.figure.Figure at 0x10a0a5110>"
       ]
      }
     ],
     "prompt_number": 11
    },
    {
     "cell_type": "code",
     "collapsed": false,
     "input": [
      "prob_half_idx = np.abs(belief_grid-1/2).argmin()\n",
      "x = mc.simulate(init=prob_half_idx, sample_size=30)\n",
      "\n",
      "fig, ax = plt.subplots(2, 1, figsize=(8, 8))\n",
      "ax[0].plot(v[x])\n",
      "ax[1].plot(sigma[x])\n",
      "for i in range(2):\n",
      "    ax[i].set_xlabel('Time')\n",
      "ax[0].set_ylabel('Value')\n",
      "ax[1].set_ylabel('Action')\n",
      "plt.show()"
     ],
     "language": "python",
     "metadata": {},
     "outputs": [
      {
       "metadata": {},
       "output_type": "display_data",
       "png": "[encoded data removed]",
       "text": [
        "<matplotlib.figure.Figure at 0x10a21fa90>"
       ]
      }
     ],
     "prompt_number": 12
    },
    {
     "cell_type": "code",
     "collapsed": false,
     "input": [
      "belief_grid"
     ],
     "language": "python",
     "metadata": {},
     "outputs": [
      {
       "metadata": {},
       "output_type": "pyout",
       "prompt_number": 13,
       "text": [
        "array([ 0.   ,  0.001,  0.002, ...,  0.998,  0.999,  1.   ])"
       ]
      }
     ],
     "prompt_number": 13
    },
    {
     "cell_type": "markdown",
     "metadata": {},
     "source": [
      "## Simulated grid"
     ]
    },
    {
     "cell_type": "code",
     "collapsed": false,
     "input": [
      "@jit\n",
      "def random_grid(num_samplings, init_beliefs, seed=None,\n",
      "                noise_prob_L=0.15, noise_prob_R=0.15):\n",
      "    num_reps = len(init_beliefs)\n",
      "    beliefs = np.empty((num_reps, num_samplings))\n",
      "\n",
      "    random_state = np.random.RandomState(seed)\n",
      "    r = random_state.random_sample((num_reps, num_samplings))\n",
      "\n",
      "    for i in range(num_reps):\n",
      "        beliefs[i, 0] = init_beliefs[i]\n",
      "        for j in range(num_samplings-1):\n",
      "            if r[i, j+1] < 0.5:\n",
      "                prob_TL = \\\n",
      "                    (1-noise_prob_L) * (1-beliefs[i, j]) + noise_prob_R * beliefs[i, j]\n",
      "                beliefs[i, j+1] = noise_prob_R * beliefs[i, j] / prob_TL\n",
      "            else:\n",
      "                prob_TR = \\\n",
      "                    noise_prob_L * (1-beliefs[i, j]) + (1-noise_prob_R) * beliefs[i, j]\n",
      "                beliefs[i, j+1] = (1-noise_prob_R) * beliefs[i, j] / prob_TR\n",
      "\n",
      "    grid = np.unique(beliefs).ravel()\n",
      "    return grid"
     ],
     "language": "python",
     "metadata": {},
     "outputs": [],
     "prompt_number": 14
    },
    {
     "cell_type": "code",
     "collapsed": false,
     "input": [
      "num_samplings = 10**5\n",
      "init_beliefs = [0.5]\n",
      "#num_samplings = 10**5\n",
      "#init_beliefs = [0.5] + [0.07, 0.93]\n",
      "for seed in range(50):\n",
      "    grid = random_grid(num_samplings=num_samplings, init_beliefs=init_beliefs, seed=seed)\n",
      "    print(seed, grid.size)"
     ],
     "language": "python",
     "metadata": {},
     "outputs": [
      {
       "output_type": "stream",
       "stream": "stdout",
       "text": [
        "0 577\n",
        "1"
       ]
      },
      {
       "output_type": "stream",
       "stream": "stdout",
       "text": [
        " 99\n",
        "2"
       ]
      },
      {
       "output_type": "stream",
       "stream": "stdout",
       "text": [
        " 3303\n",
        "3"
       ]
      },
      {
       "output_type": "stream",
       "stream": "stdout",
       "text": [
        " 268\n",
        "4"
       ]
      },
      {
       "output_type": "stream",
       "stream": "stdout",
       "text": [
        " 61\n",
        "5"
       ]
      },
      {
       "output_type": "stream",
       "stream": "stdout",
       "text": [
        " 364\n",
        "6"
       ]
      },
      {
       "output_type": "stream",
       "stream": "stdout",
       "text": [
        " 105\n",
        "7"
       ]
      },
      {
       "output_type": "stream",
       "stream": "stdout",
       "text": [
        " 5057\n",
        "8"
       ]
      },
      {
       "output_type": "stream",
       "stream": "stdout",
       "text": [
        " 211\n",
        "9"
       ]
      },
      {
       "output_type": "stream",
       "stream": "stdout",
       "text": [
        " 255\n",
        "10"
       ]
      },
      {
       "output_type": "stream",
       "stream": "stdout",
       "text": [
        " 3674\n",
        "11"
       ]
      },
      {
       "output_type": "stream",
       "stream": "stdout",
       "text": [
        " 909\n",
        "12"
       ]
      },
      {
       "output_type": "stream",
       "stream": "stdout",
       "text": [
        " 229\n",
        "13"
       ]
      },
      {
       "output_type": "stream",
       "stream": "stdout",
       "text": [
        " 698\n",
        "14"
       ]
      },
      {
       "output_type": "stream",
       "stream": "stdout",
       "text": [
        " 609\n",
        "15"
       ]
      },
      {
       "output_type": "stream",
       "stream": "stdout",
       "text": [
        " 1083\n",
        "16"
       ]
      },
      {
       "output_type": "stream",
       "stream": "stdout",
       "text": [
        " 840\n",
        "17"
       ]
      },
      {
       "output_type": "stream",
       "stream": "stdout",
       "text": [
        " 81\n",
        "18"
       ]
      },
      {
       "output_type": "stream",
       "stream": "stdout",
       "text": [
        " 46\n",
        "19"
       ]
      },
      {
       "output_type": "stream",
       "stream": "stdout",
       "text": [
        " 1034\n",
        "20"
       ]
      },
      {
       "output_type": "stream",
       "stream": "stdout",
       "text": [
        " 61\n",
        "21"
       ]
      },
      {
       "output_type": "stream",
       "stream": "stdout",
       "text": [
        " 159\n",
        "22"
       ]
      },
      {
       "output_type": "stream",
       "stream": "stdout",
       "text": [
        " 89\n",
        "23"
       ]
      },
      {
       "output_type": "stream",
       "stream": "stdout",
       "text": [
        " 7791\n",
        "24"
       ]
      },
      {
       "output_type": "stream",
       "stream": "stdout",
       "text": [
        " 56\n",
        "25"
       ]
      },
      {
       "output_type": "stream",
       "stream": "stdout",
       "text": [
        " 232\n",
        "26"
       ]
      },
      {
       "output_type": "stream",
       "stream": "stdout",
       "text": [
        " 61\n",
        "27"
       ]
      },
      {
       "output_type": "stream",
       "stream": "stdout",
       "text": [
        " 54\n",
        "28"
       ]
      },
      {
       "output_type": "stream",
       "stream": "stdout",
       "text": [
        " 1625\n",
        "29"
       ]
      },
      {
       "output_type": "stream",
       "stream": "stdout",
       "text": [
        " 463\n",
        "30"
       ]
      },
      {
       "output_type": "stream",
       "stream": "stdout",
       "text": [
        " 334\n",
        "31"
       ]
      },
      {
       "output_type": "stream",
       "stream": "stdout",
       "text": [
        " 1323\n",
        "32"
       ]
      },
      {
       "output_type": "stream",
       "stream": "stdout",
       "text": [
        " 219\n",
        "33"
       ]
      },
      {
       "output_type": "stream",
       "stream": "stdout",
       "text": [
        " 131\n",
        "34"
       ]
      },
      {
       "output_type": "stream",
       "stream": "stdout",
       "text": [
        " 4209\n",
        "35"
       ]
      },
      {
       "output_type": "stream",
       "stream": "stdout",
       "text": [
        " 98\n",
        "36"
       ]
      },
      {
       "output_type": "stream",
       "stream": "stdout",
       "text": [
        " 285\n",
        "37"
       ]
      },
      {
       "output_type": "stream",
       "stream": "stdout",
       "text": [
        " 8151\n",
        "38"
       ]
      },
      {
       "output_type": "stream",
       "stream": "stdout",
       "text": [
        " 74\n",
        "39"
       ]
      },
      {
       "output_type": "stream",
       "stream": "stdout",
       "text": [
        " 55\n",
        "40"
       ]
      },
      {
       "output_type": "stream",
       "stream": "stdout",
       "text": [
        " 205\n",
        "41"
       ]
      },
      {
       "output_type": "stream",
       "stream": "stdout",
       "text": [
        " 351\n",
        "42"
       ]
      },
      {
       "output_type": "stream",
       "stream": "stdout",
       "text": [
        " 179\n",
        "43"
       ]
      },
      {
       "output_type": "stream",
       "stream": "stdout",
       "text": [
        " 105\n",
        "44"
       ]
      },
      {
       "output_type": "stream",
       "stream": "stdout",
       "text": [
        " 174\n",
        "45"
       ]
      },
      {
       "output_type": "stream",
       "stream": "stdout",
       "text": [
        " 2192\n",
        "46"
       ]
      },
      {
       "output_type": "stream",
       "stream": "stdout",
       "text": [
        " 882\n",
        "47"
       ]
      },
      {
       "output_type": "stream",
       "stream": "stdout",
       "text": [
        " 82\n",
        "48"
       ]
      },
      {
       "output_type": "stream",
       "stream": "stdout",
       "text": [
        " 1148\n",
        "49"
       ]
      },
      {
       "output_type": "stream",
       "stream": "stdout",
       "text": [
        " 38\n"
       ]
      }
     ],
     "prompt_number": 15
    },
    {
     "cell_type": "code",
     "collapsed": false,
     "input": [
      "belief_grid = random_grid(num_samplings=num_samplings, init_beliefs=init_beliefs, seed=23)\n",
      "grid_size = belief_grid.size\n",
      "print(grid_size)"
     ],
     "language": "python",
     "metadata": {},
     "outputs": [
      {
       "output_type": "stream",
       "stream": "stdout",
       "text": [
        "7791\n"
       ]
      }
     ],
     "prompt_number": 16
    },
    {
     "cell_type": "code",
     "collapsed": false,
     "input": [
      "mdp_random_grid = tiger_mdp(belief_grid)"
     ],
     "language": "python",
     "metadata": {},
     "outputs": [],
     "prompt_number": 17
    },
    {
     "cell_type": "code",
     "collapsed": false,
     "input": [
      "v, sigma, mc, num_iter = \\\n",
      "    mdp_random_grid.solve(method='policy_iteration', return_num_iter=True)"
     ],
     "language": "python",
     "metadata": {},
     "outputs": [],
     "prompt_number": 18
    },
    {
     "cell_type": "code",
     "collapsed": false,
     "input": [
      "num_iter"
     ],
     "language": "python",
     "metadata": {},
     "outputs": [
      {
       "metadata": {},
       "output_type": "pyout",
       "prompt_number": 19,
       "text": [
        "1"
       ]
      }
     ],
     "prompt_number": 19
    },
    {
     "cell_type": "code",
     "collapsed": false,
     "input": [
      "fig, ax = plt.subplots(figsize=(8,5))\n",
      "action_labels = ['Open Left', 'Open Right', 'Listen']\n",
      "for a, label in enumerate(action_labels):\n",
      "    segment = np.where(sigma==a)[0]\n",
      "    ax.plot(belief_grid[segment], v[segment], label=label)\n",
      "ax.set_title('Value function with simulated grid of size {0}'.format(grid_size))\n",
      "ax.set_xlabel('Belief')\n",
      "ax.set_ylabel('Value')\n",
      "cutoffs = (np.where(sigma==0)[0][-1], np.where(sigma==1)[0][0])\n",
      "plt.xticks(list(plt.xticks()[0]) +\n",
      "           [belief_grid[cutoff] for cutoff in cutoffs])\n",
      "plt.legend()\n",
      "plt.show()"
     ],
     "language": "python",
     "metadata": {},
     "outputs": [
      {
       "metadata": {},
       "output_type": "display_data",
       "png": "[encoded data removed]",
       "text": [
        "<matplotlib.figure.Figure at 0x109f21850>"
       ]
      }
     ],
     "prompt_number": 20
    },
    {
     "cell_type": "code",
     "collapsed": false,
     "input": [
      "prob_half_idx = np.abs(belief_grid-1/2).argmin()\n",
      "x = mc.simulate(init=prob_half_idx, sample_size=30)\n",
      "\n",
      "fig, ax = plt.subplots(2, 1, figsize=(8, 8))\n",
      "ax[0].plot(v[x])\n",
      "ax[1].plot(sigma[x])\n",
      "for i in range(2):\n",
      "    ax[i].set_xlabel('Time')\n",
      "ax[0].set_ylabel('Value')\n",
      "ax[1].set_ylabel('Action')\n",
      "plt.show()"
     ],
     "language": "python",
     "metadata": {},
     "outputs": [
      {
       "metadata": {},
       "output_type": "display_data",
       "png": "[encoded data removed]",
       "text": [
        "<matplotlib.figure.Figure at 0x10b5f0890>"
       ]
      }
     ],
     "prompt_number": 21
    },
    {
     "cell_type": "code",
     "collapsed": false,
     "input": [],
     "language": "python",
     "metadata": {},
     "outputs": [],
     "prompt_number": 21
    }
   ],
   "metadata": {}
  }
 ]
}