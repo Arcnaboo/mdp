{
 "metadata": {
  "name": "",
  "signature": "sha256:d853708f525327f57a867a55c81bdc5b9b0664e00598b40910165c92986a8f94"
 },
 "nbformat": 3,
 "nbformat_minor": 0,
 "worksheets": [
  {
   "cells": [
    {
     "cell_type": "code",
     "collapsed": false,
     "input": [
      "import numpy as np\n",
      "from mdp import MDP\n",
      "from mdp_sa import random_mdp_sa, MDP_sa"
     ],
     "language": "python",
     "metadata": {},
     "outputs": [],
     "prompt_number": 1
    },
    {
     "cell_type": "heading",
     "level": 1,
     "metadata": {},
     "source": [
      "Performance Comparison"
     ]
    },
    {
     "cell_type": "markdown",
     "metadata": {},
     "source": [
      "Regarding the representation of the transition probability array `Q`:\n",
      "0. current states $\\times$ actions $\\times$ next states\n",
      "0. current state-action pairs $\\times$ next states (sparse matrix)\n",
      "0. current state-action pairs $\\times$ next states (dense matrix)"
     ]
    },
    {
     "cell_type": "code",
     "collapsed": false,
     "input": [
      "def compare_performance(num_states, num_actions, beta, k, suppress_vi=False):\n",
      "    # Construct an MPD_sa\n",
      "    mdp_sa = random_mdp_sa(num_states, num_actions, beta, k=k)\n",
      "    \n",
      "    # Create an MPD_sa version with dense Q\n",
      "    R = mdp_sa.R\n",
      "    Q_dense = mdp_sa.Q.toarray()\n",
      "    s_indices, a_indices = mdp_sa.s_indices, mdp_sa.a_indices\n",
      "    mdp_sa_dense = MDP_sa(R, Q_dense, beta, s_indices, a_indices)\n",
      "    \n",
      "    # Create an MDP version\n",
      "    R_n_x_m = R.reshape(num_states, num_actions)\n",
      "    Q_nm_x_n = np.empty((num_states, num_actions, num_states))\n",
      "    for i in range(num_states*num_actions):\n",
      "        Q_nm_x_n[mdp_sa.s_indices[i], mdp_sa.a_indices[i]] = Q_dense[i]\n",
      "    mdp = MDP(R_n_x_m, Q_nm_x_n, beta)\n",
      "    \n",
      "    print '(num_states, num_actions) = ({0}, {1})'.format(num_states, num_actions)\n",
      "    print 'Number of possible next states for each (s, a) =', k\n",
      "    print 'beta =', beta\n",
      "    print '====='\n",
      "    \n",
      "    classes = [mdp, mdp_sa, mdp_sa_dense]\n",
      "    classes_labels = ['n x m x n', 'n*m x n (sparse)', 'n*m x n (dense)']\n",
      "    if suppress_vi:\n",
      "        methods = ['pi', 'mpi']\n",
      "    else:\n",
      "        methods = ['vi', 'pi', 'mpi']\n",
      "    results = [[{}, {}, {}],\n",
      "               [{}, {}, {}],\n",
      "               [{}, {}, {}]]\n",
      "    max_iter = 1000\n",
      "    mdp.max_iter, mdp_sa.max_iter, mdp_sa_dense.max_iter = max_iter, max_iter, max_iter\n",
      "    k = 20\n",
      "    \n",
      "    for j, cl in enumerate(classes):\n",
      "        for i, method in enumerate(methods):\n",
      "            results[j][i]['v'], results[j][i]['sigma'], \\\n",
      "                results[j][i]['mc'], results[j][i]['num_iter'] = \\\n",
      "                cl.solve(method=method, return_num_iter=True, k=k)\n",
      "            \n",
      "    print 'Whether the results by pi agree:', \\\n",
      "        np.array_equal(results[0][1]['sigma'], results[1][1]['sigma']) and \\\n",
      "        np.array_equal(results[1][1]['sigma'], results[2][1]['sigma'])\n",
      "    print 'Whether the answer is correct ({0}, {1}, {2}):'.format(\n",
      "        classes_labels[0], classes_labels[1], classes_labels[2])\n",
      "    for i, method in enumerate(methods):\n",
      "        if method != 'pi':\n",
      "            print methods[i], ':', \\\n",
      "                np.array_equal(results[0][i]['sigma'], results[0][1]['sigma']), \\\n",
      "                np.array_equal(results[1][i]['sigma'], results[1][1]['sigma']), \\\n",
      "                np.array_equal(results[2][i]['sigma'], results[2][1]['sigma'])\n",
      "    print 'Number of iterations ({0}, {1}, {2}):'.format(\n",
      "        classes_labels[0], classes_labels[1], classes_labels[2])\n",
      "    for i, method in enumerate(methods):\n",
      "        print methods[i], ':', \\\n",
      "            results[0][i]['num_iter'], results[1][i]['num_iter'], \\\n",
      "            results[2][i]['num_iter']\n",
      "    print '====='\n",
      "    \n",
      "    print 'Speed comparison ({0}, {1}, {2}):'.format(\n",
      "        classes_labels[0], classes_labels[1], classes_labels[2])\n",
      "    for method in methods:\n",
      "        global mdp, mdp_sa, mdp_sa_dense, method\n",
      "        print '***', method, '***'\n",
      "        %timeit mdp.solve(method=method)\n",
      "        %timeit mdp_sa.solve(method=method)\n",
      "        %timeit mdp_sa_dense.solve(method=method)"
     ],
     "language": "python",
     "metadata": {},
     "outputs": [],
     "prompt_number": 2
    },
    {
     "cell_type": "code",
     "collapsed": false,
     "input": [
      "compare_performance(num_states=100, num_actions=20, beta=0.95, k=3)"
     ],
     "language": "python",
     "metadata": {},
     "outputs": [
      {
       "output_type": "stream",
       "stream": "stdout",
       "text": [
        "(num_states, num_actions) = (100, 20)\n",
        "Number of possible next states for each (s, a) = 3\n",
        "beta = 0.95\n",
        "=====\n",
        "Whether the results by pi agree:"
       ]
      },
      {
       "output_type": "stream",
       "stream": "stdout",
       "text": [
        " True\n",
        "Whether the answer is correct (n x m x n, n*m x n (sparse), n*m x n (dense)):\n",
        "vi : True True True\n",
        "mpi : True True True\n",
        "Number of iterations (n x m x n, n*m x n (sparse), n*m x n (dense)):\n",
        "vi : 218 218 218\n",
        "pi : 3 3 3\n",
        "mpi : 4 4 4\n",
        "=====\n",
        "Speed comparison (n x m x n, n*m x n (sparse), n*m x n (dense)):\n",
        "*** vi ***\n",
        "10 loops, best of 3: 34.1 ms per loop"
       ]
      },
      {
       "output_type": "stream",
       "stream": "stdout",
       "text": [
        "\n",
        "100 loops, best of 3: 9.94 ms per loop"
       ]
      },
      {
       "output_type": "stream",
       "stream": "stdout",
       "text": [
        "\n",
        "10 loops, best of 3: 43.1 ms per loop"
       ]
      },
      {
       "output_type": "stream",
       "stream": "stdout",
       "text": [
        "\n",
        "*** pi ***\n",
        "1000 loops, best of 3: 1.79 ms per loop"
       ]
      },
      {
       "output_type": "stream",
       "stream": "stdout",
       "text": [
        "\n",
        "100 loops, best of 3: 4.39 ms per loop"
       ]
      },
      {
       "output_type": "stream",
       "stream": "stdout",
       "text": [
        "\n",
        "100 loops, best of 3: 3.29 ms per loop"
       ]
      },
      {
       "output_type": "stream",
       "stream": "stdout",
       "text": [
        "\n",
        "*** mpi ***\n",
        "100 loops, best of 3: 2.06 ms per loop"
       ]
      },
      {
       "output_type": "stream",
       "stream": "stdout",
       "text": [
        "\n",
        "100 loops, best of 3: 3.33 ms per loop"
       ]
      },
      {
       "output_type": "stream",
       "stream": "stdout",
       "text": [
        "\n",
        "100 loops, best of 3: 2.57 ms per loop"
       ]
      },
      {
       "output_type": "stream",
       "stream": "stdout",
       "text": [
        "\n"
       ]
      }
     ],
     "prompt_number": 3
    },
    {
     "cell_type": "code",
     "collapsed": false,
     "input": [
      "compare_performance(num_states=500, num_actions=20, beta=0.95, k=3)"
     ],
     "language": "python",
     "metadata": {},
     "outputs": [
      {
       "output_type": "stream",
       "stream": "stdout",
       "text": [
        "(num_states, num_actions) = (500, 20)\n",
        "Number of possible next states for each (s, a) = 3\n",
        "beta = 0.95\n",
        "=====\n",
        "Whether the results by pi agree:"
       ]
      },
      {
       "output_type": "stream",
       "stream": "stdout",
       "text": [
        " True\n",
        "Whether the answer is correct (n x m x n, n*m x n (sparse), n*m x n (dense)):\n",
        "vi : True True True\n",
        "mpi : True True True\n",
        "Number of iterations (n x m x n, n*m x n (sparse), n*m x n (dense)):\n",
        "vi : 219 219 219\n",
        "pi : 5 5 5\n",
        "mpi : 6 6 6\n",
        "=====\n",
        "Speed comparison (n x m x n, n*m x n (sparse), n*m x n (dense)):\n",
        "*** vi ***\n",
        "1 loops, best of 3: 655 ms per loop"
       ]
      },
      {
       "output_type": "stream",
       "stream": "stdout",
       "text": [
        "\n",
        "10 loops, best of 3: 23.2 ms per loop"
       ]
      },
      {
       "output_type": "stream",
       "stream": "stdout",
       "text": [
        "\n",
        "1 loops, best of 3: 564 ms per loop"
       ]
      },
      {
       "output_type": "stream",
       "stream": "stdout",
       "text": [
        "\n",
        "*** pi ***\n",
        "10 loops, best of 3: 69.4 ms per loop"
       ]
      },
      {
       "output_type": "stream",
       "stream": "stdout",
       "text": [
        "\n",
        "10 loops, best of 3: 33.8 ms per loop"
       ]
      },
      {
       "output_type": "stream",
       "stream": "stdout",
       "text": [
        "\n",
        "10 loops, best of 3: 76.1 ms per loop"
       ]
      },
      {
       "output_type": "stream",
       "stream": "stdout",
       "text": [
        "\n",
        "*** mpi ***\n",
        "10 loops, best of 3: 44.9 ms per loop"
       ]
      },
      {
       "output_type": "stream",
       "stream": "stdout",
       "text": [
        "\n",
        "100 loops, best of 3: 8.42 ms per loop"
       ]
      },
      {
       "output_type": "stream",
       "stream": "stdout",
       "text": [
        "\n",
        "10 loops, best of 3: 37.2 ms per loop"
       ]
      },
      {
       "output_type": "stream",
       "stream": "stdout",
       "text": [
        "\n"
       ]
      }
     ],
     "prompt_number": 4
    },
    {
     "cell_type": "code",
     "collapsed": false,
     "input": [
      "compare_performance(num_states=1000, num_actions=20, beta=0.95, k=3)"
     ],
     "language": "python",
     "metadata": {},
     "outputs": [
      {
       "output_type": "stream",
       "stream": "stdout",
       "text": [
        "(num_states, num_actions) = (1000, 20)\n",
        "Number of possible next states for each (s, a) = 3\n",
        "beta = 0.95\n",
        "=====\n",
        "Whether the results by pi agree:"
       ]
      },
      {
       "output_type": "stream",
       "stream": "stdout",
       "text": [
        " True\n",
        "Whether the answer is correct (n x m x n, n*m x n (sparse), n*m x n (dense)):\n",
        "vi : True True True\n",
        "mpi : True True True\n",
        "Number of iterations (n x m x n, n*m x n (sparse), n*m x n (dense)):\n",
        "vi : 220 220 220\n",
        "pi : 5 5 5\n",
        "mpi : 6 6 6\n",
        "=====\n",
        "Speed comparison (n x m x n, n*m x n (sparse), n*m x n (dense)):\n",
        "*** vi ***\n",
        "1 loops, best of 3: 2.49 s per loop"
       ]
      },
      {
       "output_type": "stream",
       "stream": "stdout",
       "text": [
        "\n",
        "10 loops, best of 3: 46.6 ms per loop"
       ]
      },
      {
       "output_type": "stream",
       "stream": "stdout",
       "text": [
        "\n",
        "1 loops, best of 3: 1.84 s per loop"
       ]
      },
      {
       "output_type": "stream",
       "stream": "stdout",
       "text": [
        "\n",
        "*** pi ***\n",
        "1 loops, best of 3: 464 ms per loop"
       ]
      },
      {
       "output_type": "stream",
       "stream": "stdout",
       "text": [
        "\n",
        "10 loops, best of 3: 164 ms per loop"
       ]
      },
      {
       "output_type": "stream",
       "stream": "stdout",
       "text": [
        "\n",
        "1 loops, best of 3: 453 ms per loop"
       ]
      },
      {
       "output_type": "stream",
       "stream": "stdout",
       "text": [
        "\n",
        "*** mpi ***\n",
        "10 loops, best of 3: 129 ms per loop"
       ]
      },
      {
       "output_type": "stream",
       "stream": "stdout",
       "text": [
        "\n",
        "100 loops, best of 3: 17.3 ms per loop"
       ]
      },
      {
       "output_type": "stream",
       "stream": "stdout",
       "text": [
        "\n",
        "10 loops, best of 3: 124 ms per loop"
       ]
      },
      {
       "output_type": "stream",
       "stream": "stdout",
       "text": [
        "\n"
       ]
      }
     ],
     "prompt_number": 5
    },
    {
     "cell_type": "code",
     "collapsed": false,
     "input": [
      "compare_performance(num_states=1000, num_actions=50, beta=0.95, k=3)"
     ],
     "language": "python",
     "metadata": {},
     "outputs": [
      {
       "output_type": "stream",
       "stream": "stdout",
       "text": [
        "(num_states, num_actions) = (1000, 50)\n",
        "Number of possible next states for each (s, a) = 3\n",
        "beta = 0.95\n",
        "=====\n",
        "Whether the results by pi agree:"
       ]
      },
      {
       "output_type": "stream",
       "stream": "stdout",
       "text": [
        " True\n",
        "Whether the answer is correct (n x m x n, n*m x n (sparse), n*m x n (dense)):\n",
        "vi : True True True\n",
        "mpi : True True True\n",
        "Number of iterations (n x m x n, n*m x n (sparse), n*m x n (dense)):\n",
        "vi : 223 223 223\n",
        "pi : 5 5 5\n",
        "mpi : 6 6 6\n",
        "=====\n",
        "Speed comparison (n x m x n, n*m x n (sparse), n*m x n (dense)):\n",
        "*** vi ***\n",
        "1 loops, best of 3: 6.48 s per loop"
       ]
      },
      {
       "output_type": "stream",
       "stream": "stdout",
       "text": [
        "\n",
        "10 loops, best of 3: 76.9 ms per loop"
       ]
      },
      {
       "output_type": "stream",
       "stream": "stdout",
       "text": [
        "\n",
        "1 loops, best of 3: 4.63 s per loop"
       ]
      },
      {
       "output_type": "stream",
       "stream": "stdout",
       "text": [
        "\n",
        "*** pi ***\n",
        "1 loops, best of 3: 566 ms per loop"
       ]
      },
      {
       "output_type": "stream",
       "stream": "stdout",
       "text": [
        "\n",
        "10 loops, best of 3: 174 ms per loop"
       ]
      },
      {
       "output_type": "stream",
       "stream": "stdout",
       "text": [
        "\n",
        "1 loops, best of 3: 532 ms per loop"
       ]
      },
      {
       "output_type": "stream",
       "stream": "stdout",
       "text": [
        "\n",
        "*** mpi ***\n",
        "1 loops, best of 3: 232 ms per loop"
       ]
      },
      {
       "output_type": "stream",
       "stream": "stdout",
       "text": [
        "\n",
        "10 loops, best of 3: 19.1 ms per loop"
       ]
      },
      {
       "output_type": "stream",
       "stream": "stdout",
       "text": [
        "\n",
        "1 loops, best of 3: 181 ms per loop"
       ]
      },
      {
       "output_type": "stream",
       "stream": "stdout",
       "text": [
        "\n"
       ]
      }
     ],
     "prompt_number": 6
    },
    {
     "cell_type": "code",
     "collapsed": false,
     "input": [
      "compare_performance(num_states=500, num_actions=20, beta=0.95, k=100)"
     ],
     "language": "python",
     "metadata": {},
     "outputs": [
      {
       "output_type": "stream",
       "stream": "stdout",
       "text": [
        "(num_states, num_actions) = (500, 20)\n",
        "Number of possible next states for each (s, a) = 100\n",
        "beta = 0.95\n",
        "=====\n",
        "Whether the results by pi agree:"
       ]
      },
      {
       "output_type": "stream",
       "stream": "stdout",
       "text": [
        " True\n",
        "Whether the answer is correct (n x m x n, n*m x n (sparse), n*m x n (dense)):\n",
        "vi : True True True\n",
        "mpi : True True True\n",
        "Number of iterations (n x m x n, n*m x n (sparse), n*m x n (dense)):\n",
        "vi : 218 218 218\n",
        "pi : 2 2 2\n",
        "mpi : 3 3 3\n",
        "=====\n",
        "Speed comparison (n x m x n, n*m x n (sparse), n*m x n (dense)):\n",
        "*** vi ***\n",
        "1 loops, best of 3: 633 ms per loop"
       ]
      },
      {
       "output_type": "stream",
       "stream": "stdout",
       "text": [
        "\n",
        "1 loops, best of 3: 233 ms per loop"
       ]
      },
      {
       "output_type": "stream",
       "stream": "stdout",
       "text": [
        "\n",
        "1 loops, best of 3: 527 ms per loop"
       ]
      },
      {
       "output_type": "stream",
       "stream": "stdout",
       "text": [
        "\n",
        "*** pi ***\n",
        "10 loops, best of 3: 32 ms per loop"
       ]
      },
      {
       "output_type": "stream",
       "stream": "stdout",
       "text": [
        "\n",
        "10 loops, best of 3: 70.7 ms per loop"
       ]
      },
      {
       "output_type": "stream",
       "stream": "stdout",
       "text": [
        "\n",
        "10 loops, best of 3: 35 ms per loop"
       ]
      },
      {
       "output_type": "stream",
       "stream": "stdout",
       "text": [
        "\n",
        "*** mpi ***\n",
        "10 loops, best of 3: 22.4 ms per loop"
       ]
      },
      {
       "output_type": "stream",
       "stream": "stdout",
       "text": [
        "\n",
        "100 loops, best of 3: 16.3 ms per loop"
       ]
      },
      {
       "output_type": "stream",
       "stream": "stdout",
       "text": [
        "\n",
        "10 loops, best of 3: 21.4 ms per loop"
       ]
      },
      {
       "output_type": "stream",
       "stream": "stdout",
       "text": [
        "\n"
       ]
      }
     ],
     "prompt_number": 7
    },
    {
     "cell_type": "code",
     "collapsed": false,
     "input": [
      "compare_performance(num_states=500, num_actions=20, beta=0.95, k=50)"
     ],
     "language": "python",
     "metadata": {},
     "outputs": [
      {
       "output_type": "stream",
       "stream": "stdout",
       "text": [
        "(num_states, num_actions) = (500, 20)\n",
        "Number of possible next states for each (s, a) = 50\n",
        "beta = 0.95\n",
        "=====\n",
        "Whether the results by pi agree:"
       ]
      },
      {
       "output_type": "stream",
       "stream": "stdout",
       "text": [
        " True\n",
        "Whether the answer is correct (n x m x n, n*m x n (sparse), n*m x n (dense)):\n",
        "vi : True True True\n",
        "mpi : True True True\n",
        "Number of iterations (n x m x n, n*m x n (sparse), n*m x n (dense)):\n",
        "vi : 218 218 218\n",
        "pi : 2 2 2\n",
        "mpi : 3 3 3\n",
        "=====\n",
        "Speed comparison (n x m x n, n*m x n (sparse), n*m x n (dense)):\n",
        "*** vi ***\n",
        "1 loops, best of 3: 662 ms per loop"
       ]
      },
      {
       "output_type": "stream",
       "stream": "stdout",
       "text": [
        "\n",
        "10 loops, best of 3: 119 ms per loop"
       ]
      },
      {
       "output_type": "stream",
       "stream": "stdout",
       "text": [
        "\n",
        "1 loops, best of 3: 532 ms per loop"
       ]
      },
      {
       "output_type": "stream",
       "stream": "stdout",
       "text": [
        "\n",
        "*** pi ***\n",
        "10 loops, best of 3: 34.2 ms per loop"
       ]
      },
      {
       "output_type": "stream",
       "stream": "stdout",
       "text": [
        "\n",
        "10 loops, best of 3: 71.5 ms per loop"
       ]
      },
      {
       "output_type": "stream",
       "stream": "stdout",
       "text": [
        "\n",
        "10 loops, best of 3: 35.2 ms per loop"
       ]
      },
      {
       "output_type": "stream",
       "stream": "stdout",
       "text": [
        "\n",
        "*** mpi ***\n",
        "10 loops, best of 3: 21 ms per loop"
       ]
      },
      {
       "output_type": "stream",
       "stream": "stdout",
       "text": [
        "\n",
        "100 loops, best of 3: 9.92 ms per loop"
       ]
      },
      {
       "output_type": "stream",
       "stream": "stdout",
       "text": [
        "\n",
        "10 loops, best of 3: 19.3 ms per loop"
       ]
      },
      {
       "output_type": "stream",
       "stream": "stdout",
       "text": [
        "\n"
       ]
      }
     ],
     "prompt_number": 8
    },
    {
     "cell_type": "code",
     "collapsed": false,
     "input": [
      "compare_performance(num_states=500, num_actions=20, beta=0.95, k=500)"
     ],
     "language": "python",
     "metadata": {},
     "outputs": [
      {
       "output_type": "stream",
       "stream": "stdout",
       "text": [
        "(num_states, num_actions) = (500, 20)\n",
        "Number of possible next states for each (s, a) = 500\n",
        "beta = 0.95\n",
        "=====\n",
        "Whether the results by pi agree:"
       ]
      },
      {
       "output_type": "stream",
       "stream": "stdout",
       "text": [
        " True\n",
        "Whether the answer is correct (n x m x n, n*m x n (sparse), n*m x n (dense)):\n",
        "vi : True True True\n",
        "mpi : True True True\n",
        "Number of iterations (n x m x n, n*m x n (sparse), n*m x n (dense)):\n",
        "vi : 219 219 219\n",
        "pi : 2 2 2\n",
        "mpi : 3 3 3\n",
        "=====\n",
        "Speed comparison (n x m x n, n*m x n (sparse), n*m x n (dense)):\n",
        "*** vi ***\n",
        "1 loops, best of 3: 645 ms per loop"
       ]
      },
      {
       "output_type": "stream",
       "stream": "stdout",
       "text": [
        "\n",
        "1 loops, best of 3: 1.09 s per loop"
       ]
      },
      {
       "output_type": "stream",
       "stream": "stdout",
       "text": [
        "\n",
        "1 loops, best of 3: 532 ms per loop"
       ]
      },
      {
       "output_type": "stream",
       "stream": "stdout",
       "text": [
        "\n",
        "*** pi ***\n",
        "10 loops, best of 3: 36.6 ms per loop"
       ]
      },
      {
       "output_type": "stream",
       "stream": "stdout",
       "text": [
        "\n",
        "10 loops, best of 3: 145 ms per loop"
       ]
      },
      {
       "output_type": "stream",
       "stream": "stdout",
       "text": [
        "\n",
        "10 loops, best of 3: 40 ms per loop"
       ]
      },
      {
       "output_type": "stream",
       "stream": "stdout",
       "text": [
        "\n",
        "*** mpi ***\n",
        "10 loops, best of 3: 26.2 ms per loop"
       ]
      },
      {
       "output_type": "stream",
       "stream": "stdout",
       "text": [
        "\n",
        "10 loops, best of 3: 74 ms per loop"
       ]
      },
      {
       "output_type": "stream",
       "stream": "stdout",
       "text": [
        "\n",
        "10 loops, best of 3: 26.3 ms per loop"
       ]
      },
      {
       "output_type": "stream",
       "stream": "stdout",
       "text": [
        "\n"
       ]
      }
     ],
     "prompt_number": 9
    },
    {
     "cell_type": "code",
     "collapsed": false,
     "input": [
      "compare_performance(num_states=1000, num_actions=100, beta=0.95, k=1)"
     ],
     "language": "python",
     "metadata": {},
     "outputs": [
      {
       "output_type": "stream",
       "stream": "stdout",
       "text": [
        "(num_states, num_actions) = (1000, 100)\n",
        "Number of possible next states for each (s, a) = 1\n",
        "beta = 0.95\n",
        "=====\n",
        "Whether the results by pi agree:"
       ]
      },
      {
       "output_type": "stream",
       "stream": "stdout",
       "text": [
        " True\n",
        "Whether the answer is correct (n x m x n, n*m x n (sparse), n*m x n (dense)):\n",
        "vi : True True True\n",
        "mpi : False False False\n",
        "Number of iterations (n x m x n, n*m x n (sparse), n*m x n (dense)):\n",
        "vi : 232 232 232\n",
        "pi : 8 8 8\n",
        "mpi : 12 12 12\n",
        "=====\n",
        "Speed comparison (n x m x n, n*m x n (sparse), n*m x n (dense)):\n",
        "*** vi ***\n",
        "1 loops, best of 3: 12.9 s per loop"
       ]
      },
      {
       "output_type": "stream",
       "stream": "stdout",
       "text": [
        "\n",
        "10 loops, best of 3: 105 ms per loop"
       ]
      },
      {
       "output_type": "stream",
       "stream": "stdout",
       "text": [
        "\n",
        "1 loops, best of 3: 9.63 s per loop"
       ]
      },
      {
       "output_type": "stream",
       "stream": "stdout",
       "text": [
        "\n",
        "*** pi ***\n",
        "1 loops, best of 3: 1.16 s per loop"
       ]
      },
      {
       "output_type": "stream",
       "stream": "stdout",
       "text": [
        "\n",
        "10 loops, best of 3: 27.2 ms per loop"
       ]
      },
      {
       "output_type": "stream",
       "stream": "stdout",
       "text": [
        "\n",
        "1 loops, best of 3: 1.02 s per loop"
       ]
      },
      {
       "output_type": "stream",
       "stream": "stdout",
       "text": [
        "\n",
        "*** mpi ***\n",
        "1 loops, best of 3: 793 ms per loop"
       ]
      },
      {
       "output_type": "stream",
       "stream": "stdout",
       "text": [
        "\n",
        "10 loops, best of 3: 29.5 ms per loop"
       ]
      },
      {
       "output_type": "stream",
       "stream": "stdout",
       "text": [
        "\n",
        "1 loops, best of 3: 608 ms per loop"
       ]
      },
      {
       "output_type": "stream",
       "stream": "stdout",
       "text": [
        "\n"
       ]
      }
     ],
     "prompt_number": 10
    },
    {
     "cell_type": "code",
     "collapsed": false,
     "input": [
      "compare_performance(num_states=1000, num_actions=200, beta=0.95, k=1, suppress_vi=True)"
     ],
     "language": "python",
     "metadata": {},
     "outputs": [
      {
       "output_type": "stream",
       "stream": "stdout",
       "text": [
        "(num_states, num_actions) = (1000, 200)\n",
        "Number of possible next states for each (s, a) = 1\n",
        "beta = 0.95\n",
        "=====\n",
        "Whether the results by pi agree:"
       ]
      },
      {
       "output_type": "stream",
       "stream": "stdout",
       "text": [
        " True\n",
        "Whether the answer is correct (n x m x n, n*m x n (sparse), n*m x n (dense)):\n",
        "mpi : True True True\n",
        "Number of iterations (n x m x n, n*m x n (sparse), n*m x n (dense)):\n",
        "pi : 12 12 12\n",
        "mpi : 17 17 17\n",
        "=====\n",
        "Speed comparison (n x m x n, n*m x n (sparse), n*m x n (dense)):\n",
        "*** pi ***\n",
        "1 loops, best of 3: 2.39 s per loop"
       ]
      },
      {
       "output_type": "stream",
       "stream": "stdout",
       "text": [
        "\n",
        "10 loops, best of 3: 47.4 ms per loop"
       ]
      },
      {
       "output_type": "stream",
       "stream": "stdout",
       "text": [
        "\n",
        "1 loops, best of 3: 2.04 s per loop"
       ]
      },
      {
       "output_type": "stream",
       "stream": "stdout",
       "text": [
        "\n",
        "*** mpi ***\n",
        "1 loops, best of 3: 2.06 s per loop"
       ]
      },
      {
       "output_type": "stream",
       "stream": "stdout",
       "text": [
        "\n",
        "10 loops, best of 3: 51.3 ms per loop"
       ]
      },
      {
       "output_type": "stream",
       "stream": "stdout",
       "text": [
        "\n",
        "1 loops, best of 3: 1.58 s per loop"
       ]
      },
      {
       "output_type": "stream",
       "stream": "stdout",
       "text": [
        "\n"
       ]
      }
     ],
     "prompt_number": 11
    },
    {
     "cell_type": "code",
     "collapsed": false,
     "input": [
      "import platform\n",
      "platform.platform()"
     ],
     "language": "python",
     "metadata": {},
     "outputs": [
      {
       "metadata": {},
       "output_type": "pyout",
       "prompt_number": 12,
       "text": [
        "'Darwin-13.4.0-x86_64-i386-64bit'"
       ]
      }
     ],
     "prompt_number": 12
    },
    {
     "cell_type": "code",
     "collapsed": false,
     "input": [
      "import sys\n",
      "print sys.version"
     ],
     "language": "python",
     "metadata": {},
     "outputs": [
      {
       "output_type": "stream",
       "stream": "stdout",
       "text": [
        "2.7.8 (default, Jul  2 2014, 10:14:46) \n",
        "[GCC 4.2.1 Compatible Apple LLVM 5.1 (clang-503.0.40)]\n"
       ]
      }
     ],
     "prompt_number": 13
    },
    {
     "cell_type": "code",
     "collapsed": false,
     "input": [
      "np.__version__"
     ],
     "language": "python",
     "metadata": {},
     "outputs": [
      {
       "metadata": {},
       "output_type": "pyout",
       "prompt_number": 14,
       "text": [
        "'1.9.0'"
       ]
      }
     ],
     "prompt_number": 14
    },
    {
     "cell_type": "code",
     "collapsed": false,
     "input": [
      "import scipy\n",
      "scipy.__version__"
     ],
     "language": "python",
     "metadata": {},
     "outputs": [
      {
       "metadata": {},
       "output_type": "pyout",
       "prompt_number": 15,
       "text": [
        "'0.14.0'"
       ]
      }
     ],
     "prompt_number": 15
    },
    {
     "cell_type": "code",
     "collapsed": false,
     "input": [],
     "language": "python",
     "metadata": {},
     "outputs": [],
     "prompt_number": 15
    }
   ],
   "metadata": {}
  }
 ]
}