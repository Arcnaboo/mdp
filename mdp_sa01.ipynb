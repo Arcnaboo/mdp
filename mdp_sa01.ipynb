{
 "metadata": {
  "name": "",
  "signature": "sha256:3fab61c064c7d6e5d76b69c2437e94c03bdda2e6d6c74eb9193cb8e210f57b9c"
 },
 "nbformat": 3,
 "nbformat_minor": 0,
 "worksheets": [
  {
   "cells": [
    {
     "cell_type": "code",
     "collapsed": false,
     "input": [
      "import numpy as np\n",
      "from mdp import MDP\n",
      "from mdp_sa import random_mdp_sa, MDP_sa"
     ],
     "language": "python",
     "metadata": {},
     "outputs": [],
     "prompt_number": 1
    },
    {
     "cell_type": "heading",
     "level": 1,
     "metadata": {},
     "source": [
      "Performance Comparison"
     ]
    },
    {
     "cell_type": "markdown",
     "metadata": {},
     "source": [
      "Regarding the representation of the transition probability array `Q`:\n",
      "0. current states $\\times$ actions $\\times$ next states\n",
      "0. current state-action pairs $\\times$ next states (sparse matrix)\n",
      "0. current state-action pairs $\\times$ next states (dense matrix)"
     ]
    },
    {
     "cell_type": "code",
     "collapsed": false,
     "input": [
      "def compare_performance(num_states, num_actions, beta, k, suppress_vi=False):\n",
      "    # Construct an MPD_sa\n",
      "    mdp_sa = random_mdp_sa(num_states, num_actions, beta, k=k)\n",
      "    \n",
      "    # Create an MPD_sa version with dense Q\n",
      "    R = mdp_sa.R\n",
      "    Q_dense = mdp_sa.Q.toarray()\n",
      "    s_indices, a_indices = mdp_sa.s_indices, mdp_sa.a_indices\n",
      "    mdp_sa_dense = MDP_sa(R, Q_dense, beta, s_indices, a_indices)\n",
      "    \n",
      "    # Create an MDP version\n",
      "    R_n_x_m = R.reshape(num_states, num_actions)\n",
      "    Q_nm_x_n = np.empty((num_states, num_actions, num_states))\n",
      "    for i in range(num_states*num_actions):\n",
      "        Q_nm_x_n[mdp_sa.s_indices[i], mdp_sa.a_indices[i]] = Q_dense[i]\n",
      "    mdp = MDP(R_n_x_m, Q_nm_x_n, beta)\n",
      "    \n",
      "    print '(num_states, num_actions) = ({0}, {1})'.format(num_states, num_actions)\n",
      "    print 'Number of possible next states for each (s, a) =', k\n",
      "    print 'beta =', beta\n",
      "    print '====='\n",
      "    \n",
      "    classes = [mdp, mdp_sa, mdp_sa_dense]\n",
      "    classes_labels = ['n x m x n', 'n*m x n (sparse)', 'n*m x n (dense)']\n",
      "    if suppress_vi:\n",
      "        methods = ['pi', 'mpi']\n",
      "    else:\n",
      "        methods = ['vi', 'pi', 'mpi']\n",
      "    results = [[{}, {}, {}],\n",
      "               [{}, {}, {}],\n",
      "               [{}, {}, {}]]\n",
      "    max_iter = 1000\n",
      "    mdp.max_iter, mdp_sa.max_iter, mdp_sa_dense.max_iter = max_iter, max_iter, max_iter\n",
      "    k = 20\n",
      "    \n",
      "    for j, cl in enumerate(classes):\n",
      "        for i, method in enumerate(methods):\n",
      "            results[j][i]['v'], results[j][i]['sigma'], \\\n",
      "                results[j][i]['mc'], results[j][i]['num_iter'] = \\\n",
      "                cl.solve(method=method, return_num_iter=True, k=k)\n",
      "            \n",
      "    print 'Whether the results by pi agree:', \\\n",
      "        np.array_equal(results[0][1]['sigma'], results[1][1]['sigma']) and \\\n",
      "        np.array_equal(results[1][1]['sigma'], results[2][1]['sigma'])\n",
      "    print 'Whether the answer is correct ({0}, {1}, {2}):'.format(\n",
      "        classes_labels[0], classes_labels[1], classes_labels[2])\n",
      "    for i, method in enumerate(methods):\n",
      "        if method != 'pi':\n",
      "            print methods[i], ':', \\\n",
      "                np.array_equal(results[0][i]['sigma'], results[0][1]['sigma']), \\\n",
      "                np.array_equal(results[1][i]['sigma'], results[1][1]['sigma']), \\\n",
      "                np.array_equal(results[2][i]['sigma'], results[2][1]['sigma'])\n",
      "    print 'Number of iterations ({0}, {1}, {2}):'.format(\n",
      "        classes_labels[0], classes_labels[1], classes_labels[2])\n",
      "    for i, method in enumerate(methods):\n",
      "        print methods[i], ':', \\\n",
      "            results[0][i]['num_iter'], results[1][i]['num_iter'], \\\n",
      "            results[2][i]['num_iter']\n",
      "    print '====='\n",
      "    \n",
      "    print 'Speed comparison ({0}, {1}, {2}):'.format(\n",
      "        classes_labels[0], classes_labels[1], classes_labels[2])\n",
      "    for method in methods:\n",
      "        global mdp, mdp_sa, mdp_sa_dense, method\n",
      "        print '***', method, '***'\n",
      "        %timeit mdp.solve(method=method)\n",
      "        %timeit mdp_sa.solve(method=method)\n",
      "        %timeit mdp_sa_dense.solve(method=method)"
     ],
     "language": "python",
     "metadata": {},
     "outputs": [],
     "prompt_number": 2
    },
    {
     "cell_type": "code",
     "collapsed": false,
     "input": [
      "compare_performance(num_states=100, num_actions=20, beta=0.95, k=3)"
     ],
     "language": "python",
     "metadata": {},
     "outputs": [
      {
       "output_type": "stream",
       "stream": "stdout",
       "text": [
        "(num_states, num_actions) = (100, 20)\n",
        "Number of possible next states for each (s, a) = 3\n",
        "beta = 0.95\n",
        "=====\n",
        "Whether the results by pi agree:"
       ]
      },
      {
       "output_type": "stream",
       "stream": "stdout",
       "text": [
        " True\n",
        "Whether the answer is correct (n x m x n, n*m x n (sparse), n*m x n (dense)):\n",
        "vi : True True True\n",
        "mpi : True True True\n",
        "Number of iterations (n x m x n, n*m x n (sparse), n*m x n (dense)):\n",
        "vi : 220 220 220\n",
        "pi : 4 4 4\n",
        "mpi : 5 5 5\n",
        "=====\n",
        "Speed comparison (n x m x n, n*m x n (sparse), n*m x n (dense)):\n",
        "*** vi ***\n",
        "10 loops, best of 3: 35.8 ms per loop"
       ]
      },
      {
       "output_type": "stream",
       "stream": "stdout",
       "text": [
        "\n",
        "100 loops, best of 3: 8.84 ms per loop"
       ]
      },
      {
       "output_type": "stream",
       "stream": "stdout",
       "text": [
        "\n",
        "10 loops, best of 3: 42.8 ms per loop"
       ]
      },
      {
       "output_type": "stream",
       "stream": "stdout",
       "text": [
        "\n",
        "*** pi ***\n",
        "100 loops, best of 3: 2.15 ms per loop"
       ]
      },
      {
       "output_type": "stream",
       "stream": "stdout",
       "text": [
        "\n",
        "100 loops, best of 3: 5.45 ms per loop"
       ]
      },
      {
       "output_type": "stream",
       "stream": "stdout",
       "text": [
        "\n",
        "100 loops, best of 3: 4.11 ms per loop"
       ]
      },
      {
       "output_type": "stream",
       "stream": "stdout",
       "text": [
        "\n",
        "*** mpi ***\n",
        "100 loops, best of 3: 2.52 ms per loop"
       ]
      },
      {
       "output_type": "stream",
       "stream": "stdout",
       "text": [
        "\n",
        "100 loops, best of 3: 4.06 ms per loop"
       ]
      },
      {
       "output_type": "stream",
       "stream": "stdout",
       "text": [
        "\n",
        "100 loops, best of 3: 3.1 ms per loop"
       ]
      },
      {
       "output_type": "stream",
       "stream": "stdout",
       "text": [
        "\n"
       ]
      }
     ],
     "prompt_number": 3
    },
    {
     "cell_type": "code",
     "collapsed": false,
     "input": [
      "compare_performance(num_states=500, num_actions=20, beta=0.95, k=3)"
     ],
     "language": "python",
     "metadata": {},
     "outputs": [
      {
       "output_type": "stream",
       "stream": "stdout",
       "text": [
        "(num_states, num_actions) = (500, 20)\n",
        "Number of possible next states for each (s, a) = 3\n",
        "beta = 0.95\n",
        "=====\n",
        "Whether the results by pi agree:"
       ]
      },
      {
       "output_type": "stream",
       "stream": "stdout",
       "text": [
        " True\n",
        "Whether the answer is correct (n x m x n, n*m x n (sparse), n*m x n (dense)):\n",
        "vi : True True True\n",
        "mpi : True True True\n",
        "Number of iterations (n x m x n, n*m x n (sparse), n*m x n (dense)):\n",
        "vi : 220 220 220\n",
        "pi : 5 5 5\n",
        "mpi : 6 6 6\n",
        "=====\n",
        "Speed comparison (n x m x n, n*m x n (sparse), n*m x n (dense)):\n",
        "*** vi ***\n",
        "1 loops, best of 3: 644 ms per loop"
       ]
      },
      {
       "output_type": "stream",
       "stream": "stdout",
       "text": [
        "\n",
        "10 loops, best of 3: 22.9 ms per loop"
       ]
      },
      {
       "output_type": "stream",
       "stream": "stdout",
       "text": [
        "\n",
        "1 loops, best of 3: 537 ms per loop"
       ]
      },
      {
       "output_type": "stream",
       "stream": "stdout",
       "text": [
        "\n",
        "*** pi ***\n",
        "10 loops, best of 3: 68.3 ms per loop"
       ]
      },
      {
       "output_type": "stream",
       "stream": "stdout",
       "text": [
        "\n",
        "10 loops, best of 3: 33.6 ms per loop"
       ]
      },
      {
       "output_type": "stream",
       "stream": "stdout",
       "text": [
        "\n",
        "10 loops, best of 3: 76 ms per loop"
       ]
      },
      {
       "output_type": "stream",
       "stream": "stdout",
       "text": [
        "\n",
        "*** mpi ***\n",
        "10 loops, best of 3: 42.3 ms per loop"
       ]
      },
      {
       "output_type": "stream",
       "stream": "stdout",
       "text": [
        "\n",
        "100 loops, best of 3: 7.8 ms per loop"
       ]
      },
      {
       "output_type": "stream",
       "stream": "stdout",
       "text": [
        "\n",
        "10 loops, best of 3: 37.2 ms per loop"
       ]
      },
      {
       "output_type": "stream",
       "stream": "stdout",
       "text": [
        "\n"
       ]
      }
     ],
     "prompt_number": 4
    },
    {
     "cell_type": "code",
     "collapsed": false,
     "input": [
      "compare_performance(num_states=1000, num_actions=20, beta=0.95, k=3)"
     ],
     "language": "python",
     "metadata": {},
     "outputs": [
      {
       "output_type": "stream",
       "stream": "stdout",
       "text": [
        "(num_states, num_actions) = (1000, 20)\n",
        "Number of possible next states for each (s, a) = 3\n",
        "beta = 0.95\n",
        "=====\n",
        "Whether the results by pi agree:"
       ]
      },
      {
       "output_type": "stream",
       "stream": "stdout",
       "text": [
        " True\n",
        "Whether the answer is correct (n x m x n, n*m x n (sparse), n*m x n (dense)):\n",
        "vi : True True True\n",
        "mpi : True True True\n",
        "Number of iterations (n x m x n, n*m x n (sparse), n*m x n (dense)):\n",
        "vi : 220 220 220\n",
        "pi : 5 5 5\n",
        "mpi : 6 6 6\n",
        "=====\n",
        "Speed comparison (n x m x n, n*m x n (sparse), n*m x n (dense)):\n",
        "*** vi ***\n",
        "1 loops, best of 3: 2.51 s per loop"
       ]
      },
      {
       "output_type": "stream",
       "stream": "stdout",
       "text": [
        "\n",
        "10 loops, best of 3: 47.3 ms per loop"
       ]
      },
      {
       "output_type": "stream",
       "stream": "stdout",
       "text": [
        "\n",
        "1 loops, best of 3: 1.92 s per loop"
       ]
      },
      {
       "output_type": "stream",
       "stream": "stdout",
       "text": [
        "\n",
        "*** pi ***\n",
        "1 loops, best of 3: 461 ms per loop"
       ]
      },
      {
       "output_type": "stream",
       "stream": "stdout",
       "text": [
        "\n",
        "10 loops, best of 3: 166 ms per loop"
       ]
      },
      {
       "output_type": "stream",
       "stream": "stdout",
       "text": [
        "\n",
        "1 loops, best of 3: 449 ms per loop"
       ]
      },
      {
       "output_type": "stream",
       "stream": "stdout",
       "text": [
        "\n",
        "*** mpi ***\n",
        "10 loops, best of 3: 131 ms per loop"
       ]
      },
      {
       "output_type": "stream",
       "stream": "stdout",
       "text": [
        "\n",
        "100 loops, best of 3: 16.8 ms per loop"
       ]
      },
      {
       "output_type": "stream",
       "stream": "stdout",
       "text": [
        "\n",
        "10 loops, best of 3: 113 ms per loop"
       ]
      },
      {
       "output_type": "stream",
       "stream": "stdout",
       "text": [
        "\n"
       ]
      }
     ],
     "prompt_number": 5
    },
    {
     "cell_type": "code",
     "collapsed": false,
     "input": [
      "compare_performance(num_states=1000, num_actions=50, beta=0.95, k=3)"
     ],
     "language": "python",
     "metadata": {},
     "outputs": [
      {
       "output_type": "stream",
       "stream": "stdout",
       "text": [
        "(num_states, num_actions) = (1000, 50)\n",
        "Number of possible next states for each (s, a) = 3\n",
        "beta = 0.95\n",
        "=====\n",
        "Whether the results by pi agree:"
       ]
      },
      {
       "output_type": "stream",
       "stream": "stdout",
       "text": [
        " True\n",
        "Whether the answer is correct (n x m x n, n*m x n (sparse), n*m x n (dense)):\n",
        "vi : True True True\n",
        "mpi : True True True\n",
        "Number of iterations (n x m x n, n*m x n (sparse), n*m x n (dense)):\n",
        "vi : 223 223 223\n",
        "pi : 5 5 5\n",
        "mpi : 6 6 6\n",
        "=====\n",
        "Speed comparison (n x m x n, n*m x n (sparse), n*m x n (dense)):\n",
        "*** vi ***\n",
        "1 loops, best of 3: 6.25 s per loop"
       ]
      },
      {
       "output_type": "stream",
       "stream": "stdout",
       "text": [
        "\n",
        "10 loops, best of 3: 86.1 ms per loop"
       ]
      },
      {
       "output_type": "stream",
       "stream": "stdout",
       "text": [
        "\n",
        "1 loops, best of 3: 4.5 s per loop"
       ]
      },
      {
       "output_type": "stream",
       "stream": "stdout",
       "text": [
        "\n",
        "*** pi ***\n",
        "1 loops, best of 3: 578 ms per loop"
       ]
      },
      {
       "output_type": "stream",
       "stream": "stdout",
       "text": [
        "\n",
        "10 loops, best of 3: 167 ms per loop"
       ]
      },
      {
       "output_type": "stream",
       "stream": "stdout",
       "text": [
        "\n",
        "1 loops, best of 3: 542 ms per loop"
       ]
      },
      {
       "output_type": "stream",
       "stream": "stdout",
       "text": [
        "\n",
        "*** mpi ***\n",
        "1 loops, best of 3: 226 ms per loop"
       ]
      },
      {
       "output_type": "stream",
       "stream": "stdout",
       "text": [
        "\n",
        "100 loops, best of 3: 19.1 ms per loop"
       ]
      },
      {
       "output_type": "stream",
       "stream": "stdout",
       "text": [
        "\n",
        "1 loops, best of 3: 197 ms per loop"
       ]
      },
      {
       "output_type": "stream",
       "stream": "stdout",
       "text": [
        "\n"
       ]
      }
     ],
     "prompt_number": 6
    },
    {
     "cell_type": "code",
     "collapsed": false,
     "input": [
      "compare_performance(num_states=500, num_actions=20, beta=0.95, k=100)"
     ],
     "language": "python",
     "metadata": {},
     "outputs": [
      {
       "output_type": "stream",
       "stream": "stdout",
       "text": [
        "(num_states, num_actions) = (500, 20)\n",
        "Number of possible next states for each (s, a) = 100\n",
        "beta = 0.95\n",
        "=====\n",
        "Whether the results by pi agree:"
       ]
      },
      {
       "output_type": "stream",
       "stream": "stdout",
       "text": [
        " True\n",
        "Whether the answer is correct (n x m x n, n*m x n (sparse), n*m x n (dense)):\n",
        "vi : True True True\n",
        "mpi : True True True\n",
        "Number of iterations (n x m x n, n*m x n (sparse), n*m x n (dense)):\n",
        "vi : 218 218 218\n",
        "pi : 2 2 2\n",
        "mpi : 3 3 3\n",
        "=====\n",
        "Speed comparison (n x m x n, n*m x n (sparse), n*m x n (dense)):\n",
        "*** vi ***\n",
        "1 loops, best of 3: 681 ms per loop"
       ]
      },
      {
       "output_type": "stream",
       "stream": "stdout",
       "text": [
        "\n",
        "1 loops, best of 3: 226 ms per loop"
       ]
      },
      {
       "output_type": "stream",
       "stream": "stdout",
       "text": [
        "\n",
        "1 loops, best of 3: 535 ms per loop"
       ]
      },
      {
       "output_type": "stream",
       "stream": "stdout",
       "text": [
        "\n",
        "*** pi ***\n",
        "10 loops, best of 3: 33 ms per loop"
       ]
      },
      {
       "output_type": "stream",
       "stream": "stdout",
       "text": [
        "\n",
        "10 loops, best of 3: 68.4 ms per loop"
       ]
      },
      {
       "output_type": "stream",
       "stream": "stdout",
       "text": [
        "\n",
        "10 loops, best of 3: 34.9 ms per loop"
       ]
      },
      {
       "output_type": "stream",
       "stream": "stdout",
       "text": [
        "\n",
        "*** mpi ***\n",
        "10 loops, best of 3: 22.1 ms per loop"
       ]
      },
      {
       "output_type": "stream",
       "stream": "stdout",
       "text": [
        "\n",
        "100 loops, best of 3: 16.4 ms per loop"
       ]
      },
      {
       "output_type": "stream",
       "stream": "stdout",
       "text": [
        "\n",
        "10 loops, best of 3: 20.4 ms per loop"
       ]
      },
      {
       "output_type": "stream",
       "stream": "stdout",
       "text": [
        "\n"
       ]
      }
     ],
     "prompt_number": 7
    },
    {
     "cell_type": "code",
     "collapsed": false,
     "input": [
      "compare_performance(num_states=500, num_actions=20, beta=0.95, k=50)"
     ],
     "language": "python",
     "metadata": {},
     "outputs": [
      {
       "output_type": "stream",
       "stream": "stdout",
       "text": [
        "(num_states, num_actions) = (500, 20)\n",
        "Number of possible next states for each (s, a) = 50\n",
        "beta = 0.95\n",
        "=====\n",
        "Whether the results by pi agree:"
       ]
      },
      {
       "output_type": "stream",
       "stream": "stdout",
       "text": [
        " True\n",
        "Whether the answer is correct (n x m x n, n*m x n (sparse), n*m x n (dense)):\n",
        "vi : True True True\n",
        "mpi : True True True\n",
        "Number of iterations (n x m x n, n*m x n (sparse), n*m x n (dense)):\n",
        "vi : 218 218 218\n",
        "pi : 2 2 2\n",
        "mpi : 3 3 3\n",
        "=====\n",
        "Speed comparison (n x m x n, n*m x n (sparse), n*m x n (dense)):\n",
        "*** vi ***\n",
        "1 loops, best of 3: 650 ms per loop"
       ]
      },
      {
       "output_type": "stream",
       "stream": "stdout",
       "text": [
        "\n",
        "10 loops, best of 3: 115 ms per loop"
       ]
      },
      {
       "output_type": "stream",
       "stream": "stdout",
       "text": [
        "\n",
        "1 loops, best of 3: 540 ms per loop"
       ]
      },
      {
       "output_type": "stream",
       "stream": "stdout",
       "text": [
        "\n",
        "*** pi ***\n",
        "10 loops, best of 3: 34.9 ms per loop"
       ]
      },
      {
       "output_type": "stream",
       "stream": "stdout",
       "text": [
        "\n",
        "10 loops, best of 3: 65.4 ms per loop"
       ]
      },
      {
       "output_type": "stream",
       "stream": "stdout",
       "text": [
        "\n",
        "10 loops, best of 3: 35.1 ms per loop"
       ]
      },
      {
       "output_type": "stream",
       "stream": "stdout",
       "text": [
        "\n",
        "*** mpi ***\n",
        "10 loops, best of 3: 21.5 ms per loop"
       ]
      },
      {
       "output_type": "stream",
       "stream": "stdout",
       "text": [
        "\n",
        "100 loops, best of 3: 10.2 ms per loop"
       ]
      },
      {
       "output_type": "stream",
       "stream": "stdout",
       "text": [
        "\n",
        "10 loops, best of 3: 19.8 ms per loop"
       ]
      },
      {
       "output_type": "stream",
       "stream": "stdout",
       "text": [
        "\n"
       ]
      }
     ],
     "prompt_number": 8
    },
    {
     "cell_type": "code",
     "collapsed": false,
     "input": [
      "compare_performance(num_states=500, num_actions=20, beta=0.95, k=500)"
     ],
     "language": "python",
     "metadata": {},
     "outputs": [
      {
       "output_type": "stream",
       "stream": "stdout",
       "text": [
        "(num_states, num_actions) = (500, 20)\n",
        "Number of possible next states for each (s, a) = 500\n",
        "beta = 0.95\n",
        "=====\n",
        "Whether the results by pi agree:"
       ]
      },
      {
       "output_type": "stream",
       "stream": "stdout",
       "text": [
        " True\n",
        "Whether the answer is correct (n x m x n, n*m x n (sparse), n*m x n (dense)):\n",
        "vi : True True True\n",
        "mpi : True True True\n",
        "Number of iterations (n x m x n, n*m x n (sparse), n*m x n (dense)):\n",
        "vi : 218 218 218\n",
        "pi : 2 2 2\n",
        "mpi : 3 3 3\n",
        "=====\n",
        "Speed comparison (n x m x n, n*m x n (sparse), n*m x n (dense)):\n",
        "*** vi ***\n",
        "1 loops, best of 3: 651 ms per loop"
       ]
      },
      {
       "output_type": "stream",
       "stream": "stdout",
       "text": [
        "\n",
        "1 loops, best of 3: 1.08 s per loop"
       ]
      },
      {
       "output_type": "stream",
       "stream": "stdout",
       "text": [
        "\n",
        "1 loops, best of 3: 535 ms per loop"
       ]
      },
      {
       "output_type": "stream",
       "stream": "stdout",
       "text": [
        "\n",
        "*** pi ***\n",
        "10 loops, best of 3: 35.7 ms per loop"
       ]
      },
      {
       "output_type": "stream",
       "stream": "stdout",
       "text": [
        "\n",
        "10 loops, best of 3: 138 ms per loop"
       ]
      },
      {
       "output_type": "stream",
       "stream": "stdout",
       "text": [
        "\n",
        "10 loops, best of 3: 39.2 ms per loop"
       ]
      },
      {
       "output_type": "stream",
       "stream": "stdout",
       "text": [
        "\n",
        "*** mpi ***\n",
        "10 loops, best of 3: 26.2 ms per loop"
       ]
      },
      {
       "output_type": "stream",
       "stream": "stdout",
       "text": [
        "\n",
        "10 loops, best of 3: 71.2 ms per loop"
       ]
      },
      {
       "output_type": "stream",
       "stream": "stdout",
       "text": [
        "\n",
        "10 loops, best of 3: 26.1 ms per loop"
       ]
      },
      {
       "output_type": "stream",
       "stream": "stdout",
       "text": [
        "\n"
       ]
      }
     ],
     "prompt_number": 9
    },
    {
     "cell_type": "code",
     "collapsed": false,
     "input": [
      "compare_performance(num_states=1000, num_actions=100, beta=0.95, k=1)"
     ],
     "language": "python",
     "metadata": {},
     "outputs": [
      {
       "output_type": "stream",
       "stream": "stdout",
       "text": [
        "(num_states, num_actions) = (1000, 100)\n",
        "Number of possible next states for each (s, a) = 1\n",
        "beta = 0.95\n",
        "=====\n",
        "Whether the results by pi agree:"
       ]
      },
      {
       "output_type": "stream",
       "stream": "stdout",
       "text": [
        " True\n",
        "Whether the answer is correct (n x m x n, n*m x n (sparse), n*m x n (dense)):\n",
        "vi : True True True\n",
        "mpi : True True True\n",
        "Number of iterations (n x m x n, n*m x n (sparse), n*m x n (dense)):\n",
        "vi : 228 228 228\n",
        "pi : 9 9 9\n",
        "mpi : 14 14 14\n",
        "=====\n",
        "Speed comparison (n x m x n, n*m x n (sparse), n*m x n (dense)):\n",
        "*** vi ***\n",
        "1 loops, best of 3: 12.5 s per loop"
       ]
      },
      {
       "output_type": "stream",
       "stream": "stdout",
       "text": [
        "\n",
        "10 loops, best of 3: 126 ms per loop"
       ]
      },
      {
       "output_type": "stream",
       "stream": "stdout",
       "text": [
        "\n",
        "1 loops, best of 3: 9.08 s per loop"
       ]
      },
      {
       "output_type": "stream",
       "stream": "stdout",
       "text": [
        "\n",
        "*** pi ***\n",
        "1 loops, best of 3: 1.25 s per loop"
       ]
      },
      {
       "output_type": "stream",
       "stream": "stdout",
       "text": [
        "\n",
        "10 loops, best of 3: 29.8 ms per loop"
       ]
      },
      {
       "output_type": "stream",
       "stream": "stdout",
       "text": [
        "\n",
        "1 loops, best of 3: 1.16 s per loop"
       ]
      },
      {
       "output_type": "stream",
       "stream": "stdout",
       "text": [
        "\n",
        "*** mpi ***\n",
        "1 loops, best of 3: 940 ms per loop"
       ]
      },
      {
       "output_type": "stream",
       "stream": "stdout",
       "text": [
        "\n",
        "10 loops, best of 3: 32.5 ms per loop"
       ]
      },
      {
       "output_type": "stream",
       "stream": "stdout",
       "text": [
        "\n",
        "1 loops, best of 3: 722 ms per loop"
       ]
      },
      {
       "output_type": "stream",
       "stream": "stdout",
       "text": [
        "\n"
       ]
      }
     ],
     "prompt_number": 10
    },
    {
     "cell_type": "code",
     "collapsed": false,
     "input": [
      "compare_performance(num_states=1000, num_actions=200, beta=0.95, k=1, suppress_vi=True)"
     ],
     "language": "python",
     "metadata": {},
     "outputs": [
      {
       "output_type": "stream",
       "stream": "stdout",
       "text": [
        "(num_states, num_actions) = (1000, 200)\n",
        "Number of possible next states for each (s, a) = 1\n",
        "beta = 0.95\n",
        "=====\n",
        "Whether the results by pi agree:"
       ]
      },
      {
       "output_type": "stream",
       "stream": "stdout",
       "text": [
        " True\n",
        "Whether the answer is correct (n x m x n, n*m x n (sparse), n*m x n (dense)):\n",
        "mpi : True True True\n",
        "Number of iterations (n x m x n, n*m x n (sparse), n*m x n (dense)):\n",
        "pi : 9 9 9\n",
        "mpi : 14 14 14\n",
        "=====\n",
        "Speed comparison (n x m x n, n*m x n (sparse), n*m x n (dense)):\n",
        "*** pi ***\n",
        "1 loops, best of 3: 1.88 s per loop"
       ]
      },
      {
       "output_type": "stream",
       "stream": "stdout",
       "text": [
        "\n",
        "10 loops, best of 3: 40.7 ms per loop"
       ]
      },
      {
       "output_type": "stream",
       "stream": "stdout",
       "text": [
        "\n",
        "1 loops, best of 3: 1.56 s per loop"
       ]
      },
      {
       "output_type": "stream",
       "stream": "stdout",
       "text": [
        "\n",
        "*** mpi ***\n",
        "1 loops, best of 3: 1.71 s per loop"
       ]
      },
      {
       "output_type": "stream",
       "stream": "stdout",
       "text": [
        "\n",
        "10 loops, best of 3: 46.9 ms per loop"
       ]
      },
      {
       "output_type": "stream",
       "stream": "stdout",
       "text": [
        "\n",
        "1 loops, best of 3: 1.33 s per loop"
       ]
      },
      {
       "output_type": "stream",
       "stream": "stdout",
       "text": [
        "\n"
       ]
      }
     ],
     "prompt_number": 11
    },
    {
     "cell_type": "code",
     "collapsed": false,
     "input": [
      "import platform\n",
      "platform.platform()"
     ],
     "language": "python",
     "metadata": {},
     "outputs": [
      {
       "metadata": {},
       "output_type": "pyout",
       "prompt_number": 12,
       "text": [
        "'Darwin-13.4.0-x86_64-i386-64bit'"
       ]
      }
     ],
     "prompt_number": 12
    },
    {
     "cell_type": "code",
     "collapsed": false,
     "input": [
      "import sys\n",
      "print sys.version"
     ],
     "language": "python",
     "metadata": {},
     "outputs": [
      {
       "output_type": "stream",
       "stream": "stdout",
       "text": [
        "2.7.8 (default, Jul  2 2014, 10:14:46) \n",
        "[GCC 4.2.1 Compatible Apple LLVM 5.1 (clang-503.0.40)]\n"
       ]
      }
     ],
     "prompt_number": 13
    },
    {
     "cell_type": "code",
     "collapsed": false,
     "input": [
      "np.__version__"
     ],
     "language": "python",
     "metadata": {},
     "outputs": [
      {
       "metadata": {},
       "output_type": "pyout",
       "prompt_number": 14,
       "text": [
        "'1.9.0'"
       ]
      }
     ],
     "prompt_number": 14
    },
    {
     "cell_type": "code",
     "collapsed": false,
     "input": [
      "import scipy\n",
      "scipy.__version__"
     ],
     "language": "python",
     "metadata": {},
     "outputs": [
      {
       "metadata": {},
       "output_type": "pyout",
       "prompt_number": 15,
       "text": [
        "'0.14.0'"
       ]
      }
     ],
     "prompt_number": 15
    },
    {
     "cell_type": "code",
     "collapsed": false,
     "input": [
      "import numba\n",
      "numba.__version__"
     ],
     "language": "python",
     "metadata": {},
     "outputs": [
      {
       "metadata": {},
       "output_type": "pyout",
       "prompt_number": 16,
       "text": [
        "'0.15.1'"
       ]
      }
     ],
     "prompt_number": 16
    },
    {
     "cell_type": "code",
     "collapsed": false,
     "input": [],
     "language": "python",
     "metadata": {},
     "outputs": []
    }
   ],
   "metadata": {}
  }
 ]
}