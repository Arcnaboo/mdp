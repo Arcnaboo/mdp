{
 "metadata": {
  "name": "",
  "signature": "sha256:0933ecbbf6e2927971337cdcc34b0248de8adb0b3f647133a176b88e01a68aa5"
 },
 "nbformat": 3,
 "nbformat_minor": 0,
 "worksheets": [
  {
   "cells": [
    {
     "cell_type": "code",
     "collapsed": false,
     "input": [
      "import numpy as np\n",
      "from mdp import MDP\n",
      "from random_mdp import random_mdp"
     ],
     "language": "python",
     "metadata": {},
     "outputs": [],
     "prompt_number": 1
    },
    {
     "cell_type": "heading",
     "level": 1,
     "metadata": {},
     "source": [
      "Performance Comparison"
     ]
    },
    {
     "cell_type": "markdown",
     "metadata": {},
     "source": [
      "Regarding the representation of the transition probability array `Q`:\n",
      "0. current states $\\times$ actions $\\times$ next states\n",
      "0. current state-action pairs $\\times$ next states (sparse matrix)\n",
      "0. current state-action pairs $\\times$ next states (dense matrix)"
     ]
    },
    {
     "cell_type": "code",
     "collapsed": false,
     "input": [
      "def compare_performance(num_states, num_actions, beta, k, suppress_vi=False):\n",
      "    # Construct an MPD_sa\n",
      "    mdp_sa = random_mdp(num_states, num_actions, beta, k=k, sa_pair=True)\n",
      "    \n",
      "    # Create an MPD_sa version with dense Q\n",
      "    R = mdp_sa.R\n",
      "    Q_dense = mdp_sa.Q.toarray()\n",
      "    s_indices, a_indices = mdp_sa.s_indices, mdp_sa.a_indices\n",
      "    mdp_sa_dense = MDP(R, Q_dense, beta, s_indices, a_indices)\n",
      "    \n",
      "    # Create an MDP version\n",
      "    R_n_x_m = R.reshape(num_states, num_actions)\n",
      "    Q_nm_x_n = np.empty((num_states, num_actions, num_states))\n",
      "    for i in range(num_states*num_actions):\n",
      "        Q_nm_x_n[mdp_sa.s_indices[i], mdp_sa.a_indices[i]] = Q_dense[i]\n",
      "    mdp = MDP(R_n_x_m, Q_nm_x_n, beta)\n",
      "    \n",
      "    print '(num_states, num_actions) = ({0}, {1})'.format(num_states, num_actions)\n",
      "    print 'Number of possible next states for each (s, a) =', k\n",
      "    print 'beta =', beta\n",
      "    print '====='\n",
      "    \n",
      "    classes = [mdp, mdp_sa, mdp_sa_dense]\n",
      "    classes_labels = ['n x m x n', 'n*m x n (sparse)', 'n*m x n (dense)']\n",
      "    if suppress_vi:\n",
      "        methods = ['pi', 'mpi']\n",
      "    else:\n",
      "        methods = ['vi', 'pi', 'mpi']\n",
      "    results = [[],\n",
      "               [],\n",
      "               []]\n",
      "    max_iter = 1000\n",
      "    mdp.max_iter, mdp_sa.max_iter, mdp_sa_dense.max_iter = max_iter, max_iter, max_iter\n",
      "    k = 20\n",
      "    \n",
      "    for i, cl in enumerate(classes):\n",
      "        for method in methods:\n",
      "            res = cl.solve(method=method, k=k)\n",
      "            results[i].append(res)\n",
      "            \n",
      "    print 'Whether the results by pi agree:', \\\n",
      "        np.array_equal(results[0][1]['sigma'], results[1][1]['sigma']) and \\\n",
      "        np.array_equal(results[1][1]['sigma'], results[2][1]['sigma'])\n",
      "    print 'Whether the answer is correct ({0}, {1}, {2}):'.format(\n",
      "        classes_labels[0], classes_labels[1], classes_labels[2])\n",
      "    for i, method in enumerate(methods):\n",
      "        if method != 'pi':\n",
      "            print methods[i], ':', \\\n",
      "                np.array_equal(results[0][i]['sigma'], results[0][1]['sigma']), \\\n",
      "                np.array_equal(results[1][i]['sigma'], results[1][1]['sigma']), \\\n",
      "                np.array_equal(results[2][i]['sigma'], results[2][1]['sigma'])\n",
      "    print 'Number of iterations ({0}, {1}, {2}):'.format(\n",
      "        classes_labels[0], classes_labels[1], classes_labels[2])\n",
      "    for i, method in enumerate(methods):\n",
      "        print methods[i], ':', \\\n",
      "            results[0][i]['num_iter'], results[1][i]['num_iter'], \\\n",
      "            results[2][i]['num_iter']\n",
      "    print '====='\n",
      "    \n",
      "    print 'Speed comparison ({0}, {1}, {2}):'.format(\n",
      "        classes_labels[0], classes_labels[1], classes_labels[2])\n",
      "    for method in methods:\n",
      "        global mdp, mdp_sa, mdp_sa_dense, method\n",
      "        print '***', method, '***'\n",
      "        %timeit mdp.solve(method=method)\n",
      "        %timeit mdp_sa.solve(method=method)\n",
      "        %timeit mdp_sa_dense.solve(method=method)"
     ],
     "language": "python",
     "metadata": {},
     "outputs": [],
     "prompt_number": 2
    },
    {
     "cell_type": "code",
     "collapsed": false,
     "input": [
      "compare_performance(num_states=100, num_actions=20, beta=0.95, k=3)"
     ],
     "language": "python",
     "metadata": {},
     "outputs": [
      {
       "output_type": "stream",
       "stream": "stdout",
       "text": [
        "(num_states, num_actions) = (100, 20)\n",
        "Number of possible next states for each (s, a) = 3\n",
        "beta = 0.95\n",
        "=====\n",
        "Whether the results by pi agree:"
       ]
      },
      {
       "output_type": "stream",
       "stream": "stdout",
       "text": [
        " True\n",
        "Whether the answer is correct (n x m x n, n*m x n (sparse), n*m x n (dense)):\n",
        "vi : True True True\n",
        "mpi : True True True\n",
        "Number of iterations (n x m x n, n*m x n (sparse), n*m x n (dense)):\n",
        "vi : 221 221 221\n",
        "pi : 3 3 3\n",
        "mpi : 4 4 4\n",
        "=====\n",
        "Speed comparison (n x m x n, n*m x n (sparse), n*m x n (dense)):\n",
        "*** vi ***\n",
        "10 loops, best of 3: 32.8 ms per loop"
       ]
      },
      {
       "output_type": "stream",
       "stream": "stdout",
       "text": [
        "\n",
        "100 loops, best of 3: 9.71 ms per loop"
       ]
      },
      {
       "output_type": "stream",
       "stream": "stdout",
       "text": [
        "\n",
        "100 loops, best of 3: 17.2 ms per loop"
       ]
      },
      {
       "output_type": "stream",
       "stream": "stdout",
       "text": [
        "\n",
        "*** pi ***\n",
        "1000 loops, best of 3: 1.91 ms per loop"
       ]
      },
      {
       "output_type": "stream",
       "stream": "stdout",
       "text": [
        "\n",
        "100 loops, best of 3: 4.34 ms per loop"
       ]
      },
      {
       "output_type": "stream",
       "stream": "stdout",
       "text": [
        "\n",
        "1000 loops, best of 3: 1.6 ms per loop"
       ]
      },
      {
       "output_type": "stream",
       "stream": "stdout",
       "text": [
        "\n",
        "*** mpi ***\n",
        "100 loops, best of 3: 2.01 ms per loop"
       ]
      },
      {
       "output_type": "stream",
       "stream": "stdout",
       "text": [
        "\n",
        "100 loops, best of 3: 3.4 ms per loop"
       ]
      },
      {
       "output_type": "stream",
       "stream": "stdout",
       "text": [
        "\n",
        "100 loops, best of 3: 2 ms per loop"
       ]
      },
      {
       "output_type": "stream",
       "stream": "stdout",
       "text": [
        "\n"
       ]
      }
     ],
     "prompt_number": 3
    },
    {
     "cell_type": "code",
     "collapsed": false,
     "input": [
      "compare_performance(num_states=500, num_actions=20, beta=0.95, k=3)"
     ],
     "language": "python",
     "metadata": {},
     "outputs": [
      {
       "output_type": "stream",
       "stream": "stdout",
       "text": [
        "(num_states, num_actions) = (500, 20)\n",
        "Number of possible next states for each (s, a) = 3\n",
        "beta = 0.95\n",
        "=====\n",
        "Whether the results by pi agree:"
       ]
      },
      {
       "output_type": "stream",
       "stream": "stdout",
       "text": [
        " True\n",
        "Whether the answer is correct (n x m x n, n*m x n (sparse), n*m x n (dense)):\n",
        "vi : True True True\n",
        "mpi : True True True\n",
        "Number of iterations (n x m x n, n*m x n (sparse), n*m x n (dense)):\n",
        "vi : 220 220 220\n",
        "pi : 5 5 5\n",
        "mpi : 6 6 6\n",
        "=====\n",
        "Speed comparison (n x m x n, n*m x n (sparse), n*m x n (dense)):\n",
        "*** vi ***\n",
        "1 loops, best of 3: 935 ms per loop"
       ]
      },
      {
       "output_type": "stream",
       "stream": "stdout",
       "text": [
        "\n",
        "10 loops, best of 3: 24.1 ms per loop"
       ]
      },
      {
       "output_type": "stream",
       "stream": "stdout",
       "text": [
        "\n",
        "1 loops, best of 3: 471 ms per loop"
       ]
      },
      {
       "output_type": "stream",
       "stream": "stdout",
       "text": [
        "\n",
        "*** pi ***\n",
        "10 loops, best of 3: 49 ms per loop"
       ]
      },
      {
       "output_type": "stream",
       "stream": "stdout",
       "text": [
        "\n",
        "10 loops, best of 3: 31.7 ms per loop"
       ]
      },
      {
       "output_type": "stream",
       "stream": "stdout",
       "text": [
        "\n",
        "10 loops, best of 3: 34.9 ms per loop"
       ]
      },
      {
       "output_type": "stream",
       "stream": "stdout",
       "text": [
        "\n",
        "*** mpi ***\n",
        "10 loops, best of 3: 41.5 ms per loop"
       ]
      },
      {
       "output_type": "stream",
       "stream": "stdout",
       "text": [
        "\n",
        "100 loops, best of 3: 8.19 ms per loop"
       ]
      },
      {
       "output_type": "stream",
       "stream": "stdout",
       "text": [
        "\n",
        "10 loops, best of 3: 27.7 ms per loop"
       ]
      },
      {
       "output_type": "stream",
       "stream": "stdout",
       "text": [
        "\n"
       ]
      }
     ],
     "prompt_number": 4
    },
    {
     "cell_type": "code",
     "collapsed": false,
     "input": [
      "compare_performance(num_states=1000, num_actions=20, beta=0.95, k=3)"
     ],
     "language": "python",
     "metadata": {},
     "outputs": [
      {
       "output_type": "stream",
       "stream": "stdout",
       "text": [
        "(num_states, num_actions) = (1000, 20)\n",
        "Number of possible next states for each (s, a) = 3\n",
        "beta = 0.95\n",
        "=====\n",
        "Whether the results by pi agree:"
       ]
      },
      {
       "output_type": "stream",
       "stream": "stdout",
       "text": [
        " True\n",
        "Whether the answer is correct (n x m x n, n*m x n (sparse), n*m x n (dense)):\n",
        "vi : True True True\n",
        "mpi : True True True\n",
        "Number of iterations (n x m x n, n*m x n (sparse), n*m x n (dense)):\n",
        "vi : 219 219 219\n",
        "pi : 5 5 5\n",
        "mpi : 6 6 6\n",
        "=====\n",
        "Speed comparison (n x m x n, n*m x n (sparse), n*m x n (dense)):\n",
        "*** vi ***\n",
        "1 loops, best of 3: 3.05 s per loop"
       ]
      },
      {
       "output_type": "stream",
       "stream": "stdout",
       "text": [
        "\n",
        "10 loops, best of 3: 48.8 ms per loop"
       ]
      },
      {
       "output_type": "stream",
       "stream": "stdout",
       "text": [
        "\n",
        "1 loops, best of 3: 1.97 s per loop"
       ]
      },
      {
       "output_type": "stream",
       "stream": "stdout",
       "text": [
        "\n",
        "*** pi ***\n",
        "1 loops, best of 3: 261 ms per loop"
       ]
      },
      {
       "output_type": "stream",
       "stream": "stdout",
       "text": [
        "\n",
        "10 loops, best of 3: 169 ms per loop"
       ]
      },
      {
       "output_type": "stream",
       "stream": "stdout",
       "text": [
        "\n",
        "1 loops, best of 3: 243 ms per loop"
       ]
      },
      {
       "output_type": "stream",
       "stream": "stdout",
       "text": [
        "\n",
        "*** mpi ***\n",
        "10 loops, best of 3: 141 ms per loop"
       ]
      },
      {
       "output_type": "stream",
       "stream": "stdout",
       "text": [
        "\n",
        "100 loops, best of 3: 19.1 ms per loop"
       ]
      },
      {
       "output_type": "stream",
       "stream": "stdout",
       "text": [
        "\n",
        "10 loops, best of 3: 102 ms per loop"
       ]
      },
      {
       "output_type": "stream",
       "stream": "stdout",
       "text": [
        "\n"
       ]
      }
     ],
     "prompt_number": 5
    },
    {
     "cell_type": "code",
     "collapsed": false,
     "input": [
      "compare_performance(num_states=1000, num_actions=50, beta=0.95, k=3)"
     ],
     "language": "python",
     "metadata": {},
     "outputs": [
      {
       "output_type": "stream",
       "stream": "stdout",
       "text": [
        "(num_states, num_actions) = (1000, 50)\n",
        "Number of possible next states for each (s, a) = 3\n",
        "beta = 0.95\n",
        "=====\n",
        "Whether the results by pi agree:"
       ]
      },
      {
       "output_type": "stream",
       "stream": "stdout",
       "text": [
        " True\n",
        "Whether the answer is correct (n x m x n, n*m x n (sparse), n*m x n (dense)):\n",
        "vi : True True True\n",
        "mpi : True True True\n",
        "Number of iterations (n x m x n, n*m x n (sparse), n*m x n (dense)):\n",
        "vi : 223 223 223\n",
        "pi : 6 6 6\n",
        "mpi : 7 7 7\n",
        "=====\n",
        "Speed comparison (n x m x n, n*m x n (sparse), n*m x n (dense)):\n",
        "*** vi ***\n",
        "1 loops, best of 3: 7.6 s per loop"
       ]
      },
      {
       "output_type": "stream",
       "stream": "stdout",
       "text": [
        "\n",
        "10 loops, best of 3: 89 ms per loop"
       ]
      },
      {
       "output_type": "stream",
       "stream": "stdout",
       "text": [
        "\n",
        "1 loops, best of 3: 4.41 s per loop"
       ]
      },
      {
       "output_type": "stream",
       "stream": "stdout",
       "text": [
        "\n",
        "*** pi ***\n",
        "1 loops, best of 3: 434 ms per loop"
       ]
      },
      {
       "output_type": "stream",
       "stream": "stdout",
       "text": [
        "\n",
        "10 loops, best of 3: 178 ms per loop"
       ]
      },
      {
       "output_type": "stream",
       "stream": "stdout",
       "text": [
        "\n",
        "1 loops, best of 3: 320 ms per loop"
       ]
      },
      {
       "output_type": "stream",
       "stream": "stdout",
       "text": [
        "\n",
        "*** mpi ***\n",
        "1 loops, best of 3: 285 ms per loop"
       ]
      },
      {
       "output_type": "stream",
       "stream": "stdout",
       "text": [
        "\n",
        "10 loops, best of 3: 21.4 ms per loop"
       ]
      },
      {
       "output_type": "stream",
       "stream": "stdout",
       "text": [
        "\n",
        "1 loops, best of 3: 198 ms per loop"
       ]
      },
      {
       "output_type": "stream",
       "stream": "stdout",
       "text": [
        "\n"
       ]
      }
     ],
     "prompt_number": 6
    },
    {
     "cell_type": "code",
     "collapsed": false,
     "input": [
      "compare_performance(num_states=500, num_actions=20, beta=0.95, k=100)"
     ],
     "language": "python",
     "metadata": {},
     "outputs": [
      {
       "output_type": "stream",
       "stream": "stdout",
       "text": [
        "(num_states, num_actions) = (500, 20)\n",
        "Number of possible next states for each (s, a) = 100\n",
        "beta = 0.95\n",
        "=====\n",
        "Whether the results by pi agree:"
       ]
      },
      {
       "output_type": "stream",
       "stream": "stdout",
       "text": [
        " True\n",
        "Whether the answer is correct (n x m x n, n*m x n (sparse), n*m x n (dense)):\n",
        "vi : True True True\n",
        "mpi : True True True\n",
        "Number of iterations (n x m x n, n*m x n (sparse), n*m x n (dense)):\n",
        "vi : 219 219 219\n",
        "pi : 2 2 2\n",
        "mpi : 3 3 3\n",
        "=====\n",
        "Speed comparison (n x m x n, n*m x n (sparse), n*m x n (dense)):\n",
        "*** vi ***\n",
        "1 loops, best of 3: 947 ms per loop"
       ]
      },
      {
       "output_type": "stream",
       "stream": "stdout",
       "text": [
        "\n",
        "1 loops, best of 3: 224 ms per loop"
       ]
      },
      {
       "output_type": "stream",
       "stream": "stdout",
       "text": [
        "\n",
        "1 loops, best of 3: 469 ms per loop"
       ]
      },
      {
       "output_type": "stream",
       "stream": "stdout",
       "text": [
        "\n",
        "*** pi ***\n",
        "10 loops, best of 3: 25.8 ms per loop"
       ]
      },
      {
       "output_type": "stream",
       "stream": "stdout",
       "text": [
        "\n",
        "10 loops, best of 3: 52.6 ms per loop"
       ]
      },
      {
       "output_type": "stream",
       "stream": "stdout",
       "text": [
        "\n",
        "10 loops, best of 3: 20.4 ms per loop"
       ]
      },
      {
       "output_type": "stream",
       "stream": "stdout",
       "text": [
        "\n",
        "*** mpi ***\n",
        "10 loops, best of 3: 24.1 ms per loop"
       ]
      },
      {
       "output_type": "stream",
       "stream": "stdout",
       "text": [
        "\n",
        "100 loops, best of 3: 14.2 ms per loop"
       ]
      },
      {
       "output_type": "stream",
       "stream": "stdout",
       "text": [
        "\n",
        "10 loops, best of 3: 16.5 ms per loop"
       ]
      },
      {
       "output_type": "stream",
       "stream": "stdout",
       "text": [
        "\n"
       ]
      }
     ],
     "prompt_number": 7
    },
    {
     "cell_type": "code",
     "collapsed": false,
     "input": [
      "compare_performance(num_states=500, num_actions=20, beta=0.95, k=50)"
     ],
     "language": "python",
     "metadata": {},
     "outputs": [
      {
       "output_type": "stream",
       "stream": "stdout",
       "text": [
        "(num_states, num_actions) = (500, 20)\n",
        "Number of possible next states for each (s, a) = 50\n",
        "beta = 0.95\n",
        "=====\n",
        "Whether the results by pi agree:"
       ]
      },
      {
       "output_type": "stream",
       "stream": "stdout",
       "text": [
        " True\n",
        "Whether the answer is correct (n x m x n, n*m x n (sparse), n*m x n (dense)):\n",
        "vi : True True True\n",
        "mpi : True True True\n",
        "Number of iterations (n x m x n, n*m x n (sparse), n*m x n (dense)):\n",
        "vi : 218 218 218\n",
        "pi : 2 2 2\n",
        "mpi : 3 3 3\n",
        "=====\n",
        "Speed comparison (n x m x n, n*m x n (sparse), n*m x n (dense)):\n",
        "*** vi ***\n",
        "1 loops, best of 3: 907 ms per loop"
       ]
      },
      {
       "output_type": "stream",
       "stream": "stdout",
       "text": [
        "\n",
        "10 loops, best of 3: 118 ms per loop"
       ]
      },
      {
       "output_type": "stream",
       "stream": "stdout",
       "text": [
        "\n",
        "1 loops, best of 3: 471 ms per loop"
       ]
      },
      {
       "output_type": "stream",
       "stream": "stdout",
       "text": [
        "\n",
        "*** pi ***\n",
        "10 loops, best of 3: 25.8 ms per loop"
       ]
      },
      {
       "output_type": "stream",
       "stream": "stdout",
       "text": [
        "\n",
        "10 loops, best of 3: 51.3 ms per loop"
       ]
      },
      {
       "output_type": "stream",
       "stream": "stdout",
       "text": [
        "\n",
        "10 loops, best of 3: 20.1 ms per loop"
       ]
      },
      {
       "output_type": "stream",
       "stream": "stdout",
       "text": [
        "\n",
        "*** mpi ***\n",
        "10 loops, best of 3: 23.4 ms per loop"
       ]
      },
      {
       "output_type": "stream",
       "stream": "stdout",
       "text": [
        "\n",
        "100 loops, best of 3: 9.41 ms per loop"
       ]
      },
      {
       "output_type": "stream",
       "stream": "stdout",
       "text": [
        "\n",
        "100 loops, best of 3: 15.4 ms per loop"
       ]
      },
      {
       "output_type": "stream",
       "stream": "stdout",
       "text": [
        "\n"
       ]
      }
     ],
     "prompt_number": 8
    },
    {
     "cell_type": "code",
     "collapsed": false,
     "input": [
      "compare_performance(num_states=500, num_actions=20, beta=0.95, k=500)"
     ],
     "language": "python",
     "metadata": {},
     "outputs": [
      {
       "output_type": "stream",
       "stream": "stdout",
       "text": [
        "(num_states, num_actions) = (500, 20)\n",
        "Number of possible next states for each (s, a) = 500\n",
        "beta = 0.95\n",
        "=====\n",
        "Whether the results by pi agree:"
       ]
      },
      {
       "output_type": "stream",
       "stream": "stdout",
       "text": [
        " True\n",
        "Whether the answer is correct (n x m x n, n*m x n (sparse), n*m x n (dense)):\n",
        "vi : True True True\n",
        "mpi : True True True\n",
        "Number of iterations (n x m x n, n*m x n (sparse), n*m x n (dense)):\n",
        "vi : 218 218 218\n",
        "pi : 1 1 1\n",
        "mpi : 2 2 2\n",
        "=====\n",
        "Speed comparison (n x m x n, n*m x n (sparse), n*m x n (dense)):\n",
        "*** vi ***\n",
        "1 loops, best of 3: 926 ms per loop"
       ]
      },
      {
       "output_type": "stream",
       "stream": "stdout",
       "text": [
        "\n",
        "1 loops, best of 3: 1.15 s per loop"
       ]
      },
      {
       "output_type": "stream",
       "stream": "stdout",
       "text": [
        "\n",
        "1 loops, best of 3: 473 ms per loop"
       ]
      },
      {
       "output_type": "stream",
       "stream": "stdout",
       "text": [
        "\n",
        "*** pi ***\n",
        "10 loops, best of 3: 23.4 ms per loop"
       ]
      },
      {
       "output_type": "stream",
       "stream": "stdout",
       "text": [
        "\n",
        "10 loops, best of 3: 55.1 ms per loop"
       ]
      },
      {
       "output_type": "stream",
       "stream": "stdout",
       "text": [
        "\n",
        "10 loops, best of 3: 19.6 ms per loop"
       ]
      },
      {
       "output_type": "stream",
       "stream": "stdout",
       "text": [
        "\n",
        "*** mpi ***\n",
        "10 loops, best of 3: 20.9 ms per loop"
       ]
      },
      {
       "output_type": "stream",
       "stream": "stdout",
       "text": [
        "\n",
        "10 loops, best of 3: 30.4 ms per loop"
       ]
      },
      {
       "output_type": "stream",
       "stream": "stdout",
       "text": [
        "\n",
        "100 loops, best of 3: 17.2 ms per loop"
       ]
      },
      {
       "output_type": "stream",
       "stream": "stdout",
       "text": [
        "\n"
       ]
      }
     ],
     "prompt_number": 9
    },
    {
     "cell_type": "code",
     "collapsed": false,
     "input": [
      "compare_performance(num_states=1000, num_actions=100, beta=0.95, k=1)"
     ],
     "language": "python",
     "metadata": {},
     "outputs": [
      {
       "output_type": "stream",
       "stream": "stdout",
       "text": [
        "(num_states, num_actions) = (1000, 100)\n",
        "Number of possible next states for each (s, a) = 1\n",
        "beta = 0.95\n",
        "=====\n",
        "Whether the results by pi agree:"
       ]
      },
      {
       "output_type": "stream",
       "stream": "stdout",
       "text": [
        " True\n",
        "Whether the answer is correct (n x m x n, n*m x n (sparse), n*m x n (dense)):\n",
        "vi : True True True\n",
        "mpi : True True True\n",
        "Number of iterations (n x m x n, n*m x n (sparse), n*m x n (dense)):\n",
        "vi : 231 231 231\n",
        "pi : 9 9 9\n",
        "mpi : 16 16 16\n",
        "=====\n",
        "Speed comparison (n x m x n, n*m x n (sparse), n*m x n (dense)):\n",
        "*** vi ***\n",
        "1 loops, best of 3: 15.4 s per loop"
       ]
      },
      {
       "output_type": "stream",
       "stream": "stdout",
       "text": [
        "\n",
        "10 loops, best of 3: 123 ms per loop"
       ]
      },
      {
       "output_type": "stream",
       "stream": "stdout",
       "text": [
        "\n",
        "1 loops, best of 3: 8.89 s per loop"
       ]
      },
      {
       "output_type": "stream",
       "stream": "stdout",
       "text": [
        "\n",
        "*** pi ***\n",
        "1 loops, best of 3: 988 ms per loop"
       ]
      },
      {
       "output_type": "stream",
       "stream": "stdout",
       "text": [
        "\n",
        "10 loops, best of 3: 31.2 ms per loop"
       ]
      },
      {
       "output_type": "stream",
       "stream": "stdout",
       "text": [
        "\n",
        "1 loops, best of 3: 727 ms per loop"
       ]
      },
      {
       "output_type": "stream",
       "stream": "stdout",
       "text": [
        "\n",
        "*** mpi ***\n",
        "1 loops, best of 3: 1.28 s per loop"
       ]
      },
      {
       "output_type": "stream",
       "stream": "stdout",
       "text": [
        "\n",
        "10 loops, best of 3: 37.4 ms per loop"
       ]
      },
      {
       "output_type": "stream",
       "stream": "stdout",
       "text": [
        "\n",
        "1 loops, best of 3: 750 ms per loop"
       ]
      },
      {
       "output_type": "stream",
       "stream": "stdout",
       "text": [
        "\n"
       ]
      }
     ],
     "prompt_number": 10
    },
    {
     "cell_type": "code",
     "collapsed": false,
     "input": [
      "compare_performance(num_states=1000, num_actions=200, beta=0.95, k=1, suppress_vi=True)"
     ],
     "language": "python",
     "metadata": {},
     "outputs": [
      {
       "output_type": "stream",
       "stream": "stdout",
       "text": [
        "(num_states, num_actions) = (1000, 200)\n",
        "Number of possible next states for each (s, a) = 1\n",
        "beta = 0.95\n",
        "=====\n",
        "Whether the results by pi agree:"
       ]
      },
      {
       "output_type": "stream",
       "stream": "stdout",
       "text": [
        " True\n",
        "Whether the answer is correct (n x m x n, n*m x n (sparse), n*m x n (dense)):\n",
        "mpi : True True True\n",
        "Number of iterations (n x m x n, n*m x n (sparse), n*m x n (dense)):\n",
        "pi : 7 7 7\n",
        "mpi : 8 8 8\n",
        "=====\n",
        "Speed comparison (n x m x n, n*m x n (sparse), n*m x n (dense)):\n",
        "*** pi ***\n",
        "1 loops, best of 3: 1.3 s per loop"
       ]
      },
      {
       "output_type": "stream",
       "stream": "stdout",
       "text": [
        "\n",
        "10 loops, best of 3: 31.7 ms per loop"
       ]
      },
      {
       "output_type": "stream",
       "stream": "stdout",
       "text": [
        "\n",
        "1 loops, best of 3: 868 ms per loop"
       ]
      },
      {
       "output_type": "stream",
       "stream": "stdout",
       "text": [
        "\n",
        "*** mpi ***\n",
        "1 loops, best of 3: 1.24 s per loop"
       ]
      },
      {
       "output_type": "stream",
       "stream": "stdout",
       "text": [
        "\n",
        "10 loops, best of 3: 30.9 ms per loop"
       ]
      },
      {
       "output_type": "stream",
       "stream": "stdout",
       "text": [
        "\n",
        "1 loops, best of 3: 696 ms per loop"
       ]
      },
      {
       "output_type": "stream",
       "stream": "stdout",
       "text": [
        "\n"
       ]
      }
     ],
     "prompt_number": 11
    },
    {
     "cell_type": "code",
     "collapsed": false,
     "input": [
      "import platform\n",
      "platform.platform()"
     ],
     "language": "python",
     "metadata": {},
     "outputs": [
      {
       "metadata": {},
       "output_type": "pyout",
       "prompt_number": 12,
       "text": [
        "'Darwin-13.4.0-x86_64-i386-64bit'"
       ]
      }
     ],
     "prompt_number": 12
    },
    {
     "cell_type": "code",
     "collapsed": false,
     "input": [
      "import sys\n",
      "print sys.version"
     ],
     "language": "python",
     "metadata": {},
     "outputs": [
      {
       "output_type": "stream",
       "stream": "stdout",
       "text": [
        "2.7.10 (default, Jun 10 2015, 19:43:32) \n",
        "[GCC 4.2.1 Compatible Apple LLVM 6.0 (clang-600.0.57)]\n"
       ]
      }
     ],
     "prompt_number": 13
    },
    {
     "cell_type": "code",
     "collapsed": false,
     "input": [
      "np.__version__"
     ],
     "language": "python",
     "metadata": {},
     "outputs": [
      {
       "metadata": {},
       "output_type": "pyout",
       "prompt_number": 14,
       "text": [
        "'1.9.2'"
       ]
      }
     ],
     "prompt_number": 14
    },
    {
     "cell_type": "code",
     "collapsed": false,
     "input": [
      "import scipy\n",
      "scipy.__version__"
     ],
     "language": "python",
     "metadata": {},
     "outputs": [
      {
       "metadata": {},
       "output_type": "pyout",
       "prompt_number": 15,
       "text": [
        "'0.15.1'"
       ]
      }
     ],
     "prompt_number": 15
    },
    {
     "cell_type": "code",
     "collapsed": false,
     "input": [
      "import numba\n",
      "numba.__version__"
     ],
     "language": "python",
     "metadata": {},
     "outputs": [
      {
       "metadata": {},
       "output_type": "pyout",
       "prompt_number": 16,
       "text": [
        "'0.20.0'"
       ]
      }
     ],
     "prompt_number": 16
    },
    {
     "cell_type": "code",
     "collapsed": false,
     "input": [],
     "language": "python",
     "metadata": {},
     "outputs": [],
     "prompt_number": 16
    }
   ],
   "metadata": {}
  }
 ]
}